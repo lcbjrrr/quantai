{
  "nbformat": 4,
  "nbformat_minor": 0,
  "metadata": {
    "colab": {
      "provenance": [],
      "authorship_tag": "ABX9TyNaqHjbFe0Sk7wVYpXdj4Wp",
      "include_colab_link": true
    },
    "kernelspec": {
      "name": "python3",
      "display_name": "Python 3"
    },
    "language_info": {
      "name": "python"
    }
  },
  "cells": [
    {
      "cell_type": "markdown",
      "metadata": {
        "id": "view-in-github",
        "colab_type": "text"
      },
      "source": [
        "<a href=\"https://colab.research.google.com/github/lcbjrrr/quantai/blob/main/E2_Py_Stat_Desc.ipynb\" target=\"_parent\"><img src=\"https://colab.research.google.com/assets/colab-badge.svg\" alt=\"Open In Colab\"/></a>"
      ]
    },
    {
      "cell_type": "markdown",
      "source": [
        "# Average, Standard Deviation, Variance, Median."
      ],
      "metadata": {
        "id": "a68NgTNk3TUj"
      }
    },
    {
      "cell_type": "markdown",
      "source": [
        "The list `premiums = [333, 320, 301, 280, 270, 251, 260, 255, 355, 345]` represents the insurance premiums paid by policyholders. Each number is the cost (e.g., monthly or annual) for individual policies. Premiums vary based on factors like risk, coverage, and policy details."
      ],
      "metadata": {
        "id": "mrhHlFxXhTjB"
      }
    },
    {
      "cell_type": "code",
      "source": [
        "premiums = [333,320,301,280,270,251,260,255,355,345,305,295]\n",
        "premiums"
      ],
      "metadata": {
        "id": "219ndqFI3BaZ",
        "colab": {
          "base_uri": "https://localhost:8080/"
        },
        "outputId": "0b45af92-ea4f-4c24-e822-32a9a8912406"
      },
      "execution_count": 1,
      "outputs": [
        {
          "output_type": "execute_result",
          "data": {
            "text/plain": [
              "[333, 320, 301, 280, 270, 251, 260, 255, 355, 345, 305, 295]"
            ]
          },
          "metadata": {},
          "execution_count": 1
        }
      ]
    },
    {
      "cell_type": "markdown",
      "source": [
        "The formula avg = sum(premiums) / len(premiums) calculates the average insurance premium by dividing the total sum of premiums by the number of premiums in the list."
      ],
      "metadata": {
        "id": "XZP6zUcthd9v"
      }
    },
    {
      "cell_type": "code",
      "source": [
        "avg = sum(premiums)/len(premiums)\n",
        "avg"
      ],
      "metadata": {
        "colab": {
          "base_uri": "https://localhost:8080/"
        },
        "id": "Pc7lGaKBLeLZ",
        "outputId": "a1d64865-b8c4-40ce-f58f-d57b6949c034"
      },
      "execution_count": 2,
      "outputs": [
        {
          "output_type": "execute_result",
          "data": {
            "text/plain": [
              "297.5"
            ]
          },
          "metadata": {},
          "execution_count": 2
        }
      ]
    },
    {
      "cell_type": "markdown",
      "source": [
        "\n",
        "Using np.mean(premiums) calculates the average insurance premium directly with NumPy, which provides a built-in function for the mean (average) of the list."
      ],
      "metadata": {
        "id": "_OBJA1FPhkah"
      }
    },
    {
      "cell_type": "code",
      "source": [
        "import numpy as np\n",
        "np.mean(premiums)"
      ],
      "metadata": {
        "colab": {
          "base_uri": "https://localhost:8080/"
        },
        "id": "k-QaKn6CNrVs",
        "outputId": "cb17d149-f702-4f88-9814-a1a70a1aa532"
      },
      "execution_count": 3,
      "outputs": [
        {
          "output_type": "execute_result",
          "data": {
            "text/plain": [
              "np.float64(297.5)"
            ]
          },
          "metadata": {},
          "execution_count": 3
        }
      ]
    },
    {
      "cell_type": "markdown",
      "source": [
        "The function np.std(premiums) calculates the standard deviation of the premiums, measuring how much the premium values deviate from the average."
      ],
      "metadata": {
        "id": "wJNw1hldhsf-"
      }
    },
    {
      "cell_type": "code",
      "source": [
        "np.std(premiums)"
      ],
      "metadata": {
        "colab": {
          "base_uri": "https://localhost:8080/"
        },
        "id": "qKa4xpZBNuGS",
        "outputId": "eb6172d4-225f-48cf-df8b-85337cd23f6c"
      },
      "execution_count": 4,
      "outputs": [
        {
          "output_type": "execute_result",
          "data": {
            "text/plain": [
              "np.float64(33.96198855583499)"
            ]
          },
          "metadata": {},
          "execution_count": 4
        }
      ]
    },
    {
      "cell_type": "markdown",
      "source": [
        "The function np.var(premiums) calculates the variance of the premiums, measuring how much the values in the list deviate from the mean on average."
      ],
      "metadata": {
        "id": "zjzkSg0_hzTD"
      }
    },
    {
      "cell_type": "code",
      "source": [
        "np.var(premiums)"
      ],
      "metadata": {
        "colab": {
          "base_uri": "https://localhost:8080/"
        },
        "id": "nifr_TNfOC2L",
        "outputId": "f75dd5e1-a815-4ed4-e1a4-0e22cc63b4bd"
      },
      "execution_count": 5,
      "outputs": [
        {
          "output_type": "execute_result",
          "data": {
            "text/plain": [
              "np.float64(1153.4166666666667)"
            ]
          },
          "metadata": {},
          "execution_count": 5
        }
      ]
    },
    {
      "cell_type": "markdown",
      "source": [
        "The function np.median(premiums) calculates the median of the premiums, which is the middle value when the premiums are sorted, representing the central tendency of the data."
      ],
      "metadata": {
        "id": "R62WnHXXh0n1"
      }
    },
    {
      "cell_type": "code",
      "source": [
        "np.median(premiums)"
      ],
      "metadata": {
        "colab": {
          "base_uri": "https://localhost:8080/"
        },
        "id": "C0rzG-NBOGuR",
        "outputId": "521db8bd-5347-4b64-8578-683530f9f129"
      },
      "execution_count": 6,
      "outputs": [
        {
          "output_type": "execute_result",
          "data": {
            "text/plain": [
              "np.float64(298.0)"
            ]
          },
          "metadata": {},
          "execution_count": 6
        }
      ]
    },
    {
      "cell_type": "markdown",
      "source": [
        "# Frequency and Histogram"
      ],
      "metadata": {
        "id": "OkvQ_AdBOSP3"
      }
    },
    {
      "cell_type": "markdown",
      "source": [
        "The data you provided appears to be a collection of insurance policies, where each policy has a type (e.g., auto, home, health, life) and a premium amount."
      ],
      "metadata": {
        "id": "R3cYGgrwiV_Q"
      }
    },
    {
      "cell_type": "code",
      "source": [
        "insurances = ['auto', 'home', 'health','life', 'auto', 'auto', 'health','health', 'home','auto','health']\n",
        "premiums = [333,320,301,280,270,251,260,255,355,345]"
      ],
      "metadata": {
        "id": "Fr11sQtlQJIA"
      },
      "execution_count": 7,
      "outputs": []
    },
    {
      "cell_type": "markdown",
      "source": [
        "This code calculates the frequency of each unique category in the insurances list. It uses the np.unique() function from NumPy to identify the distinct insurance types and count their occurrences."
      ],
      "metadata": {
        "id": "mi8qgbZaiWyb"
      }
    },
    {
      "cell_type": "code",
      "source": [
        "freq_cat = np.unique(insurances, return_counts=True)\n",
        "freq_cat"
      ],
      "metadata": {
        "colab": {
          "base_uri": "https://localhost:8080/"
        },
        "id": "HGGbPt1SQvzN",
        "outputId": "8e11863b-f338-44ba-d923-797ab8baafb6"
      },
      "execution_count": 8,
      "outputs": [
        {
          "output_type": "execute_result",
          "data": {
            "text/plain": [
              "(array(['auto', 'health', 'home', 'life'], dtype='<U6'), array([4, 4, 2, 1]))"
            ]
          },
          "metadata": {},
          "execution_count": 8
        }
      ]
    },
    {
      "cell_type": "markdown",
      "source": [
        "A histogram is a bar chart that visually represents the distribution of numerical data. Each bar corresponds to a specific value, and its height indicates the frequency or count of data points falling of that value."
      ],
      "metadata": {
        "id": "g1N6m8dIiumF"
      }
    },
    {
      "cell_type": "code",
      "source": [
        "import matplotlib.pyplot as plt\n",
        "plt.bar(freq_cat[0],freq_cat[1])"
      ],
      "metadata": {
        "colab": {
          "base_uri": "https://localhost:8080/",
          "height": 447
        },
        "id": "O31Pe8CkTNbY",
        "outputId": "916f6f85-817f-488d-9f07-24a3adaac7b7"
      },
      "execution_count": 9,
      "outputs": [
        {
          "output_type": "execute_result",
          "data": {
            "text/plain": [
              "<BarContainer object of 4 artists>"
            ]
          },
          "metadata": {},
          "execution_count": 9
        },
        {
          "output_type": "display_data",
          "data": {
            "text/plain": [
              "<Figure size 640x480 with 1 Axes>"
            ],
            "image/png": "[encoded data removed]"
          },
          "metadata": {}
        }
      ]
    },
    {
      "cell_type": "markdown",
      "source": [
        "The code calculates the frequency distribution of numerical data (premiums) within specified bins. It uses NumPy's np.histogram function to count the number of values falling into each bin defined by the b list. The resulting frequencies are stored in freq_num[0], providing a numerical summary of the data's distribution across different ranges."
      ],
      "metadata": {
        "id": "-scdRmOtjI1N"
      }
    },
    {
      "cell_type": "code",
      "source": [
        "import numpy as np\n",
        "b = [0, 299, 349, 399]\n",
        "freq_num = np.histogram(premiums, b)\n",
        "freq_num[0]"
      ],
      "metadata": {
        "id": "y944PkzwOUR1",
        "colab": {
          "base_uri": "https://localhost:8080/"
        },
        "outputId": "36901264-5c58-46d7-dbfc-1ba6862e5d73"
      },
      "execution_count": 10,
      "outputs": [
        {
          "output_type": "execute_result",
          "data": {
            "text/plain": [
              "array([5, 4, 1])"
            ]
          },
          "metadata": {},
          "execution_count": 10
        }
      ]
    },
    {
      "cell_type": "markdown",
      "source": [
        "A histogram is a bar chart that visually represents the distribution of numerical data. Each bar corresponds to a specific range of values (bin), and its height indicates the frequency or count of data points falling within that range."
      ],
      "metadata": {
        "id": "dvJ2hkwri5c3"
      }
    },
    {
      "cell_type": "code",
      "source": [
        "import matplotlib.pyplot as plt\n",
        "plt.hist(premiums, bins=b)"
      ],
      "metadata": {
        "colab": {
          "base_uri": "https://localhost:8080/",
          "height": 482
        },
        "id": "Sks_2hvaR49O",
        "outputId": "3499ba59-3d28-4bee-ddfe-a911c437a636"
      },
      "execution_count": 11,
      "outputs": [
        {
          "output_type": "execute_result",
          "data": {
            "text/plain": [
              "(array([5., 4., 1.]),\n",
              " array([  0., 299., 349., 399.]),\n",
              " <BarContainer object of 3 artists>)"
            ]
          },
          "metadata": {},
          "execution_count": 11
        },
        {
          "output_type": "display_data",
          "data": {
            "text/plain": [
              "<Figure size 640x480 with 1 Axes>"
            ],
            "image/png": "[encoded data removed]"
          },
          "metadata": {}
        }
      ]
    },
    {
      "cell_type": "markdown",
      "source": [
        "# Quartiles and Boxplot"
      ],
      "metadata": {
        "id": "vMAESVQGQ6-G"
      }
    },
    {
      "cell_type": "markdown",
      "source": [
        "Quartiles divide a dataset into four equal parts. The first quartile (Q1) marks the 25th percentile, the second quartile (Q2) is the median (50th percentile), and the third quartile (Q3) marks the 75th percentile. Quartiles help us understand data distribution and identify potential outliers."
      ],
      "metadata": {
        "id": "q5r3JuAYjQLY"
      }
    },
    {
      "cell_type": "code",
      "source": [
        "import numpy as np\n",
        "print(np.quantile(premiums, 0.25))\n",
        "print(np.median(premiums))\n",
        "print(np.quantile(premiums, 0.75))"
      ],
      "metadata": {
        "colab": {
          "base_uri": "https://localhost:8080/"
        },
        "id": "h0TpbQdjRBEE",
        "outputId": "79a5c145-a57f-45b0-f718-1216450e0b26"
      },
      "execution_count": 12,
      "outputs": [
        {
          "output_type": "stream",
          "name": "stdout",
          "text": [
            "262.5\n",
            "290.5\n",
            "329.75\n"
          ]
        }
      ]
    },
    {
      "cell_type": "markdown",
      "source": [
        "A boxplot is a visual representation of data distribution based on its five-number summary: minimum, first quartile (Q1), median, third quartile (Q3), and maximum. The box shows the middle 50% of the data, with the median line dividing it. The whiskers extend to the minimum and maximum values, excluding outliers. Outliers are often represented as individual points beyond the whiskers. Boxplots are useful for comparing data distributions, identifying skewness, and spotting potential outliers."
      ],
      "metadata": {
        "id": "Kq8vVqm3jckx"
      }
    },
    {
      "cell_type": "code",
      "source": [
        "import matplotlib.pyplot as plt\n",
        "plt.boxplot(premiums)"
      ],
      "metadata": {
        "colab": {
          "base_uri": "https://localhost:8080/",
          "height": 574
        },
        "id": "6HPLDv5lRxXG",
        "outputId": "10e974c1-23b6-4d18-98b2-02b987acd997"
      },
      "execution_count": 13,
      "outputs": [
        {
          "output_type": "execute_result",
          "data": {
            "text/plain": [
              "{'whiskers': [<matplotlib.lines.Line2D at 0x7e0969f9c590>,\n",
              "  <matplotlib.lines.Line2D at 0x7e0969f9c860>],\n",
              " 'caps': [<matplotlib.lines.Line2D at 0x7e0969f9cb00>,\n",
              "  <matplotlib.lines.Line2D at 0x7e0969f9cdd0>],\n",
              " 'boxes': [<matplotlib.lines.Line2D at 0x7e0969f9c260>],\n",
              " 'medians': [<matplotlib.lines.Line2D at 0x7e0969f9d130>],\n",
              " 'fliers': [<matplotlib.lines.Line2D at 0x7e0969f9d490>],\n",
              " 'means': []}"
            ]
          },
          "metadata": {},
          "execution_count": 13
        },
        {
          "output_type": "display_data",
          "data": {
            "text/plain": [
              "<Figure size 640x480 with 1 Axes>"
            ],
            "image/png": "[encoded data removed]"
          },
          "metadata": {}
        }
      ]
    },
    {
      "cell_type": "markdown",
      "source": [
        "# Activity\n"
      ],
      "metadata": {
        "id": "GJGeBP1-WEeB"
      }
    },
    {
      "cell_type": "code",
      "source": [
        "ages = [23,\t24,\t31,\t33,\t40,\t44,\t55,\t56,\t18,\t19]\n",
        "ages"
      ],
      "metadata": {
        "colab": {
          "base_uri": "https://localhost:8080/"
        },
        "id": "aNbYxU6SWGI_",
        "outputId": "321a10a5-6697-479f-d5ee-4aba6aa8764f"
      },
      "execution_count": 14,
      "outputs": [
        {
          "output_type": "execute_result",
          "data": {
            "text/plain": [
              "[23, 24, 31, 33, 40, 44, 55, 56, 18, 19]"
            ]
          },
          "metadata": {},
          "execution_count": 14
        }
      ]
    }
  ]
}