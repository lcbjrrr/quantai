{
  "nbformat": 4,
  "nbformat_minor": 0,
  "metadata": {
    "colab": {
      "provenance": [],
      "authorship_tag": "ABX9TyNZwyQNWCDsKwU8fQA5uFai",
      "include_colab_link": true
    },
    "kernelspec": {
      "name": "julia",
      "display_name": "Julia"
    },
    "language_info": {
      "name": "julia"
    }
  },
  "cells": [
    {
      "cell_type": "markdown",
      "metadata": {
        "id": "view-in-github",
        "colab_type": "text"
      },
      "source": [
        "<a href=\"https://colab.research.google.com/github/lcbjrrr/quantai/blob/main/J_N_N.ipynb\" target=\"_parent\"><img src=\"https://colab.research.google.com/assets/colab-badge.svg\" alt=\"Open In Colab\"/></a>"
      ]
    },
    {
      "cell_type": "code",
      "execution_count": null,
      "metadata": {
        "id": "6KS9OElTUIxn"
      },
      "outputs": [],
      "source": [
        "versioninfo()"
      ]
    },
    {
      "cell_type": "markdown",
      "source": [
        "# Neural Networks (with Flux)"
      ],
      "metadata": {
        "id": "PRz5Vi-sUc6_"
      }
    },
    {
      "cell_type": "code",
      "source": [
        "import Pkg\n",
        "Pkg.add(\"CSV\")\n",
        "Pkg.add(\"DataFrames\")\n",
        "using CSV\n",
        "using DataFrames"
      ],
      "metadata": {
        "colab": {
          "base_uri": "https://localhost:8080/"
        },
        "id": "512u1pc-UPnI",
        "outputId": "35285f37-5883-4206-c488-16104b073038"
      },
      "execution_count": 1,
      "outputs": [
        {
          "output_type": "stream",
          "name": "stderr",
          "text": [
            "\u001b[32m\u001b[1m    Updating\u001b[22m\u001b[39m registry at `~/.julia/registries/General.toml`\n",
            "\u001b[32m\u001b[1m   Resolving\u001b[22m\u001b[39m package versions...\n",
            "\u001b[32m\u001b[1m  No Changes\u001b[22m\u001b[39m to `~/.julia/environments/v1.10/Project.toml`\n",
            "\u001b[32m\u001b[1m  No Changes\u001b[22m\u001b[39m to `~/.julia/environments/v1.10/Manifest.toml`\n",
            "\u001b[32m\u001b[1m   Resolving\u001b[22m\u001b[39m package versions...\n",
            "\u001b[32m\u001b[1m  No Changes\u001b[22m\u001b[39m to `~/.julia/environments/v1.10/Project.toml`\n",
            "\u001b[32m\u001b[1m  No Changes\u001b[22m\u001b[39m to `~/.julia/environments/v1.10/Manifest.toml`\n"
          ]
        }
      ]
    },
    {
      "cell_type": "code",
      "source": [
        ";wget https://raw.githubusercontent.com/lcbjrrr/data/main/banking%20-%20train.csv"
      ],
      "metadata": {
        "colab": {
          "base_uri": "https://localhost:8080/"
        },
        "id": "Jq68XXR9UX2m",
        "outputId": "d1563829-8e50-48c5-988c-3e804343c88c"
      },
      "execution_count": 2,
      "outputs": [
        {
          "output_type": "stream",
          "name": "stderr",
          "text": [
            "--2025-03-15 01:01:40--  https://raw.githubusercontent.com/lcbjrrr/data/main/banking%20-%20train.csv\n",
            "Resolving raw.githubusercontent.com (raw.githubusercontent.com)... 185.199.108.133, 185.199.109.133, 185.199.110.133, ...\n",
            "Connecting to raw.githubusercontent.com (raw.githubusercontent.com)|185.199.108.133|:443... connected.\n",
            "HTTP request sent, awaiting response... 200 OK\n",
            "Length: 222 [text/plain]\n",
            "Saving to: ‘banking - train.csv’\n",
            "\n",
            "     0K                                                       100% 10.0M=0s\n",
            "\n",
            "2025-03-15 01:01:40 (10.0 MB/s) - ‘banking - train.csv’ saved [222/222]\n",
            "\n"
          ]
        }
      ]
    },
    {
      "cell_type": "code",
      "source": [
        ";wget https://raw.githubusercontent.com/lcbjrrr/data/main/banking%20-%20tests.csv"
      ],
      "metadata": {
        "colab": {
          "base_uri": "https://localhost:8080/"
        },
        "id": "UFxxuDsIUZnX",
        "outputId": "0500ac8d-504f-4a46-f0da-8bafa7f12065"
      },
      "execution_count": 3,
      "outputs": [
        {
          "output_type": "stream",
          "name": "stderr",
          "text": [
            "--2025-03-15 01:01:40--  https://raw.githubusercontent.com/lcbjrrr/data/main/banking%20-%20tests.csv\n",
            "Resolving raw.githubusercontent.com (raw.githubusercontent.com)... 185.199.108.133, 185.199.109.133, 185.199.110.133, ...\n",
            "Connecting to raw.githubusercontent.com (raw.githubusercontent.com)|185.199.108.133|:443... connected.\n",
            "HTTP request sent, awaiting response... 200 OK\n",
            "Length: 170 [text/plain]\n",
            "Saving to: ‘banking - tests.csv’\n",
            "\n",
            "     0K                                                       100% 8.47M=0s\n",
            "\n",
            "2025-03-15 01:01:40 (8.47 MB/s) - ‘banking - tests.csv’ saved [170/170]\n",
            "\n"
          ]
        }
      ]
    },
    {
      "cell_type": "code",
      "source": [
        "Pkg.add(\"Flux\")\n",
        "Pkg.add(\"StatsBase\")\n",
        "Pkg.add(\"EvalMetrics\")\n",
        "using Flux\n",
        "using StatsBase\n",
        "using EvalMetrics"
      ],
      "metadata": {
        "colab": {
          "base_uri": "https://localhost:8080/"
        },
        "collapsed": true,
        "id": "Ay_USENHUjr1",
        "outputId": "5e722f7e-40c4-4e78-92f7-e4a3a54f25c4"
      },
      "execution_count": 4,
      "outputs": [
        {
          "output_type": "stream",
          "name": "stderr",
          "text": [
            "\u001b[32m\u001b[1m   Resolving\u001b[22m\u001b[39m package versions...\n",
            "\u001b[32m\u001b[1m   Installed\u001b[22m\u001b[39m ZygoteRules ────────── v0.2.7\n",
            "\u001b[32m\u001b[1m   Installed\u001b[22m\u001b[39m ContextVariablesX ──── v0.1.3\n",
            "\u001b[32m\u001b[1m   Installed\u001b[22m\u001b[39m InitialValues ──────── v0.3.1\n",
            "\u001b[32m\u001b[1m   Installed\u001b[22m\u001b[39m ShowCases ──────────── v0.1.0\n",
            "\u001b[32m\u001b[1m   Installed\u001b[22m\u001b[39m ScopedValues ───────── v1.3.0\n",
            "\u001b[32m\u001b[1m   Installed\u001b[22m\u001b[39m Accessors ──────────── v0.1.42\n",
            "\u001b[32m\u001b[1m   Installed\u001b[22m\u001b[39m MLUtils ────────────── v0.4.7\n",
            "\u001b[32m\u001b[1m   Installed\u001b[22m\u001b[39m GPUArrays ──────────── v11.2.2\n",
            "\u001b[32m\u001b[1m   Installed\u001b[22m\u001b[39m PrettyPrint ────────── v0.2.0\n",
            "\u001b[32m\u001b[1m   Installed\u001b[22m\u001b[39m FLoopsBase ─────────── v0.1.1\n",
            "\u001b[32m\u001b[1m   Installed\u001b[22m\u001b[39m ProgressLogging ────── v0.1.4\n",
            "\u001b[32m\u001b[1m   Installed\u001b[22m\u001b[39m RealDot ────────────── v0.1.0\n",
            "\u001b[32m\u001b[1m   Installed\u001b[22m\u001b[39m MLCore ─────────────── v1.0.0\n",
            "\u001b[32m\u001b[1m   Installed\u001b[22m\u001b[39m OneHotArrays ───────── v0.2.6\n",
            "\u001b[32m\u001b[1m   Installed\u001b[22m\u001b[39m IRTools ────────────── v0.4.14\n",
            "\u001b[32m\u001b[1m   Installed\u001b[22m\u001b[39m Zygote ─────────────── v0.7.4\n",
            "\u001b[32m\u001b[1m   Installed\u001b[22m\u001b[39m MicroCollections ───── v0.2.0\n",
            "\u001b[32m\u001b[1m   Installed\u001b[22m\u001b[39m DefineSingletons ───── v0.1.2\n",
            "\u001b[32m\u001b[1m   Installed\u001b[22m\u001b[39m NameResolution ─────── v0.1.5\n",
            "\u001b[32m\u001b[1m   Installed\u001b[22m\u001b[39m BangBang ───────────── v0.4.4\n",
            "\u001b[32m\u001b[1m   Installed\u001b[22m\u001b[39m FLoops ─────────────── v0.2.2\n",
            "\u001b[32m\u001b[1m   Installed\u001b[22m\u001b[39m ChainRules ─────────── v1.72.3\n",
            "\u001b[32m\u001b[1m   Installed\u001b[22m\u001b[39m MLStyle ────────────── v0.4.17\n",
            "\u001b[32m\u001b[1m   Installed\u001b[22m\u001b[39m HashArrayMappedTries ─ v0.2.0\n",
            "\u001b[32m\u001b[1m   Installed\u001b[22m\u001b[39m CompositionsBase ───── v0.1.2\n",
            "\u001b[32m\u001b[1m   Installed\u001b[22m\u001b[39m JuliaVariables ─────── v0.2.4\n",
            "\u001b[32m\u001b[1m   Installed\u001b[22m\u001b[39m SparseInverseSubset ── v0.1.2\n",
            "\u001b[32m\u001b[1m   Installed\u001b[22m\u001b[39m SplittablesBase ────── v0.1.15\n",
            "\u001b[32m\u001b[1m   Installed\u001b[22m\u001b[39m Baselet ────────────── v0.1.1\n",
            "\u001b[32m\u001b[1m   Installed\u001b[22m\u001b[39m Transducers ────────── v0.4.84\n",
            "\u001b[32m\u001b[1m   Installed\u001b[22m\u001b[39m Flux ───────────────── v0.16.3\n",
            "\u001b[32m\u001b[1m    Updating\u001b[22m\u001b[39m `~/.julia/environments/v1.10/Project.toml`\n",
            "  \u001b[90m[587475ba] \u001b[39m\u001b[92m+ Flux v0.16.3\u001b[39m\n",
            "\u001b[32m\u001b[1m    Updating\u001b[22m\u001b[39m `~/.julia/environments/v1.10/Manifest.toml`\n",
            "  \u001b[90m[7d9f7c33] \u001b[39m\u001b[92m+ Accessors v0.1.42\u001b[39m\n",
            "  \u001b[90m[198e06fe] \u001b[39m\u001b[92m+ BangBang v0.4.4\u001b[39m\n",
            "  \u001b[90m[9718e550] \u001b[39m\u001b[92m+ Baselet v0.1.1\u001b[39m\n",
            "  \u001b[90m[082447d4] \u001b[39m\u001b[92m+ ChainRules v1.72.3\u001b[39m\n",
            "  \u001b[90m[a33af91c] \u001b[39m\u001b[92m+ CompositionsBase v0.1.2\u001b[39m\n",
            "  \u001b[90m[6add18c4] \u001b[39m\u001b[92m+ ContextVariablesX v0.1.3\u001b[39m\n",
            "  \u001b[90m[244e2a9f] \u001b[39m\u001b[92m+ DefineSingletons v0.1.2\u001b[39m\n",
            "  \u001b[90m[cc61a311] \u001b[39m\u001b[92m+ FLoops v0.2.2\u001b[39m\n",
            "  \u001b[90m[b9860ae5] \u001b[39m\u001b[92m+ FLoopsBase v0.1.1\u001b[39m\n",
            "  \u001b[90m[587475ba] \u001b[39m\u001b[92m+ Flux v0.16.3\u001b[39m\n",
            "  \u001b[90m[0c68f7d7] \u001b[39m\u001b[92m+ GPUArrays v11.2.2\u001b[39m\n",
            "  \u001b[90m[076d061b] \u001b[39m\u001b[92m+ HashArrayMappedTries v0.2.0\u001b[39m\n",
            "  \u001b[90m[7869d1d1] \u001b[39m\u001b[92m+ IRTools v0.4.14\u001b[39m\n",
            "  \u001b[90m[22cec73e] \u001b[39m\u001b[92m+ InitialValues v0.3.1\u001b[39m\n",
            "  \u001b[90m[b14d175d] \u001b[39m\u001b[92m+ JuliaVariables v0.2.4\u001b[39m\n",
            "  \u001b[90m[c2834f40] \u001b[39m\u001b[92m+ MLCore v1.0.0\u001b[39m\n",
            "  \u001b[90m[d8e11817] \u001b[39m\u001b[92m+ MLStyle v0.4.17\u001b[39m\n",
            "  \u001b[90m[f1d291b0] \u001b[39m\u001b[92m+ MLUtils v0.4.7\u001b[39m\n",
            "  \u001b[90m[128add7d] \u001b[39m\u001b[92m+ MicroCollections v0.2.0\u001b[39m\n",
            "  \u001b[90m[71a1bf82] \u001b[39m\u001b[92m+ NameResolution v0.1.5\u001b[39m\n",
            "  \u001b[90m[0b1bfda6] \u001b[39m\u001b[92m+ OneHotArrays v0.2.6\u001b[39m\n",
            "  \u001b[90m[8162dcfd] \u001b[39m\u001b[92m+ PrettyPrint v0.2.0\u001b[39m\n",
            "  \u001b[90m[33c8b6b6] \u001b[39m\u001b[92m+ ProgressLogging v0.1.4\u001b[39m\n",
            "  \u001b[90m[c1ae055f] \u001b[39m\u001b[92m+ RealDot v0.1.0\u001b[39m\n",
            "  \u001b[90m[7e506255] \u001b[39m\u001b[92m+ ScopedValues v1.3.0\u001b[39m\n",
            "  \u001b[90m[605ecd9f] \u001b[39m\u001b[92m+ ShowCases v0.1.0\u001b[39m\n",
            "  \u001b[90m[dc90abb0] \u001b[39m\u001b[92m+ SparseInverseSubset v0.1.2\u001b[39m\n",
            "  \u001b[90m[171d559e] \u001b[39m\u001b[92m+ SplittablesBase v0.1.15\u001b[39m\n",
            "  \u001b[90m[28d57a85] \u001b[39m\u001b[92m+ Transducers v0.4.84\u001b[39m\n",
            "  \u001b[90m[e88e6eb3] \u001b[39m\u001b[92m+ Zygote v0.7.4\u001b[39m\n",
            "  \u001b[90m[700de1a5] \u001b[39m\u001b[92m+ ZygoteRules v0.2.7\u001b[39m\n",
            "\u001b[32m\u001b[1mPrecompiling\u001b[22m\u001b[39m packages...\n",
            "   1740.6 ms\u001b[32m  ✓ \u001b[39m\u001b[90mPrettyPrint\u001b[39m\n",
            "   1754.4 ms\u001b[32m  ✓ \u001b[39m\u001b[90mShowCases\u001b[39m\n",
            "   2991.7 ms\u001b[32m  ✓ \u001b[39m\u001b[90mInitialValues\u001b[39m\n",
            "   1647.7 ms\u001b[32m  ✓ \u001b[39m\u001b[90mRealDot\u001b[39m\n",
            "   1735.7 ms\u001b[32m  ✓ \u001b[39m\u001b[90mCompositionsBase\u001b[39m\n",
            "   1578.0 ms\u001b[32m  ✓ \u001b[39m\u001b[90mDefineSingletons\u001b[39m\n",
            "   1690.0 ms\u001b[32m  ✓ \u001b[39m\u001b[90mHashArrayMappedTries\u001b[39m\n",
            "   1161.1 ms\u001b[32m  ✓ \u001b[39m\u001b[90mContextVariablesX\u001b[39m\n",
            "   1442.0 ms\u001b[32m  ✓ \u001b[39m\u001b[90mProgressLogging\u001b[39m\n",
            "   6384.8 ms\u001b[32m  ✓ \u001b[39m\u001b[90mIRTools\u001b[39m\n",
            "   3103.6 ms\u001b[32m  ✓ \u001b[39m\u001b[90mBaselet\u001b[39m\n",
            "   2386.0 ms\u001b[32m  ✓ \u001b[39m\u001b[90mZygoteRules\u001b[39m\n",
            "   1478.6 ms\u001b[32m  ✓ \u001b[39m\u001b[90mSparseInverseSubset\u001b[39m\n",
            "   2157.3 ms\u001b[32m  ✓ \u001b[39m\u001b[90mMLCore\u001b[39m\n",
            "   2478.9 ms\u001b[32m  ✓ \u001b[39m\u001b[90mSplittablesBase\u001b[39m\n",
            "   2200.4 ms\u001b[32m  ✓ \u001b[39m\u001b[90mNameResolution\u001b[39m\n",
            "   4558.8 ms\u001b[32m  ✓ \u001b[39m\u001b[90mOneHotArrays\u001b[39m\n",
            "   1306.8 ms\u001b[32m  ✓ \u001b[39m\u001b[90mCompositionsBase → CompositionsBaseInverseFunctionsExt\u001b[39m\n",
            "   1331.1 ms\u001b[32m  ✓ \u001b[39m\u001b[90mScopedValues\u001b[39m\n",
            "   1460.5 ms\u001b[32m  ✓ \u001b[39m\u001b[90mFLoopsBase\u001b[39m\n",
            "   3578.2 ms\u001b[32m  ✓ \u001b[39m\u001b[90mMLDataDevices → MLDataDevicesOneHotArraysExt\u001b[39m\n",
            "   8288.2 ms\u001b[32m  ✓ \u001b[39m\u001b[90mAccessors\u001b[39m\n",
            "  15318.6 ms\u001b[32m  ✓ \u001b[39m\u001b[90mChainRules\u001b[39m\n",
            "   1662.2 ms\u001b[32m  ✓ \u001b[39m\u001b[90mAccessors → LinearAlgebraExt\u001b[39m\n",
            "   2296.9 ms\u001b[32m  ✓ \u001b[39m\u001b[90mArrayInterface → ArrayInterfaceChainRulesExt\u001b[39m\n",
            "   9012.6 ms\u001b[32m  ✓ \u001b[39m\u001b[90mGPUArrays\u001b[39m\n",
            "   2179.8 ms\u001b[32m  ✓ \u001b[39m\u001b[90mMLDataDevices → MLDataDevicesChainRulesExt\u001b[39m\n",
            "   2418.6 ms\u001b[32m  ✓ \u001b[39m\u001b[90mAccessors → StructArraysExt\u001b[39m\n",
            "   2550.0 ms\u001b[32m  ✓ \u001b[39m\u001b[90mAccessors → TestExt\u001b[39m\n",
            "   1898.2 ms\u001b[32m  ✓ \u001b[39m\u001b[90mAccessors → IntervalSetsExt\u001b[39m\n",
            "   2195.5 ms\u001b[32m  ✓ \u001b[39m\u001b[90mAccessors → UnitfulExt\u001b[39m\n",
            "   2183.6 ms\u001b[32m  ✓ \u001b[39m\u001b[90mAccessors → StaticArraysExt\u001b[39m\n",
            "   2228.1 ms\u001b[32m  ✓ \u001b[39m\u001b[90mBangBang\u001b[39m\n",
            "   3856.9 ms\u001b[32m  ✓ \u001b[39m\u001b[90mMLDataDevices → MLDataDevicesGPUArraysExt\u001b[39m\n",
            "   3266.6 ms\u001b[32m  ✓ \u001b[39m\u001b[90mWeightInitializers → WeightInitializersGPUArraysExt\u001b[39m\n",
            "   2467.5 ms\u001b[32m  ✓ \u001b[39m\u001b[90mBangBang → BangBangStaticArraysExt\u001b[39m\n",
            "   2398.1 ms\u001b[32m  ✓ \u001b[39m\u001b[90mBangBang → BangBangChainRulesCoreExt\u001b[39m\n",
            "   1924.7 ms\u001b[32m  ✓ \u001b[39m\u001b[90mBangBang → BangBangTablesExt\u001b[39m\n",
            "   1953.1 ms\u001b[32m  ✓ \u001b[39m\u001b[90mMicroCollections\u001b[39m\n",
            "   5737.9 ms\u001b[32m  ✓ \u001b[39m\u001b[90mBangBang → BangBangDataFramesExt\u001b[39m\n",
            "   1661.8 ms\u001b[32m  ✓ \u001b[39m\u001b[90mBangBang → BangBangStructArraysExt\u001b[39m\n",
            "   7414.4 ms\u001b[32m  ✓ \u001b[39m\u001b[90mTransducers\u001b[39m\n",
            "   4867.9 ms\u001b[32m  ✓ \u001b[39m\u001b[90mTransducers → TransducersDataFramesExt\u001b[39m\n",
            "   2979.7 ms\u001b[32m  ✓ \u001b[39m\u001b[90mTransducers → TransducersAdaptExt\u001b[39m\n",
            "  80734.6 ms\u001b[32m  ✓ \u001b[39m\u001b[90mMLStyle\u001b[39m\n",
            "   4792.8 ms\u001b[32m  ✓ \u001b[39m\u001b[90mJuliaVariables\u001b[39m\n",
            "   7628.1 ms\u001b[32m  ✓ \u001b[39m\u001b[90mFLoops\u001b[39m\n",
            "  12420.6 ms\u001b[32m  ✓ \u001b[39m\u001b[90mMLUtils\u001b[39m\n",
            "   3042.6 ms\u001b[32m  ✓ \u001b[39m\u001b[90mMLDataDevices → MLDataDevicesMLUtilsExt\u001b[39m\n",
            "   3812.4 ms\u001b[32m  ✓ \u001b[39mLux → LuxMLUtilsExt\n",
            "  89099.1 ms\u001b[32m  ✓ \u001b[39m\u001b[90mZygote\u001b[39m\n",
            "   2773.0 ms\u001b[32m  ✓ \u001b[39m\u001b[90mMLDataDevices → MLDataDevicesZygoteExt\u001b[39m\n",
            "   3700.3 ms\u001b[32m  ✓ \u001b[39m\u001b[90mZygote → ZygoteColorsExt\u001b[39m\n",
            "   6233.9 ms\u001b[32m  ✓ \u001b[39mLux → LuxZygoteExt\n",
            "  11097.2 ms\u001b[32m  ✓ \u001b[39mFlux\n",
            "   6513.4 ms\u001b[32m  ✓ \u001b[39mLux → LuxFluxExt\n",
            "  25931.5 ms\u001b[32m  ✓ \u001b[39mFlux → FluxEnzymeExt\n",
            "  57 dependencies successfully precompiled in 181 seconds. 435 already precompiled.\n",
            "\u001b[32m\u001b[1m   Resolving\u001b[22m\u001b[39m package versions...\n",
            "\u001b[32m\u001b[1m    Updating\u001b[22m\u001b[39m `~/.julia/environments/v1.10/Project.toml`\n",
            "  \u001b[90m[2913bbd2] \u001b[39m\u001b[92m+ StatsBase v0.34.4\u001b[39m\n",
            "\u001b[32m\u001b[1m  No Changes\u001b[22m\u001b[39m to `~/.julia/environments/v1.10/Manifest.toml`\n",
            "\u001b[32m\u001b[1m   Resolving\u001b[22m\u001b[39m package versions...\n",
            "\u001b[32m\u001b[1m   Installed\u001b[22m\u001b[39m EvalMetrics ─ v0.3.0\n",
            "\u001b[32m\u001b[1m    Updating\u001b[22m\u001b[39m `~/.julia/environments/v1.10/Project.toml`\n",
            "  \u001b[90m[251d5f9e] \u001b[39m\u001b[92m+ EvalMetrics v0.3.0\u001b[39m\n",
            "\u001b[32m\u001b[1m    Updating\u001b[22m\u001b[39m `~/.julia/environments/v1.10/Manifest.toml`\n",
            "  \u001b[90m[251d5f9e] \u001b[39m\u001b[92m+ EvalMetrics v0.3.0\u001b[39m\n",
            "\u001b[32m\u001b[1mPrecompiling\u001b[22m\u001b[39m packages...\n",
            "   1782.6 ms\u001b[32m  ✓ \u001b[39mEvalMetrics\n",
            "  1 dependency successfully precompiled in 3 seconds. 492 already precompiled.\n"
          ]
        }
      ]
    },
    {
      "cell_type": "code",
      "source": [
        "train=CSV.read(\"banking - train.csv\", DataFrame)\n",
        "first(train,5)"
      ],
      "metadata": {
        "colab": {
          "base_uri": "https://localhost:8080/",
          "height": 192
        },
        "id": "kPxQrdMCUpZc",
        "outputId": "0caaf143-8f05-499b-be60-cb4d8091d3dd"
      },
      "execution_count": 5,
      "outputs": [
        {
          "output_type": "execute_result",
          "data": {
            "text/plain": [
              "\u001b[1m5×3 DataFrame\n",
              "\u001b[1m Row │\u001b[1m salary  \u001b[1m balance \u001b[1m default\n",
              "     │\u001b[90m Float64 \u001b[90m Float64 \u001b[90m Int64\n",
              "─────┼───────────────────────────\n",
              "   1 │  1000.0    100.0        0\n",
              "   2 │   950.0     95.0        0\n",
              "   3 │   800.0     85.0        0\n",
              "   4 │  1100.0   5500.0        0\n",
              "   5 │   999.0   6000.0        0"
            ],
            "text/html": [
              "<div><div style = \"float: left;\"><span>5×3 DataFrame</span></div><div style = \"clear: both;\"></div></div><div class = \"data-frame\" style = \"overflow-x: scroll;\"><table class = \"data-frame\" style = \"margin-bottom: 6px;\"><thead><tr class = \"header\"><th class = \"rowNumber\" style = \"font-weight: bold; text-align: right;\">Row</th><th style = \"text-align: left;\">salary</th><th style = \"text-align: left;\">balance</th><th style = \"text-align: left;\">default</th></tr><tr class = \"subheader headerLastRow\"><th class = \"rowNumber\" style = \"font-weight: bold; text-align: right;\"></th><th title = \"Float64\" style = \"text-align: left;\">Float64</th><th title = \"Float64\" style = \"text-align: left;\">Float64</th><th title = \"Int64\" style = \"text-align: left;\">Int64</th></tr></thead><tbody><tr><td class = \"rowNumber\" style = \"font-weight: bold; text-align: right;\">1</td><td style = \"text-align: right;\">1000.0</td><td style = \"text-align: right;\">100.0</td><td style = \"text-align: right;\">0</td></tr><tr><td class = \"rowNumber\" style = \"font-weight: bold; text-align: right;\">2</td><td style = \"text-align: right;\">950.0</td><td style = \"text-align: right;\">95.0</td><td style = \"text-align: right;\">0</td></tr><tr><td class = \"rowNumber\" style = \"font-weight: bold; text-align: right;\">3</td><td style = \"text-align: right;\">800.0</td><td style = \"text-align: right;\">85.0</td><td style = \"text-align: right;\">0</td></tr><tr><td class = \"rowNumber\" style = \"font-weight: bold; text-align: right;\">4</td><td style = \"text-align: right;\">1100.0</td><td style = \"text-align: right;\">5500.0</td><td style = \"text-align: right;\">0</td></tr><tr><td class = \"rowNumber\" style = \"font-weight: bold; text-align: right;\">5</td><td style = \"text-align: right;\">999.0</td><td style = \"text-align: right;\">6000.0</td><td style = \"text-align: right;\">0</td></tr></tbody></table></div>"
            ],
            "text/latex": "\\begin{tabular}{r|ccc}\n\t& salary & balance & default\\\\\n\t\\hline\n\t& Float64 & Float64 & Int64\\\\\n\t\\hline\n\t1 & 1000.0 & 100.0 & 0 \\\\\n\t2 & 950.0 & 95.0 & 0 \\\\\n\t3 & 800.0 & 85.0 & 0 \\\\\n\t4 & 1100.0 & 5500.0 & 0 \\\\\n\t5 & 999.0 & 6000.0 & 0 \\\\\n\\end{tabular}\n"
          },
          "metadata": {},
          "execution_count": 5
        }
      ]
    },
    {
      "cell_type": "code",
      "source": [
        "test=CSV.read(\"banking - tests.csv\", DataFrame)\n",
        "first(test,5)"
      ],
      "metadata": {
        "colab": {
          "base_uri": "https://localhost:8080/",
          "height": 192
        },
        "id": "s2E5n9xeUqp3",
        "outputId": "96f5a38d-4f1c-4369-9d2a-98faf1f7da8b"
      },
      "execution_count": 6,
      "outputs": [
        {
          "output_type": "execute_result",
          "data": {
            "text/plain": [
              "\u001b[1m5×3 DataFrame\n",
              "\u001b[1m Row │\u001b[1m salary  \u001b[1m balance \u001b[1m default\n",
              "     │\u001b[90m Float64 \u001b[90m Float64 \u001b[90m Int64\n",
              "─────┼───────────────────────────\n",
              "   1 │ 1050.0    105.0         1\n",
              "   2 │  997.5     99.75        0\n",
              "   3 │ 1048.95  6300.0         0\n",
              "   4 │  932.4   6825.0         0\n",
              "   5 │ 2415.0   4200.0         0"
            ],
            "text/html": [
              "<div><div style = \"float: left;\"><span>5×3 DataFrame</span></div><div style = \"clear: both;\"></div></div><div class = \"data-frame\" style = \"overflow-x: scroll;\"><table class = \"data-frame\" style = \"margin-bottom: 6px;\"><thead><tr class = \"header\"><th class = \"rowNumber\" style = \"font-weight: bold; text-align: right;\">Row</th><th style = \"text-align: left;\">salary</th><th style = \"text-align: left;\">balance</th><th style = \"text-align: left;\">default</th></tr><tr class = \"subheader headerLastRow\"><th class = \"rowNumber\" style = \"font-weight: bold; text-align: right;\"></th><th title = \"Float64\" style = \"text-align: left;\">Float64</th><th title = \"Float64\" style = \"text-align: left;\">Float64</th><th title = \"Int64\" style = \"text-align: left;\">Int64</th></tr></thead><tbody><tr><td class = \"rowNumber\" style = \"font-weight: bold; text-align: right;\">1</td><td style = \"text-align: right;\">1050.0</td><td style = \"text-align: right;\">105.0</td><td style = \"text-align: right;\">1</td></tr><tr><td class = \"rowNumber\" style = \"font-weight: bold; text-align: right;\">2</td><td style = \"text-align: right;\">997.5</td><td style = \"text-align: right;\">99.75</td><td style = \"text-align: right;\">0</td></tr><tr><td class = \"rowNumber\" style = \"font-weight: bold; text-align: right;\">3</td><td style = \"text-align: right;\">1048.95</td><td style = \"text-align: right;\">6300.0</td><td style = \"text-align: right;\">0</td></tr><tr><td class = \"rowNumber\" style = \"font-weight: bold; text-align: right;\">4</td><td style = \"text-align: right;\">932.4</td><td style = \"text-align: right;\">6825.0</td><td style = \"text-align: right;\">0</td></tr><tr><td class = \"rowNumber\" style = \"font-weight: bold; text-align: right;\">5</td><td style = \"text-align: right;\">2415.0</td><td style = \"text-align: right;\">4200.0</td><td style = \"text-align: right;\">0</td></tr></tbody></table></div>"
            ],
            "text/latex": "\\begin{tabular}{r|ccc}\n\t& salary & balance & default\\\\\n\t\\hline\n\t& Float64 & Float64 & Int64\\\\\n\t\\hline\n\t1 & 1050.0 & 105.0 & 1 \\\\\n\t2 & 997.5 & 99.75 & 0 \\\\\n\t3 & 1048.95 & 6300.0 & 0 \\\\\n\t4 & 932.4 & 6825.0 & 0 \\\\\n\t5 & 2415.0 & 4200.0 & 0 \\\\\n\\end{tabular}\n"
          },
          "metadata": {},
          "execution_count": 6
        }
      ]
    },
    {
      "cell_type": "code",
      "source": [
        "X_train  = transpose(hcat([ row.salary for row in eachrow(train)],[ row.balance for row in eachrow(train)]))"
      ],
      "metadata": {
        "colab": {
          "base_uri": "https://localhost:8080/"
        },
        "id": "7v5mL5aqU4hR",
        "outputId": "f7b0d9aa-dd13-430e-a1d2-b1d0744a71ed"
      },
      "execution_count": 7,
      "outputs": [
        {
          "output_type": "execute_result",
          "data": {
            "text/plain": [
              "2×16 transpose(::Matrix{Float64}) with eltype Float64:\n",
              " 1000.0  950.0  800.0  1100.0   999.0   888.0  2300.0  …  5000.0  3333.0  4444.0  5555.0  6666.66\n",
              "  100.0   95.0   85.0  5500.0  6000.0  6500.0  4000.0       85.0  5500.0  6000.0  6500.0  6666.66"
            ]
          },
          "metadata": {},
          "execution_count": 7
        }
      ]
    },
    {
      "cell_type": "code",
      "source": [
        "y_train = transpose([row.default for row in eachrow(train)])"
      ],
      "metadata": {
        "colab": {
          "base_uri": "https://localhost:8080/"
        },
        "id": "Owmaxmn3U5lm",
        "outputId": "eea766f5-03f9-45d8-f455-951391d4dc7c"
      },
      "execution_count": 8,
      "outputs": [
        {
          "output_type": "execute_result",
          "data": {
            "text/plain": [
              "1×16 transpose(::Vector{Int64}) with eltype Int64:\n",
              " 0  0  0  0  0  0  0  0  0  1  1  1  0  0  0  0"
            ]
          },
          "metadata": {},
          "execution_count": 8
        }
      ]
    },
    {
      "cell_type": "code",
      "source": [
        "EP = 20\n",
        "N=length(y_train)\n",
        "BS=floor(Int,N/EP)\n",
        "data = Flux.DataLoader((X_train, y_train), batchsize=BS,shuffle=true);\n",
        "nn    = Chain(\n",
        "  Dense(2,4, relu),\n",
        "  Dense(4,3, relu),\n",
        "  Dense(3,1,identity),\n",
        "  softmax\n",
        "  )\n",
        "loss(x, y) = Flux.Losses.binarycrossentropy(Float64.(nn(x)), Float32.(y))\n",
        "adam=ADAM()\n",
        "for i in 1:EP\n",
        "    # train (loss func, Flux.params(nn), data/batches, optimizer)\n",
        "    Flux.train!(loss,nn,data,adam)\n",
        "end\n",
        "pred_train  =  transpose([nn(X_train[i:i+1])[1] for i in 1:2:N*2])\n",
        "pred_train\n"
      ],
      "metadata": {
        "colab": {
          "base_uri": "https://localhost:8080/",
          "height": 1000
        },
        "collapsed": true,
        "id": "7UkhhuMUU9ig",
        "outputId": "f55d739c-160f-4563-cf63-f9d05d95575e"
      },
      "execution_count": 27,
      "outputs": [
        {
          "output_type": "stream",
          "name": "stderr",
          "text": [
            "\u001b[33m\u001b[1m┌ \u001b[22m\u001b[39m\u001b[33m\u001b[1mWarning: \u001b[22m\u001b[39mOptimiser Adam has state which will be discarded after `train!` finishes.\n",
            "\u001b[33m\u001b[1m│ \u001b[22m\u001b[39mPlease run `opt = Flux.setup(Adam(), model)` and pass this `opt` to `train!`.\n",
            "\u001b[33m\u001b[1m│ \u001b[22m\u001b[39m  leaf = \u001b[32mLeaf(Adam(eta=0.001, beta=(0.9, 0.999), epsilon=1.0e-8), \u001b[39m(Float32[0.0 0.0; 0.0 0.0; 0.0 0.0; 0.0 0.0], Float32[0.0 0.0; 0.0 0.0; 0.0 0.0; 0.0 0.0], (0.9, 0.999))\u001b[32m)\u001b[39m\n",
            "\u001b[33m\u001b[1m└ \u001b[22m\u001b[39m\u001b[90m@ Flux.Train ~/.julia/packages/Flux/3711C/src/train.jl:140\u001b[39m\n"
          ]
        },
        {
          "output_type": "error",
          "ename": "LoadError",
          "evalue": "MethodError: no method matching loss(::Chain{Tuple{Dense{typeof(relu), Matrix{Float32}, Vector{Float32}}, Dense{typeof(relu), Matrix{Float32}, Vector{Float32}}, Dense{typeof(identity), Matrix{Float32}, Vector{Float32}}, typeof(softmax)}}, ::Vector{Float64}, ::Vector{Int64})\n\n\u001b[0mClosest candidates are:\n\u001b[0m  loss(::Any, ::Any)\n\u001b[0m\u001b[90m   @\u001b[39m \u001b[35mMain\u001b[39m \u001b[90m\u001b[4mIn[27]:11\u001b[24m\u001b[39m\n",
          "traceback": [
            "MethodError: no method matching loss(::Chain{Tuple{Dense{typeof(relu), Matrix{Float32}, Vector{Float32}}, Dense{typeof(relu), Matrix{Float32}, Vector{Float32}}, Dense{typeof(identity), Matrix{Float32}, Vector{Float32}}, typeof(softmax)}}, ::Vector{Float64}, ::Vector{Int64})\n\n\u001b[0mClosest candidates are:\n\u001b[0m  loss(::Any, ::Any)\n\u001b[0m\u001b[90m   @\u001b[39m \u001b[35mMain\u001b[39m \u001b[90m\u001b[4mIn[27]:11\u001b[24m\u001b[39m\n",
            "",
            "Stacktrace:",
            "  [1] macro expansion",
            "    @ ~/.julia/packages/Zygote/3To5I/src/compiler/interface2.jl:0 [inlined]",
            "  [2] _pullback(::Zygote.Context{false}, ::typeof(loss), ::Chain{Tuple{Dense{typeof(relu), Matrix{Float32}, Vector{Float32}}, Dense{typeof(relu), Matrix{Float32}, Vector{Float32}}, Dense{typeof(identity), Matrix{Float32}, Vector{Float32}}, typeof(softmax)}}, ::Vector{Float64}, ::Vector{Int64})",
            "    @ Zygote ~/.julia/packages/Zygote/3To5I/src/compiler/interface2.jl:91",
            "  [3] _apply(::Function, ::Vararg{Any})",
            "    @ Core ./boot.jl:838",
            "  [4] adjoint",
            "    @ ~/.julia/packages/Zygote/3To5I/src/lib/lib.jl:212 [inlined]",
            "  [5] _pullback",
            "    @ ~/.julia/packages/ZygoteRules/CkVIK/src/adjoint.jl:67 [inlined]",
            "  [6] #4",
            "    @ ~/.julia/packages/Flux/3711C/src/train.jl:117 [inlined]",
            "  [7] _pullback(ctx::Zygote.Context{false}, f::Flux.Train.var\"#4#5\"{typeof(loss), Tuple{Vector{Float64}, Vector{Int64}}}, args::Chain{Tuple{Dense{typeof(relu), Matrix{Float32}, Vector{Float32}}, Dense{typeof(relu), Matrix{Float32}, Vector{Float32}}, Dense{typeof(identity), Matrix{Float32}, Vector{Float32}}, typeof(softmax)}})",
            "    @ Zygote ~/.julia/packages/Zygote/3To5I/src/compiler/interface2.jl:0",
            "  [8] pullback(f::Function, cx::Zygote.Context{false}, args::Chain{Tuple{Dense{typeof(relu), Matrix{Float32}, Vector{Float32}}, Dense{typeof(relu), Matrix{Float32}, Vector{Float32}}, Dense{typeof(identity), Matrix{Float32}, Vector{Float32}}, typeof(softmax)}})",
            "    @ Zygote ~/.julia/packages/Zygote/3To5I/src/compiler/interface.jl:96",
            "  [9] pullback",
            "    @ ~/.julia/packages/Zygote/3To5I/src/compiler/interface.jl:94 [inlined]",
            " [10] withgradient(f::Function, args::Chain{Tuple{Dense{typeof(relu), Matrix{Float32}, Vector{Float32}}, Dense{typeof(relu), Matrix{Float32}, Vector{Float32}}, Dense{typeof(identity), Matrix{Float32}, Vector{Float32}}, typeof(softmax)}})",
            "    @ Zygote ~/.julia/packages/Zygote/3To5I/src/compiler/interface.jl:211",
            " [11] macro expansion",
            "    @ ~/.julia/packages/Flux/3711C/src/train.jl:117 [inlined]",
            " [12] macro expansion",
            "    @ ~/.julia/packages/ProgressLogging/6KXlp/src/ProgressLogging.jl:328 [inlined]",
            " [13] train!(loss::Function, model::Chain{Tuple{Dense{typeof(relu), Matrix{Float32}, Vector{Float32}}, Dense{typeof(relu), Matrix{Float32}, Vector{Float32}}, Dense{typeof(identity), Matrix{Float32}, Vector{Float32}}, typeof(softmax)}}, data::MLUtils.DataLoader{MLUtils.ObsView{Tuple{LinearAlgebra.Transpose{Float64, Matrix{Float64}}, LinearAlgebra.Transpose{Int64, Vector{Int64}}}, Vector{Int64}}, Bool, :serial, Val{nothing}, Tuple{LinearAlgebra.Transpose{Float64, Matrix{Float64}}, LinearAlgebra.Transpose{Int64, Vector{Int64}}}, Random.TaskLocalRNG}, opt::@NamedTuple{layers::Tuple{@NamedTuple{weight::Optimisers.Leaf{Adam{Float64, Tuple{Float64, Float64}, Float64}, Tuple{Matrix{Float32}, Matrix{Float32}, Tuple{Float32, Float32}}}, bias::Optimisers.Leaf{Adam{Float64, Tuple{Float64, Float64}, Float64}, Tuple{Vector{Float32}, Vector{Float32}, Tuple{Float32, Float32}}}, σ::Tuple{}}, @NamedTuple{weight::Optimisers.Leaf{Adam{Float64, Tuple{Float64, Float64}, Float64}, Tuple{Matrix{Float32}, Matrix{Float32}, Tuple{Float32, Float32}}}, bias::Optimisers.Leaf{Adam{Float64, Tuple{Float64, Float64}, Float64}, Tuple{Vector{Float32}, Vector{Float32}, Tuple{Float32, Float32}}}, σ::Tuple{}}, @NamedTuple{weight::Optimisers.Leaf{Adam{Float64, Tuple{Float64, Float64}, Float64}, Tuple{Matrix{Float32}, Matrix{Float32}, Tuple{Float32, Float32}}}, bias::Optimisers.Leaf{Adam{Float64, Tuple{Float64, Float64}, Float64}, Tuple{Vector{Float32}, Vector{Float32}, Tuple{Float32, Float32}}}, σ::Tuple{}}, Tup...",
            "    @ Flux.Train ~/.julia/packages/Flux/3711C/src/train.jl:114",
            " [14] train!(loss::Function, model::Chain{Tuple{Dense{typeof(relu), Matrix{Float32}, Vector{Float32}}, Dense{typeof(relu), Matrix{Float32}, Vector{Float32}}, Dense{typeof(identity), Matrix{Float32}, Vector{Float32}}, typeof(softmax)}}, data::MLUtils.DataLoader{MLUtils.ObsView{Tuple{LinearAlgebra.Transpose{Float64, Matrix{Float64}}, LinearAlgebra.Transpose{Int64, Vector{Int64}}}, Vector{Int64}}, Bool, :serial, Val{nothing}, Tuple{LinearAlgebra.Transpose{Float64, Matrix{Float64}}, LinearAlgebra.Transpose{Int64, Vector{Int64}}}, Random.TaskLocalRNG}, rule::Adam{Float64, Tuple{Float64, Float64}, Float64}; cb::Nothing)",
            "    @ Flux.Train ~/.julia/packages/Flux/3711C/src/train.jl:132",
            " [15] train!(loss::Function, model::Chain{Tuple{Dense{typeof(relu), Matrix{Float32}, Vector{Float32}}, Dense{typeof(relu), Matrix{Float32}, Vector{Float32}}, Dense{typeof(identity), Matrix{Float32}, Vector{Float32}}, typeof(softmax)}}, data::MLUtils.DataLoader{MLUtils.ObsView{Tuple{LinearAlgebra.Transpose{Float64, Matrix{Float64}}, LinearAlgebra.Transpose{Int64, Vector{Int64}}}, Vector{Int64}}, Bool, :serial, Val{nothing}, Tuple{LinearAlgebra.Transpose{Float64, Matrix{Float64}}, LinearAlgebra.Transpose{Int64, Vector{Int64}}}, Random.TaskLocalRNG}, rule::Adam{Float64, Tuple{Float64, Float64}, Float64})",
            "    @ Flux.Train ~/.julia/packages/Flux/3711C/src/train.jl:131",
            " [16] top-level scope",
            "    @ ./In[27]:15"
          ]
        }
      ]
    },
    {
      "cell_type": "code",
      "source": [
        "function accuracy(y,pred)\n",
        "  acc = sum(pred.==y)/length(y)\n",
        "  return acc\n",
        "end\n",
        "\n",
        "accuracy(y_train, pred_train)*100"
      ],
      "metadata": {
        "colab": {
          "base_uri": "https://localhost:8080/",
          "height": 126
        },
        "id": "LhgrQYOSU_u3",
        "outputId": "6cc0ad90-10a4-47c3-989d-ed084bd810c5"
      },
      "execution_count": 10,
      "outputs": [
        {
          "output_type": "error",
          "ename": "LoadError",
          "evalue": "UndefVarError: `pred_train` not defined",
          "traceback": [
            "UndefVarError: `pred_train` not defined",
            "",
            "Stacktrace:",
            " [1] top-level scope",
            "   @ In[10]:6"
          ]
        }
      ]
    },
    {
      "cell_type": "code",
      "source": [
        "X_test = transpose(hcat([ row.salary for row in eachrow(test)],[ row.balance for row in eachrow(test)]))\n",
        "y_test = transpose([row.default for row in eachrow(test)])\n",
        "print(y_test)\n",
        "\n"
      ],
      "metadata": {
        "colab": {
          "base_uri": "https://localhost:8080/"
        },
        "id": "A4TMH2VEVHSF",
        "outputId": "b39382e9-04c6-464f-edd4-6f1661e7810d"
      },
      "execution_count": 11,
      "outputs": [
        {
          "output_type": "stream",
          "name": "stdout",
          "text": [
            "[1 0 0 0 0 0 0 1 0 1]"
          ]
        }
      ]
    },
    {
      "cell_type": "code",
      "source": [
        "pred_test  =  transpose([ Int64(nn(X_test[i:i+1])[1]) for i in 1:2:length(y_test)*2])\n",
        "print(pred_test)"
      ],
      "metadata": {
        "colab": {
          "base_uri": "https://localhost:8080/",
          "height": 233
        },
        "collapsed": true,
        "id": "-EGC9QS0VIQd",
        "outputId": "d489cbee-9706-41c2-9787-5753ddadeaf1"
      },
      "execution_count": 12,
      "outputs": [
        {
          "output_type": "error",
          "ename": "LoadError",
          "evalue": "UndefVarError: `nn` not defined",
          "traceback": [
            "UndefVarError: `nn` not defined",
            "",
            "Stacktrace:",
            " [1] (::var\"#13#14\")(i::Int64)",
            "   @ Main ./none:0",
            " [2] iterate",
            "   @ ./generator.jl:47 [inlined]",
            " [3] collect(itr::Base.Generator{StepRange{Int64, Int64}, var\"#13#14\"})",
            "   @ Base ./array.jl:834",
            " [4] top-level scope",
            "   @ In[12]:1"
          ]
        }
      ]
    },
    {
      "cell_type": "code",
      "source": [
        "accuracy(y_test, pred_test)"
      ],
      "metadata": {
        "colab": {
          "base_uri": "https://localhost:8080/",
          "height": 126
        },
        "id": "SeV5M3RLVI9j",
        "outputId": "d8e184dd-18c0-487f-8cde-9f666c3a9050"
      },
      "execution_count": 13,
      "outputs": [
        {
          "output_type": "error",
          "ename": "LoadError",
          "evalue": "UndefVarError: `pred_test` not defined",
          "traceback": [
            "UndefVarError: `pred_test` not defined",
            "",
            "Stacktrace:",
            " [1] top-level scope",
            "   @ In[13]:1"
          ]
        }
      ]
    },
    {
      "cell_type": "code",
      "source": [
        "counts( y_test,pred_test)\n"
      ],
      "metadata": {
        "colab": {
          "base_uri": "https://localhost:8080/",
          "height": 126
        },
        "collapsed": true,
        "id": "BP1gxlhJVK1q",
        "outputId": "48d1fb29-c922-4d32-d680-f873a5485c26"
      },
      "execution_count": 14,
      "outputs": [
        {
          "output_type": "error",
          "ename": "LoadError",
          "evalue": "UndefVarError: `pred_test` not defined",
          "traceback": [
            "UndefVarError: `pred_test` not defined",
            "",
            "Stacktrace:",
            " [1] top-level scope",
            "   @ In[14]:1"
          ]
        }
      ]
    },
    {
      "cell_type": "code",
      "source": [
        "precision(vec(y_test),vec(pred_test))"
      ],
      "metadata": {
        "colab": {
          "base_uri": "https://localhost:8080/",
          "height": 126
        },
        "collapsed": true,
        "id": "CaCatSmIVVt8",
        "outputId": "14fe6296-e823-438f-89a1-4798890eade7"
      },
      "execution_count": 15,
      "outputs": [
        {
          "output_type": "error",
          "ename": "LoadError",
          "evalue": "UndefVarError: `pred_test` not defined",
          "traceback": [
            "UndefVarError: `pred_test` not defined",
            "",
            "Stacktrace:",
            " [1] top-level scope",
            "   @ In[15]:1"
          ]
        }
      ]
    },
    {
      "cell_type": "code",
      "source": [
        "recall(vec(y_test),vec(pred_test)) )"
      ],
      "metadata": {
        "colab": {
          "base_uri": "https://localhost:8080/",
          "height": 126
        },
        "collapsed": true,
        "id": "aa0PQEa-VYCZ",
        "outputId": "b7c9da67-e75f-44b0-c2cf-a95a654bafe0"
      },
      "execution_count": 16,
      "outputs": [
        {
          "output_type": "error",
          "ename": "LoadError",
          "evalue": "UndefVarError: `pred_test` not defined",
          "traceback": [
            "UndefVarError: `pred_test` not defined",
            "",
            "Stacktrace:",
            " [1] top-level scope",
            "   @ In[16]:1"
          ]
        }
      ]
    }
  ]
}