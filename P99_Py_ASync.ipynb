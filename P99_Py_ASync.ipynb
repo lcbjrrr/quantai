{
  "nbformat": 4,
  "nbformat_minor": 0,
  "metadata": {
    "colab": {
      "provenance": [],
      "authorship_tag": "ABX9TyMoDl89sDjPWv3TFP7OOOiF",
      "include_colab_link": true
    },
    "kernelspec": {
      "name": "python3",
      "display_name": "Python 3"
    },
    "language_info": {
      "name": "python"
    }
  },
  "cells": [
    {
      "cell_type": "markdown",
      "metadata": {
        "id": "view-in-github",
        "colab_type": "text"
      },
      "source": [
        "<a href=\"https://colab.research.google.com/github/lcbjrrr/quantai/blob/main/P99_Py_ASync.ipynb\" target=\"_parent\"><img src=\"https://colab.research.google.com/assets/colab-badge.svg\" alt=\"Open In Colab\"/></a>"
      ]
    },
    {
      "cell_type": "markdown",
      "source": [
        "# Asynchronous programming"
      ],
      "metadata": {
        "id": "1qN-eYON8IiO"
      }
    },
    {
      "cell_type": "markdown",
      "source": [
        "Asynchronous programming lets your program start tasks and then move on to other work without waiting for those tasks to finish immediately. It uses techniques like event loops, callbacks, promises, and async/await to handle the results of those tasks later, improving responsiveness and efficiency, especially for I/O-bound operations"
      ],
      "metadata": {
        "id": "G_rB1bCx9CXA"
      }
    },
    {
      "cell_type": "markdown",
      "source": [
        "# asyncio lib (and async and await)"
      ],
      "metadata": {
        "id": "1eH1HtlM9Cha"
      }
    },
    {
      "cell_type": "markdown",
      "source": [
        "This Python code demonstrates asynchronous programming with `asyncio`. The `background_task()` coroutine simulates a 3-second task using `asyncio.sleep()`. The `main()` coroutine starts the `background_task()` as a separate task using `asyncio.create_task()` and adds a callback to print a completion message. Importantly, `main()` continues executing other code (simulated by `asyncio.sleep(1)`) *without waiting* for `background_task()` to finish immediately. The `await asyncio.sleep(5)` later in `main()` ensures the background task has time to complete and trigger its callback. Finally, `asyncio.run(main())` within the `go()` function starts the asynchronous event loop, allowing the concurrent execution of `background_task()` and `main()`, showcasing how asynchronous code enables running multiple operations seemingly at the same time.\n"
      ],
      "metadata": {
        "id": "C331Z1fv9Cmn"
      }
    },
    {
      "cell_type": "code",
      "source": [
        "%%writefile async.py\n",
        "import asyncio\n",
        "\n",
        "async def background_task(time):\n",
        "    await asyncio.sleep(time)\n",
        "    print(\"Background task completed!\")\n",
        "\n",
        "async def main():\n",
        "        print(\"Starting the main function...\")\n",
        "        t1=asyncio.create_task(background_task(2))  # Start the task without waiting\n",
        "        t1.add_done_callback(lambda x: print(\"finished\",x))\n",
        "        t2=asyncio.create_task(background_task(1))  # Start the task without waiting\n",
        "        t2.add_done_callback(lambda x: print(\"finished\",x))\n",
        "        print(\"Continuing the main function...\")\n",
        "        await asyncio.sleep(1)  # Simulate doing something else\n",
        "        print(\"Waiting for the completion....\")\n",
        "        await asyncio.wait([t1,t2])\n",
        "        print(\"Main function completed!\")\n",
        "\n",
        "def go():\n",
        "  asyncio.run(main())\n",
        "\n",
        "go()"
      ],
      "metadata": {
        "colab": {
          "base_uri": "https://localhost:8080/"
        },
        "id": "BIoMbOq08Ipw",
        "outputId": "b6d9ff7a-9e6c-434b-8f60-507125abe6e8"
      },
      "execution_count": 24,
      "outputs": [
        {
          "output_type": "stream",
          "name": "stdout",
          "text": [
            "Overwriting async.py\n"
          ]
        }
      ]
    },
    {
      "cell_type": "code",
      "source": [
        "!python async.py"
      ],
      "metadata": {
        "colab": {
          "base_uri": "https://localhost:8080/"
        },
        "id": "t67rk6-s8hvQ",
        "outputId": "c455ba52-9224-4229-fd9b-553dd1afc971"
      },
      "execution_count": 25,
      "outputs": [
        {
          "output_type": "stream",
          "name": "stdout",
          "text": [
            "Starting the main function...\n",
            "Continuing the main function...\n",
            "Waiting for the completion....\n",
            "Background task completed!\n",
            "finished <Task finished name='Task-3' coro=<background_task() done, defined at /content/async.py:3> result=None>\n",
            "Background task completed!\n",
            "finished <Task finished name='Task-2' coro=<background_task() done, defined at /content/async.py:3> result=None>\n",
            "Main function completed!\n"
          ]
        }
      ]
    },
    {
      "cell_type": "markdown",
      "source": [
        "## Multi Threading"
      ],
      "metadata": {
        "id": "ov_xvFfz-Jvt"
      }
    },
    {
      "cell_type": "markdown",
      "source": [
        "Threading is a way to achieve concurrency within a single program by dividing it into multiple independent execution paths called threads. These threads run concurrently within the same process, sharing the same memory space. This allows different parts of a program to execute seemingly simultaneously, improving performance for tasks that can be broken down into independent subtasks, especially on multi-core processors. However, because threads share memory, careful synchronization mechanisms like locks and mutexes are necessary to prevent race conditions and data corruption when multiple threads access and modify shared resources. Unlike asynchronous programming, which uses cooperative multitasking, threads are managed by the operating system (preemptive multitasking), meaning the OS decides when to switch between threads."
      ],
      "metadata": {
        "id": "NwFRs3Cb-J-S"
      }
    },
    {
      "cell_type": "code",
      "source": [
        "import threading\n",
        "import time\n",
        "\n",
        "def background_task(t):\n",
        "    time.sleep(t)\n",
        "    print(f\"Background task completed after {t} seconds!\")\n",
        "\n",
        "def main():\n",
        "    print(\"Starting the main function...\")\n",
        "\n",
        "    # Create and start threads for background tasks\n",
        "    thread1 = threading.Thread(target=background_task, args=(2,))\n",
        "    thread2 = threading.Thread(target=background_task, args=(1,))\n",
        "\n",
        "    thread1.start()\n",
        "    thread2.start()\n",
        "\n",
        "    print(\"Continuing the main function...\")\n",
        "    time.sleep(1)  # Simulate doing something else\n",
        "    print(\"Waiting for the completion....\")\n",
        "\n",
        "    # Wait for threads to finish\n",
        "    thread1.join()\n",
        "    thread2.join()\n",
        "\n",
        "    print(\"Main function completed!\")\n",
        "\n",
        "\n",
        "main()"
      ],
      "metadata": {
        "colab": {
          "base_uri": "https://localhost:8080/"
        },
        "id": "NgmyYSod-KF3",
        "outputId": "de72d3a1-362b-405c-ad80-ec212026d645"
      },
      "execution_count": 17,
      "outputs": [
        {
          "output_type": "stream",
          "name": "stdout",
          "text": [
            "Starting the main function...\n",
            "Continuing the main function...\n",
            "Background task completed after 1 seconds!\n",
            "Waiting for the completion....\n",
            "Background task completed after 2 seconds!\n",
            "Main function completed!\n"
          ]
        }
      ]
    },
    {
      "cell_type": "markdown",
      "source": [
        "***When to use each one:***\n",
        "\n",
        "\n",
        "| Feature | Threading | Async |\n",
        "|---|---|---|\n",
        "| Task Type | CPU-bound | I/O-bound |\n",
        "| Parallelism | True parallelism (on multi-core) | Concurrency (not true parallelism in Python due to GIL) |\n",
        "| Resource Usage | Higher (more memory and OS overhead) | Lower (less memory and OS overhead) |\n",
        "| Complexity | More complex (requires careful synchronization) | Less complex (easier to avoid race conditions) |\n",
        "| Best For | Computationally intensive tasks | Network and I/O operations |\n"
      ],
      "metadata": {
        "id": "DGHtRP-K-r6h"
      }
    },
    {
      "cell_type": "markdown",
      "source": [
        "## Multiprocessing"
      ],
      "metadata": {
        "id": "3TP-35DW_JHL"
      }
    },
    {
      "cell_type": "markdown",
      "source": [
        "Multiprocessing in Python enables true parallelism by creating separate processes, each with its own memory space and Python interpreter, effectively bypassing the Global Interpreter Lock (GIL). This allows multiple CPU cores to execute code concurrently, significantly improving performance for CPU-bound tasks by distributing the workload across multiple processors, but at the cost of higher resource usage compared to threading."
      ],
      "metadata": {
        "id": "ro9LVvJJ_VG5"
      }
    },
    {
      "cell_type": "code",
      "source": [
        "import multiprocessing\n",
        "import time\n",
        "\n",
        "def worker(t):\n",
        "    print(f\"Process (sleeping for {t}s): Starting...\")\n",
        "    time.sleep(t)  # Simulate some work\n",
        "    print(f\"Process (slept for {t}s): Finished!\")\n",
        "\n",
        "def main():\n",
        "    p1 = multiprocessing.Process(target=worker, args=(2,))  # Task with 2-second sleep\n",
        "    p2 = multiprocessing.Process(target=worker, args=(1,))  # Task with 1-second sleep\n",
        "    ps = [p1,p2]\n",
        "\n",
        "    for p in ps: p.start()\n",
        "\n",
        "    print(\"Continuing the main function...\")\n",
        "    time.sleep(1)  # Simulate doing something else\n",
        "    print(\"Waiting for the completion....\")\n",
        "\n",
        "    for p in ps: p.join()\n",
        "\n",
        "    print(\"All processes completed.\")\n",
        "\n",
        "main()"
      ],
      "metadata": {
        "colab": {
          "base_uri": "https://localhost:8080/"
        },
        "id": "7pl4RWsQ_JOO",
        "outputId": "b2f7ca1a-ae79-437d-83e4-081af256b13b"
      },
      "execution_count": 18,
      "outputs": [
        {
          "output_type": "stream",
          "name": "stdout",
          "text": [
            "Process (sleeping for 2s): Starting...\n",
            "Process (sleeping for 1s): Starting...\n",
            "Continuing the main function...\n",
            "Process (slept for 1s): Finished!\n",
            "Waiting for the completion....\n",
            "Process (slept for 2s): Finished!\n",
            "All processes completed.\n"
          ]
        }
      ]
    },
    {
      "cell_type": "markdown",
      "source": [
        "# Activity"
      ],
      "metadata": {
        "id": "QEjZjBugIt_2"
      }
    },
    {
      "cell_type": "markdown",
      "source": [
        "The problem at hand involves analyzing student grades across multiple courses. Given a dataset containing individual student grades and their corresponding courses, the objective is twofold. First, we aim to calculate the mean grade for each distinct course. This provides a measure of central tendency, indicating the average performance of students within each course. Second, we seek to determine the overall average performance across all courses by calculating the mean of the individual course means. This second metric offers a broader perspective on student achievement, summarizing performance across the entire set of courses. The input data is structured as a table with course names and associated numerical grades, and the desired output consists of both the individual course means and the average of these means.\n",
        "\n",
        "\n",
        "\n",
        "```\n",
        "    \"course\":['ADM','ADM','LAW','LAW','ECO','LAW','ADM','LAW','ECO','LAW','ADM','ADM'],\n",
        "    \"grade\":[8.6,6,3.6,8.6,8.1,5.4,7.2,8.9,7.8,9.7,7.2,4.2]\n",
        "```\n",
        "\n"
      ],
      "metadata": {
        "id": "EKP8PTekIvAi"
      }
    },
    {
      "cell_type": "markdown",
      "source": [
        "## Async"
      ],
      "metadata": {
        "id": "-lzWv96NIwAH"
      }
    },
    {
      "cell_type": "markdown",
      "source": [
        "### Have a callback and store the result per task"
      ],
      "metadata": {
        "id": "JMiMc_JFdH4C"
      }
    },
    {
      "cell_type": "code",
      "source": [
        "%%writefile async.py\n",
        "import asyncio\n",
        "from numpy import mean\n",
        "\n",
        "import pandas as pd\n",
        "grades = pd.DataFrame({\n",
        "    \"course\":['ADM','ADM','LAW','LAW','ECO','LAW','ADM','LAW','ECO','LAW','ADM','ADM'],\n",
        "    \"grade\":[8.6,6,3.6,8.6,8.1,5.4,7.2,8.9,7.8,9.7,7.2,4.2]\n",
        "})\n",
        "\n",
        "async def background_task(df,f,t):\n",
        "  print('background_task...'+str(df[df['course']==f]['grade'].mean()))\n",
        "  t.append(df[df['course']==f]['grade'].mean())\n",
        "  print(t)\n",
        "  return t[-1]\n",
        "\n",
        "def add_total(tk,t):\n",
        "  print('add_total...')\n",
        "  t[0] = t[0] + tk.result()\n",
        "  print(t[0])\n",
        "\n",
        "async def main():\n",
        "  total=[0]\n",
        "  totals=[]\n",
        "  tasks = []\n",
        "  for c in ['ADM','ECO','LAW']:\n",
        "    t=asyncio.create_task(background_task(grades,c,totals))\n",
        "    t.add_done_callback(lambda x: add_total(x,total))\n",
        "    await asyncio.sleep(2)\n",
        "    tasks.append(t)\n",
        "  await asyncio.wait(tasks)\n",
        "  print('Mean:',total[0]/3,mean(totals))\n",
        "\n",
        "def go():\n",
        "  asyncio.run(main())\n",
        "\n",
        "go()"
      ],
      "metadata": {
        "colab": {
          "base_uri": "https://localhost:8080/"
        },
        "id": "6i0oWoU_JfKN",
        "outputId": "99322286-85a6-4853-a3b1-2212440962b0"
      },
      "execution_count": 77,
      "outputs": [
        {
          "output_type": "stream",
          "name": "stdout",
          "text": [
            "Overwriting async.py\n"
          ]
        }
      ]
    },
    {
      "cell_type": "markdown",
      "source": [
        "### Not using callback"
      ],
      "metadata": {
        "id": "MmShrwi8dSju"
      }
    },
    {
      "cell_type": "code",
      "source": [
        "%%writefile async.py\n",
        "import asyncio\n",
        "from numpy import mean\n",
        "\n",
        "import pandas as pd\n",
        "grades = pd.DataFrame({\n",
        "    \"course\":['ADM','ADM','LAW','LAW','ECO','LAW','ADM','LAW','ECO','LAW','ADM','ADM'],\n",
        "    \"grade\":[8.6,6,3.6,8.6,8.1,5.4,7.2,8.9,7.8,9.7,7.2,4.2]\n",
        "})\n",
        "\n",
        "async def background_task(df,f):\n",
        "  print('background_task...'+str(df[df['course']==f]['grade'].mean()))\n",
        "  return df[df['course']==f]['grade'].mean()\n",
        "\n",
        "\n",
        "async def main():\n",
        "  tasks = []\n",
        "  for c in ['ADM','ECO','LAW']:\n",
        "    t=asyncio.create_task(background_task(grades,c))\n",
        "    await asyncio.sleep(2)\n",
        "    tasks.append(t)\n",
        "  await asyncio.wait(tasks)\n",
        "  total = 0\n",
        "  for t in tasks: total = total + t.result()\n",
        "  print('Mean:',total/len(tasks))\n",
        "\n",
        "def go():\n",
        "  asyncio.run(main())\n",
        "\n",
        "go()"
      ],
      "metadata": {
        "colab": {
          "base_uri": "https://localhost:8080/"
        },
        "id": "4vIpKof7ZXQq",
        "outputId": "f0bc5cd5-8ae9-46df-b51d-ac0383694164"
      },
      "execution_count": 85,
      "outputs": [
        {
          "output_type": "stream",
          "name": "stdout",
          "text": [
            "Overwriting async.py\n"
          ]
        }
      ]
    },
    {
      "cell_type": "markdown",
      "source": [
        "### Dummy callback"
      ],
      "metadata": {
        "id": "s4uvVCf4dVnF"
      }
    },
    {
      "cell_type": "code",
      "source": [
        "%%writefile async.py\n",
        "import asyncio\n",
        "from numpy import mean\n",
        "\n",
        "import pandas as pd\n",
        "grades = pd.DataFrame({\n",
        "    \"course\":['ADM','ADM','LAW','LAW','ECO','LAW','ADM','LAW','ECO','LAW','ADM','ADM'],\n",
        "    \"grade\":[8.6,6,3.6,8.6,8.1,5.4,7.2,8.9,7.8,9.7,7.2,4.2]\n",
        "})\n",
        "\n",
        "async def background_task(df,f):\n",
        "  print('background_task...'+str(df[df['course']==f]['grade'].mean()))\n",
        "  return df[df['course']==f]['grade'].mean()\n",
        "\n",
        "def add_total(tk):\n",
        "  print('finished:',tk,tk.result())\n",
        "\n",
        "async def main():\n",
        "  tasks = []\n",
        "  for c in ['ADM','ECO','LAW']:\n",
        "    t=asyncio.create_task(background_task(grades,c))\n",
        "    t.add_done_callback(add_total)\n",
        "    await asyncio.sleep(2)\n",
        "    tasks.append(t)\n",
        "  await asyncio.wait(tasks)\n",
        "  total = 0\n",
        "  for t in tasks: total = total + t.result()\n",
        "  print('Mean:',total/len(tasks))\n",
        "\n",
        "def go():\n",
        "  asyncio.run(main())\n",
        "\n",
        "go()"
      ],
      "metadata": {
        "colab": {
          "base_uri": "https://localhost:8080/"
        },
        "id": "3uDarZRcbBwJ",
        "outputId": "65c24e79-b351-4c27-e819-9f20fc007b8e"
      },
      "execution_count": 87,
      "outputs": [
        {
          "output_type": "stream",
          "name": "stdout",
          "text": [
            "Overwriting async.py\n"
          ]
        }
      ]
    },
    {
      "cell_type": "markdown",
      "source": [
        "### Final py version"
      ],
      "metadata": {
        "id": "NAyzP0sifrNY"
      }
    },
    {
      "cell_type": "code",
      "source": [
        "%%writefile async.py\n",
        "import asyncio\n",
        "from numpy import mean\n",
        "\n",
        "import pandas as pd\n",
        "grades = pd.DataFrame({\n",
        "    \"course\":['ADM','ADM','LAW','LAW','ECO','LAW','ADM','LAW','ECO','LAW','ADM','ADM'],\n",
        "    \"grade\":[8.6,6,3.6,8.6,8.1,5.4,7.2,8.9,7.8,9.7,7.2,4.2]\n",
        "})\n",
        "\n",
        "async def background_task(df,f):\n",
        "  print('background_task...'+str(df[df['course']==f]['grade'].mean()))\n",
        "  return df[df['course']==f]['grade'].mean()\n",
        "\n",
        "def add_total(tk):\n",
        "  print('finished:',tk,tk.result())\n",
        "\n",
        "def finalize(tasks):\n",
        "    total = 0\n",
        "    for t in tasks:\n",
        "      total = total + t.result()\n",
        "    return total/len(tasks)\n",
        "\n",
        "\n",
        "async def main():\n",
        "  tasks = []\n",
        "  for c in ['ADM','ECO','LAW']:\n",
        "    t=asyncio.create_task(background_task(grades,c))\n",
        "    t.add_done_callback(add_total)\n",
        "    await asyncio.sleep(1)\n",
        "    tasks.append(t)\n",
        "  await asyncio.wait(tasks)\n",
        "  print('Mean:',finalize(tasks))\n",
        "\n",
        "def go():\n",
        "  asyncio.run(main())\n",
        "\n",
        "go()"
      ],
      "metadata": {
        "colab": {
          "base_uri": "https://localhost:8080/"
        },
        "id": "blEWJghBfqpk",
        "outputId": "5154b849-dbd0-4d87-ed26-f2469c1eec39"
      },
      "execution_count": 94,
      "outputs": [
        {
          "output_type": "stream",
          "name": "stdout",
          "text": [
            "Overwriting async.py\n"
          ]
        }
      ]
    },
    {
      "cell_type": "code",
      "source": [
        "!python async.py"
      ],
      "metadata": {
        "colab": {
          "base_uri": "https://localhost:8080/"
        },
        "id": "kCfH-g2TMrjW",
        "outputId": "8f19ec25-cc71-4561-f5c0-2b4eabb8223d"
      },
      "execution_count": 95,
      "outputs": [
        {
          "output_type": "stream",
          "name": "stdout",
          "text": [
            "background_task...6.640000000000001\n",
            "finished: <Task finished name='Task-2' coro=<background_task() done, defined at /content/async.py:10> result=6.640000000000001> 6.640000000000001\n",
            "background_task...7.949999999999999\n",
            "finished: <Task finished name='Task-3' coro=<background_task() done, defined at /content/async.py:10> result=7.949999999999999> 7.949999999999999\n",
            "background_task...7.24\n",
            "finished: <Task finished name='Task-4' coro=<background_task() done, defined at /content/async.py:10> result=7.24> 7.24\n",
            "Mean: 7.276666666666666\n"
          ]
        }
      ]
    },
    {
      "cell_type": "markdown",
      "source": [
        "### Javascript version"
      ],
      "metadata": {
        "id": "Digre8XBdZ5j"
      }
    },
    {
      "cell_type": "code",
      "source": [
        "%%js\n",
        "const grades = [\n",
        "  { course: 'ADM', grade: 8.6 },\n",
        "  { course: 'ADM', grade: 6 },\n",
        "  { course: 'LAW', grade: 3.6 },\n",
        "  { course: 'LAW', grade: 8.6 },\n",
        "  { course: 'ECO', grade: 8.1 },\n",
        "  { course: 'LAW', grade: 5.4 },\n",
        "  { course: 'ADM', grade: 7.2 },\n",
        "  { course: 'LAW', grade: 8.9 },\n",
        "  { course: 'ECO', grade: 7.8 },\n",
        "  { course: 'LAW', grade: 9.7 },\n",
        "  { course: 'ADM', grade: 7.2 },\n",
        "  { course: 'ADM', grade: 4.2 },\n",
        "];\n",
        "\n",
        "async function backgroundTask(df, course) {\n",
        "  console.log(`background_task... ${df.filter(row => row.course === course).map(row => row.grade).reduce((acc, val) => acc + val, 0) / df.filter(row => row.course === course).length}`);\n",
        "  return df.filter(row => row.course === course).map(row => row.grade).reduce((acc, val) => acc + val, 0) / df.filter(row => row.course === course).length;\n",
        "}\n",
        "\n",
        "async function addTotal(task) {\n",
        "  console.log('finished:', task, await task);\n",
        "}\n",
        "\n",
        "async function main() {\n",
        "  const tasks = [];\n",
        "  const courses = ['ADM', 'ECO', 'LAW'];\n",
        "\n",
        "  for (const course of courses) {\n",
        "    const task = backgroundTask(grades, course);\n",
        "    task.then(addTotal); // Attach callback with `then`\n",
        "    await new Promise(resolve => setTimeout(resolve, 2000)); // Simulate 2-second delay\n",
        "    tasks.push(task);\n",
        "  }\n",
        "\n",
        "  await Promise.all(tasks); // Wait for all tasks to finish\n",
        "\n",
        "  const results = await Promise.all(tasks.map(task => task)); // Get results from all tasks\n",
        "  const total = results.reduce((acc, val) => acc + val, 0);\n",
        "\n",
        "  console.log('Mean:', total / courses.length);\n",
        "}\n",
        "\n",
        "main();"
      ],
      "metadata": {
        "colab": {
          "base_uri": "https://localhost:8080/",
          "height": 17
        },
        "id": "0ir5YwZSbuCw",
        "outputId": "39b37ba4-d180-415a-890c-0569ccf33050"
      },
      "execution_count": 89,
      "outputs": [
        {
          "output_type": "display_data",
          "data": {
            "text/plain": [
              "<IPython.core.display.Javascript object>"
            ],
            "application/javascript": [
              "const grades = [\n",
              "  { course: 'ADM', grade: 8.6 },\n",
              "  { course: 'ADM', grade: 6 },\n",
              "  { course: 'LAW', grade: 3.6 },\n",
              "  { course: 'LAW', grade: 8.6 },\n",
              "  { course: 'ECO', grade: 8.1 },\n",
              "  { course: 'LAW', grade: 5.4 },\n",
              "  { course: 'ADM', grade: 7.2 },\n",
              "  { course: 'LAW', grade: 8.9 },\n",
              "  { course: 'ECO', grade: 7.8 },\n",
              "  { course: 'LAW', grade: 9.7 },\n",
              "  { course: 'ADM', grade: 7.2 },\n",
              "  { course: 'ADM', grade: 4.2 },\n",
              "];\n",
              "\n",
              "async function backgroundTask(df, course) {\n",
              "  console.log(`background_task... ${df.filter(row => row.course === course).map(row => row.grade).reduce((acc, val) => acc + val, 0) / df.filter(row => row.course === course).length}`);\n",
              "  return df.filter(row => row.course === course).map(row => row.grade).reduce((acc, val) => acc + val, 0) / df.filter(row => row.course === course).length;\n",
              "}\n",
              "\n",
              "async function addTotal(task) {\n",
              "  console.log('finished:', task, await task);\n",
              "}\n",
              "\n",
              "async function main() {\n",
              "  const tasks = [];\n",
              "  const courses = ['ADM', 'ECO', 'LAW'];\n",
              "\n",
              "  for (const course of courses) {\n",
              "    const task = backgroundTask(grades, course);\n",
              "    task.then(addTotal); // Attach callback with `then`\n",
              "    await new Promise(resolve => setTimeout(resolve, 2000)); // Simulate 2-second delay\n",
              "    tasks.push(task);\n",
              "  }\n",
              "\n",
              "  await Promise.all(tasks); // Wait for all tasks to finish\n",
              "\n",
              "  const results = await Promise.all(tasks.map(task => task)); // Get results from all tasks\n",
              "  const total = results.reduce((acc, val) => acc + val, 0);\n",
              "\n",
              "  console.log('Mean:', total / courses.length);\n",
              "}\n",
              "\n",
              "main();\n"
            ]
          },
          "metadata": {}
        }
      ]
    },
    {
      "cell_type": "markdown",
      "source": [
        "### Multi Thread"
      ],
      "metadata": {
        "id": "cvCJbfD8e3os"
      }
    },
    {
      "cell_type": "code",
      "source": [
        "import threading\n",
        "import queue\n",
        "import time\n",
        "from numpy import mean\n",
        "\n",
        "import pandas as pd\n",
        "\n",
        "grades = pd.DataFrame({\n",
        "    \"course\": ['ADM', 'ADM', 'LAW', 'LAW', 'ECO', 'LAW', 'ADM', 'LAW', 'ECO', 'LAW', 'ADM', 'ADM'],\n",
        "    \"grade\": [8.6, 6, 3.6, 8.6, 8.1, 5.4, 7.2, 8.9, 7.8, 9.7, 7.2, 4.2]\n",
        "})\n",
        "\n",
        "def calculate_course_mean(df, course, result_queue):\n",
        "    mean_grade = df[df['course'] == course]['grade'].mean()\n",
        "    print(f'\\nBackground task... Mean grade for {course}: {mean_grade}')\n",
        "    result_queue.put(mean_grade)  # Put the result in the queue\n",
        "\n",
        "def finalize(q):\n",
        "  total = 0\n",
        "  qty=q.qsize()\n",
        "  while not q.empty():\n",
        "    total += q.get()\n",
        "  return total/qty\n",
        "\n",
        "\n",
        "result_queue = queue.Queue()  # Create a thread-safe queue\n",
        "threads = []\n",
        "courses = ['ADM', 'ECO', 'LAW']\n",
        "\n",
        "for course in courses:\n",
        "    thread = threading.Thread(target=calculate_course_mean, args=(grades.copy(), course, result_queue))\n",
        "    threads.append(thread)\n",
        "    thread.start()\n",
        "\n",
        "for thread in threads: thread.join()  # Wait for all threads to finish\n",
        "\n",
        "print('\\nMEANs:',finalize(result_queue))\n"
      ],
      "metadata": {
        "colab": {
          "base_uri": "https://localhost:8080/"
        },
        "id": "DAE7U-Xqe8dG",
        "outputId": "b9b7d653-a92a-4203-9006-76311f8fcd15"
      },
      "execution_count": 6,
      "outputs": [
        {
          "output_type": "stream",
          "name": "stdout",
          "text": [
            "\n",
            "Background task... Mean grade for ADM: 6.640000000000001\n",
            "\n",
            "Background task... Mean grade for ECO: 7.949999999999999\n",
            "\n",
            "Background task... Mean grade for LAW: 7.24\n",
            "\n",
            "MEANs: 7.276666666666666\n"
          ]
        }
      ]
    }
  ]
}