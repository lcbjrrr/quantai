{
  "nbformat": 4,
  "nbformat_minor": 0,
  "metadata": {
    "colab": {
      "provenance": [],
      "authorship_tag": "ABX9TyNasU2cRzQQ+mnnRLN7H9pe",
      "include_colab_link": true
    },
    "kernelspec": {
      "name": "python3",
      "display_name": "Python 3"
    },
    "language_info": {
      "name": "python"
    }
  },
  "cells": [
    {
      "cell_type": "markdown",
      "metadata": {
        "id": "view-in-github",
        "colab_type": "text"
      },
      "source": [
        "<a href=\"https://colab.research.google.com/github/lcbjrrr/quantai/blob/main/P99_Py_ASync.ipynb\" target=\"_parent\"><img src=\"https://colab.research.google.com/assets/colab-badge.svg\" alt=\"Open In Colab\"/></a>"
      ]
    },
    {
      "cell_type": "markdown",
      "source": [
        "# Asynchronous programming"
      ],
      "metadata": {
        "id": "1qN-eYON8IiO"
      }
    },
    {
      "cell_type": "markdown",
      "source": [
        "Asynchronous programming lets your program start tasks and then move on to other work without waiting for those tasks to finish immediately. It uses techniques like event loops, callbacks, promises, and async/await to handle the results of those tasks later, improving responsiveness and efficiency, especially for I/O-bound operations"
      ],
      "metadata": {
        "id": "G_rB1bCx9CXA"
      }
    },
    {
      "cell_type": "markdown",
      "source": [
        "# asyncio lib (and async and await)"
      ],
      "metadata": {
        "id": "1eH1HtlM9Cha"
      }
    },
    {
      "cell_type": "markdown",
      "source": [
        "This Python code demonstrates asynchronous programming with `asyncio`. The `background_task()` coroutine simulates a 3-second task using `asyncio.sleep()`. The `main()` coroutine starts the `background_task()` as a separate task using `asyncio.create_task()` and adds a callback to print a completion message. Importantly, `main()` continues executing other code (simulated by `asyncio.sleep(1)`) *without waiting* for `background_task()` to finish immediately. The `await asyncio.sleep(5)` later in `main()` ensures the background task has time to complete and trigger its callback. Finally, `asyncio.run(main())` within the `go()` function starts the asynchronous event loop, allowing the concurrent execution of `background_task()` and `main()`, showcasing how asynchronous code enables running multiple operations seemingly at the same time.\n"
      ],
      "metadata": {
        "id": "C331Z1fv9Cmn"
      }
    },
    {
      "cell_type": "code",
      "source": [
        "%%writefile async.py\n",
        "import asyncio\n",
        "\n",
        "async def background_task(time):\n",
        "    await asyncio.sleep(time)\n",
        "    print(\"Background task completed!\")\n",
        "\n",
        "async def main():\n",
        "        print(\"Starting the main function...\")\n",
        "        t1=asyncio.create_task(background_task(2))  # Start the task without waiting\n",
        "        t1.add_done_callback(lambda x: print(\"finished\",x))\n",
        "        t2=asyncio.create_task(background_task(1))  # Start the task without waiting\n",
        "        t2.add_done_callback(lambda x: print(\"finished\",x))\n",
        "        print(\"Continuing the main function...\")\n",
        "        await asyncio.sleep(1)  # Simulate doing something else\n",
        "        print(\"Waiting for the completion....\")\n",
        "        await asyncio.wait([t1,t2])\n",
        "        print(\"Main function completed!\")\n",
        "\n",
        "def go():\n",
        "  asyncio.run(main())\n",
        "\n",
        "go()"
      ],
      "metadata": {
        "colab": {
          "base_uri": "https://localhost:8080/"
        },
        "id": "BIoMbOq08Ipw",
        "outputId": "b6d9ff7a-9e6c-434b-8f60-507125abe6e8"
      },
      "execution_count": 24,
      "outputs": [
        {
          "output_type": "stream",
          "name": "stdout",
          "text": [
            "Overwriting async.py\n"
          ]
        }
      ]
    },
    {
      "cell_type": "code",
      "source": [
        "!python async.py"
      ],
      "metadata": {
        "colab": {
          "base_uri": "https://localhost:8080/"
        },
        "id": "t67rk6-s8hvQ",
        "outputId": "c455ba52-9224-4229-fd9b-553dd1afc971"
      },
      "execution_count": 25,
      "outputs": [
        {
          "output_type": "stream",
          "name": "stdout",
          "text": [
            "Starting the main function...\n",
            "Continuing the main function...\n",
            "Waiting for the completion....\n",
            "Background task completed!\n",
            "finished <Task finished name='Task-3' coro=<background_task() done, defined at /content/async.py:3> result=None>\n",
            "Background task completed!\n",
            "finished <Task finished name='Task-2' coro=<background_task() done, defined at /content/async.py:3> result=None>\n",
            "Main function completed!\n"
          ]
        }
      ]
    },
    {
      "cell_type": "markdown",
      "source": [
        "## Multi Threading"
      ],
      "metadata": {
        "id": "ov_xvFfz-Jvt"
      }
    },
    {
      "cell_type": "markdown",
      "source": [
        "Threading is a way to achieve concurrency within a single program by dividing it into multiple independent execution paths called threads. These threads run concurrently within the same process, sharing the same memory space. This allows different parts of a program to execute seemingly simultaneously, improving performance for tasks that can be broken down into independent subtasks, especially on multi-core processors. However, because threads share memory, careful synchronization mechanisms like locks and mutexes are necessary to prevent race conditions and data corruption when multiple threads access and modify shared resources. Unlike asynchronous programming, which uses cooperative multitasking, threads are managed by the operating system (preemptive multitasking), meaning the OS decides when to switch between threads."
      ],
      "metadata": {
        "id": "NwFRs3Cb-J-S"
      }
    },
    {
      "cell_type": "code",
      "source": [
        "import threading\n",
        "import time\n",
        "\n",
        "def background_task(t):\n",
        "    time.sleep(t)\n",
        "    print(f\"Background task completed after {t} seconds!\")\n",
        "\n",
        "def main():\n",
        "    print(\"Starting the main function...\")\n",
        "\n",
        "    # Create and start threads for background tasks\n",
        "    thread1 = threading.Thread(target=background_task, args=(2,))\n",
        "    thread2 = threading.Thread(target=background_task, args=(1,))\n",
        "\n",
        "    thread1.start()\n",
        "    thread2.start()\n",
        "\n",
        "    print(\"Continuing the main function...\")\n",
        "    time.sleep(1)  # Simulate doing something else\n",
        "    print(\"Waiting for the completion....\")\n",
        "\n",
        "    # Wait for threads to finish\n",
        "    thread1.join()\n",
        "    thread2.join()\n",
        "\n",
        "    print(\"Main function completed!\")\n",
        "\n",
        "\n",
        "main()"
      ],
      "metadata": {
        "colab": {
          "base_uri": "https://localhost:8080/"
        },
        "id": "NgmyYSod-KF3",
        "outputId": "de72d3a1-362b-405c-ad80-ec212026d645"
      },
      "execution_count": 17,
      "outputs": [
        {
          "output_type": "stream",
          "name": "stdout",
          "text": [
            "Starting the main function...\n",
            "Continuing the main function...\n",
            "Background task completed after 1 seconds!\n",
            "Waiting for the completion....\n",
            "Background task completed after 2 seconds!\n",
            "Main function completed!\n"
          ]
        }
      ]
    },
    {
      "cell_type": "markdown",
      "source": [
        "***When to use each one:***\n",
        "\n",
        "\n",
        "| Feature | Threading | Async |\n",
        "|---|---|---|\n",
        "| Task Type | CPU-bound | I/O-bound |\n",
        "| Parallelism | True parallelism (on multi-core) | Concurrency (not true parallelism in Python due to GIL) |\n",
        "| Resource Usage | Higher (more memory and OS overhead) | Lower (less memory and OS overhead) |\n",
        "| Complexity | More complex (requires careful synchronization) | Less complex (easier to avoid race conditions) |\n",
        "| Best For | Computationally intensive tasks | Network and I/O operations |\n"
      ],
      "metadata": {
        "id": "DGHtRP-K-r6h"
      }
    },
    {
      "cell_type": "markdown",
      "source": [
        "## Multiprocessing"
      ],
      "metadata": {
        "id": "3TP-35DW_JHL"
      }
    },
    {
      "cell_type": "markdown",
      "source": [
        "Multiprocessing in Python enables true parallelism by creating separate processes, each with its own memory space and Python interpreter, effectively bypassing the Global Interpreter Lock (GIL). This allows multiple CPU cores to execute code concurrently, significantly improving performance for CPU-bound tasks by distributing the workload across multiple processors, but at the cost of higher resource usage compared to threading."
      ],
      "metadata": {
        "id": "ro9LVvJJ_VG5"
      }
    },
    {
      "cell_type": "code",
      "source": [
        "import multiprocessing\n",
        "import time\n",
        "\n",
        "def worker(t):\n",
        "    print(f\"Process (sleeping for {t}s): Starting...\")\n",
        "    time.sleep(t)  # Simulate some work\n",
        "    print(f\"Process (slept for {t}s): Finished!\")\n",
        "\n",
        "def main():\n",
        "    p1 = multiprocessing.Process(target=worker, args=(2,))  # Task with 2-second sleep\n",
        "    p2 = multiprocessing.Process(target=worker, args=(1,))  # Task with 1-second sleep\n",
        "    ps = [p1,p2]\n",
        "\n",
        "    for p in ps: p.start()\n",
        "\n",
        "    print(\"Continuing the main function...\")\n",
        "    time.sleep(1)  # Simulate doing something else\n",
        "    print(\"Waiting for the completion....\")\n",
        "\n",
        "    for p in ps: p.join()\n",
        "\n",
        "    print(\"All processes completed.\")\n",
        "\n",
        "main()"
      ],
      "metadata": {
        "colab": {
          "base_uri": "https://localhost:8080/"
        },
        "id": "7pl4RWsQ_JOO",
        "outputId": "b2f7ca1a-ae79-437d-83e4-081af256b13b"
      },
      "execution_count": 18,
      "outputs": [
        {
          "output_type": "stream",
          "name": "stdout",
          "text": [
            "Process (sleeping for 2s): Starting...\n",
            "Process (sleeping for 1s): Starting...\n",
            "Continuing the main function...\n",
            "Process (slept for 1s): Finished!\n",
            "Waiting for the completion....\n",
            "Process (slept for 2s): Finished!\n",
            "All processes completed.\n"
          ]
        }
      ]
    }
  ]
}