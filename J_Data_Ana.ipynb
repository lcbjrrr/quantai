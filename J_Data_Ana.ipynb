{
  "nbformat": 4,
  "nbformat_minor": 0,
  "metadata": {
    "colab": {
      "provenance": [],
      "authorship_tag": "ABX9TyPGT6Ra6J45E2jHTY8GQVAH",
      "include_colab_link": true
    },
    "kernelspec": {
      "name": "julia",
      "display_name": "Julia"
    },
    "language_info": {
      "name": "julia"
    }
  },
  "cells": [
    {
      "cell_type": "markdown",
      "metadata": {
        "id": "view-in-github",
        "colab_type": "text"
      },
      "source": [
        "<a href=\"https://colab.research.google.com/github/lcbjrrr/quantai/blob/main/J_Data_Ana.ipynb\" target=\"_parent\"><img src=\"https://colab.research.google.com/assets/colab-badge.svg\" alt=\"Open In Colab\"/></a>"
      ]
    },
    {
      "cell_type": "code",
      "execution_count": 15,
      "metadata": {
        "colab": {
          "base_uri": "https://localhost:8080/"
        },
        "id": "6q2u5EUBov5P",
        "outputId": "337b881e-af98-4a2e-c70d-a5a120d8d11d"
      },
      "outputs": [
        {
          "output_type": "stream",
          "name": "stdout",
          "text": [
            "Julia Version 1.10.8\n",
            "Commit 4c16ff44be8 (2025-01-22 10:06 UTC)\n",
            "Build Info:\n",
            "  Official https://julialang.org/ release\n",
            "Platform Info:\n",
            "  OS: Linux (x86_64-linux-gnu)\n",
            "  CPU: 2 × Intel(R) Xeon(R) CPU @ 2.20GHz\n",
            "  WORD_SIZE: 64\n",
            "  LIBM: libopenlibm\n",
            "  LLVM: libLLVM-15.0.7 (ORCJIT, broadwell)\n",
            "Threads: 2 default, 0 interactive, 1 GC (on 2 virtual cores)\n",
            "Environment:\n",
            "  LD_LIBRARY_PATH = /usr/local/nvidia/lib:/usr/local/nvidia/lib64\n",
            "  JULIA_NUM_THREADS = 2\n"
          ]
        }
      ],
      "source": [
        "versioninfo()"
      ]
    },
    {
      "cell_type": "markdown",
      "source": [
        "# Data Analysis and Summarization"
      ],
      "metadata": {
        "id": "tF03XSfjo-XW"
      }
    },
    {
      "cell_type": "code",
      "source": [
        "import Pkg\n",
        "Pkg.add(\"CSV\")\n",
        "Pkg.add(\"DataFrames\")\n",
        "Pkg.add(\"Statistics\")\n",
        "\n",
        "using CSV\n",
        "using DataFrames\n",
        "using Statistics"
      ],
      "metadata": {
        "colab": {
          "base_uri": "https://localhost:8080/"
        },
        "id": "hooowQRmpHP-",
        "outputId": "5c24cc2a-cbf1-436a-eb3a-e2b8c975df0d"
      },
      "execution_count": 1,
      "outputs": [
        {
          "output_type": "stream",
          "name": "stderr",
          "text": [
            "\u001b[32m\u001b[1m    Updating\u001b[22m\u001b[39m registry at `~/.julia/registries/General.toml`\n",
            "\u001b[32m\u001b[1m   Resolving\u001b[22m\u001b[39m package versions...\n",
            "\u001b[32m\u001b[1m  No Changes\u001b[22m\u001b[39m to `~/.julia/environments/v1.10/Project.toml`\n",
            "\u001b[32m\u001b[1m  No Changes\u001b[22m\u001b[39m to `~/.julia/environments/v1.10/Manifest.toml`\n",
            "\u001b[32m\u001b[1m   Resolving\u001b[22m\u001b[39m package versions...\n",
            "\u001b[32m\u001b[1m  No Changes\u001b[22m\u001b[39m to `~/.julia/environments/v1.10/Project.toml`\n",
            "\u001b[32m\u001b[1m  No Changes\u001b[22m\u001b[39m to `~/.julia/environments/v1.10/Manifest.toml`\n",
            "\u001b[32m\u001b[1m   Resolving\u001b[22m\u001b[39m package versions...\n",
            "\u001b[32m\u001b[1m    Updating\u001b[22m\u001b[39m `~/.julia/environments/v1.10/Project.toml`\n",
            "  \u001b[90m[10745b16] \u001b[39m\u001b[92m+ Statistics v1.10.0\u001b[39m\n",
            "\u001b[32m\u001b[1m  No Changes\u001b[22m\u001b[39m to `~/.julia/environments/v1.10/Manifest.toml`\n"
          ]
        }
      ]
    },
    {
      "cell_type": "code",
      "source": [
        ";wget https://raw.githubusercontent.com/lcbjrrr/quantai/refs/heads/main/datasets/autoinsurance.csv\n"
      ],
      "metadata": {
        "colab": {
          "base_uri": "https://localhost:8080/"
        },
        "id": "T41npjjkpJgo",
        "outputId": "f50de804-e5b3-4328-9ce3-b4ac9c700c51"
      },
      "execution_count": 3,
      "outputs": [
        {
          "output_type": "stream",
          "name": "stderr",
          "text": [
            "--2025-03-14 17:15:00--  https://raw.githubusercontent.com/lcbjrrr/quantai/refs/heads/main/datasets/autoinsurance.csv\n",
            "Resolving raw.githubusercontent.com (raw.githubusercontent.com)... 185.199.108.133, 185.199.109.133, 185.199.110.133, ...\n",
            "Connecting to raw.githubusercontent.com (raw.githubusercontent.com)|185.199.108.133|:443... connected.\n",
            "HTTP request sent, awaiting response... 200 OK\n",
            "Length: 4669 (4.6K) [text/plain]\n",
            "Saving to: ‘autoinsurance.csv’\n",
            "\n",
            "     0K ....                                                  100% 22.0M=0s\n",
            "\n",
            "2025-03-14 17:15:01 (22.0 MB/s) - ‘autoinsurance.csv’ saved [4669/4669]\n",
            "\n"
          ]
        }
      ]
    },
    {
      "cell_type": "code",
      "source": [
        "#read csv\n",
        "auto=CSV.read(\"autoinsurance.csv\", DataFrame)\n",
        "print(auto)"
      ],
      "metadata": {
        "colab": {
          "base_uri": "https://localhost:8080/"
        },
        "id": "H0MkJ4f1pLvy",
        "outputId": "8f12f820-ce07-4614-b4ef-ee9912062ec5"
      },
      "execution_count": 4,
      "outputs": [
        {
          "output_type": "stream",
          "name": "stdout",
          "text": [
            "\u001b[1m50×12 DataFrame\n",
            "\u001b[1m Row │\u001b[1m us_state \u001b[1m state          \u001b[1m capital        \u001b[1m pricelevel \u001b[1m Y2021 \u001b[1m Y2022 \u001b[1m Y2023 \u001b[1m pop        \u001b[1m lat     \u001b[1m lon       \u001b[1m Region    \u001b[1m Division\n",
            "     │\u001b[90m String3  \u001b[90m String15       \u001b[90m String15       \u001b[90m String1    \u001b[90m Int64 \u001b[90m Int64 \u001b[90m Int64 \u001b[90m String15   \u001b[90m Float64 \u001b[90m Float64   \u001b[90m String15  \u001b[90m String31\n",
            "─────┼──────────────────────────────────────────────────────────────────────────────────────────────────────────────────────────────────────────\n",
            "   1 │ MI        Michigan        Lansing         E            5740   4386   2352  10,077,331  42.7336   -84.5553  Midwest    East North Central\n",
            "   2 │ RI        Rhode Island    Providence      E            1375   1197   1200  1,097,379   41.8309   -71.415   Northeast  New England\n",
            "   3 │ NV        Nevada          Carson City     E            1033   1138   1164  3,104,614   39.1639  -119.766   West       Mountain\n",
            "   4 │ FL        Florida         Tallahassee     E            2361   2072   1092  21,538,187  30.4381   -84.2813  South      South Atlantic\n",
            "   5 │ NJ        New Jersey      Trenton         E             812    979   1032  9,288,994   40.2206   -74.7699  Northeast  Middle Atlantic\n",
            "   6 │ DE        Delaware        Dover           E            1200   1183   1008  989,948     39.1573   -75.5197  South      South Atlantic\n",
            "   7 │ CT        Connecticut     Hartford        H            1165   1041    960  3,605,944   41.764    -72.6822  Northeast  New England\n",
            "   8 │ OR        Oregon          Salem           H            1050    996    948  4,237,256   44.9385  -123.03    West       Pacific\n",
            "   9 │ NY        New York        Albany          H            1373   1085    924  20,201,249  42.6528   -73.7579  Northeast  Middle Atlantic\n",
            "  10 │ MD        Maryland        Annapolis       H            1081   1044    900  6,177,224   38.9788   -76.4909  South      South Atlantic\n",
            "  11 │ KY        Kentucky        Frankfort       H            1549   1027    876  4,505,836   38.1867   -84.8754  South      East South Central\n",
            "  12 │ LA        Louisiana       Baton Rouge     H            1128   1002    876  4,657,757   30.4571   -91.1874  South      West South Central\n",
            "  13 │ UT        Utah            Salt Lake City  M             909    793    792  3,271,616   40.7775  -111.888   West       Mountain\n",
            "  14 │ AZ        Arizona         Phoenix         M            1234    902    768  7,151,502   33.4481  -112.097   West       Mountain\n",
            "  15 │ MA        Massachusetts   Boston          M             721    784    732  7,029,917   42.3582   -71.0637  Northeast  New England\n",
            "  16 │ IL        Illinois        Springfield     M             854    717    720  12,812,508  39.7984   -89.655   Midwest    East North Central\n",
            "  17 │ SC        South Carolina  Columbia        M             939    752    720  5,118,425   34.0003   -81.0332  South      South Atlantic\n",
            "  18 │ CO        Colorado        Denver          M             865    791    720  5,773,714   39.7392  -104.985   West       Mountain\n",
            "  19 │ HI        Hawaii          Honolulu        M             644    637    684  1,455,271   21.3074  -157.857   West       Pacific\n",
            "  20 │ MN        Minnesota       Saint Paul      M            1043    721    684  5,706,494   44.9551   -93.1022  Midwest    West North Central\n",
            "  21 │ MO        Missouri        Jefferson City  M             690    648    672  6,154,913   38.5792   -92.1729  Midwest    West North Central\n",
            "  22 │ NH        New Hampshire   Concord         M             745    598    648  1,377,529   43.2069   -71.538   Northeast  New England\n",
            "  23 │ WA        Washington      Olympia         M             569    593    636  7,705,281   47.0358  -122.905   West       Pacific\n",
            "  24 │ GA        Georgia         Atlanta         M             683    727    624  10,711,908  33.749    -84.3882  South      South Atlantic\n",
            "  25 │ CA        California      Sacramento      M             614    613    600  39,538,223  38.5767  -121.494   West       Pacific\n",
            "  26 │ VA        Virginia        Richmond        M             618    555    600  8,631,393   37.5389   -77.4336  South      South Atlantic\n",
            "  27 │ OK        Oklahoma        Oklahoma City   M             611    584    600  3,959,353   35.4922   -97.5033  South      West South Central\n",
            "  28 │ AL        Alabama         Montgomery      M             669    641    600  5,024,279   32.3777   -86.3006  South      East South Central\n",
            "  29 │ WV        West Virginia   Charleston      M             627    650    600  1,793,716   38.3362   -81.6123  South      South Atlantic\n",
            "  30 │ TX        Texas           Austin          M             926    666    576  29,145,505  30.2747   -97.7403  South      West South Central\n",
            "  31 │ NC        North Carolina  Raleigh         M             445    492    552  10,439,388  35.7804   -78.6391  South      South Atlantic\n",
            "  32 │ MS        Mississippi     Jackson         M             734    657    540  2,961,279   32.3038   -90.1821  South      East South Central\n",
            "  33 │ NM        New Mexico      Santa Fe        M             570    550    540  2,117,522   35.6822  -105.94    West       Mountain\n",
            "  34 │ AR        Arkansas        Little Rock     M             554    556    540  3,011,524   34.7466   -92.289   South      West South Central\n",
            "  35 │ KS        Kansas          Topeka          L             583    549    492  2,937,880   39.0482   -95.678   Midwest    West North Central\n",
            "  36 │ OH        Ohio            Columbus        L             528    482    492  11,799,448  39.9613   -82.9991  Midwest    East North Central\n",
            "  37 │ AK        Alaska          Juneau          L             491    492    492  733,391     58.3016  -134.42    West       Pacific\n",
            "  38 │ NE        Nebraska        Lincoln         L             487    552    480  1,961,504   40.8081   -96.6997  Midwest    West North Central\n",
            "  39 │ IN        Indiana         Indianapolis    L             488    489    480  6,785,528   39.7686   -86.1626  Midwest    East North Central\n",
            "  40 │ PA        Pennsylvania    Harrisburg      L             587    497    480  13,002,700  40.2644   -76.8836  Northeast  Middle Atlantic\n",
            "  41 │ ME        Maine           Augusta         L             445    452    468  1,362,359   44.3072   -69.7817  Northeast  New England\n",
            "  42 │ TN        Tennessee       Nashville       L             509    514    444  6,910,840   36.1658   -86.7842  South      East South Central\n",
            "  43 │ MT        Montana         Helena          L             466    502    444  1,084,225   46.5857  -112.018   West       Mountain\n",
            "  44 │ WI        Wisconsin       Madison         L             515    396    432  5,893,718   43.0747   -89.3844  Midwest    East North Central\n",
            "  45 │ ND        North Dakota    Bismarck        L             512    422    408  779,094     46.8209  -100.783   Midwest    West North Central\n",
            "  46 │ IA        Iowa            Des Moines      L             408    382    408  3,190,369   41.5911   -93.6037  Midwest    West North Central\n",
            "  47 │ ID        Idaho           Boise           L             559    428    408  1,839,106   43.6178  -116.2     West       Mountain\n",
            "  48 │ VT        Vermont         Montpelier      L             535    474    384  643,077     44.2624   -72.5805  Northeast  New England\n",
            "  49 │ WY        Wyoming         Cheyenne        L             410    422    372  576,851     41.1403  -104.82    West       Mountain\n",
            "  50 │ SD        South Dakota    Pierre          L             424    387    336  886,667     44.367   -100.346   Midwest    West North Central"
          ]
        }
      ]
    },
    {
      "cell_type": "code",
      "source": [
        "#select column\n",
        "auto.Y2023\n"
      ],
      "metadata": {
        "colab": {
          "base_uri": "https://localhost:8080/"
        },
        "id": "nENcmZAqpxwZ",
        "outputId": "f13c9d6f-f5af-46a4-ba15-2d64d5a79ed4"
      },
      "execution_count": 7,
      "outputs": [
        {
          "output_type": "execute_result",
          "data": {
            "text/plain": [
              "50-element Vector{Int64}:\n",
              " 2352\n",
              " 1200\n",
              " 1164\n",
              " 1092\n",
              " 1032\n",
              " 1008\n",
              "  960\n",
              "  948\n",
              "  924\n",
              "  900\n",
              "  876\n",
              "  876\n",
              "  792\n",
              "    ⋮\n",
              "  480\n",
              "  480\n",
              "  468\n",
              "  444\n",
              "  444\n",
              "  432\n",
              "  408\n",
              "  408\n",
              "  408\n",
              "  384\n",
              "  372\n",
              "  336"
            ]
          },
          "metadata": {},
          "execution_count": 7
        }
      ]
    },
    {
      "cell_type": "code",
      "source": [
        "#select columns\n",
        "auto[:,[:Y2023,:Y2022]]"
      ],
      "metadata": {
        "colab": {
          "base_uri": "https://localhost:8080/",
          "height": 640
        },
        "id": "BdToLz2Lp2-M",
        "outputId": "d3986d8b-93c3-417e-9da6-2e4f0c83994b"
      },
      "execution_count": 8,
      "outputs": [
        {
          "output_type": "execute_result",
          "data": {
            "text/plain": [
              "\u001b[1m50×2 DataFrame\n",
              "\u001b[1m Row │\u001b[1m Y2023 \u001b[1m Y2022\n",
              "     │\u001b[90m Int64 \u001b[90m Int64\n",
              "─────┼──────────────\n",
              "   1 │  2352   4386\n",
              "   2 │  1200   1197\n",
              "   3 │  1164   1138\n",
              "   4 │  1092   2072\n",
              "   5 │  1032    979\n",
              "   6 │  1008   1183\n",
              "   7 │   960   1041\n",
              "   8 │   948    996\n",
              "   9 │   924   1085\n",
              "  10 │   900   1044\n",
              "  11 │   876   1027\n",
              "  ⋮  │   ⋮      ⋮\n",
              "  41 │   468    452\n",
              "  42 │   444    514\n",
              "  43 │   444    502\n",
              "  44 │   432    396\n",
              "  45 │   408    422\n",
              "  46 │   408    382\n",
              "  47 │   408    428\n",
              "  48 │   384    474\n",
              "  49 │   372    422\n",
              "  50 │   336    387\n",
              "\u001b[36m     29 rows omitted"
            ],
            "text/html": [
              "<div><div style = \"float: left;\"><span>50×2 DataFrame</span></div><div style = \"float: right;\"><span style = \"font-style: italic;\">25 rows omitted</span></div><div style = \"clear: both;\"></div></div><div class = \"data-frame\" style = \"overflow-x: scroll;\"><table class = \"data-frame\" style = \"margin-bottom: 6px;\"><thead><tr class = \"header\"><th class = \"rowNumber\" style = \"font-weight: bold; text-align: right;\">Row</th><th style = \"text-align: left;\">Y2023</th><th style = \"text-align: left;\">Y2022</th></tr><tr class = \"subheader headerLastRow\"><th class = \"rowNumber\" style = \"font-weight: bold; text-align: right;\"></th><th title = \"Int64\" style = \"text-align: left;\">Int64</th><th title = \"Int64\" style = \"text-align: left;\">Int64</th></tr></thead><tbody><tr><td class = \"rowNumber\" style = \"font-weight: bold; text-align: right;\">1</td><td style = \"text-align: right;\">2352</td><td style = \"text-align: right;\">4386</td></tr><tr><td class = \"rowNumber\" style = \"font-weight: bold; text-align: right;\">2</td><td style = \"text-align: right;\">1200</td><td style = \"text-align: right;\">1197</td></tr><tr><td class = \"rowNumber\" style = \"font-weight: bold; text-align: right;\">3</td><td style = \"text-align: right;\">1164</td><td style = \"text-align: right;\">1138</td></tr><tr><td class = \"rowNumber\" style = \"font-weight: bold; text-align: right;\">4</td><td style = \"text-align: right;\">1092</td><td style = \"text-align: right;\">2072</td></tr><tr><td class = \"rowNumber\" style = \"font-weight: bold; text-align: right;\">5</td><td style = \"text-align: right;\">1032</td><td style = \"text-align: right;\">979</td></tr><tr><td class = \"rowNumber\" style = \"font-weight: bold; text-align: right;\">6</td><td style = \"text-align: right;\">1008</td><td style = \"text-align: right;\">1183</td></tr><tr><td class = \"rowNumber\" style = \"font-weight: bold; text-align: right;\">7</td><td style = \"text-align: right;\">960</td><td style = \"text-align: right;\">1041</td></tr><tr><td class = \"rowNumber\" style = \"font-weight: bold; text-align: right;\">8</td><td style = \"text-align: right;\">948</td><td style = \"text-align: right;\">996</td></tr><tr><td class = \"rowNumber\" style = \"font-weight: bold; text-align: right;\">9</td><td style = \"text-align: right;\">924</td><td style = \"text-align: right;\">1085</td></tr><tr><td class = \"rowNumber\" style = \"font-weight: bold; text-align: right;\">10</td><td style = \"text-align: right;\">900</td><td style = \"text-align: right;\">1044</td></tr><tr><td class = \"rowNumber\" style = \"font-weight: bold; text-align: right;\">11</td><td style = \"text-align: right;\">876</td><td style = \"text-align: right;\">1027</td></tr><tr><td class = \"rowNumber\" style = \"font-weight: bold; text-align: right;\">12</td><td style = \"text-align: right;\">876</td><td style = \"text-align: right;\">1002</td></tr><tr><td class = \"rowNumber\" style = \"font-weight: bold; text-align: right;\">13</td><td style = \"text-align: right;\">792</td><td style = \"text-align: right;\">793</td></tr><tr><td style = \"text-align: right;\">&vellip;</td><td style = \"text-align: right;\">&vellip;</td><td style = \"text-align: right;\">&vellip;</td></tr><tr><td class = \"rowNumber\" style = \"font-weight: bold; text-align: right;\">39</td><td style = \"text-align: right;\">480</td><td style = \"text-align: right;\">489</td></tr><tr><td class = \"rowNumber\" style = \"font-weight: bold; text-align: right;\">40</td><td style = \"text-align: right;\">480</td><td style = \"text-align: right;\">497</td></tr><tr><td class = \"rowNumber\" style = \"font-weight: bold; text-align: right;\">41</td><td style = \"text-align: right;\">468</td><td style = \"text-align: right;\">452</td></tr><tr><td class = \"rowNumber\" style = \"font-weight: bold; text-align: right;\">42</td><td style = \"text-align: right;\">444</td><td style = \"text-align: right;\">514</td></tr><tr><td class = \"rowNumber\" style = \"font-weight: bold; text-align: right;\">43</td><td style = \"text-align: right;\">444</td><td style = \"text-align: right;\">502</td></tr><tr><td class = \"rowNumber\" style = \"font-weight: bold; text-align: right;\">44</td><td style = \"text-align: right;\">432</td><td style = \"text-align: right;\">396</td></tr><tr><td class = \"rowNumber\" style = \"font-weight: bold; text-align: right;\">45</td><td style = \"text-align: right;\">408</td><td style = \"text-align: right;\">422</td></tr><tr><td class = \"rowNumber\" style = \"font-weight: bold; text-align: right;\">46</td><td style = \"text-align: right;\">408</td><td style = \"text-align: right;\">382</td></tr><tr><td class = \"rowNumber\" style = \"font-weight: bold; text-align: right;\">47</td><td style = \"text-align: right;\">408</td><td style = \"text-align: right;\">428</td></tr><tr><td class = \"rowNumber\" style = \"font-weight: bold; text-align: right;\">48</td><td style = \"text-align: right;\">384</td><td style = \"text-align: right;\">474</td></tr><tr><td class = \"rowNumber\" style = \"font-weight: bold; text-align: right;\">49</td><td style = \"text-align: right;\">372</td><td style = \"text-align: right;\">422</td></tr><tr><td class = \"rowNumber\" style = \"font-weight: bold; text-align: right;\">50</td><td style = \"text-align: right;\">336</td><td style = \"text-align: right;\">387</td></tr></tbody></table></div>"
            ],
            "text/latex": "\\begin{tabular}{r|cc}\n\t& Y2023 & Y2022\\\\\n\t\\hline\n\t& Int64 & Int64\\\\\n\t\\hline\n\t1 & 2352 & 4386 \\\\\n\t2 & 1200 & 1197 \\\\\n\t3 & 1164 & 1138 \\\\\n\t4 & 1092 & 2072 \\\\\n\t5 & 1032 & 979 \\\\\n\t6 & 1008 & 1183 \\\\\n\t7 & 960 & 1041 \\\\\n\t8 & 948 & 996 \\\\\n\t9 & 924 & 1085 \\\\\n\t10 & 900 & 1044 \\\\\n\t11 & 876 & 1027 \\\\\n\t12 & 876 & 1002 \\\\\n\t13 & 792 & 793 \\\\\n\t14 & 768 & 902 \\\\\n\t15 & 732 & 784 \\\\\n\t16 & 720 & 717 \\\\\n\t17 & 720 & 752 \\\\\n\t18 & 720 & 791 \\\\\n\t19 & 684 & 637 \\\\\n\t20 & 684 & 721 \\\\\n\t21 & 672 & 648 \\\\\n\t22 & 648 & 598 \\\\\n\t23 & 636 & 593 \\\\\n\t24 & 624 & 727 \\\\\n\t25 & 600 & 613 \\\\\n\t26 & 600 & 555 \\\\\n\t27 & 600 & 584 \\\\\n\t28 & 600 & 641 \\\\\n\t29 & 600 & 650 \\\\\n\t30 & 576 & 666 \\\\\n\t$\\dots$ & $\\dots$ & $\\dots$ \\\\\n\\end{tabular}\n"
          },
          "metadata": {},
          "execution_count": 8
        }
      ]
    },
    {
      "cell_type": "code",
      "source": [
        "#filter rows\n",
        "filter(:Y2023 => >=(999), auto)"
      ],
      "metadata": {
        "colab": {
          "base_uri": "https://localhost:8080/",
          "height": 213
        },
        "id": "X-OTRUvEp7VB",
        "outputId": "685015d6-0dd2-471d-aff4-650101870586"
      },
      "execution_count": 9,
      "outputs": [
        {
          "output_type": "execute_result",
          "data": {
            "text/plain": [
              "\u001b[1m6×12 DataFrame\n",
              "\u001b[1m Row │\u001b[1m us_state \u001b[1m state        \u001b[1m capital     \u001b[1m pricelevel \u001b[1m Y2021 \u001b[1m Y2022 \u001b[1m Y2023 \u001b[1m pop        \u001b[1m lat     \u001b[1m  ⋯\n",
              "     │\u001b[90m String3  \u001b[90m String15     \u001b[90m String15    \u001b[90m String1    \u001b[90m Int64 \u001b[90m Int64 \u001b[90m Int64 \u001b[90m String15   \u001b[90m Float64 \u001b[90m  ⋯\n",
              "─────┼──────────────────────────────────────────────────────────────────────────────────────────────\n",
              "   1 │ MI        Michigan      Lansing      E            5740   4386   2352  10,077,331  42.7336   ⋯\n",
              "   2 │ RI        Rhode Island  Providence   E            1375   1197   1200  1,097,379   41.8309\n",
              "   3 │ NV        Nevada        Carson City  E            1033   1138   1164  3,104,614   39.1639\n",
              "   4 │ FL        Florida       Tallahassee  E            2361   2072   1092  21,538,187  30.4381\n",
              "   5 │ NJ        New Jersey    Trenton      E             812    979   1032  9,288,994   40.2206   ⋯\n",
              "   6 │ DE        Delaware      Dover        E            1200   1183   1008  989,948     39.1573\n",
              "\u001b[36m                                                                                   3 columns omitted"
            ],
            "text/html": [
              "<div><div style = \"float: left;\"><span>6×12 DataFrame</span></div><div style = \"clear: both;\"></div></div><div class = \"data-frame\" style = \"overflow-x: scroll;\"><table class = \"data-frame\" style = \"margin-bottom: 6px;\"><thead><tr class = \"header\"><th class = \"rowNumber\" style = \"font-weight: bold; text-align: right;\">Row</th><th style = \"text-align: left;\">us_state</th><th style = \"text-align: left;\">state</th><th style = \"text-align: left;\">capital</th><th style = \"text-align: left;\">pricelevel</th><th style = \"text-align: left;\">Y2021</th><th style = \"text-align: left;\">Y2022</th><th style = \"text-align: left;\">Y2023</th><th style = \"text-align: left;\">pop</th><th style = \"text-align: left;\">lat</th><th style = \"text-align: left;\">lon</th><th style = \"text-align: left;\">Region</th><th style = \"text-align: left;\">Division</th></tr><tr class = \"subheader headerLastRow\"><th class = \"rowNumber\" style = \"font-weight: bold; text-align: right;\"></th><th title = \"String3\" style = \"text-align: left;\">String3</th><th title = \"String15\" style = \"text-align: left;\">String15</th><th title = \"String15\" style = \"text-align: left;\">String15</th><th title = \"String1\" style = \"text-align: left;\">String1</th><th title = \"Int64\" style = \"text-align: left;\">Int64</th><th title = \"Int64\" style = \"text-align: left;\">Int64</th><th title = \"Int64\" style = \"text-align: left;\">Int64</th><th title = \"String15\" style = \"text-align: left;\">String15</th><th title = \"Float64\" style = \"text-align: left;\">Float64</th><th title = \"Float64\" style = \"text-align: left;\">Float64</th><th title = \"String15\" style = \"text-align: left;\">String15</th><th title = \"String31\" style = \"text-align: left;\">String31</th></tr></thead><tbody><tr><td class = \"rowNumber\" style = \"font-weight: bold; text-align: right;\">1</td><td style = \"text-align: left;\">MI</td><td style = \"text-align: left;\">Michigan</td><td style = \"text-align: left;\">Lansing</td><td style = \"text-align: left;\">E</td><td style = \"text-align: right;\">5740</td><td style = \"text-align: right;\">4386</td><td style = \"text-align: right;\">2352</td><td style = \"text-align: left;\">10,077,331</td><td style = \"text-align: right;\">42.7336</td><td style = \"text-align: right;\">-84.5553</td><td style = \"text-align: left;\">Midwest</td><td style = \"text-align: left;\">East North Central</td></tr><tr><td class = \"rowNumber\" style = \"font-weight: bold; text-align: right;\">2</td><td style = \"text-align: left;\">RI</td><td style = \"text-align: left;\">Rhode Island</td><td style = \"text-align: left;\">Providence</td><td style = \"text-align: left;\">E</td><td style = \"text-align: right;\">1375</td><td style = \"text-align: right;\">1197</td><td style = \"text-align: right;\">1200</td><td style = \"text-align: left;\">1,097,379</td><td style = \"text-align: right;\">41.8309</td><td style = \"text-align: right;\">-71.415</td><td style = \"text-align: left;\">Northeast</td><td style = \"text-align: left;\">New England</td></tr><tr><td class = \"rowNumber\" style = \"font-weight: bold; text-align: right;\">3</td><td style = \"text-align: left;\">NV</td><td style = \"text-align: left;\">Nevada</td><td style = \"text-align: left;\">Carson City</td><td style = \"text-align: left;\">E</td><td style = \"text-align: right;\">1033</td><td style = \"text-align: right;\">1138</td><td style = \"text-align: right;\">1164</td><td style = \"text-align: left;\">3,104,614</td><td style = \"text-align: right;\">39.1639</td><td style = \"text-align: right;\">-119.766</td><td style = \"text-align: left;\">West</td><td style = \"text-align: left;\">Mountain</td></tr><tr><td class = \"rowNumber\" style = \"font-weight: bold; text-align: right;\">4</td><td style = \"text-align: left;\">FL</td><td style = \"text-align: left;\">Florida</td><td style = \"text-align: left;\">Tallahassee</td><td style = \"text-align: left;\">E</td><td style = \"text-align: right;\">2361</td><td style = \"text-align: right;\">2072</td><td style = \"text-align: right;\">1092</td><td style = \"text-align: left;\">21,538,187</td><td style = \"text-align: right;\">30.4381</td><td style = \"text-align: right;\">-84.2813</td><td style = \"text-align: left;\">South</td><td style = \"text-align: left;\">South Atlantic</td></tr><tr><td class = \"rowNumber\" style = \"font-weight: bold; text-align: right;\">5</td><td style = \"text-align: left;\">NJ</td><td style = \"text-align: left;\">New Jersey</td><td style = \"text-align: left;\">Trenton</td><td style = \"text-align: left;\">E</td><td style = \"text-align: right;\">812</td><td style = \"text-align: right;\">979</td><td style = \"text-align: right;\">1032</td><td style = \"text-align: left;\">9,288,994</td><td style = \"text-align: right;\">40.2206</td><td style = \"text-align: right;\">-74.7699</td><td style = \"text-align: left;\">Northeast</td><td style = \"text-align: left;\">Middle Atlantic</td></tr><tr><td class = \"rowNumber\" style = \"font-weight: bold; text-align: right;\">6</td><td style = \"text-align: left;\">DE</td><td style = \"text-align: left;\">Delaware</td><td style = \"text-align: left;\">Dover</td><td style = \"text-align: left;\">E</td><td style = \"text-align: right;\">1200</td><td style = \"text-align: right;\">1183</td><td style = \"text-align: right;\">1008</td><td style = \"text-align: left;\">989,948</td><td style = \"text-align: right;\">39.1573</td><td style = \"text-align: right;\">-75.5197</td><td style = \"text-align: left;\">South</td><td style = \"text-align: left;\">South Atlantic</td></tr></tbody></table></div>"
            ],
            "text/latex": "\\begin{tabular}{r|ccccccccccc}\n\t& us\\_state & state & capital & pricelevel & Y2021 & Y2022 & Y2023 & pop & lat & lon & \\\\\n\t\\hline\n\t& String3 & String15 & String15 & String1 & Int64 & Int64 & Int64 & String15 & Float64 & Float64 & \\\\\n\t\\hline\n\t1 & MI & Michigan & Lansing & E & 5740 & 4386 & 2352 & 10,077,331 & 42.7336 & -84.5553 & $\\dots$ \\\\\n\t2 & RI & Rhode Island & Providence & E & 1375 & 1197 & 1200 & 1,097,379 & 41.8309 & -71.415 & $\\dots$ \\\\\n\t3 & NV & Nevada & Carson City & E & 1033 & 1138 & 1164 & 3,104,614 & 39.1639 & -119.766 & $\\dots$ \\\\\n\t4 & FL & Florida & Tallahassee & E & 2361 & 2072 & 1092 & 21,538,187 & 30.4381 & -84.2813 & $\\dots$ \\\\\n\t5 & NJ & New Jersey & Trenton & E & 812 & 979 & 1032 & 9,288,994 & 40.2206 & -74.7699 & $\\dots$ \\\\\n\t6 & DE & Delaware & Dover & E & 1200 & 1183 & 1008 & 989,948 & 39.1573 & -75.5197 & $\\dots$ \\\\\n\\end{tabular}\n"
          },
          "metadata": {},
          "execution_count": 9
        }
      ]
    },
    {
      "cell_type": "code",
      "source": [
        "#head\n",
        "first(auto,2)\n"
      ],
      "metadata": {
        "colab": {
          "base_uri": "https://localhost:8080/",
          "height": 128
        },
        "id": "0-06kU_SqEcG",
        "outputId": "65700a53-b388-440b-ae5b-4dac10365e3a"
      },
      "execution_count": 11,
      "outputs": [
        {
          "output_type": "execute_result",
          "data": {
            "text/plain": [
              "\u001b[1m2×12 DataFrame\n",
              "\u001b[1m Row │\u001b[1m us_state \u001b[1m state        \u001b[1m capital    \u001b[1m pricelevel \u001b[1m Y2021 \u001b[1m Y2022 \u001b[1m Y2023 \u001b[1m pop        \u001b[1m lat     \u001b[1m l ⋯\n",
              "     │\u001b[90m String3  \u001b[90m String15     \u001b[90m String15   \u001b[90m String1    \u001b[90m Int64 \u001b[90m Int64 \u001b[90m Int64 \u001b[90m String15   \u001b[90m Float64 \u001b[90m F ⋯\n",
              "─────┼──────────────────────────────────────────────────────────────────────────────────────────────\n",
              "   1 │ MI        Michigan      Lansing     E            5740   4386   2352  10,077,331  42.7336  - ⋯\n",
              "   2 │ RI        Rhode Island  Providence  E            1375   1197   1200  1,097,379   41.8309  -\n",
              "\u001b[36m                                                                                   3 columns omitted"
            ],
            "text/html": [
              "<div><div style = \"float: left;\"><span>2×12 DataFrame</span></div><div style = \"clear: both;\"></div></div><div class = \"data-frame\" style = \"overflow-x: scroll;\"><table class = \"data-frame\" style = \"margin-bottom: 6px;\"><thead><tr class = \"header\"><th class = \"rowNumber\" style = \"font-weight: bold; text-align: right;\">Row</th><th style = \"text-align: left;\">us_state</th><th style = \"text-align: left;\">state</th><th style = \"text-align: left;\">capital</th><th style = \"text-align: left;\">pricelevel</th><th style = \"text-align: left;\">Y2021</th><th style = \"text-align: left;\">Y2022</th><th style = \"text-align: left;\">Y2023</th><th style = \"text-align: left;\">pop</th><th style = \"text-align: left;\">lat</th><th style = \"text-align: left;\">lon</th><th style = \"text-align: left;\">Region</th><th style = \"text-align: left;\">Division</th></tr><tr class = \"subheader headerLastRow\"><th class = \"rowNumber\" style = \"font-weight: bold; text-align: right;\"></th><th title = \"String3\" style = \"text-align: left;\">String3</th><th title = \"String15\" style = \"text-align: left;\">String15</th><th title = \"String15\" style = \"text-align: left;\">String15</th><th title = \"String1\" style = \"text-align: left;\">String1</th><th title = \"Int64\" style = \"text-align: left;\">Int64</th><th title = \"Int64\" style = \"text-align: left;\">Int64</th><th title = \"Int64\" style = \"text-align: left;\">Int64</th><th title = \"String15\" style = \"text-align: left;\">String15</th><th title = \"Float64\" style = \"text-align: left;\">Float64</th><th title = \"Float64\" style = \"text-align: left;\">Float64</th><th title = \"String15\" style = \"text-align: left;\">String15</th><th title = \"String31\" style = \"text-align: left;\">String31</th></tr></thead><tbody><tr><td class = \"rowNumber\" style = \"font-weight: bold; text-align: right;\">1</td><td style = \"text-align: left;\">MI</td><td style = \"text-align: left;\">Michigan</td><td style = \"text-align: left;\">Lansing</td><td style = \"text-align: left;\">E</td><td style = \"text-align: right;\">5740</td><td style = \"text-align: right;\">4386</td><td style = \"text-align: right;\">2352</td><td style = \"text-align: left;\">10,077,331</td><td style = \"text-align: right;\">42.7336</td><td style = \"text-align: right;\">-84.5553</td><td style = \"text-align: left;\">Midwest</td><td style = \"text-align: left;\">East North Central</td></tr><tr><td class = \"rowNumber\" style = \"font-weight: bold; text-align: right;\">2</td><td style = \"text-align: left;\">RI</td><td style = \"text-align: left;\">Rhode Island</td><td style = \"text-align: left;\">Providence</td><td style = \"text-align: left;\">E</td><td style = \"text-align: right;\">1375</td><td style = \"text-align: right;\">1197</td><td style = \"text-align: right;\">1200</td><td style = \"text-align: left;\">1,097,379</td><td style = \"text-align: right;\">41.8309</td><td style = \"text-align: right;\">-71.415</td><td style = \"text-align: left;\">Northeast</td><td style = \"text-align: left;\">New England</td></tr></tbody></table></div>"
            ],
            "text/latex": "\\begin{tabular}{r|ccccccccccc}\n\t& us\\_state & state & capital & pricelevel & Y2021 & Y2022 & Y2023 & pop & lat & lon & \\\\\n\t\\hline\n\t& String3 & String15 & String15 & String1 & Int64 & Int64 & Int64 & String15 & Float64 & Float64 & \\\\\n\t\\hline\n\t1 & MI & Michigan & Lansing & E & 5740 & 4386 & 2352 & 10,077,331 & 42.7336 & -84.5553 & $\\dots$ \\\\\n\t2 & RI & Rhode Island & Providence & E & 1375 & 1197 & 1200 & 1,097,379 & 41.8309 & -71.415 & $\\dots$ \\\\\n\\end{tabular}\n"
          },
          "metadata": {},
          "execution_count": 11
        }
      ]
    },
    {
      "cell_type": "code",
      "source": [
        "#tail\n",
        "last(auto,1)"
      ],
      "metadata": {
        "colab": {
          "base_uri": "https://localhost:8080/",
          "height": 106
        },
        "id": "8qRtAw3iqHTk",
        "outputId": "79e013d8-e56a-4f2c-e692-af6dbf197edd"
      },
      "execution_count": 12,
      "outputs": [
        {
          "output_type": "execute_result",
          "data": {
            "text/plain": [
              "\u001b[1m1×12 DataFrame\n",
              "\u001b[1m Row │\u001b[1m us_state \u001b[1m state        \u001b[1m capital  \u001b[1m pricelevel \u001b[1m Y2021 \u001b[1m Y2022 \u001b[1m Y2023 \u001b[1m pop      \u001b[1m lat     \u001b[1m lon   ⋯\n",
              "     │\u001b[90m String3  \u001b[90m String15     \u001b[90m String15 \u001b[90m String1    \u001b[90m Int64 \u001b[90m Int64 \u001b[90m Int64 \u001b[90m String15 \u001b[90m Float64 \u001b[90m Float ⋯\n",
              "─────┼──────────────────────────────────────────────────────────────────────────────────────────────\n",
              "   1 │ SD        South Dakota  Pierre    L             424    387    336  886,667    44.367  -100. ⋯\n",
              "\u001b[36m                                                                                   3 columns omitted"
            ],
            "text/html": [
              "<div><div style = \"float: left;\"><span>1×12 DataFrame</span></div><div style = \"clear: both;\"></div></div><div class = \"data-frame\" style = \"overflow-x: scroll;\"><table class = \"data-frame\" style = \"margin-bottom: 6px;\"><thead><tr class = \"header\"><th class = \"rowNumber\" style = \"font-weight: bold; text-align: right;\">Row</th><th style = \"text-align: left;\">us_state</th><th style = \"text-align: left;\">state</th><th style = \"text-align: left;\">capital</th><th style = \"text-align: left;\">pricelevel</th><th style = \"text-align: left;\">Y2021</th><th style = \"text-align: left;\">Y2022</th><th style = \"text-align: left;\">Y2023</th><th style = \"text-align: left;\">pop</th><th style = \"text-align: left;\">lat</th><th style = \"text-align: left;\">lon</th><th style = \"text-align: left;\">Region</th><th style = \"text-align: left;\">Division</th></tr><tr class = \"subheader headerLastRow\"><th class = \"rowNumber\" style = \"font-weight: bold; text-align: right;\"></th><th title = \"String3\" style = \"text-align: left;\">String3</th><th title = \"String15\" style = \"text-align: left;\">String15</th><th title = \"String15\" style = \"text-align: left;\">String15</th><th title = \"String1\" style = \"text-align: left;\">String1</th><th title = \"Int64\" style = \"text-align: left;\">Int64</th><th title = \"Int64\" style = \"text-align: left;\">Int64</th><th title = \"Int64\" style = \"text-align: left;\">Int64</th><th title = \"String15\" style = \"text-align: left;\">String15</th><th title = \"Float64\" style = \"text-align: left;\">Float64</th><th title = \"Float64\" style = \"text-align: left;\">Float64</th><th title = \"String15\" style = \"text-align: left;\">String15</th><th title = \"String31\" style = \"text-align: left;\">String31</th></tr></thead><tbody><tr><td class = \"rowNumber\" style = \"font-weight: bold; text-align: right;\">1</td><td style = \"text-align: left;\">SD</td><td style = \"text-align: left;\">South Dakota</td><td style = \"text-align: left;\">Pierre</td><td style = \"text-align: left;\">L</td><td style = \"text-align: right;\">424</td><td style = \"text-align: right;\">387</td><td style = \"text-align: right;\">336</td><td style = \"text-align: left;\">886,667</td><td style = \"text-align: right;\">44.367</td><td style = \"text-align: right;\">-100.346</td><td style = \"text-align: left;\">Midwest</td><td style = \"text-align: left;\">West North Central</td></tr></tbody></table></div>"
            ],
            "text/latex": "\\begin{tabular}{r|cccccccccccc}\n\t& us\\_state & state & capital & pricelevel & Y2021 & Y2022 & Y2023 & pop & lat & lon & Region & \\\\\n\t\\hline\n\t& String3 & String15 & String15 & String1 & Int64 & Int64 & Int64 & String15 & Float64 & Float64 & String15 & \\\\\n\t\\hline\n\t1 & SD & South Dakota & Pierre & L & 424 & 387 & 336 & 886,667 & 44.367 & -100.346 & Midwest & $\\dots$ \\\\\n\\end{tabular}\n"
          },
          "metadata": {},
          "execution_count": 12
        }
      ]
    },
    {
      "cell_type": "code",
      "source": [],
      "metadata": {
        "id": "3xuLTlLOqIjT"
      },
      "execution_count": null,
      "outputs": []
    },
    {
      "cell_type": "markdown",
      "source": [
        "## Summarization (Consolidation)\n"
      ],
      "metadata": {
        "id": "CvBuY_W8qKsO"
      }
    },
    {
      "cell_type": "code",
      "source": [
        "# Summarize: group by a categorical, and calculate mean on a numerical\n",
        "combine(groupby(auto, :Region), :Y2023=> mean)"
      ],
      "metadata": {
        "colab": {
          "base_uri": "https://localhost:8080/",
          "height": 171
        },
        "id": "htTFomy8qND-",
        "outputId": "5b6dc269-61e5-42bf-8ab3-337e756d1ebd"
      },
      "execution_count": 14,
      "outputs": [
        {
          "output_type": "execute_result",
          "data": {
            "text/plain": [
              "\u001b[1m4×2 DataFrame\n",
              "\u001b[1m Row │\u001b[1m Region    \u001b[1m Y2023_mean\n",
              "     │\u001b[90m String15  \u001b[90m Float64\n",
              "─────┼───────────────────────\n",
              "   1 │ Midwest       663.0\n",
              "   2 │ Northeast     758.667\n",
              "   3 │ West          659.077\n",
              "   4 │ South         696.75"
            ],
            "text/html": [
              "<div><div style = \"float: left;\"><span>4×2 DataFrame</span></div><div style = \"clear: both;\"></div></div><div class = \"data-frame\" style = \"overflow-x: scroll;\"><table class = \"data-frame\" style = \"margin-bottom: 6px;\"><thead><tr class = \"header\"><th class = \"rowNumber\" style = \"font-weight: bold; text-align: right;\">Row</th><th style = \"text-align: left;\">Region</th><th style = \"text-align: left;\">Y2023_mean</th></tr><tr class = \"subheader headerLastRow\"><th class = \"rowNumber\" style = \"font-weight: bold; text-align: right;\"></th><th title = \"String15\" style = \"text-align: left;\">String15</th><th title = \"Float64\" style = \"text-align: left;\">Float64</th></tr></thead><tbody><tr><td class = \"rowNumber\" style = \"font-weight: bold; text-align: right;\">1</td><td style = \"text-align: left;\">Midwest</td><td style = \"text-align: right;\">663.0</td></tr><tr><td class = \"rowNumber\" style = \"font-weight: bold; text-align: right;\">2</td><td style = \"text-align: left;\">Northeast</td><td style = \"text-align: right;\">758.667</td></tr><tr><td class = \"rowNumber\" style = \"font-weight: bold; text-align: right;\">3</td><td style = \"text-align: left;\">West</td><td style = \"text-align: right;\">659.077</td></tr><tr><td class = \"rowNumber\" style = \"font-weight: bold; text-align: right;\">4</td><td style = \"text-align: left;\">South</td><td style = \"text-align: right;\">696.75</td></tr></tbody></table></div>"
            ],
            "text/latex": "\\begin{tabular}{r|cc}\n\t& Region & Y2023\\_mean\\\\\n\t\\hline\n\t& String15 & Float64\\\\\n\t\\hline\n\t1 & Midwest & 663.0 \\\\\n\t2 & Northeast & 758.667 \\\\\n\t3 & West & 659.077 \\\\\n\t4 & South & 696.75 \\\\\n\\end{tabular}\n"
          },
          "metadata": {},
          "execution_count": 14
        }
      ]
    }
  ]
}