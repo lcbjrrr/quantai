{
  "nbformat": 4,
  "nbformat_minor": 0,
  "metadata": {
    "colab": {
      "provenance": [],
      "include_colab_link": true
    },
    "kernelspec": {
      "name": "ir",
      "display_name": "R"
    },
    "language_info": {
      "name": "R"
    }
  },
  "cells": [
    {
      "cell_type": "markdown",
      "metadata": {
        "id": "view-in-github",
        "colab_type": "text"
      },
      "source": [
        "<a href=\"https://colab.research.google.com/github/lcbjrrr/quantai/blob/main/IA_R_Clas_RegLog.ipynb\" target=\"_parent\"><img src=\"https://colab.research.google.com/assets/colab-badge.svg\" alt=\"Open In Colab\"/></a>"
      ]
    },
    {
      "cell_type": "markdown",
      "source": [
        "**Topic:** R Lang\n",
        "\n",
        "**Title:** Logistic Regression\n",
        "\n",
        "**Author:** Luiz Barboza\n",
        "\n",
        "**Date:** 20/dec/24\n",
        "\n",
        "**Lang:** R\n",
        "\n",
        "**Site:** https://quant-research.group/\n",
        "\n",
        "**Email:** contato@quant-research.group"
      ],
      "metadata": {
        "id": "1iLVr0mOeayB"
      }
    },
    {
      "cell_type": "code",
      "source": [
        "#install.packages(\"glm\",repos = \"http://cran.us.r-project.org\")\n",
        "#library(\"glm2\")"
      ],
      "metadata": {
        "id": "DRr-GKcOMTWo"
      },
      "execution_count": null,
      "outputs": []
    },
    {
      "cell_type": "markdown",
      "source": [
        "Let's define some metrics R functions:\n",
        "\n",
        "* **`Score`:** Calculates the accuracy of a model's predictions (`prevs`) compared to the expected values (`y_exp`), handling different prediction types (linear, logistic, knn).\n",
        "\n",
        "* **`Accuracy`:** Computes the accuracy of predicted values (`prevs`) against expected values (`y_exp`).\n",
        "\n",
        "* **`ConfusionMatrix`:** Creates a confusion matrix (table) showing the counts of true positives, true negatives, false positives, and false negatives, comparing predicted (`prevs`) and expected (`y_exp`) values.\n",
        "\n",
        "* **`PrecisionRecall`:** Calculates and returns the precision and recall scores based on a confusion matrix derived from predicted (`prevs`) and expected (`y_exp`) values.\n"
      ],
      "metadata": {
        "id": "zKQWfozGef8y"
      }
    },
    {
      "cell_type": "code",
      "source": [
        "\n",
        "Score <- function(mod,Xs,y_exp,t=\"\"){\n",
        "   if(t==\"response\"){\n",
        "     prevs<-predict(mod,Xs,type=t)>0.5\n",
        "   }else if(t==\"knn\"){\n",
        "     df<-data.frame(y_exp,Xs)\n",
        "     prevs<-mod(df,df,cl=df$y,k=3)\n",
        "   }else{\n",
        "     prevs<-predict(mod,Xs)\n",
        "   }\n",
        "   score<-sum(prevs==y_exp)/length(prevs)\n",
        "   return(score)\n",
        "}\n",
        "\n",
        "Accuracy <- function(y_exp,prevs){\n",
        "   accuracy<-sum(prevs==y_exp)/length(prevs)\n",
        "   return(accuracy)\n",
        "}\n",
        "\n",
        "ConfusionMatrix <- function(y_exp,prevs){\n",
        "   cm<-table(y_exp,prevs)\n",
        "   return(cm)\n",
        "}\n",
        "\n",
        "PrecisionRecall <- function(y_exp,prevs){\n",
        "   cm<-table(y_exp,prevs)\n",
        "   tp<-cm[2,2]\n",
        "   tn<-cm[1,1]\n",
        "   fn<-cm[2,1]\n",
        "   fp<-cm[1,2]\n",
        "   precision <- tp/(tp+fp)\n",
        "   recall <- tp/(tp+fn)\n",
        "   return(c(precision,recall))\n",
        "}\n"
      ],
      "metadata": {
        "id": "kEqUSq7HND23"
      },
      "execution_count": null,
      "outputs": []
    },
    {
      "cell_type": "markdown",
      "source": [
        "This dataset shows gender (G), height (H), and weight (W) for individuals."
      ],
      "metadata": {
        "id": "54q64IZwe6ZM"
      }
    },
    {
      "cell_type": "code",
      "source": [
        "train <- read.csv('https://raw.githubusercontent.com/lcbjrrr/data/main/gender%20-%20tr.csv')\n",
        "print(train)"
      ],
      "metadata": {
        "colab": {
          "base_uri": "https://localhost:8080/"
        },
        "id": "3bquU1wRNGlw",
        "outputId": "c0864a48-a5a1-4e81-f259-2e0c25f0e6d4"
      },
      "execution_count": 2,
      "outputs": [
        {
          "output_type": "stream",
          "name": "stdout",
          "text": [
            "  G   H  W\n",
            "1 0 178 72\n",
            "2 0 179 81\n",
            "3 1 163 55\n",
            "4 1 168 58\n",
            "5 0 181 98\n",
            "6 1 170 60\n",
            "7 0 184 78\n",
            "8 1 171 59\n"
          ]
        }
      ]
    },
    {
      "cell_type": "markdown",
      "source": [
        "Let's build a logistic regression model (rlog). It predicts the binary variable \"G\" using all other variables in the train data frame, specifying a binomial family for logistic regression."
      ],
      "metadata": {
        "id": "uBvYogaHfHAq"
      }
    },
    {
      "cell_type": "code",
      "source": [
        "rlog <- glm( G ~ . , data = train, family='binomial')\n",
        "rlog"
      ],
      "metadata": {
        "id": "htrjOZLEfHIr"
      },
      "execution_count": null,
      "outputs": []
    },
    {
      "cell_type": "markdown",
      "source": [
        "Let's select and return columns 2 and 3 from the test data frame.\n"
      ],
      "metadata": {
        "id": "8zJdNnJ7fUo5"
      }
    },
    {
      "cell_type": "code",
      "source": [
        "test <- read.csv('https://raw.githubusercontent.com/lcbjrrr/data/main/gender%20-%20ts.csv')\n",
        "test[,2:3]"
      ],
      "metadata": {
        "colab": {
          "base_uri": "https://localhost:8080/",
          "height": 213
        },
        "id": "piR3Ltx-MXlQ",
        "outputId": "98068e0b-b6f6-4954-c709-b2dda0210d52"
      },
      "execution_count": null,
      "outputs": [
        {
          "output_type": "stream",
          "name": "stderr",
          "text": [
            "Warning message in read.table(file = file, header = header, sep = sep, quote = quote, :\n",
            "“incomplete final line found by readTableHeader on 'https://raw.githubusercontent.com/lcbjrrr/data/main/gender%20-%20ts.csv'”\n"
          ]
        },
        {
          "output_type": "display_data",
          "data": {
            "text/html": [
              "<table class=\"dataframe\">\n",
              "<caption>A data.frame: 2 × 2</caption>\n",
              "<thead>\n",
              "\t<tr><th scope=col>H</th><th scope=col>W</th></tr>\n",
              "\t<tr><th scope=col>&lt;int&gt;</th><th scope=col>&lt;int&gt;</th></tr>\n",
              "</thead>\n",
              "<tbody>\n",
              "\t<tr><td>175</td><td>75</td></tr>\n",
              "\t<tr><td>165</td><td>65</td></tr>\n",
              "</tbody>\n",
              "</table>\n"
            ],
            "text/markdown": "\nA data.frame: 2 × 2\n\n| H &lt;int&gt; | W &lt;int&gt; |\n|---|---|\n| 175 | 75 |\n| 165 | 65 |\n\n",
            "text/latex": "A data.frame: 2 × 2\n\\begin{tabular}{ll}\n H & W\\\\\n <int> & <int>\\\\\n\\hline\n\t 175 & 75\\\\\n\t 165 & 65\\\\\n\\end{tabular}\n",
            "text/plain": [
              "  H   W \n",
              "1 175 75\n",
              "2 165 65"
            ]
          },
          "metadata": {}
        }
      ]
    },
    {
      "cell_type": "markdown",
      "source": [
        "Let's predict the probability of the \"G\" variable being true (1) using the logistic regression model rlog on columns 2 and 3 of the test data frame. Then, it converts these probabilities into binary predictions (TRUE or FALSE) by classifying any probability greater than 0.5 as TRUE, and finally converts the result to a factor variable."
      ],
      "metadata": {
        "id": "MQ88FR4dfeMz"
      }
    },
    {
      "cell_type": "code",
      "source": [
        "pred_test<- factor(predict(rlog,test[,2:3],type = \"response\")>0.5,levels=c(F,T))\n",
        "pred_test"
      ],
      "metadata": {
        "colab": {
          "base_uri": "https://localhost:8080/",
          "height": 69
        },
        "id": "w1QoZDEMO9cl",
        "outputId": "29b48a30-5404-4360-bfed-dc9b7515c936"
      },
      "execution_count": null,
      "outputs": [
        {
          "output_type": "display_data",
          "data": {
            "text/html": [
              "<style>\n",
              ".dl-inline {width: auto; margin:0; padding: 0}\n",
              ".dl-inline>dt, .dl-inline>dd {float: none; width: auto; display: inline-block}\n",
              ".dl-inline>dt::after {content: \":\\0020\"; padding-right: .5ex}\n",
              ".dl-inline>dt:not(:first-of-type) {padding-left: .5ex}\n",
              "</style><dl class=dl-inline><dt>1</dt><dd>FALSE</dd><dt>2</dt><dd>TRUE</dd></dl>\n",
              "\n",
              "<details>\n",
              "\t<summary style=display:list-item;cursor:pointer>\n",
              "\t\t<strong>Levels</strong>:\n",
              "\t</summary>\n",
              "\t<style>\n",
              "\t.list-inline {list-style: none; margin:0; padding: 0}\n",
              "\t.list-inline>li {display: inline-block}\n",
              "\t.list-inline>li:not(:last-child)::after {content: \"\\00b7\"; padding: 0 .5ex}\n",
              "\t</style>\n",
              "\t<ol class=list-inline><li>'FALSE'</li><li>'TRUE'</li></ol>\n",
              "</details>"
            ],
            "text/markdown": "1\n:   FALSE2\n:   TRUE\n\n\n**Levels**: 1. 'FALSE'\n2. 'TRUE'\n\n\n",
            "text/latex": "\\begin{description*}\n\\item[1] FALSE\n\\item[2] TRUE\n\\end{description*}\n\n\\emph{Levels}: \\begin{enumerate*}\n\\item 'FALSE'\n\\item 'TRUE'\n\\end{enumerate*}\n",
            "text/plain": [
              "    1     2 \n",
              "FALSE  TRUE \n",
              "Levels: FALSE TRUE"
            ]
          },
          "metadata": {}
        }
      ]
    },
    {
      "cell_type": "markdown",
      "source": [
        "Let's calculate the accuracy score of the logistic regression model rlog when predicting the first column of the train data frame (likely the \"G\" variable) using columns 2 and 3 as predictors."
      ],
      "metadata": {
        "id": "3T3PYme-fkkh"
      }
    },
    {
      "cell_type": "code",
      "source": [
        "print(\"ACC Train: \")\n",
        "Score(rlog,train[,2:3],train[,1],\"response\")"
      ],
      "metadata": {
        "colab": {
          "base_uri": "https://localhost:8080/",
          "height": 52
        },
        "id": "j_XdkRc-GChd",
        "outputId": "282eeb13-b43c-42ee-8c47-b2a51f938bc6"
      },
      "execution_count": null,
      "outputs": [
        {
          "output_type": "stream",
          "name": "stdout",
          "text": [
            "[1] \"ACC Train: \"\n"
          ]
        },
        {
          "output_type": "display_data",
          "data": {
            "text/html": [
              "1"
            ],
            "text/markdown": "1",
            "text/latex": "1",
            "text/plain": [
              "[1] 1"
            ]
          },
          "metadata": {}
        }
      ]
    },
    {
      "cell_type": "markdown",
      "source": [
        "Let's calculate the accuracy of the predictions pred_test compared to the actual values y_ref. It determines the proportion of correct predictions."
      ],
      "metadata": {
        "id": "phBtRkmnfrPA"
      }
    },
    {
      "cell_type": "code",
      "source": [
        "print(\"ACC Test: \")\n",
        "y_ref <- factor(test[,1]>0.5,levels=c(F,T))\n",
        "Accuracy(y_ref,pred_test)"
      ],
      "metadata": {
        "colab": {
          "base_uri": "https://localhost:8080/",
          "height": 52
        },
        "id": "05PcdxFPGo7N",
        "outputId": "8c3a0ef1-f092-4fde-e4f3-dd661642fdf9"
      },
      "execution_count": null,
      "outputs": [
        {
          "output_type": "stream",
          "name": "stdout",
          "text": [
            "[1] \"ACC Test: \"\n"
          ]
        },
        {
          "output_type": "display_data",
          "data": {
            "text/html": [
              "1"
            ],
            "text/markdown": "1",
            "text/latex": "1",
            "text/plain": [
              "[1] 1"
            ]
          },
          "metadata": {}
        }
      ]
    },
    {
      "cell_type": "markdown",
      "source": [
        "Let's generate a confusion matrix, which is a table that shows the performance of a classification model. It compares the predicted values (pred_test) to the actual values (y_ref). The matrix helps visualize how well the model is classifying different categories."
      ],
      "metadata": {
        "id": "uBxDWtM1gBI7"
      }
    },
    {
      "cell_type": "code",
      "source": [
        "print(\"CM Test: \")\n",
        "ConfusionMatrix(y_ref,pred_test)"
      ],
      "metadata": {
        "colab": {
          "base_uri": "https://localhost:8080/",
          "height": 104
        },
        "id": "gzHDbFYfQ3RU",
        "outputId": "c59f7af5-7cb4-4c58-8612-cd95ba3782b0"
      },
      "execution_count": null,
      "outputs": [
        {
          "output_type": "stream",
          "name": "stdout",
          "text": [
            "[1] \"CM Test: \"\n"
          ]
        },
        {
          "output_type": "display_data",
          "data": {
            "text/plain": [
              "       prevs\n",
              "y_exp   FALSE TRUE\n",
              "  FALSE     1    0\n",
              "  TRUE      0    1"
            ]
          },
          "metadata": {}
        }
      ]
    },
    {
      "cell_type": "markdown",
      "source": [
        "Let's  calculate the precision and recall scores based on the predicted values (pred_test) and the actual values (y_ref). Precision measures the proportion of correctly predicted positive cases out of all predicted positive cases, while recall measures the proportion of correctly predicted positive cases out of all actual positive cases."
      ],
      "metadata": {
        "id": "sSDKOoEMgDbE"
      }
    },
    {
      "cell_type": "code",
      "source": [
        "print(\"Precision / Recall - Test: \")\n",
        "PrecisionRecall(y_ref,pred_test)"
      ],
      "metadata": {
        "colab": {
          "base_uri": "https://localhost:8080/",
          "height": 52
        },
        "id": "XDA1ybNMRiZp",
        "outputId": "e7f68581-8f70-4e91-da6a-0e7fe2cb4228"
      },
      "execution_count": null,
      "outputs": [
        {
          "output_type": "stream",
          "name": "stdout",
          "text": [
            "[1] \"Precision / Recall - Test: \"\n"
          ]
        },
        {
          "output_type": "display_data",
          "data": {
            "text/html": [
              "<style>\n",
              ".list-inline {list-style: none; margin:0; padding: 0}\n",
              ".list-inline>li {display: inline-block}\n",
              ".list-inline>li:not(:last-child)::after {content: \"\\00b7\"; padding: 0 .5ex}\n",
              "</style>\n",
              "<ol class=list-inline><li>1</li><li>1</li></ol>\n"
            ],
            "text/markdown": "1. 1\n2. 1\n\n\n",
            "text/latex": "\\begin{enumerate*}\n\\item 1\n\\item 1\n\\end{enumerate*}\n",
            "text/plain": [
              "[1] 1 1"
            ]
          },
          "metadata": {}
        }
      ]
    }
  ]
}