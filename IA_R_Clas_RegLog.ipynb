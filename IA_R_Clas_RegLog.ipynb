{
  "nbformat": 4,
  "nbformat_minor": 0,
  "metadata": {
    "colab": {
      "provenance": [],
      "include_colab_link": true
    },
    "kernelspec": {
      "name": "ir",
      "display_name": "R"
    },
    "language_info": {
      "name": "R"
    }
  },
  "cells": [
    {
      "cell_type": "markdown",
      "metadata": {
        "id": "view-in-github",
        "colab_type": "text"
      },
      "source": [
        "<a href=\"https://colab.research.google.com/github/lcbjrrr/quantai/blob/main/IA_R_Clas_RegLog.ipynb\" target=\"_parent\"><img src=\"https://colab.research.google.com/assets/colab-badge.svg\" alt=\"Open In Colab\"/></a>"
      ]
    },
    {
      "cell_type": "code",
      "source": [
        "\n",
        "#install.packages(\"glm\",repos = \"http://cran.us.r-project.org\")"
      ],
      "metadata": {
        "id": "DRr-GKcOMTWo",
        "colab": {
          "base_uri": "https://localhost:8080/",
          "height": 35
        },
        "outputId": "09fb2966-1288-4260-f4c4-b8fa8927b8bb"
      },
      "execution_count": null,
      "outputs": [
        {
          "output_type": "display_data",
          "data": {
            "text/plain": [
              "NULL\n"
            ]
          },
          "metadata": {}
        }
      ]
    },
    {
      "cell_type": "code",
      "source": [
        "\n",
        "#library(\"glm2\")"
      ],
      "metadata": {
        "id": "pNYpl9wLFgrL"
      },
      "execution_count": null,
      "outputs": []
    },
    {
      "cell_type": "code",
      "source": [
        "\n",
        "Score <- function(mod,Xs,y_exp,t=\"\"){\n",
        "   if(t==\"response\"){\n",
        "     prevs<-predict(mod,Xs,type=t)>0.5\n",
        "   }else if(t==\"knn\"){\n",
        "     df<-data.frame(y_exp,Xs)\n",
        "     prevs<-mod(df,df,cl=df$y,k=3)\n",
        "   }else{\n",
        "     prevs<-predict(mod,Xs)\n",
        "   }\n",
        "   score<-sum(prevs==y_exp)/length(prevs)\n",
        "   return(score)\n",
        "}\n",
        "\n",
        "Accuracy <- function(y_exp,prevs){\n",
        "   accuracy<-sum(prevs==y_exp)/length(prevs)\n",
        "   return(accuracy)\n",
        "}\n",
        "\n",
        "ConfusionMatrix <- function(y_exp,prevs){\n",
        "   cm<-table(y_exp,prevs)\n",
        "   return(cm)\n",
        "}\n",
        "\n",
        "PrecisionRecall <- function(y_exp,prevs){\n",
        "   cm<-table(y_exp,prevs)\n",
        "   tp<-cm[2,2]\n",
        "   tn<-cm[1,1]\n",
        "   fn<-cm[2,1]\n",
        "   fp<-cm[1,2]\n",
        "   precision <- tp/(tp+fp)\n",
        "   recall <- tp/(tp+fn)\n",
        "   return(c(precision,recall))\n",
        "}\n"
      ],
      "metadata": {
        "id": "kEqUSq7HND23"
      },
      "execution_count": 1,
      "outputs": []
    },
    {
      "cell_type": "code",
      "source": [
        "\n",
        "train <- read.csv('https://raw.githubusercontent.com/lcbjrrr/data/main/gender%20-%20tr.csv')\n",
        "print(train)\n",
        "rlog <- glm( G ~ . , data = train, family='binomial')\n",
        "rlog\n"
      ],
      "metadata": {
        "colab": {
          "base_uri": "https://localhost:8080/",
          "height": 381
        },
        "id": "3bquU1wRNGlw",
        "outputId": "5fe02a37-d018-455a-e8c4-d6b8cf4788cf"
      },
      "execution_count": 2,
      "outputs": [
        {
          "output_type": "stream",
          "name": "stdout",
          "text": [
            "  G   H  W\n",
            "1 0 178 72\n",
            "2 0 179 81\n",
            "3 1 163 55\n",
            "4 1 168 58\n",
            "5 0 181 98\n",
            "6 1 170 60\n",
            "7 0 184 78\n",
            "8 1 171 59\n"
          ]
        },
        {
          "output_type": "stream",
          "name": "stderr",
          "text": [
            "Warning message:\n",
            "“glm.fit: fitted probabilities numerically 0 or 1 occurred”\n"
          ]
        },
        {
          "output_type": "display_data",
          "data": {
            "text/plain": [
              "\n",
              "Call:  glm(formula = G ~ ., family = \"binomial\", data = train)\n",
              "\n",
              "Coefficients:\n",
              "(Intercept)            H            W  \n",
              "  1243.0080      -7.2523       0.3435  \n",
              "\n",
              "Degrees of Freedom: 7 Total (i.e. Null);  5 Residual\n",
              "Null Deviance:\t    11.09 \n",
              "Residual Deviance: 3.56e-10 \tAIC: 6"
            ]
          },
          "metadata": {}
        }
      ]
    },
    {
      "cell_type": "code",
      "source": [
        "\n",
        "test <- read.csv('https://raw.githubusercontent.com/lcbjrrr/data/main/gender%20-%20ts.csv')\n",
        "test[,2:3]"
      ],
      "metadata": {
        "colab": {
          "base_uri": "https://localhost:8080/",
          "height": 213
        },
        "id": "piR3Ltx-MXlQ",
        "outputId": "98068e0b-b6f6-4954-c709-b2dda0210d52"
      },
      "execution_count": 3,
      "outputs": [
        {
          "output_type": "stream",
          "name": "stderr",
          "text": [
            "Warning message in read.table(file = file, header = header, sep = sep, quote = quote, :\n",
            "“incomplete final line found by readTableHeader on 'https://raw.githubusercontent.com/lcbjrrr/data/main/gender%20-%20ts.csv'”\n"
          ]
        },
        {
          "output_type": "display_data",
          "data": {
            "text/html": [
              "<table class=\"dataframe\">\n",
              "<caption>A data.frame: 2 × 2</caption>\n",
              "<thead>\n",
              "\t<tr><th scope=col>H</th><th scope=col>W</th></tr>\n",
              "\t<tr><th scope=col>&lt;int&gt;</th><th scope=col>&lt;int&gt;</th></tr>\n",
              "</thead>\n",
              "<tbody>\n",
              "\t<tr><td>175</td><td>75</td></tr>\n",
              "\t<tr><td>165</td><td>65</td></tr>\n",
              "</tbody>\n",
              "</table>\n"
            ],
            "text/markdown": "\nA data.frame: 2 × 2\n\n| H &lt;int&gt; | W &lt;int&gt; |\n|---|---|\n| 175 | 75 |\n| 165 | 65 |\n\n",
            "text/latex": "A data.frame: 2 × 2\n\\begin{tabular}{ll}\n H & W\\\\\n <int> & <int>\\\\\n\\hline\n\t 175 & 75\\\\\n\t 165 & 65\\\\\n\\end{tabular}\n",
            "text/plain": [
              "  H   W \n",
              "1 175 75\n",
              "2 165 65"
            ]
          },
          "metadata": {}
        }
      ]
    },
    {
      "cell_type": "code",
      "source": [
        "\n",
        "pred_test<- factor(predict(rlog,test[,2:3],type = \"response\")>0.5,levels=c(F,T))\n",
        "pred_test"
      ],
      "metadata": {
        "colab": {
          "base_uri": "https://localhost:8080/",
          "height": 69
        },
        "id": "w1QoZDEMO9cl",
        "outputId": "29b48a30-5404-4360-bfed-dc9b7515c936"
      },
      "execution_count": 4,
      "outputs": [
        {
          "output_type": "display_data",
          "data": {
            "text/html": [
              "<style>\n",
              ".dl-inline {width: auto; margin:0; padding: 0}\n",
              ".dl-inline>dt, .dl-inline>dd {float: none; width: auto; display: inline-block}\n",
              ".dl-inline>dt::after {content: \":\\0020\"; padding-right: .5ex}\n",
              ".dl-inline>dt:not(:first-of-type) {padding-left: .5ex}\n",
              "</style><dl class=dl-inline><dt>1</dt><dd>FALSE</dd><dt>2</dt><dd>TRUE</dd></dl>\n",
              "\n",
              "<details>\n",
              "\t<summary style=display:list-item;cursor:pointer>\n",
              "\t\t<strong>Levels</strong>:\n",
              "\t</summary>\n",
              "\t<style>\n",
              "\t.list-inline {list-style: none; margin:0; padding: 0}\n",
              "\t.list-inline>li {display: inline-block}\n",
              "\t.list-inline>li:not(:last-child)::after {content: \"\\00b7\"; padding: 0 .5ex}\n",
              "\t</style>\n",
              "\t<ol class=list-inline><li>'FALSE'</li><li>'TRUE'</li></ol>\n",
              "</details>"
            ],
            "text/markdown": "1\n:   FALSE2\n:   TRUE\n\n\n**Levels**: 1. 'FALSE'\n2. 'TRUE'\n\n\n",
            "text/latex": "\\begin{description*}\n\\item[1] FALSE\n\\item[2] TRUE\n\\end{description*}\n\n\\emph{Levels}: \\begin{enumerate*}\n\\item 'FALSE'\n\\item 'TRUE'\n\\end{enumerate*}\n",
            "text/plain": [
              "    1     2 \n",
              "FALSE  TRUE \n",
              "Levels: FALSE TRUE"
            ]
          },
          "metadata": {}
        }
      ]
    },
    {
      "cell_type": "code",
      "source": [
        "\n",
        "print(\"ACC Train: \")\n",
        "Score(rlog,train[,2:3],train[,1],\"response\")"
      ],
      "metadata": {
        "colab": {
          "base_uri": "https://localhost:8080/",
          "height": 52
        },
        "id": "j_XdkRc-GChd",
        "outputId": "282eeb13-b43c-42ee-8c47-b2a51f938bc6"
      },
      "execution_count": 5,
      "outputs": [
        {
          "output_type": "stream",
          "name": "stdout",
          "text": [
            "[1] \"ACC Train: \"\n"
          ]
        },
        {
          "output_type": "display_data",
          "data": {
            "text/html": [
              "1"
            ],
            "text/markdown": "1",
            "text/latex": "1",
            "text/plain": [
              "[1] 1"
            ]
          },
          "metadata": {}
        }
      ]
    },
    {
      "cell_type": "code",
      "source": [
        "\n",
        "print(\"ACC Test: \")\n",
        "y_ref <- factor(test[,1]>0.5,levels=c(F,T))\n",
        "Accuracy(y_ref,pred_test)"
      ],
      "metadata": {
        "colab": {
          "base_uri": "https://localhost:8080/",
          "height": 52
        },
        "id": "05PcdxFPGo7N",
        "outputId": "8c3a0ef1-f092-4fde-e4f3-dd661642fdf9"
      },
      "execution_count": 6,
      "outputs": [
        {
          "output_type": "stream",
          "name": "stdout",
          "text": [
            "[1] \"ACC Test: \"\n"
          ]
        },
        {
          "output_type": "display_data",
          "data": {
            "text/html": [
              "1"
            ],
            "text/markdown": "1",
            "text/latex": "1",
            "text/plain": [
              "[1] 1"
            ]
          },
          "metadata": {}
        }
      ]
    },
    {
      "cell_type": "code",
      "source": [
        "\n",
        "print(\"CM Test: \")\n",
        "ConfusionMatrix(y_ref,pred_test)"
      ],
      "metadata": {
        "colab": {
          "base_uri": "https://localhost:8080/",
          "height": 104
        },
        "id": "gzHDbFYfQ3RU",
        "outputId": "c59f7af5-7cb4-4c58-8612-cd95ba3782b0"
      },
      "execution_count": 7,
      "outputs": [
        {
          "output_type": "stream",
          "name": "stdout",
          "text": [
            "[1] \"CM Test: \"\n"
          ]
        },
        {
          "output_type": "display_data",
          "data": {
            "text/plain": [
              "       prevs\n",
              "y_exp   FALSE TRUE\n",
              "  FALSE     1    0\n",
              "  TRUE      0    1"
            ]
          },
          "metadata": {}
        }
      ]
    },
    {
      "cell_type": "code",
      "source": [
        "\n",
        "print(\"Precision / Recall - Test: \")\n",
        "PrecisionRecall(y_ref,pred_test)"
      ],
      "metadata": {
        "colab": {
          "base_uri": "https://localhost:8080/",
          "height": 52
        },
        "id": "XDA1ybNMRiZp",
        "outputId": "e7f68581-8f70-4e91-da6a-0e7fe2cb4228"
      },
      "execution_count": 8,
      "outputs": [
        {
          "output_type": "stream",
          "name": "stdout",
          "text": [
            "[1] \"Precision / Recall - Test: \"\n"
          ]
        },
        {
          "output_type": "display_data",
          "data": {
            "text/html": [
              "<style>\n",
              ".list-inline {list-style: none; margin:0; padding: 0}\n",
              ".list-inline>li {display: inline-block}\n",
              ".list-inline>li:not(:last-child)::after {content: \"\\00b7\"; padding: 0 .5ex}\n",
              "</style>\n",
              "<ol class=list-inline><li>1</li><li>1</li></ol>\n"
            ],
            "text/markdown": "1. 1\n2. 1\n\n\n",
            "text/latex": "\\begin{enumerate*}\n\\item 1\n\\item 1\n\\end{enumerate*}\n",
            "text/plain": [
              "[1] 1 1"
            ]
          },
          "metadata": {}
        }
      ]
    }
  ]
}