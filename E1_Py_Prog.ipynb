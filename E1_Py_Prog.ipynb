{
  "nbformat": 4,
  "nbformat_minor": 0,
  "metadata": {
    "colab": {
      "provenance": [],
      "authorship_tag": "ABX9TyNca+tX1ODzF3oYdAJhmnFY",
      "include_colab_link": true
    },
    "kernelspec": {
      "name": "python3",
      "display_name": "Python 3"
    },
    "language_info": {
      "name": "python"
    }
  },
  "cells": [
    {
      "cell_type": "markdown",
      "metadata": {
        "id": "view-in-github",
        "colab_type": "text"
      },
      "source": [
        "<a href=\"https://colab.research.google.com/github/lcbjrrr/quantai/blob/main/E1_Py_Prog.ipynb\" target=\"_parent\"><img src=\"https://colab.research.google.com/assets/colab-badge.svg\" alt=\"Open In Colab\"/></a>"
      ]
    },
    {
      "cell_type": "markdown",
      "source": [
        "# Hello"
      ],
      "metadata": {
        "id": "pM0Oaxh3VXJT"
      }
    },
    {
      "cell_type": "markdown",
      "source": [
        "A function is like a mini-program within a larger program. It takes inputs, processes them, and produces an output. For example, print('hello world') is a simple function that takes the text \"hello world\" as input and outputs it to the console."
      ],
      "metadata": {
        "id": "5quucNAZj1hk"
      }
    },
    {
      "cell_type": "code",
      "source": [
        "print('hello world')"
      ],
      "metadata": {
        "id": "GPlOBEimVcnp",
        "outputId": "8a1f86b4-89a6-4916-addb-9fd4625adc4e",
        "colab": {
          "base_uri": "https://localhost:8080/"
        }
      },
      "execution_count": null,
      "outputs": [
        {
          "output_type": "stream",
          "name": "stdout",
          "text": [
            "hello world\n"
          ]
        }
      ]
    },
    {
      "cell_type": "markdown",
      "source": [
        "# Variables"
      ],
      "metadata": {
        "id": "FjSZk4L_ZKkE"
      }
    },
    {
      "cell_type": "markdown",
      "source": [
        "A variable is like a named container that stores a value. Think of it as a box with a label. To assign a value, you use the = symbol. For example, x = 1 assigns the value 1 to the variable x. To read the value, you can simply use the variable name. In the example print(x), the value stored in x, which is 1, will be printed to the console."
      ],
      "metadata": {
        "id": "9vFlyaXHkD_W"
      }
    },
    {
      "cell_type": "code",
      "source": [
        "x = 1\n",
        "print(x)"
      ],
      "metadata": {
        "colab": {
          "base_uri": "https://localhost:8080/"
        },
        "id": "aHcxJb-4ZM2O",
        "outputId": "404dd117-cad8-4b02-e22f-62813559a327"
      },
      "execution_count": null,
      "outputs": [
        {
          "output_type": "stream",
          "name": "stdout",
          "text": [
            "1\n"
          ]
        }
      ]
    },
    {
      "cell_type": "markdown",
      "source": [
        "# Functions"
      ],
      "metadata": {
        "id": "hYLgNty6ZU1Q"
      }
    },
    {
      "cell_type": "markdown",
      "source": [
        "This code defines a function named add that takes two input values, x and y. It calculates the sum of these values and stores the result in the variable s. The return s statement sends the calculated sum back to the part of the code that called the function.\n",
        "\n",
        "In the second part, the add function is called with the arguments 1 and 2. The function calculates 1 + 2 = 3 and returns the result, which is then stored in the variable r. Finally, the print(r) statement displays the value of r, which is 3."
      ],
      "metadata": {
        "id": "PHBlMS4wkOA0"
      }
    },
    {
      "cell_type": "code",
      "source": [
        "def add(x,y):\n",
        "  s=x+y\n",
        "  return s\n",
        "r = add(1,2)\n",
        "print(r)"
      ],
      "metadata": {
        "colab": {
          "base_uri": "https://localhost:8080/"
        },
        "id": "IBl2-u3MZWvh",
        "outputId": "823515c0-dea7-4b7f-d390-eb05cec1e6ba"
      },
      "execution_count": null,
      "outputs": [
        {
          "output_type": "stream",
          "name": "stdout",
          "text": [
            "3\n"
          ]
        }
      ]
    },
    {
      "cell_type": "markdown",
      "source": [
        "# Conditionals"
      ],
      "metadata": {
        "id": "vYeBtm7KZg9K"
      }
    },
    {
      "cell_type": "markdown",
      "source": [
        "The function checks if the grade is greater than or equal to 7 and the freq is greater than or equal to 0.75. If both conditions are met, the function returns the string \"approved\"; otherwise, it returns \"fail\". In the second part, the approval function is called with the arguments 8 and 0.8. Since both values meet the conditions, the function returns \"approved\", which is then printed to the console."
      ],
      "metadata": {
        "id": "eSBr1ILJkUyE"
      }
    },
    {
      "cell_type": "code",
      "source": [
        "def approval(grade, freq):\n",
        "  if grade >= 7 and freq >= 0.75:\n",
        "    aprov= 'approved'\n",
        "  else:\n",
        "    aprov= 'fail'\n",
        "  return aprov\n",
        "r = approval(8, 0.8)\n",
        "print(r)"
      ],
      "metadata": {
        "colab": {
          "base_uri": "https://localhost:8080/"
        },
        "id": "gv5KmzCpZt18",
        "outputId": "0a13012f-44e0-4fc1-ed6d-66572eecd328"
      },
      "execution_count": null,
      "outputs": [
        {
          "output_type": "stream",
          "name": "stdout",
          "text": [
            "approved\n"
          ]
        }
      ]
    },
    {
      "cell_type": "markdown",
      "source": [
        "# Vectors"
      ],
      "metadata": {
        "id": "TjxoGfFWaFVK"
      }
    },
    {
      "cell_type": "markdown",
      "source": [
        "A vector or list is a collection of ordered elements. In Python, you can create a list using square brackets [] and separate elements with commas. For example, grades = [7, 8, 9] creates a list containing the numbers 7, 8, and 9.\n",
        "\n",
        "You can access individual elements within a list using their index, which starts from 0. For instance, grades[0] will access the first element of the grades list, which is 7."
      ],
      "metadata": {
        "id": "irpve4Prkb-5"
      }
    },
    {
      "cell_type": "code",
      "source": [
        "grades = [7,8,9]\n",
        "print(grades[0])\n"
      ],
      "metadata": {
        "colab": {
          "base_uri": "https://localhost:8080/"
        },
        "id": "cBaaHQqAaFa6",
        "outputId": "59065ca1-060a-4777-c086-48e61643f6bb"
      },
      "execution_count": null,
      "outputs": [
        {
          "output_type": "stream",
          "name": "stdout",
          "text": [
            "7\n"
          ]
        }
      ]
    },
    {
      "cell_type": "markdown",
      "source": [
        "The line grades[0] = 7.5 assigns the value 7.5 to the element at index 0, replacing the original value of 7. The subsequent print statements output the new value of grades[0] (which is now 7.5) and the entire modified grades list, which is [7.5, 8, 9]."
      ],
      "metadata": {
        "id": "fbUFGOTSkdTL"
      }
    },
    {
      "cell_type": "code",
      "source": [
        "grades[0] = 7.5\n",
        "print(grades[0])\n",
        "print(grades)"
      ],
      "metadata": {
        "id": "J1HK0BHaYLeN",
        "outputId": "34e4e75d-0aed-4612-f66b-fd14d32b8287",
        "colab": {
          "base_uri": "https://localhost:8080/"
        }
      },
      "execution_count": null,
      "outputs": [
        {
          "output_type": "stream",
          "name": "stdout",
          "text": [
            "7.5\n",
            "[7.5, 8, 9]\n"
          ]
        }
      ]
    }
  ]
}