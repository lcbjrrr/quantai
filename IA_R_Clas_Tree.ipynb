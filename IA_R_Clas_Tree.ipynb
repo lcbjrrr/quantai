{
  "nbformat": 4,
  "nbformat_minor": 0,
  "metadata": {
    "colab": {
      "provenance": [],
      "include_colab_link": true
    },
    "kernelspec": {
      "name": "ir",
      "display_name": "R"
    },
    "language_info": {
      "name": "R"
    }
  },
  "cells": [
    {
      "cell_type": "markdown",
      "metadata": {
        "id": "view-in-github",
        "colab_type": "text"
      },
      "source": [
        "<a href=\"https://colab.research.google.com/github/lcbjrrr/quantai/blob/main/IA_R_Clas_Tree.ipynb\" target=\"_parent\"><img src=\"https://colab.research.google.com/assets/colab-badge.svg\" alt=\"Open In Colab\"/></a>"
      ]
    },
    {
      "cell_type": "markdown",
      "metadata": {
        "id": "oPDu1nNBhzZ-"
      },
      "source": [
        "# Tree"
      ]
    },
    {
      "cell_type": "markdown",
      "source": [
        "**Topic:** R Lang\n",
        "\n",
        "**Title:** Decision Tree\n",
        "\n",
        "**Author:** Luiz Barboza\n",
        "\n",
        "**Date:** 20/dec/24\n",
        "\n",
        "**Lang:** R\n",
        "\n",
        "**Site:** https://quant-research.group/\n",
        "\n",
        "**Email:** contato@quant-research.group"
      ],
      "metadata": {
        "id": "3UMNqV59hcrX"
      }
    },
    {
      "cell_type": "markdown",
      "source": [
        "These libs, rpart builds decision trees, rpart.plot visualizes them."
      ],
      "metadata": {
        "id": "G3hLypPch0vA"
      }
    },
    {
      "cell_type": "code",
      "metadata": {
        "id": "-XI1b9ul6CVh",
        "colab": {
          "base_uri": "https://localhost:8080/"
        },
        "outputId": "7dbd9d6a-0d50-4a50-eb1b-fcd41fda86ca"
      },
      "source": [
        "install.packages(\"rpart\")\n",
        "install.packages(\"rpart.plot\")\n",
        "library(rpart)\n",
        "library(rpart.plot)"
      ],
      "execution_count": 1,
      "outputs": [
        {
          "output_type": "stream",
          "name": "stderr",
          "text": [
            "Installing package into ‘/usr/local/lib/R/site-library’\n",
            "(as ‘lib’ is unspecified)\n",
            "\n",
            "Installing package into ‘/usr/local/lib/R/site-library’\n",
            "(as ‘lib’ is unspecified)\n",
            "\n"
          ]
        }
      ]
    },
    {
      "cell_type": "markdown",
      "source": [
        "This dataset describes weather conditions (forecast, temperature, humidity, wind) and whether it's suitable to play (\"jogar\")."
      ],
      "metadata": {
        "id": "5dfDGGDGh8oY"
      }
    },
    {
      "cell_type": "code",
      "metadata": {
        "id": "0VhV8hCx5801",
        "outputId": "7561b96c-6704-45cf-f31b-54f97039d995",
        "colab": {
          "base_uri": "https://localhost:8080/",
          "height": 285
        }
      },
      "source": [
        "volei <- read.csv('https://raw.githubusercontent.com/lcbjrrr/data/main/JogarVolei%20-%20OK.csv')\n",
        "volei"
      ],
      "execution_count": null,
      "outputs": [
        {
          "output_type": "display_data",
          "data": {
            "text/plain": [
              "     previsao temperatura umidade        vento jogar\n",
              "1  ensolarado      quente    alta nao_ventando   nao\n",
              "2  ensolarado      quente    alta     ventando   nao\n",
              "3     nublado      quente    alta nao_ventando   sim\n",
              "4     chuvoso      brando    alta nao_ventando   sim\n",
              "5     chuvoso        frio  normal nao_ventando   sim\n",
              "6     chuvoso        frio  normal     ventando   nao\n",
              "7     nublado        frio  normal     ventando   sim\n",
              "8  ensolarado      brando    alta nao_ventando   nao\n",
              "9  ensolarado        frio  normal nao_ventando   sim\n",
              "10    chuvoso      brando  normal nao_ventando   sim\n",
              "11 ensolarado      brando  normal     ventando   sim\n",
              "12    nublado      brando    alta     ventando   sim\n",
              "13    nublado      quente  normal nao_ventando   sim\n",
              "14    chuvoso      brando    alta     ventando   nao\n"
            ]
          },
          "metadata": {}
        }
      ]
    },
    {
      "cell_type": "markdown",
      "source": [
        "Let's build a decision tree model (arv) using the rpart package, predicting the \"jogar\" (play) variable based on all other variables in the volei data frame, with a minimum bucket size of 1. Then, it displays a detailed summary of the resulting decision tree model."
      ],
      "metadata": {
        "id": "GMi23uFoh-Ut"
      }
    },
    {
      "cell_type": "code",
      "source": [
        "arv <- rpart(jogar ~ ., data=volei, minbucket=1)\n",
        "summary(arv) # detailed summary of splits\n",
        "#prp(arv,type=2,extra=1)\n",
        "#fancyRpartPlot(arv)"
      ],
      "metadata": {
        "colab": {
          "base_uri": "https://localhost:8080/",
          "height": 946
        },
        "id": "sX78PW814v8A",
        "outputId": "9699ad59-b122-45b5-8618-fb5644a80e00"
      },
      "execution_count": null,
      "outputs": [
        {
          "output_type": "display_data",
          "data": {
            "text/plain": [
              "Call:\n",
              "rpart(formula = jogar ~ ., data = volei, minbucket = 1)\n",
              "  n= 14 \n",
              "\n",
              "    CP nsplit rel error xerror      xstd\n",
              "1 0.30      0       1.0    1.0 0.3585686\n",
              "2 0.01      2       0.4    1.2 0.3703280\n",
              "\n",
              "Variable importance\n",
              "    umidade    previsao temperatura \n",
              "         39          38          23 \n",
              "\n",
              "Node number 1: 14 observations,    complexity param=0.3\n",
              "  predicted class=sim  expected loss=0.3571429  P(node) =1\n",
              "    class counts:     5     9\n",
              "   probabilities: 0.357 0.643 \n",
              "  left son=2 (10 obs) right son=3 (4 obs)\n",
              "  Primary splits:\n",
              "      previsao    splits as  LLR, improve=1.4285710, (0 missing)\n",
              "      umidade     splits as  LR,  improve=1.2857140, (0 missing)\n",
              "      vento       splits as  RL,  improve=0.4285714, (0 missing)\n",
              "      temperatura splits as  RRL, improve=0.2285714, (0 missing)\n",
              "\n",
              "Node number 2: 10 observations,    complexity param=0.3\n",
              "  predicted class=nao  expected loss=0.5  P(node) =0.7142857\n",
              "    class counts:     5     5\n",
              "   probabilities: 0.500 0.500 \n",
              "  left son=4 (5 obs) right son=5 (5 obs)\n",
              "  Primary splits:\n",
              "      umidade     splits as  LR,  improve=1.8000000, (0 missing)\n",
              "      temperatura splits as  RRL, improve=1.2500000, (0 missing)\n",
              "      vento       splits as  RL,  improve=0.8333333, (0 missing)\n",
              "      previsao    splits as  RL-, improve=0.2000000, (0 missing)\n",
              "  Surrogate splits:\n",
              "      temperatura splits as  LRL, agree=0.8, adj=0.6, (0 split)\n",
              "      previsao    splits as  RL-, agree=0.6, adj=0.2, (0 split)\n",
              "\n",
              "Node number 3: 4 observations\n",
              "  predicted class=sim  expected loss=0  P(node) =0.2857143\n",
              "    class counts:     0     4\n",
              "   probabilities: 0.000 1.000 \n",
              "\n",
              "Node number 4: 5 observations\n",
              "  predicted class=nao  expected loss=0.2  P(node) =0.3571429\n",
              "    class counts:     4     1\n",
              "   probabilities: 0.800 0.200 \n",
              "\n",
              "Node number 5: 5 observations\n",
              "  predicted class=sim  expected loss=0.2  P(node) =0.3571429\n",
              "    class counts:     1     4\n",
              "   probabilities: 0.200 0.800 \n",
              "\n"
            ]
          },
          "metadata": {}
        }
      ]
    },
    {
      "cell_type": "markdown",
      "source": [
        "Let's plot a decision tree with customized labels and data counts."
      ],
      "metadata": {
        "id": "jw_wYoxbiFhR"
      }
    },
    {
      "cell_type": "code",
      "metadata": {
        "id": "vJIjOprAEGfw",
        "outputId": "e222ed3d-4409-4d5d-9db0-129780eec8d3",
        "colab": {
          "base_uri": "https://localhost:8080/",
          "height": 497
        }
      },
      "source": [
        "prp(arv,type=2,extra=1)"
      ],
      "execution_count": null,
      "outputs": [
        {
          "output_type": "display_data",
          "data": {
            "image/png": "[encoded data removed]"
          },
          "metadata": {}
        }
      ]
    }
  ]
}