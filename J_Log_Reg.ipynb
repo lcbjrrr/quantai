{
  "nbformat": 4,
  "nbformat_minor": 0,
  "metadata": {
    "colab": {
      "provenance": [],
      "authorship_tag": "ABX9TyP3gGmsUNKz+e7/mTkdePI1",
      "include_colab_link": true
    },
    "kernelspec": {
      "name": "julia",
      "display_name": "Julia"
    },
    "language_info": {
      "name": "julia"
    }
  },
  "cells": [
    {
      "cell_type": "markdown",
      "metadata": {
        "id": "view-in-github",
        "colab_type": "text"
      },
      "source": [
        "<a href=\"https://colab.research.google.com/github/lcbjrrr/quantai/blob/main/J_Log_Reg.ipynb\" target=\"_parent\"><img src=\"https://colab.research.google.com/assets/colab-badge.svg\" alt=\"Open In Colab\"/></a>"
      ]
    },
    {
      "cell_type": "markdown",
      "source": [
        "**Topic:** Julia\n",
        "\n",
        "**Title:** Logistic Regression\n",
        "\n",
        "**Author:** Luiz Barboza\n",
        "\n",
        "**Date:** 20/dec/24\n",
        "\n",
        "**Lang:** R\n",
        "\n",
        "**Site:** https://quant-research.group/\n",
        "\n",
        "**Email:** contato@quant-research.group"
      ],
      "metadata": {
        "id": "0V9rxYxj18yv"
      }
    },
    {
      "cell_type": "code",
      "execution_count": null,
      "metadata": {
        "colab": {
          "base_uri": "https://localhost:8080/"
        },
        "id": "ggxsQfCM1tGj",
        "outputId": "bba284e4-6c7f-4555-8865-3bcd22d0d549"
      },
      "outputs": [
        {
          "output_type": "stream",
          "name": "stdout",
          "text": [
            "Julia Version 1.10.8\n",
            "Commit 4c16ff44be8 (2025-01-22 10:06 UTC)\n",
            "Build Info:\n",
            "  Official https://julialang.org/ release\n",
            "Platform Info:\n",
            "  OS: Linux (x86_64-linux-gnu)\n",
            "  CPU: 2 × Intel(R) Xeon(R) CPU @ 2.20GHz\n",
            "  WORD_SIZE: 64\n",
            "  LIBM: libopenlibm\n",
            "  LLVM: libLLVM-15.0.7 (ORCJIT, broadwell)\n",
            "Threads: 2 default, 0 interactive, 1 GC (on 2 virtual cores)\n",
            "Environment:\n",
            "  LD_LIBRARY_PATH = /usr/local/nvidia/lib:/usr/local/nvidia/lib64\n",
            "  JULIA_NUM_THREADS = 2\n"
          ]
        }
      ],
      "source": [
        "versioninfo()"
      ]
    },
    {
      "cell_type": "markdown",
      "source": [
        "Let's load the libs:\n",
        "* **CSV:** For reading and writing CSV files, which are a common format for storing tabular data.\n",
        "* **DataFrames:** Provides a powerful data structure (DataFrames) for working with tabular data, similar to spreadsheets or SQL tables.\n",
        "* **Statistics:** Offers functions for performing statistical calculations (e.g., mean, median, standard deviation).\n",
        "* **StatsPlots:** Extends the Plots.jl library with statistical plotting functions, allowing for visualizations like histograms, box plots, and more.\n"
      ],
      "metadata": {
        "id": "FYp7RLGw1t1E"
      }
    },
    {
      "cell_type": "code",
      "source": [
        "import Pkg\n",
        "Pkg.add(\"CSV\")\n",
        "Pkg.add(\"DataFrames\")\n",
        "Pkg.add(\"Statistics\")\n",
        "Pkg.add(\"StatsPlots\")\n",
        "using CSV\n",
        "using DataFrames\n",
        "using Statistics\n",
        "using StatsPlots"
      ],
      "metadata": {
        "colab": {
          "base_uri": "https://localhost:8080/"
        },
        "collapsed": true,
        "id": "MJ5kFID92dFh",
        "outputId": "9d7054e8-732f-4172-9e82-2f00d3f67138"
      },
      "execution_count": null,
      "outputs": [
        {
          "output_type": "stream",
          "name": "stderr",
          "text": [
            "\u001b[32m\u001b[1m   Resolving\u001b[22m\u001b[39m package versions...\n",
            "\u001b[32m\u001b[1m  No Changes\u001b[22m\u001b[39m to `~/.julia/environments/v1.10/Project.toml`\n",
            "\u001b[32m\u001b[1m  No Changes\u001b[22m\u001b[39m to `~/.julia/environments/v1.10/Manifest.toml`\n",
            "\u001b[32m\u001b[1m   Resolving\u001b[22m\u001b[39m package versions...\n",
            "\u001b[32m\u001b[1m  No Changes\u001b[22m\u001b[39m to `~/.julia/environments/v1.10/Project.toml`\n",
            "\u001b[32m\u001b[1m  No Changes\u001b[22m\u001b[39m to `~/.julia/environments/v1.10/Manifest.toml`\n",
            "\u001b[32m\u001b[1m   Resolving\u001b[22m\u001b[39m package versions...\n",
            "\u001b[32m\u001b[1m    Updating\u001b[22m\u001b[39m `~/.julia/environments/v1.10/Project.toml`\n",
            "  \u001b[90m[10745b16] \u001b[39m\u001b[92m+ Statistics v1.10.0\u001b[39m\n",
            "\u001b[32m\u001b[1m  No Changes\u001b[22m\u001b[39m to `~/.julia/environments/v1.10/Manifest.toml`\n",
            "\u001b[32m\u001b[1m   Resolving\u001b[22m\u001b[39m package versions...\n",
            "\u001b[32m\u001b[1m   Installed\u001b[22m\u001b[39m Arpack_jll ──────── v3.5.1+1\n",
            "\u001b[32m\u001b[1m   Installed\u001b[22m\u001b[39m TableOperations ─── v1.2.0\n",
            "\u001b[32m\u001b[1m   Installed\u001b[22m\u001b[39m StatsPlots ──────── v0.15.7\n",
            "\u001b[32m\u001b[1m   Installed\u001b[22m\u001b[39m MultivariateStats ─ v0.10.3\n",
            "\u001b[32m\u001b[1m   Installed\u001b[22m\u001b[39m Arpack ──────────── v0.5.4\n",
            "\u001b[32m\u001b[1m   Installed\u001b[22m\u001b[39m Distances ───────── v0.10.12\n",
            "\u001b[32m\u001b[1m   Installed\u001b[22m\u001b[39m Widgets ─────────── v0.6.7\n",
            "\u001b[32m\u001b[1m   Installed\u001b[22m\u001b[39m NearestNeighbors ── v0.4.21\n",
            "\u001b[32m\u001b[1m   Installed\u001b[22m\u001b[39m Clustering ──────── v0.15.8\n",
            "\u001b[32m\u001b[1m    Updating\u001b[22m\u001b[39m `~/.julia/environments/v1.10/Project.toml`\n",
            "  \u001b[90m[f3b207a7] \u001b[39m\u001b[92m+ StatsPlots v0.15.7\u001b[39m\n",
            "\u001b[32m\u001b[1m    Updating\u001b[22m\u001b[39m `~/.julia/environments/v1.10/Manifest.toml`\n",
            "  \u001b[90m[7d9fca2a] \u001b[39m\u001b[92m+ Arpack v0.5.4\u001b[39m\n",
            "  \u001b[90m[aaaa29a8] \u001b[39m\u001b[92m+ Clustering v0.15.8\u001b[39m\n",
            "  \u001b[90m[b4f34e82] \u001b[39m\u001b[92m+ Distances v0.10.12\u001b[39m\n",
            "  \u001b[90m[6f286f6a] \u001b[39m\u001b[92m+ MultivariateStats v0.10.3\u001b[39m\n",
            "  \u001b[90m[b8a86587] \u001b[39m\u001b[92m+ NearestNeighbors v0.4.21\u001b[39m\n",
            "  \u001b[90m[f3b207a7] \u001b[39m\u001b[92m+ StatsPlots v0.15.7\u001b[39m\n",
            "  \u001b[90m[ab02a1b2] \u001b[39m\u001b[92m+ TableOperations v1.2.0\u001b[39m\n",
            "  \u001b[90m[cc8bc4a8] \u001b[39m\u001b[92m+ Widgets v0.6.7\u001b[39m\n",
            "\u001b[33m⌅\u001b[39m \u001b[90m[68821587] \u001b[39m\u001b[92m+ Arpack_jll v3.5.1+1\u001b[39m\n",
            "\u001b[36m\u001b[1m        Info\u001b[22m\u001b[39m Packages marked with \u001b[33m⌅\u001b[39m have new versions available but compatibility constraints restrict them from upgrading. To see why use `status --outdated -m`\n",
            "\u001b[32m\u001b[1mPrecompiling\u001b[22m\u001b[39m packages...\n",
            "   1826.6 ms\u001b[32m  ✓ \u001b[39m\u001b[90mArpack_jll\u001b[39m\n",
            "   2259.6 ms\u001b[32m  ✓ \u001b[39m\u001b[90mTableOperations\u001b[39m\n",
            "   3534.7 ms\u001b[32m  ✓ \u001b[39m\u001b[90mDistances\u001b[39m\n",
            "   2526.8 ms\u001b[32m  ✓ \u001b[39m\u001b[90mArpack\u001b[39m\n",
            "   3708.5 ms\u001b[32m  ✓ \u001b[39m\u001b[90mWidgets\u001b[39m\n",
            "   2169.6 ms\u001b[32m  ✓ \u001b[39m\u001b[90mDistances → DistancesSparseArraysExt\u001b[39m\n",
            "   2063.0 ms\u001b[32m  ✓ \u001b[39m\u001b[90mDistances → DistancesChainRulesCoreExt\u001b[39m\n",
            "   4293.1 ms\u001b[32m  ✓ \u001b[39m\u001b[90mMultivariateStats\u001b[39m\n",
            "   4643.7 ms\u001b[32m  ✓ \u001b[39m\u001b[90mNearestNeighbors\u001b[39m\n",
            "   1984.9 ms\u001b[32m  ✓ \u001b[39m\u001b[90mClustering\u001b[39m\n",
            "   7111.4 ms\u001b[32m  ✓ \u001b[39mStatsPlots\n",
            "  11 dependencies successfully precompiled in 21 seconds. 435 already precompiled.\n"
          ]
        }
      ]
    },
    {
      "cell_type": "markdown",
      "source": [
        "Let's load MLJ, which is a Julia library for simplified machine learning."
      ],
      "metadata": {
        "id": "hY2hJxSt2LVx"
      }
    },
    {
      "cell_type": "code",
      "source": [
        "Pkg.add(\"MLJ\")\n",
        "using MLJ"
      ],
      "metadata": {
        "colab": {
          "base_uri": "https://localhost:8080/"
        },
        "collapsed": true,
        "id": "NK-2xL4xu0TW",
        "outputId": "90337487-565d-42b5-f101-17995aff17e4"
      },
      "execution_count": null,
      "outputs": [
        {
          "output_type": "stream",
          "name": "stderr",
          "text": [
            "\u001b[32m\u001b[1m   Resolving\u001b[22m\u001b[39m package versions...\n",
            "\u001b[32m\u001b[1m   Installed\u001b[22m\u001b[39m CategoricalDistributions ─ v0.1.15\n",
            "\u001b[32m\u001b[1m   Installed\u001b[22m\u001b[39m ShowCases ──────────────── v0.1.0\n",
            "\u001b[32m\u001b[1m   Installed\u001b[22m\u001b[39m EarlyStopping ──────────── v0.3.0\n",
            "\u001b[32m\u001b[1m   Installed\u001b[22m\u001b[39m Accessors ──────────────── v0.1.42\n",
            "\u001b[32m\u001b[1m   Installed\u001b[22m\u001b[39m PrettyPrint ────────────── v0.2.0\n",
            "\u001b[32m\u001b[1m   Installed\u001b[22m\u001b[39m ContextVariablesX ──────── v0.1.3\n",
            "\u001b[32m\u001b[1m   Installed\u001b[22m\u001b[39m InitialValues ──────────── v0.3.1\n",
            "\u001b[32m\u001b[1m   Installed\u001b[22m\u001b[39m LearnAPI ───────────────── v0.1.0\n",
            "\u001b[32m\u001b[1m   Installed\u001b[22m\u001b[39m IterationControl ───────── v0.5.4\n",
            "\u001b[32m\u001b[1m   Installed\u001b[22m\u001b[39m MLCore ─────────────────── v1.0.0\n",
            "\u001b[32m\u001b[1m   Installed\u001b[22m\u001b[39m MLJIteration ───────────── v0.6.3\n",
            "\u001b[32m\u001b[1m   Installed\u001b[22m\u001b[39m MLUtils ────────────────── v0.4.7\n",
            "\u001b[32m\u001b[1m   Installed\u001b[22m\u001b[39m MLJFlow ────────────────── v0.5.0\n",
            "\u001b[32m\u001b[1m   Installed\u001b[22m\u001b[39m FLoopsBase ─────────────── v0.1.1\n",
            "\u001b[32m\u001b[1m   Installed\u001b[22m\u001b[39m StatisticalMeasures ────── v0.1.7\n",
            "\u001b[32m\u001b[1m   Installed\u001b[22m\u001b[39m MLJModels ──────────────── v0.17.8\n",
            "\u001b[32m\u001b[1m   Installed\u001b[22m\u001b[39m DefineSingletons ───────── v0.1.2\n",
            "\u001b[32m\u001b[1m   Installed\u001b[22m\u001b[39m MicroCollections ───────── v0.2.0\n",
            "\u001b[32m\u001b[1m   Installed\u001b[22m\u001b[39m PrettyPrinting ─────────── v0.4.2\n",
            "\u001b[32m\u001b[1m   Installed\u001b[22m\u001b[39m NameResolution ─────────── v0.1.5\n",
            "\u001b[32m\u001b[1m   Installed\u001b[22m\u001b[39m ComputationalResources ─── v0.3.2\n",
            "\u001b[32m\u001b[1m   Installed\u001b[22m\u001b[39m MLStyle ────────────────── v0.4.17\n",
            "\u001b[32m\u001b[1m   Installed\u001b[22m\u001b[39m MLJBase ────────────────── v1.7.0\n",
            "\u001b[32m\u001b[1m   Installed\u001b[22m\u001b[39m FeatureSelection ───────── v0.2.2\n",
            "\u001b[32m\u001b[1m   Installed\u001b[22m\u001b[39m CategoricalArrays ──────── v0.10.8\n",
            "\u001b[32m\u001b[1m   Installed\u001b[22m\u001b[39m FLoops ─────────────────── v0.2.2\n",
            "\u001b[32m\u001b[1m   Installed\u001b[22m\u001b[39m MLJ ────────────────────── v0.20.7\n",
            "\u001b[32m\u001b[1m   Installed\u001b[22m\u001b[39m Combinatorics ──────────── v1.0.2\n",
            "\u001b[32m\u001b[1m   Installed\u001b[22m\u001b[39m JuliaVariables ─────────── v0.2.4\n",
            "\u001b[32m\u001b[1m   Installed\u001b[22m\u001b[39m ScientificTypes ────────── v3.1.0\n",
            "\u001b[32m\u001b[1m   Installed\u001b[22m\u001b[39m BangBang ───────────────── v0.4.4\n",
            "\u001b[32m\u001b[1m   Installed\u001b[22m\u001b[39m StatisticalMeasuresBase ── v0.1.2\n",
            "\u001b[32m\u001b[1m   Installed\u001b[22m\u001b[39m ARFFFiles ──────────────── v1.5.0\n",
            "\u001b[32m\u001b[1m   Installed\u001b[22m\u001b[39m CompositionsBase ───────── v0.1.2\n",
            "\u001b[32m\u001b[1m   Installed\u001b[22m\u001b[39m MLJEnsembles ───────────── v0.4.3\n",
            "\u001b[32m\u001b[1m   Installed\u001b[22m\u001b[39m MLJBalancing ───────────── v0.1.5\n",
            "\u001b[32m\u001b[1m   Installed\u001b[22m\u001b[39m Baselet ────────────────── v0.1.1\n",
            "\u001b[32m\u001b[1m   Installed\u001b[22m\u001b[39m SplittablesBase ────────── v0.1.15\n",
            "\u001b[32m\u001b[1m   Installed\u001b[22m\u001b[39m MLJTuning ──────────────── v0.8.8\n",
            "\u001b[32m\u001b[1m   Installed\u001b[22m\u001b[39m MLFlowClient ───────────── v0.5.1\n",
            "\u001b[32m\u001b[1m   Installed\u001b[22m\u001b[39m LatinHypercubeSampling ─── v1.9.0\n",
            "\u001b[32m\u001b[1m   Installed\u001b[22m\u001b[39m OpenML ─────────────────── v0.3.2\n",
            "\u001b[32m\u001b[1m   Installed\u001b[22m\u001b[39m Transducers ────────────── v0.4.84\n",
            "\u001b[32m\u001b[1m    Updating\u001b[22m\u001b[39m `~/.julia/environments/v1.10/Project.toml`\n",
            "  \u001b[90m[add582a8] \u001b[39m\u001b[92m+ MLJ v0.20.7\u001b[39m\n",
            "\u001b[32m\u001b[1m    Updating\u001b[22m\u001b[39m `~/.julia/environments/v1.10/Manifest.toml`\n",
            "  \u001b[90m[da404889] \u001b[39m\u001b[92m+ ARFFFiles v1.5.0\u001b[39m\n",
            "  \u001b[90m[7d9f7c33] \u001b[39m\u001b[92m+ Accessors v0.1.42\u001b[39m\n",
            "  \u001b[90m[198e06fe] \u001b[39m\u001b[92m+ BangBang v0.4.4\u001b[39m\n",
            "  \u001b[90m[9718e550] \u001b[39m\u001b[92m+ Baselet v0.1.1\u001b[39m\n",
            "  \u001b[90m[324d7699] \u001b[39m\u001b[92m+ CategoricalArrays v0.10.8\u001b[39m\n",
            "  \u001b[90m[af321ab8] \u001b[39m\u001b[92m+ CategoricalDistributions v0.1.15\u001b[39m\n",
            "  \u001b[90m[861a8166] \u001b[39m\u001b[92m+ Combinatorics v1.0.2\u001b[39m\n",
            "  \u001b[90m[a33af91c] \u001b[39m\u001b[92m+ CompositionsBase v0.1.2\u001b[39m\n",
            "  \u001b[90m[ed09eef8] \u001b[39m\u001b[92m+ ComputationalResources v0.3.2\u001b[39m\n",
            "  \u001b[90m[6add18c4] \u001b[39m\u001b[92m+ ContextVariablesX v0.1.3\u001b[39m\n",
            "  \u001b[90m[244e2a9f] \u001b[39m\u001b[92m+ DefineSingletons v0.1.2\u001b[39m\n",
            "  \u001b[90m[792122b4] \u001b[39m\u001b[92m+ EarlyStopping v0.3.0\u001b[39m\n",
            "  \u001b[90m[cc61a311] \u001b[39m\u001b[92m+ FLoops v0.2.2\u001b[39m\n",
            "  \u001b[90m[b9860ae5] \u001b[39m\u001b[92m+ FLoopsBase v0.1.1\u001b[39m\n",
            "  \u001b[90m[33837fe5] \u001b[39m\u001b[92m+ FeatureSelection v0.2.2\u001b[39m\n",
            "  \u001b[90m[22cec73e] \u001b[39m\u001b[92m+ InitialValues v0.3.1\u001b[39m\n",
            "  \u001b[90m[b3c1a2ee] \u001b[39m\u001b[92m+ IterationControl v0.5.4\u001b[39m\n",
            "  \u001b[90m[b14d175d] \u001b[39m\u001b[92m+ JuliaVariables v0.2.4\u001b[39m\n",
            "  \u001b[90m[a5e1c1ea] \u001b[39m\u001b[92m+ LatinHypercubeSampling v1.9.0\u001b[39m\n",
            "\u001b[33m⌅\u001b[39m \u001b[90m[92ad9a40] \u001b[39m\u001b[92m+ LearnAPI v0.1.0\u001b[39m\n",
            "  \u001b[90m[c2834f40] \u001b[39m\u001b[92m+ MLCore v1.0.0\u001b[39m\n",
            "\u001b[33m⌅\u001b[39m \u001b[90m[64a0f543] \u001b[39m\u001b[92m+ MLFlowClient v0.5.1\u001b[39m\n",
            "  \u001b[90m[add582a8] \u001b[39m\u001b[92m+ MLJ v0.20.7\u001b[39m\n",
            "  \u001b[90m[45f359ea] \u001b[39m\u001b[92m+ MLJBalancing v0.1.5\u001b[39m\n",
            "  \u001b[90m[a7f614a8] \u001b[39m\u001b[92m+ MLJBase v1.7.0\u001b[39m\n",
            "  \u001b[90m[50ed68f4] \u001b[39m\u001b[92m+ MLJEnsembles v0.4.3\u001b[39m\n",
            "  \u001b[90m[7b7b8358] \u001b[39m\u001b[92m+ MLJFlow v0.5.0\u001b[39m\n",
            "  \u001b[90m[614be32b] \u001b[39m\u001b[92m+ MLJIteration v0.6.3\u001b[39m\n",
            "  \u001b[90m[d491faf4] \u001b[39m\u001b[92m+ MLJModels v0.17.8\u001b[39m\n",
            "  \u001b[90m[03970b2e] \u001b[39m\u001b[92m+ MLJTuning v0.8.8\u001b[39m\n",
            "  \u001b[90m[d8e11817] \u001b[39m\u001b[92m+ MLStyle v0.4.17\u001b[39m\n",
            "  \u001b[90m[f1d291b0] \u001b[39m\u001b[92m+ MLUtils v0.4.7\u001b[39m\n",
            "  \u001b[90m[128add7d] \u001b[39m\u001b[92m+ MicroCollections v0.2.0\u001b[39m\n",
            "  \u001b[90m[71a1bf82] \u001b[39m\u001b[92m+ NameResolution v0.1.5\u001b[39m\n",
            "  \u001b[90m[8b6db2d4] \u001b[39m\u001b[92m+ OpenML v0.3.2\u001b[39m\n",
            "  \u001b[90m[8162dcfd] \u001b[39m\u001b[92m+ PrettyPrint v0.2.0\u001b[39m\n",
            "  \u001b[90m[54e16d92] \u001b[39m\u001b[92m+ PrettyPrinting v0.4.2\u001b[39m\n",
            "  \u001b[90m[321657f4] \u001b[39m\u001b[92m+ ScientificTypes v3.1.0\u001b[39m\n",
            "  \u001b[90m[605ecd9f] \u001b[39m\u001b[92m+ ShowCases v0.1.0\u001b[39m\n",
            "  \u001b[90m[171d559e] \u001b[39m\u001b[92m+ SplittablesBase v0.1.15\u001b[39m\n",
            "\u001b[33m⌅\u001b[39m \u001b[90m[a19d573c] \u001b[39m\u001b[92m+ StatisticalMeasures v0.1.7\u001b[39m\n",
            "  \u001b[90m[c062fc1d] \u001b[39m\u001b[92m+ StatisticalMeasuresBase v0.1.2\u001b[39m\n",
            "  \u001b[90m[28d57a85] \u001b[39m\u001b[92m+ Transducers v0.4.84\u001b[39m\n",
            "\u001b[36m\u001b[1m        Info\u001b[22m\u001b[39m Packages marked with \u001b[33m⌅\u001b[39m have new versions available but compatibility constraints restrict them from upgrading. To see why use `status --outdated -m`\n",
            "\u001b[32m\u001b[1mPrecompiling\u001b[22m\u001b[39m packages...\n",
            "   2570.1 ms\u001b[32m  ✓ \u001b[39m\u001b[90mContextVariablesX\u001b[39m\n",
            "   3782.4 ms\u001b[32m  ✓ \u001b[39m\u001b[90mInitialValues\u001b[39m\n",
            "   1133.6 ms\u001b[32m  ✓ \u001b[39m\u001b[90mPrettyPrint\u001b[39m\n",
            "   1200.7 ms\u001b[32m  ✓ \u001b[39m\u001b[90mDefineSingletons\u001b[39m\n",
            "   2288.5 ms\u001b[32m  ✓ \u001b[39m\u001b[90mCombinatorics\u001b[39m\n",
            "   1500.7 ms\u001b[32m  ✓ \u001b[39m\u001b[90mShowCases\u001b[39m\n",
            "   1291.5 ms\u001b[32m  ✓ \u001b[39m\u001b[90mCompositionsBase\u001b[39m\n",
            "   1800.4 ms\u001b[32m  ✓ \u001b[39m\u001b[90mComputationalResources\u001b[39m\n",
            "   3999.2 ms\u001b[32m  ✓ \u001b[39m\u001b[90mBaselet\u001b[39m\n",
            "  14717.6 ms\u001b[32m  ✓ \u001b[39m\u001b[90mPrettyPrinting\u001b[39m\n",
            "   2773.6 ms\u001b[32m  ✓ \u001b[39m\u001b[90mMLCore\u001b[39m\n",
            "   4012.0 ms\u001b[32m  ✓ \u001b[39m\u001b[90mCategoricalArrays\u001b[39m\n",
            "   1849.0 ms\u001b[32m  ✓ \u001b[39m\u001b[90mFeatureSelection\u001b[39m\n",
            "   2362.1 ms\u001b[32m  ✓ \u001b[39m\u001b[90mSplittablesBase\u001b[39m\n",
            "   2055.8 ms\u001b[32m  ✓ \u001b[39m\u001b[90mEarlyStopping\u001b[39m\n",
            "   3843.4 ms\u001b[32m  ✓ \u001b[39m\u001b[90mLearnAPI\u001b[39m\n",
            "   1317.9 ms\u001b[32m  ✓ \u001b[39m\u001b[90mFLoopsBase\u001b[39m\n",
            "   2138.4 ms\u001b[32m  ✓ \u001b[39m\u001b[90mLatinHypercubeSampling\u001b[39m\n",
            "   1194.7 ms\u001b[32m  ✓ \u001b[39m\u001b[90mNameResolution\u001b[39m\n",
            "   1785.8 ms\u001b[32m  ✓ \u001b[39m\u001b[90mCompositionsBase → CompositionsBaseInverseFunctionsExt\u001b[39m\n",
            "   3928.6 ms\u001b[32m  ✓ \u001b[39m\u001b[90mMLFlowClient\u001b[39m\n",
            "   2589.4 ms\u001b[32m  ✓ \u001b[39m\u001b[90mCategoricalArrays → CategoricalArraysJSONExt\u001b[39m\n",
            "   3022.5 ms\u001b[32m  ✓ \u001b[39m\u001b[90mARFFFiles\u001b[39m\n",
            "   2152.9 ms\u001b[32m  ✓ \u001b[39m\u001b[90mCategoricalArrays → CategoricalArraysRecipesBaseExt\u001b[39m\n",
            "   1816.7 ms\u001b[32m  ✓ \u001b[39m\u001b[90mCategoricalArrays → CategoricalArraysSentinelArraysExt\u001b[39m\n",
            "   4597.8 ms\u001b[32m  ✓ \u001b[39m\u001b[90mScientificTypes\u001b[39m\n",
            "   3426.7 ms\u001b[32m  ✓ \u001b[39m\u001b[90mIterationControl\u001b[39m\n",
            "   5891.0 ms\u001b[32m  ✓ \u001b[39m\u001b[90mOpenML\u001b[39m\n",
            "   8355.9 ms\u001b[32m  ✓ \u001b[39m\u001b[90mAccessors\u001b[39m\n",
            "   1681.6 ms\u001b[32m  ✓ \u001b[39m\u001b[90mAccessors → LinearAlgebraExt\u001b[39m\n",
            "   4538.7 ms\u001b[32m  ✓ \u001b[39m\u001b[90mCategoricalDistributions\u001b[39m\n",
            "   1678.0 ms\u001b[32m  ✓ \u001b[39m\u001b[90mAccessors → TestExt\u001b[39m\n",
            "   1449.0 ms\u001b[32m  ✓ \u001b[39m\u001b[90mAccessors → StructArraysExt\u001b[39m\n",
            "   2320.7 ms\u001b[32m  ✓ \u001b[39m\u001b[90mAccessors → StaticArraysExt\u001b[39m\n",
            "   1569.1 ms\u001b[32m  ✓ \u001b[39m\u001b[90mAccessors → IntervalSetsExt\u001b[39m\n",
            "   2696.1 ms\u001b[32m  ✓ \u001b[39m\u001b[90mBangBang\u001b[39m\n",
            "   3413.5 ms\u001b[32m  ✓ \u001b[39m\u001b[90mAccessors → UnitfulExt\u001b[39m\n",
            "   2542.0 ms\u001b[32m  ✓ \u001b[39m\u001b[90mBangBang → BangBangStaticArraysExt\u001b[39m\n",
            "   1434.7 ms\u001b[32m  ✓ \u001b[39m\u001b[90mBangBang → BangBangChainRulesCoreExt\u001b[39m\n",
            "   1352.6 ms\u001b[32m  ✓ \u001b[39m\u001b[90mBangBang → BangBangTablesExt\u001b[39m\n",
            "   1921.3 ms\u001b[32m  ✓ \u001b[39m\u001b[90mMicroCollections\u001b[39m\n",
            "   6554.6 ms\u001b[32m  ✓ \u001b[39m\u001b[90mBangBang → BangBangDataFramesExt\u001b[39m\n",
            "  20076.3 ms\u001b[32m  ✓ \u001b[39m\u001b[90mMLJModels\u001b[39m\n",
            "   5978.9 ms\u001b[32m  ✓ \u001b[39m\u001b[90mTransducers\u001b[39m\n",
            "   1969.5 ms\u001b[32m  ✓ \u001b[39m\u001b[90mTransducers → TransducersAdaptExt\u001b[39m\n",
            "   4475.5 ms\u001b[32m  ✓ \u001b[39m\u001b[90mTransducers → TransducersDataFramesExt\u001b[39m\n",
            "  75690.6 ms\u001b[32m  ✓ \u001b[39m\u001b[90mMLStyle\u001b[39m\n",
            "   3248.1 ms\u001b[32m  ✓ \u001b[39m\u001b[90mJuliaVariables\u001b[39m\n",
            "   4374.1 ms\u001b[32m  ✓ \u001b[39m\u001b[90mFLoops\u001b[39m\n",
            "   8030.3 ms\u001b[32m  ✓ \u001b[39m\u001b[90mMLUtils\u001b[39m\n",
            "   3107.4 ms\u001b[32m  ✓ \u001b[39m\u001b[90mMLDataDevices → MLDataDevicesMLUtilsExt\u001b[39m\n",
            "   7995.5 ms\u001b[32m  ✓ \u001b[39mLux → LuxMLUtilsExt\n",
            "  15552.0 ms\u001b[32m  ✓ \u001b[39m\u001b[90mStatisticalMeasuresBase\u001b[39m\n",
            "  10073.4 ms\u001b[32m  ✓ \u001b[39m\u001b[90mMLJEnsembles\u001b[39m\n",
            "  14101.6 ms\u001b[32m  ✓ \u001b[39m\u001b[90mMLJBase\u001b[39m\n",
            "   9661.0 ms\u001b[32m  ✓ \u001b[39m\u001b[90mMLJTuning\u001b[39m\n",
            "   9978.9 ms\u001b[32m  ✓ \u001b[39m\u001b[90mMLJBalancing\u001b[39m\n",
            "   8343.1 ms\u001b[32m  ✓ \u001b[39m\u001b[90mMLJFlow\u001b[39m\n",
            "  10905.0 ms\u001b[32m  ✓ \u001b[39m\u001b[90mMLJIteration\u001b[39m\n",
            "  47711.5 ms\u001b[32m  ✓ \u001b[39m\u001b[90mStatisticalMeasures\u001b[39m\n",
            "   3152.7 ms\u001b[32m  ✓ \u001b[39m\u001b[90mStatisticalMeasures → ScientificTypesExt\u001b[39m\n",
            "   3388.2 ms\u001b[32m  ✓ \u001b[39m\u001b[90mMLJBase → DefaultMeasuresExt\u001b[39m\n",
            "   5040.1 ms\u001b[32m  ✓ \u001b[39mMLJ\n",
            "  63 dependencies successfully precompiled in 172 seconds. 464 already precompiled.\n"
          ]
        }
      ]
    },
    {
      "cell_type": "markdown",
      "source": [
        "Let's add linear regression and related models to the MLJ machine learning library."
      ],
      "metadata": {
        "id": "db_0Ovnm2OaA"
      }
    },
    {
      "cell_type": "code",
      "source": [
        "Pkg.add(\"MLJLinearModels\")\n",
        "using MLJLinearModels\n"
      ],
      "metadata": {
        "colab": {
          "base_uri": "https://localhost:8080/"
        },
        "id": "YGsS8lppwzIP",
        "outputId": "fd380c91-a6fe-4aba-ef3e-dea3dc579227"
      },
      "execution_count": null,
      "outputs": [
        {
          "output_type": "stream",
          "name": "stderr",
          "text": [
            "\u001b[32m\u001b[1m   Resolving\u001b[22m\u001b[39m package versions...\n",
            "\u001b[32m\u001b[1m  No Changes\u001b[22m\u001b[39m to `~/.julia/environments/v1.10/Project.toml`\n",
            "\u001b[32m\u001b[1m  No Changes\u001b[22m\u001b[39m to `~/.julia/environments/v1.10/Manifest.toml`\n"
          ]
        }
      ]
    },
    {
      "cell_type": "markdown",
      "source": [
        "Let's add tools for managing labels in machine learning."
      ],
      "metadata": {
        "id": "4FYCPaar2VJT"
      }
    },
    {
      "cell_type": "code",
      "source": [
        "Pkg.add(\"MLLabelUtils\")\n",
        "using MLLabelUtils"
      ],
      "metadata": {
        "colab": {
          "base_uri": "https://localhost:8080/"
        },
        "collapsed": true,
        "id": "v5k8Y9lWy9-V",
        "outputId": "85c7d0cb-829c-45d9-dc13-b6768b9f18a9"
      },
      "execution_count": null,
      "outputs": [
        {
          "output_type": "stream",
          "name": "stderr",
          "text": [
            "\u001b[32m\u001b[1m   Resolving\u001b[22m\u001b[39m package versions...\n",
            "\u001b[32m\u001b[1m   Installed\u001b[22m\u001b[39m Adapt ─────────────────── v4.3.0\n",
            "\u001b[32m\u001b[1m   Installed\u001b[22m\u001b[39m LuxLib ────────────────── v1.6.2\n",
            "\u001b[32m\u001b[1m   Installed\u001b[22m\u001b[39m StatsBase ─────────────── v0.33.21\n",
            "\u001b[32m\u001b[1m   Installed\u001b[22m\u001b[39m Reactant_jll ──────────── v0.0.87+0\n",
            "\u001b[32m\u001b[1m   Installed\u001b[22m\u001b[39m MLJModels ─────────────── v0.16.17\n",
            "\u001b[32m\u001b[1m   Installed\u001b[22m\u001b[39m MLJFlow ───────────────── v0.2.0\n",
            "\u001b[32m\u001b[1m   Installed\u001b[22m\u001b[39m HypergeometricFunctions ─ v0.3.28\n",
            "\u001b[32m\u001b[1m   Installed\u001b[22m\u001b[39m IntervalArithmetic ────── v0.22.25\n",
            "\u001b[32m\u001b[1m   Installed\u001b[22m\u001b[39m MLFlowClient ──────────── v0.4.7\n",
            "\u001b[32m\u001b[1m   Installed\u001b[22m\u001b[39m Reactant ──────────────── v0.2.41\n",
            "\u001b[32m\u001b[1m   Installed\u001b[22m\u001b[39m LearnBase ─────────────── v0.6.1\n",
            "\u001b[32m\u001b[1m   Installed\u001b[22m\u001b[39m MLLabelUtils ──────────── v0.5.7\n",
            "\u001b[32m\u001b[1m   Installed\u001b[22m\u001b[39m MLJ ───────────────────── v0.20.0\n",
            "\u001b[32m\u001b[1m    Updating\u001b[22m\u001b[39m `~/.julia/environments/v1.10/Project.toml`\n",
            "  \u001b[90m[79e6a3ab] \u001b[39m\u001b[93m↑ Adapt v4.2.0 ⇒ v4.3.0\u001b[39m\n",
            "\u001b[32m⌃\u001b[39m \u001b[90m[add582a8] \u001b[39m\u001b[95m↓ MLJ v0.20.7 ⇒ v0.20.0\u001b[39m\n",
            "  \u001b[90m[66a33bbf] \u001b[39m\u001b[92m+ MLLabelUtils v0.5.7\u001b[39m\n",
            "  \u001b[90m[3c362404] \u001b[39m\u001b[93m↑ Reactant v0.2.40 ⇒ v0.2.41\u001b[39m\n",
            "\u001b[32m\u001b[1m    Updating\u001b[22m\u001b[39m `~/.julia/environments/v1.10/Manifest.toml`\n",
            "  \u001b[90m[79e6a3ab] \u001b[39m\u001b[93m↑ Adapt v4.2.0 ⇒ v4.3.0\u001b[39m\n",
            "  \u001b[90m[33837fe5] \u001b[39m\u001b[91m- FeatureSelection v0.2.2\u001b[39m\n",
            "  \u001b[90m[0e44f5e4] \u001b[39m\u001b[91m- Hwloc v3.3.0\u001b[39m\n",
            "  \u001b[90m[34004b35] \u001b[39m\u001b[93m↑ HypergeometricFunctions v0.3.27 ⇒ v0.3.28\u001b[39m\n",
            "  \u001b[90m[d1acc4aa] \u001b[39m\u001b[93m↑ IntervalArithmetic v0.22.24 ⇒ v0.22.25\u001b[39m\n",
            "  \u001b[90m[7f8f8fb0] \u001b[39m\u001b[92m+ LearnBase v0.6.1\u001b[39m\n",
            "  \u001b[90m[82251201] \u001b[39m\u001b[93m↑ LuxLib v1.6.1 ⇒ v1.6.2\u001b[39m\n",
            "\u001b[33m⌅\u001b[39m \u001b[90m[64a0f543] \u001b[39m\u001b[95m↓ MLFlowClient v0.5.1 ⇒ v0.4.7\u001b[39m\n",
            "\u001b[32m⌃\u001b[39m \u001b[90m[add582a8] \u001b[39m\u001b[95m↓ MLJ v0.20.7 ⇒ v0.20.0\u001b[39m\n",
            "  \u001b[90m[45f359ea] \u001b[39m\u001b[91m- MLJBalancing v0.1.5\u001b[39m\n",
            "\u001b[33m⌅\u001b[39m \u001b[90m[7b7b8358] \u001b[39m\u001b[95m↓ MLJFlow v0.5.0 ⇒ v0.2.0\u001b[39m\n",
            "\u001b[33m⌅\u001b[39m \u001b[90m[d491faf4] \u001b[39m\u001b[95m↓ MLJModels v0.17.8 ⇒ v0.16.17\u001b[39m\n",
            "  \u001b[90m[66a33bbf] \u001b[39m\u001b[92m+ MLLabelUtils v0.5.7\u001b[39m\n",
            "  \u001b[90m[3c362404] \u001b[39m\u001b[93m↑ Reactant v0.2.40 ⇒ v0.2.41\u001b[39m\n",
            "\u001b[33m⌅\u001b[39m \u001b[90m[2913bbd2] \u001b[39m\u001b[95m↓ StatsBase v0.34.4 ⇒ v0.33.21\u001b[39m\n",
            "  \u001b[90m[e33a78d0] \u001b[39m\u001b[91m- Hwloc_jll v2.12.0+0\u001b[39m\n",
            "\u001b[33m⌅\u001b[39m \u001b[90m[0192cb87] \u001b[39m\u001b[93m↑ Reactant_jll v0.0.85+0 ⇒ v0.0.87+0\u001b[39m\n",
            "\u001b[36m\u001b[1m        Info\u001b[22m\u001b[39m Packages marked with \u001b[32m⌃\u001b[39m and \u001b[33m⌅\u001b[39m have new versions available. Those with \u001b[32m⌃\u001b[39m may be upgradable, but those with \u001b[33m⌅\u001b[39m are restricted by compatibility constraints from upgrading. To see why use `status --outdated -m`\n",
            "\u001b[32m\u001b[1mPrecompiling\u001b[22m\u001b[39m packages...\n",
            "   1524.2 ms\u001b[32m  ✓ \u001b[39m\u001b[90mLearnBase\u001b[39m\n",
            "   1609.5 ms\u001b[33m  ✓ \u001b[39mAdapt\n",
            "   4865.7 ms\u001b[32m  ✓ \u001b[39m\u001b[90mReactant_jll\u001b[39m\n",
            "   6812.7 ms\u001b[33m  ✓ \u001b[39m\u001b[90mStatsBase\u001b[39m\n",
            "   2795.7 ms\u001b[33m  ✓ \u001b[39m\u001b[90mHypergeometricFunctions\u001b[39m\n",
            "   2475.4 ms\u001b[33m  ✓ \u001b[39m\u001b[90mMLFlowClient\u001b[39m\n",
            "   8855.0 ms\u001b[32m  ✓ \u001b[39m\u001b[90mIntervalArithmetic\u001b[39m\n",
            "   1537.1 ms\u001b[33m  ✓ \u001b[39mAdapt → AdaptSparseArraysExt\n",
            "   2037.6 ms\u001b[33m  ✓ \u001b[39mAdapt → AdaptStaticArraysExt\n",
            "   1275.6 ms\u001b[32m  ✓ \u001b[39m\u001b[90mIntervalArithmetic → IntervalArithmeticDiffRulesExt\u001b[39m\n",
            "   2700.7 ms\u001b[32m  ✓ \u001b[39mMLLabelUtils\n",
            "   1402.0 ms\u001b[32m  ✓ \u001b[39m\u001b[90mIntervalArithmetic → IntervalArithmeticIntervalSetsExt\u001b[39m\n",
            "   1377.5 ms\u001b[32m  ✓ \u001b[39m\u001b[90mIntervalArithmetic → IntervalArithmeticRecipesBaseExt\u001b[39m\n",
            "  14327.5 ms\u001b[32m  ✓ \u001b[39m\u001b[90mExactPredicates\u001b[39m\n",
            "  55608.0 ms\u001b[33m  ✓ \u001b[39m\u001b[90mMLJModels\u001b[39m\n",
            "  70785.0 ms\u001b[32m  ✓ \u001b[39m\u001b[90mLuxLib\u001b[39m\n",
            "  13946.7 ms\u001b[32m  ✓ \u001b[39m\u001b[90mDelaunayTriangulation\u001b[39m\n",
            "   3890.1 ms\u001b[32m  ✓ \u001b[39m\u001b[90mLuxLib → LuxLibEnzymeExt\u001b[39m\n",
            "  84745.4 ms\u001b[33m  ✓ \u001b[39m\u001b[90mMLJFlow\u001b[39m\n",
            "  39471.4 ms\u001b[32m  ✓ \u001b[39mLux\n",
            " 252255.8 ms\u001b[32m  ✓ \u001b[39mReactant\n",
            "  11716.3 ms\u001b[32m  ✓ \u001b[39mLux → LuxMLUtilsExt\n",
            " 128089.0 ms\u001b[33m  ✓ \u001b[39mMLJ\n",
            "   8173.9 ms\u001b[32m  ✓ \u001b[39mLux → LuxEnzymeExt\n",
            "   9800.7 ms\u001b[32m  ✓ \u001b[39mReactant → ReactantStatisticsExt\n",
            "  10412.0 ms\u001b[32m  ✓ \u001b[39mReactant → ReactantSpecialFunctionsExt\n",
            "   8462.9 ms\u001b[32m  ✓ \u001b[39mReactant → ReactantAbstractFFTsExt\n",
            "  11533.6 ms\u001b[32m  ✓ \u001b[39mReactant → ReactantKernelAbstractionsExt\n",
            "   9718.0 ms\u001b[32m  ✓ \u001b[39mReactant → ReactantArrayInterfaceExt\n",
            "  56656.1 ms\u001b[32m  ✓ \u001b[39mReactant → ReactantOffsetArraysExt\n",
            "  10364.8 ms\u001b[32m  ✓ \u001b[39m\u001b[90mLuxCore → LuxCoreReactantExt\u001b[39m\n",
            "   8946.9 ms\u001b[32m  ✓ \u001b[39m\u001b[90mMLDataDevices → MLDataDevicesReactantExt\u001b[39m\n",
            "   9376.5 ms\u001b[32m  ✓ \u001b[39m\u001b[90mWeightInitializers → WeightInitializersReactantExt\u001b[39m\n",
            "  37432.0 ms\u001b[32m  ✓ \u001b[39mReactant → ReactantNNlibExt\n",
            "   8413.5 ms\u001b[32m  ✓ \u001b[39m\u001b[90mLuxLib → LuxLibReactantExt\u001b[39m\n",
            "  12579.4 ms\u001b[32m  ✓ \u001b[39mLux → LuxReactantExt\n",
            " 396053.7 ms\u001b[32m  ✓ \u001b[39mMakie\n",
            "  37 dependencies successfully precompiled in 548 seconds. 489 already precompiled.\n",
            "  \u001b[33m9\u001b[39m dependencies precompiled but different versions are currently loaded. Restart julia to access the new versions\n",
            "\u001b[36m\u001b[1m[ \u001b[22m\u001b[39m\u001b[36m\u001b[1mInfo: \u001b[22m\u001b[39mPrecompiling MLLabelUtils [66a33bbf-0c2b-5fc8-a008-9da813334f0a]\n",
            "\u001b[33m\u001b[1m┌ \u001b[22m\u001b[39m\u001b[33m\u001b[1mWarning: \u001b[22m\u001b[39mModule StatsBase with build ID fafbfcfd-2bad-b0ff-0000-00d1340dc51c is missing from the cache.\n",
            "\u001b[33m\u001b[1m│ \u001b[22m\u001b[39mThis may mean StatsBase [2913bbd2-ae8a-5f71-8c99-4fb6c76f3a91] does not support precompilation but is imported by a module that does.\n",
            "\u001b[33m\u001b[1m└ \u001b[22m\u001b[39m\u001b[90m@ Base loading.jl:2018\u001b[39m\n",
            "\u001b[36m\u001b[1m[ \u001b[22m\u001b[39m\u001b[36m\u001b[1mInfo: \u001b[22m\u001b[39mSkipping precompilation since __precompile__(false). Importing MLLabelUtils [66a33bbf-0c2b-5fc8-a008-9da813334f0a].\n"
          ]
        }
      ]
    },
    {
      "cell_type": "markdown",
      "source": [
        "Let's add decision tree machine learning algorithms to Julia."
      ],
      "metadata": {
        "id": "o5sQzThk2clI"
      }
    },
    {
      "cell_type": "code",
      "source": [
        "Pkg.add(\"DecisionTree\")\n",
        "using DecisionTree"
      ],
      "metadata": {
        "colab": {
          "base_uri": "https://localhost:8080/"
        },
        "collapsed": true,
        "id": "SzF7s13Jv04z",
        "outputId": "01f85314-a5fb-4be0-e8a4-1edefafec6d7"
      },
      "execution_count": null,
      "outputs": [
        {
          "output_type": "stream",
          "name": "stderr",
          "text": [
            "\u001b[32m\u001b[1m   Resolving\u001b[22m\u001b[39m package versions...\n",
            "\u001b[32m\u001b[1m   Installed\u001b[22m\u001b[39m DecisionTree ──── v0.12.4\n",
            "\u001b[32m\u001b[1m   Installed\u001b[22m\u001b[39m ScikitLearnBase ─ v0.5.0\n",
            "\u001b[32m\u001b[1m    Updating\u001b[22m\u001b[39m `~/.julia/environments/v1.10/Project.toml`\n",
            "  \u001b[90m[7806a523] \u001b[39m\u001b[92m+ DecisionTree v0.12.4\u001b[39m\n",
            "\u001b[32m\u001b[1m    Updating\u001b[22m\u001b[39m `~/.julia/environments/v1.10/Manifest.toml`\n",
            "  \u001b[90m[7806a523] \u001b[39m\u001b[92m+ DecisionTree v0.12.4\u001b[39m\n",
            "  \u001b[90m[6e75b9c4] \u001b[39m\u001b[92m+ ScikitLearnBase v0.5.0\u001b[39m\n",
            "\u001b[32m\u001b[1mPrecompiling\u001b[22m\u001b[39m packages...\n",
            "   1501.6 ms\u001b[32m  ✓ \u001b[39m\u001b[90mScikitLearnBase\u001b[39m\n",
            "   1505.1 ms\u001b[32m  ✓ \u001b[39mDecisionTree\n",
            "  2 dependencies successfully precompiled in 4 seconds. 527 already precompiled.\n"
          ]
        }
      ]
    },
    {
      "cell_type": "markdown",
      "source": [
        "Let's load the dataset etInsurance data: claim status (0 or 1), policy duration, and premium paid."
      ],
      "metadata": {
        "id": "91oN5jH42inC"
      }
    },
    {
      "cell_type": "code",
      "source": [
        ";wget https://raw.githubusercontent.com/lcbjrrr/quantai/refs/heads/main/datasets/claims_classif.csv"
      ],
      "metadata": {
        "colab": {
          "base_uri": "https://localhost:8080/"
        },
        "id": "60DIrYAttqIe",
        "outputId": "98ca17cd-9db1-4e5b-b030-445896fe4cd4"
      },
      "execution_count": null,
      "outputs": [
        {
          "output_type": "stream",
          "name": "stderr",
          "text": [
            "--2025-03-14 22:12:38--  https://raw.githubusercontent.com/lcbjrrr/quantai/refs/heads/main/datasets/claims_classif.csv\n",
            "Resolving raw.githubusercontent.com (raw.githubusercontent.com)... 185.199.108.133, 185.199.109.133, 185.199.110.133, ...\n",
            "Connecting to raw.githubusercontent.com (raw.githubusercontent.com)|185.199.108.133|:443... connected.\n",
            "HTTP request sent, awaiting response... 200 OK\n",
            "Length: 118921 (116K) [text/plain]\n",
            "Saving to: ‘claims_classif.csv’\n",
            "\n",
            "     0K .......... .......... .......... .......... .......... 43% 3.92M 0s\n",
            "    50K .......... .......... .......... .......... .......... 86% 25.1M 0s\n",
            "   100K .......... ......                                     100%  157M=0.01s\n",
            "\n",
            "2025-03-14 22:12:39 (7.82 MB/s) - ‘claims_classif.csv’ saved [118921/118921]\n",
            "\n"
          ]
        }
      ]
    },
    {
      "cell_type": "markdown",
      "source": [
        "Let's convert the \"Claim\" column to ordered categorical labels."
      ],
      "metadata": {
        "id": "aatzKSwY2tKQ"
      }
    },
    {
      "cell_type": "code",
      "source": [
        "\n",
        "df=CSV.read(\"claims_classif.csv\", DataFrame)\n",
        "first(df,5)\n",
        "ind2label.(df[:,:Claim], labelenc(df[:,:Claim]))\n",
        "coerce!(df[:,[:Claim]], OrderedFactor)"
      ],
      "metadata": {
        "id": "6Q_A7c-Ytsfd",
        "colab": {
          "base_uri": "https://localhost:8080/",
          "height": 305
        },
        "outputId": "95c94c9f-16a0-4795-a942-30f51e73d262"
      },
      "execution_count": null,
      "outputs": [
        {
          "output_type": "error",
          "ename": "LoadError",
          "evalue": "ArgumentError: Invalid `specs` in `coerce(X, specs...;  kwargs...)`. Valid `specs` are: (i) one or more pairs of the form `column_name=>Scitype`; (ii) one or more pairs of the from `OldScitype=>NewScitype`; or (iii) a dictionary of scientific types keyed on column names. ",
          "traceback": [
            "ArgumentError: Invalid `specs` in `coerce(X, specs...;  kwargs...)`. Valid `specs` are: (i) one or more pairs of the form `column_name=>Scitype`; (ii) one or more pairs of the from `OldScitype=>NewScitype`; or (iii) a dictionary of scientific types keyed on column names. ",
            "",
            "Stacktrace:",
            " [1] _bad_specs()",
            "   @ ScientificTypes ~/.julia/packages/ScientificTypes/9VJww/src/coerce.jl:78",
            " [2] coerce!(::Val{:table}, X::DataFrame, specs::Type; kw::@Kwargs{})",
            "   @ ScientificTypes ~/.julia/packages/ScientificTypes/9VJww/src/coerce.jl:190",
            " [3] coerce!(X::DataFrame, a::Type; kw::@Kwargs{})",
            "   @ ScientificTypes ~/.julia/packages/ScientificTypes/9VJww/src/coerce.jl:181",
            " [4] coerce!(X::DataFrame, a::Type)",
            "   @ ScientificTypes ~/.julia/packages/ScientificTypes/9VJww/src/coerce.jl:180",
            " [5] top-level scope",
            "   @ In[50]:5"
          ]
        }
      ]
    },
    {
      "cell_type": "markdown",
      "source": [
        "Let's train a logistic regression model to predict claims from premium and policy duration."
      ],
      "metadata": {
        "id": "n-FZwEU623Eh"
      }
    },
    {
      "cell_type": "code",
      "source": [
        "logreg = LogisticClassifier()\n",
        "mach = machine(logreg, (df[:,[:Premium,:Policy_Duration]]), df[:,:Claim] )\n",
        "MLJ.fit!(mach, verbosity=0)"
      ],
      "metadata": {
        "colab": {
          "base_uri": "https://localhost:8080/",
          "height": 1000
        },
        "id": "El0nfX6RxvT6",
        "outputId": "a7595b30-dac6-4f30-c903-0cfef817ae38"
      },
      "execution_count": null,
      "outputs": [
        {
          "output_type": "stream",
          "name": "stderr",
          "text": [
            "\u001b[33m\u001b[1m┌ \u001b[22m\u001b[39m\u001b[33m\u001b[1mWarning: \u001b[22m\u001b[39mThe number and/or types of data arguments do not match what the specified model\n",
            "\u001b[33m\u001b[1m│ \u001b[22m\u001b[39msupports. Suppress this type check by specifying `scitype_check_level=0`.\n",
            "\u001b[33m\u001b[1m│ \u001b[22m\u001b[39m\n",
            "\u001b[33m\u001b[1m│ \u001b[22m\u001b[39mRun `@doc MLJLinearModels.LogisticClassifier` to learn more about your model's requirements.\n",
            "\u001b[33m\u001b[1m│ \u001b[22m\u001b[39m\n",
            "\u001b[33m\u001b[1m│ \u001b[22m\u001b[39mCommonly, but non exclusively, supervised models are constructed using the syntax\n",
            "\u001b[33m\u001b[1m│ \u001b[22m\u001b[39m`machine(model, X, y)` or `machine(model, X, y, w)` while most other models are\n",
            "\u001b[33m\u001b[1m│ \u001b[22m\u001b[39mconstructed with `machine(model, X)`.  Here `X` are features, `y` a target, and `w`\n",
            "\u001b[33m\u001b[1m│ \u001b[22m\u001b[39msample or class weights.\n",
            "\u001b[33m\u001b[1m│ \u001b[22m\u001b[39m\n",
            "\u001b[33m\u001b[1m│ \u001b[22m\u001b[39mIn general, data in `machine(model, data...)` is expected to satisfy\n",
            "\u001b[33m\u001b[1m│ \u001b[22m\u001b[39m\n",
            "\u001b[33m\u001b[1m│ \u001b[22m\u001b[39m    scitype(data) <: MLJ.fit_data_scitype(model)\n",
            "\u001b[33m\u001b[1m│ \u001b[22m\u001b[39m\n",
            "\u001b[33m\u001b[1m│ \u001b[22m\u001b[39mIn the present case:\n",
            "\u001b[33m\u001b[1m│ \u001b[22m\u001b[39m\n",
            "\u001b[33m\u001b[1m│ \u001b[22m\u001b[39mscitype(data) = Tuple{Table{Union{AbstractVector{Continuous}, AbstractVector{Count}}}, AbstractVector{Count}}\n",
            "\u001b[33m\u001b[1m│ \u001b[22m\u001b[39m\n",
            "\u001b[33m\u001b[1m│ \u001b[22m\u001b[39mfit_data_scitype(model) = Tuple{Table{<:AbstractVector{<:Continuous}}, AbstractVector{<:Finite}}\n",
            "\u001b[33m\u001b[1m└ \u001b[22m\u001b[39m\u001b[90m@ MLJBase ~/.julia/packages/MLJBase/7nGJF/src/machines.jl:237\u001b[39m\n",
            "\u001b[91m\u001b[1m┌ \u001b[22m\u001b[39m\u001b[91m\u001b[1mError: \u001b[22m\u001b[39mProblem fitting the machine machine(LogisticClassifier(lambda = 2.220446049250313e-16, …), …). \n",
            "\u001b[91m\u001b[1m└ \u001b[22m\u001b[39m\u001b[90m@ MLJBase ~/.julia/packages/MLJBase/7nGJF/src/machines.jl:694\u001b[39m\n",
            "\u001b[36m\u001b[1m[ \u001b[22m\u001b[39m\u001b[36m\u001b[1mInfo: \u001b[22m\u001b[39mRunning type checks... \n",
            "\u001b[33m\u001b[1m┌ \u001b[22m\u001b[39m\u001b[33m\u001b[1mWarning: \u001b[22m\u001b[39mThe number and/or types of data arguments do not match what the specified model\n",
            "\u001b[33m\u001b[1m│ \u001b[22m\u001b[39msupports. Suppress this type check by specifying `scitype_check_level=0`.\n",
            "\u001b[33m\u001b[1m│ \u001b[22m\u001b[39m\n",
            "\u001b[33m\u001b[1m│ \u001b[22m\u001b[39mRun `@doc MLJLinearModels.LogisticClassifier` to learn more about your model's requirements.\n",
            "\u001b[33m\u001b[1m│ \u001b[22m\u001b[39m\n",
            "\u001b[33m\u001b[1m│ \u001b[22m\u001b[39mCommonly, but non exclusively, supervised models are constructed using the syntax\n",
            "\u001b[33m\u001b[1m│ \u001b[22m\u001b[39m`machine(model, X, y)` or `machine(model, X, y, w)` while most other models are\n",
            "\u001b[33m\u001b[1m│ \u001b[22m\u001b[39mconstructed with `machine(model, X)`.  Here `X` are features, `y` a target, and `w`\n",
            "\u001b[33m\u001b[1m│ \u001b[22m\u001b[39msample or class weights.\n",
            "\u001b[33m\u001b[1m│ \u001b[22m\u001b[39m\n",
            "\u001b[33m\u001b[1m│ \u001b[22m\u001b[39mIn general, data in `machine(model, data...)` is expected to satisfy\n",
            "\u001b[33m\u001b[1m│ \u001b[22m\u001b[39m\n",
            "\u001b[33m\u001b[1m│ \u001b[22m\u001b[39m    scitype(data) <: MLJ.fit_data_scitype(model)\n",
            "\u001b[33m\u001b[1m│ \u001b[22m\u001b[39m\n",
            "\u001b[33m\u001b[1m│ \u001b[22m\u001b[39mIn the present case:\n",
            "\u001b[33m\u001b[1m│ \u001b[22m\u001b[39m\n",
            "\u001b[33m\u001b[1m│ \u001b[22m\u001b[39mscitype(data) = Tuple{Table{Union{AbstractVector{Continuous}, AbstractVector{Count}}}, AbstractVector{Count}}\n",
            "\u001b[33m\u001b[1m│ \u001b[22m\u001b[39m\n",
            "\u001b[33m\u001b[1m│ \u001b[22m\u001b[39mfit_data_scitype(model) = Tuple{Table{<:AbstractVector{<:Continuous}}, AbstractVector{<:Finite}}\n",
            "\u001b[33m\u001b[1m└ \u001b[22m\u001b[39m\u001b[90m@ MLJBase ~/.julia/packages/MLJBase/7nGJF/src/machines.jl:237\u001b[39m\n",
            "\u001b[36m\u001b[1m[ \u001b[22m\u001b[39m\u001b[36m\u001b[1mInfo: \u001b[22m\u001b[39mIt seems an upstream node in a learning network is providing data of incompatible scitype. See above. \n"
          ]
        },
        {
          "output_type": "error",
          "ename": "LoadError",
          "evalue": "DomainError with 0:\nCan only convert categorical elements to integers. ",
          "traceback": [
            "DomainError with 0:\nCan only convert categorical elements to integers. ",
            "",
            "Stacktrace:",
            "  [1] int(x::Int64)",
            "    @ CategoricalDistributions ~/.julia/packages/CategoricalDistributions/g0UnN/src/utilities.jl:93",
            "  [2] _broadcast_getindex_evalf",
            "    @ ./broadcast.jl:709 [inlined]",
            "  [3] _broadcast_getindex",
            "    @ ./broadcast.jl:682 [inlined]",
            "  [4] getindex",
            "    @ ./broadcast.jl:636 [inlined]",
            "  [5] copy",
            "    @ ./broadcast.jl:942 [inlined]",
            "  [6] materialize",
            "    @ ./broadcast.jl:903 [inlined]",
            "  [7] int",
            "    @ ~/.julia/packages/CategoricalDistributions/g0UnN/src/utilities.jl:97 [inlined]",
            "  [8] int",
            "    @ ~/.julia/packages/MLJBase/7nGJF/src/interface/data_utils.jl:14 [inlined]",
            "  [9] #int#15",
            "    @ ~/.julia/packages/MLJModelInterface/y9x5A/src/data_utils.jl:100 [inlined]",
            " [10] int",
            "    @ ~/.julia/packages/MLJModelInterface/y9x5A/src/data_utils.jl:99 [inlined]",
            " [11] fit(m::LogisticClassifier, verb::Int64, X::DataFrame, y::Vector{Int64})",
            "    @ MLJLinearModels ~/.julia/packages/MLJLinearModels/yYgtO/src/mlj/interface.jl:49",
            " [12] fit_only!(mach::Machine{LogisticClassifier, LogisticClassifier, true}; rows::Nothing, verbosity::Int64, force::Bool, composite::Nothing)",
            "    @ MLJBase ~/.julia/packages/MLJBase/7nGJF/src/machines.jl:692",
            " [13] fit_only!",
            "    @ ~/.julia/packages/MLJBase/7nGJF/src/machines.jl:617 [inlined]",
            " [14] #fit!#63",
            "    @ ~/.julia/packages/MLJBase/7nGJF/src/machines.jl:789 [inlined]",
            " [15] top-level scope",
            "    @ In[47]:3"
          ]
        }
      ]
    },
    {
      "cell_type": "markdown",
      "source": [
        "TODO"
      ],
      "metadata": {
        "id": "qmbpNKCN3KB6"
      }
    },
    {
      "cell_type": "code",
      "source": [
        "# prompt: create a linear regression code with the MLJ lib\n",
        "\n",
        "# Define the linear regression model\n",
        "linear_model = @load LinearRegressor pkg=MLJLinearModels\n",
        "\n",
        "# Initialize the model\n",
        "linear = linear_model()\n",
        "\n",
        "# Wrap the model in a machine for MLJ\n",
        "linear_machine = machine(linear, Xtrain, ytrain)\n",
        "\n",
        "# Fit the model to the training data\n",
        "fit!(linear_machine, verbosity=0)\n",
        "\n",
        "# Evaluate the model on test data\n",
        "ŷ_linear = predict(linear_machine, Xtest)\n",
        "\n",
        "# Calculate accuracy (for classification, not ideal for regression)\n",
        "# accuracy_linear = sum(ŷ_linear .== ytest) / length(ytest)\n",
        "# println(\"Accuracy (Linear Regression): \", accuracy_linear)\n",
        "\n",
        "# Use appropriate regression metrics like mean squared error (MSE), R-squared, etc.\n",
        "using MLJMetrics\n",
        "\n",
        "mse = mse(ytest, ŷ_linear)\n",
        "println(\"Mean Squared Error (MSE): \", mse)\n",
        "\n",
        "r2 = r2(ytest, ŷ_linear)\n",
        "println(\"R-squared: \", r2)"
      ],
      "metadata": {
        "colab": {
          "base_uri": "https://localhost:8080/"
        },
        "id": "cu2nZX0j2HSn",
        "outputId": "3a0f9650-d3b7-43be-d1e0-c19a86103e31",
        "collapsed": true
      },
      "execution_count": null,
      "outputs": [
        {
          "output_type": "stream",
          "name": "stdout",
          "text": [
            "Available algorithms:\n",
            "ABODDetector\n",
            "ABODDetector\n",
            "ARDRegressor\n",
            "AdaBoostClassifier\n",
            "AdaBoostRegressor\n",
            "AdaBoostStumpClassifier\n",
            "AffinityPropagation\n",
            "AffinityPropagation\n",
            "AgglomerativeClustering\n",
            "AutoEncoder\n",
            "BM25Transformer\n",
            "BaggingClassifier\n",
            "BaggingRegressor\n",
            "BayesianLDA\n",
            "BayesianLDA\n",
            "BayesianQDA\n",
            "BayesianRidgeRegressor\n",
            "BayesianSubspaceLDA\n",
            "BernoulliNBClassifier\n",
            "Birch\n",
            "BisectingKMeans\n",
            "BorderlineSMOTE1\n",
            "CBLOFDetector\n",
            "CDDetector\n",
            "COFDetector\n",
            "COFDetector\n",
            "COPODDetector\n",
            "CatBoostClassifier\n",
            "CatBoostRegressor\n",
            "ClusterUndersampler\n",
            "ComplementNBClassifier\n",
            "ConstantClassifier\n",
            "ConstantRegressor\n",
            "ContinuousEncoder\n",
            "CountTransformer\n",
            "DBSCAN\n",
            "DBSCAN\n",
            "DNNDetector\n",
            "DecisionTreeClassifier\n",
            "DecisionTreeClassifier\n",
            "DecisionTreeRegressor\n",
            "DecisionTreeRegressor\n",
            "DeterministicConstantClassifier\n",
            "DeterministicConstantRegressor\n",
            "DummyClassifier\n",
            "DummyRegressor\n",
            "ECODDetector\n",
            "ENNUndersampler\n",
            "ElasticNetCVRegressor\n",
            "ElasticNetRegressor\n",
            "ElasticNetRegressor\n",
            "EpsilonSVR\n",
            "EvoLinearRegressor\n",
            "EvoSplineRegressor\n",
            "EvoTreeClassifier\n",
            "EvoTreeCount\n",
            "EvoTreeGaussian\n",
            "EvoTreeMLE\n",
            "EvoTreeRegressor\n",
            "ExtraTreesClassifier\n",
            "ExtraTreesRegressor\n",
            "FactorAnalysis\n",
            "FeatureAgglomeration\n",
            "FeatureSelector\n",
            "FillImputer\n",
            "GMMDetector\n",
            "GaussianMixtureClusterer\n",
            "GaussianMixtureImputer\n",
            "GaussianMixtureRegressor\n",
            "GaussianNBClassifier\n",
            "GaussianNBClassifier\n",
            "GaussianProcessClassifier\n",
            "GaussianProcessRegressor\n",
            "GeneralImputer\n",
            "GradientBoostingClassifier\n",
            "GradientBoostingRegressor\n",
            "HBOSDetector\n",
            "HDBSCAN\n",
            "HierarchicalClustering\n",
            "HistGradientBoostingClassifier\n",
            "HistGradientBoostingRegressor\n",
            "HuberRegressor\n",
            "HuberRegressor\n",
            "ICA\n",
            "IForestDetector\n",
            "INNEDetector\n",
            "ImageClassifier\n",
            "InteractionTransformer\n",
            "KDEDetector\n",
            "KMeans\n",
            "KMeans\n",
            "KMeans\n",
            "KMeansClusterer\n",
            "KMedoids\n",
            "KMedoidsClusterer\n",
            "KNNClassifier\n",
            "KNNDetector\n",
            "KNNDetector\n",
            "KNNRegressor\n",
            "KNeighborsClassifier\n",
            "KNeighborsRegressor\n",
            "KernelPCA\n",
            "KernelPerceptronClassifier\n",
            "LADRegressor\n",
            "LDA\n",
            "LGBMClassifier\n",
            "LGBMRegressor\n",
            "LMDDDetector\n",
            "LOCIDetector\n",
            "LODADetector\n",
            "LOFDetector\n",
            "LOFDetector\n",
            "LarsCVRegressor\n",
            "LarsRegressor\n",
            "LassoCVRegressor\n",
            "LassoLarsCVRegressor\n",
            "LassoLarsICRegressor\n",
            "LassoLarsRegressor\n",
            "LassoRegressor\n",
            "LassoRegressor\n",
            "LinearBinaryClassifier\n",
            "LinearCountRegressor\n",
            "LinearRegressor\n",
            "LinearRegressor\n",
            "LinearRegressor\n",
            "LinearRegressor\n",
            "LinearSVC\n",
            "LogisticCVClassifier\n",
            "LogisticClassifier\n",
            "LogisticClassifier\n",
            "MCDDetector\n",
            "MaxnetBinaryClassifier\n",
            "MeanShift\n",
            "MiniBatchKMeans\n",
            "MultiTaskElasticNetCVRegressor\n",
            "MultiTaskElasticNetRegressor\n",
            "MultiTaskLassoCVRegressor\n",
            "MultiTaskLassoRegressor\n",
            "MultinomialClassifier\n",
            "MultinomialNBClassifier\n",
            "MultinomialNBClassifier\n",
            "MultitargetGaussianMixtureRegressor\n",
            "MultitargetKNNClassifier\n",
            "MultitargetKNNRegressor\n",
            "MultitargetLinearRegressor\n",
            "MultitargetNeuralNetworkRegressor\n",
            "MultitargetNeuralNetworkRegressor\n",
            "MultitargetRidgeRegressor\n",
            "MultitargetSRRegressor\n",
            "MultitargetSRTestRegressor\n",
            "NeuralNetworkBinaryClassifier\n",
            "NeuralNetworkClassifier\n",
            "NeuralNetworkClassifier\n",
            "NeuralNetworkRegressor\n",
            "NeuralNetworkRegressor\n",
            "NuSVC\n",
            "NuSVR\n",
            "OCSVMDetector\n",
            "OPTICS\n",
            "OneClassSVM\n",
            "OneHotEncoder\n",
            "OneRuleClassifier\n",
            "OrthogonalMatchingPursuitCVRegressor\n",
            "OrthogonalMatchingPursuitRegressor\n",
            "PCA\n",
            "PCADetector\n",
            "PPCA\n",
            "PartLS\n",
            "PassiveAggressiveClassifier\n",
            "PassiveAggressiveRegressor\n",
            "PegasosClassifier\n",
            "PerceptronClassifier\n",
            "PerceptronClassifier\n",
            "ProbabilisticNuSVC\n",
            "ProbabilisticSGDClassifier\n",
            "ProbabilisticSVC\n",
            "QuantileRegressor\n",
            "RANSACRegressor\n",
            "RODDetector\n",
            "ROSE\n",
            "RandomForestClassifier\n",
            "RandomForestClassifier\n",
            "RandomForestClassifier\n",
            "RandomForestImputer\n",
            "RandomForestRegressor\n",
            "RandomForestRegressor\n",
            "RandomForestRegressor\n",
            "RandomOversampler\n",
            "RandomUndersampler\n",
            "RandomWalkOversampler\n",
            "RidgeCVClassifier\n",
            "RidgeCVRegressor\n",
            "RidgeClassifier\n",
            "RidgeRegressor\n",
            "RidgeRegressor\n",
            "RidgeRegressor\n",
            "RobustRegressor\n",
            "SGDClassifier\n",
            "SGDRegressor\n",
            "SMOTE\n",
            "SMOTEN\n",
            "SMOTENC\n",
            "SODDetector\n",
            "SOSDetector\n",
            "SRRegressor\n",
            "SRTestRegressor\n",
            "SVC\n",
            "SVMClassifier\n",
            "SVMLinearClassifier\n",
            "SVMLinearRegressor\n",
            "SVMNuClassifier\n",
            "SVMNuRegressor\n",
            "SVMRegressor\n",
            "SelfOrganizingMap\n",
            "SimpleImputer\n",
            "SpectralClustering\n",
            "StableForestClassifier\n",
            "StableForestRegressor\n",
            "StableRulesClassifier\n",
            "StableRulesRegressor\n",
            "Standardizer\n",
            "SubspaceLDA\n",
            "TSVDTransformer\n",
            "TfidfTransformer\n",
            "TheilSenRegressor\n",
            "TomekUndersampler\n",
            "UnivariateBoxCoxTransformer\n",
            "UnivariateDiscretizer\n",
            "UnivariateFillImputer\n",
            "UnivariateStandardizer\n",
            "UnivariateTimeTypeToContinuous\n",
            "XGBoostClassifier\n",
            "XGBoostCount\n",
            "XGBoostRegressor\n",
            "\n",
            "Available classifiers:\n"
          ]
        }
      ]
    }
  ]
}