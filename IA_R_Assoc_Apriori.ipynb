{
  "nbformat": 4,
  "nbformat_minor": 0,
  "metadata": {
    "colab": {
      "provenance": [],
      "include_colab_link": true
    },
    "kernelspec": {
      "name": "ir",
      "display_name": "R"
    },
    "language_info": {
      "name": "R"
    }
  },
  "cells": [
    {
      "cell_type": "markdown",
      "metadata": {
        "id": "view-in-github",
        "colab_type": "text"
      },
      "source": [
        "<a href=\"https://colab.research.google.com/github/lcbjrrr/quantai/blob/main/IA_R_Assoc_Apriori.ipynb\" target=\"_parent\"><img src=\"https://colab.research.google.com/assets/colab-badge.svg\" alt=\"Open In Colab\"/></a>"
      ]
    },
    {
      "cell_type": "markdown",
      "metadata": {
        "id": "tX4MarLzcDPC"
      },
      "source": [
        "# Apriori"
      ]
    },
    {
      "cell_type": "markdown",
      "source": [
        "**Topic:** R Lang\n",
        "\n",
        "**Title:** Apriori\n",
        "\n",
        "**Author:** Luiz Barboza\n",
        "\n",
        "**Date:** 20/dec/24\n",
        "\n",
        "**Lang:** R\n",
        "\n",
        "**Site:** https://quant-research.group/\n",
        "\n",
        "**Email:** contato@quant-research.group"
      ],
      "metadata": {
        "id": "YJICYSwFjqxY"
      }
    },
    {
      "cell_type": "markdown",
      "source": [
        "The arules package in R is used for association rule mining, which helps discover interesting relationships (associations) between variables in large datasets."
      ],
      "metadata": {
        "id": "_3Im7hFakNM6"
      }
    },
    {
      "cell_type": "code",
      "metadata": {
        "id": "-XI1b9ul6CVh",
        "colab": {
          "base_uri": "https://localhost:8080/"
        },
        "outputId": "695dd33e-49a0-4b25-c9ff-2d6db1957781"
      },
      "source": [
        "install.packages(\"arules\")\n",
        "library(arules)"
      ],
      "execution_count": 1,
      "outputs": [
        {
          "output_type": "stream",
          "name": "stderr",
          "text": [
            "Installing package into ‘/usr/local/lib/R/site-library’\n",
            "(as ‘lib’ is unspecified)\n",
            "\n",
            "Loading required package: Matrix\n",
            "\n",
            "\n",
            "Attaching package: ‘arules’\n",
            "\n",
            "\n",
            "The following objects are masked from ‘package:base’:\n",
            "\n",
            "    abbreviate, write\n",
            "\n",
            "\n"
          ]
        }
      ]
    },
    {
      "cell_type": "markdown",
      "source": [
        "This dataset describes weather conditions (forecast, temperature, humidity, wind) and whether it's suitable to play (\"jogar\")."
      ],
      "metadata": {
        "id": "no6J8mYBkROp"
      }
    },
    {
      "cell_type": "code",
      "metadata": {
        "id": "0VhV8hCx5801",
        "outputId": "0b47f1fc-bea1-4332-fc88-3584841164ca",
        "colab": {
          "base_uri": "https://localhost:8080/",
          "height": 537
        }
      },
      "source": [
        "volei <- read.csv('https://raw.githubusercontent.com/lcbjrrr/data/main/JogarVolei%20-%20OK.csv')\n",
        "volei"
      ],
      "execution_count": 2,
      "outputs": [
        {
          "output_type": "display_data",
          "data": {
            "text/html": [
              "<table class=\"dataframe\">\n",
              "<caption>A data.frame: 14 × 5</caption>\n",
              "<thead>\n",
              "\t<tr><th scope=col>previsao</th><th scope=col>temperatura</th><th scope=col>umidade</th><th scope=col>vento</th><th scope=col>jogar</th></tr>\n",
              "\t<tr><th scope=col>&lt;chr&gt;</th><th scope=col>&lt;chr&gt;</th><th scope=col>&lt;chr&gt;</th><th scope=col>&lt;chr&gt;</th><th scope=col>&lt;chr&gt;</th></tr>\n",
              "</thead>\n",
              "<tbody>\n",
              "\t<tr><td>ensolarado</td><td>quente</td><td>alta  </td><td>nao_ventando</td><td>nao</td></tr>\n",
              "\t<tr><td>ensolarado</td><td>quente</td><td>alta  </td><td>ventando    </td><td>nao</td></tr>\n",
              "\t<tr><td>nublado   </td><td>quente</td><td>alta  </td><td>nao_ventando</td><td>sim</td></tr>\n",
              "\t<tr><td>chuvoso   </td><td>brando</td><td>alta  </td><td>nao_ventando</td><td>sim</td></tr>\n",
              "\t<tr><td>chuvoso   </td><td>frio  </td><td>normal</td><td>nao_ventando</td><td>sim</td></tr>\n",
              "\t<tr><td>chuvoso   </td><td>frio  </td><td>normal</td><td>ventando    </td><td>nao</td></tr>\n",
              "\t<tr><td>nublado   </td><td>frio  </td><td>normal</td><td>ventando    </td><td>sim</td></tr>\n",
              "\t<tr><td>ensolarado</td><td>brando</td><td>alta  </td><td>nao_ventando</td><td>nao</td></tr>\n",
              "\t<tr><td>ensolarado</td><td>frio  </td><td>normal</td><td>nao_ventando</td><td>sim</td></tr>\n",
              "\t<tr><td>chuvoso   </td><td>brando</td><td>normal</td><td>nao_ventando</td><td>sim</td></tr>\n",
              "\t<tr><td>ensolarado</td><td>brando</td><td>normal</td><td>ventando    </td><td>sim</td></tr>\n",
              "\t<tr><td>nublado   </td><td>brando</td><td>alta  </td><td>ventando    </td><td>sim</td></tr>\n",
              "\t<tr><td>nublado   </td><td>quente</td><td>normal</td><td>nao_ventando</td><td>sim</td></tr>\n",
              "\t<tr><td>chuvoso   </td><td>brando</td><td>alta  </td><td>ventando    </td><td>nao</td></tr>\n",
              "</tbody>\n",
              "</table>\n"
            ],
            "text/markdown": "\nA data.frame: 14 × 5\n\n| previsao &lt;chr&gt; | temperatura &lt;chr&gt; | umidade &lt;chr&gt; | vento &lt;chr&gt; | jogar &lt;chr&gt; |\n|---|---|---|---|---|\n| ensolarado | quente | alta   | nao_ventando | nao |\n| ensolarado | quente | alta   | ventando     | nao |\n| nublado    | quente | alta   | nao_ventando | sim |\n| chuvoso    | brando | alta   | nao_ventando | sim |\n| chuvoso    | frio   | normal | nao_ventando | sim |\n| chuvoso    | frio   | normal | ventando     | nao |\n| nublado    | frio   | normal | ventando     | sim |\n| ensolarado | brando | alta   | nao_ventando | nao |\n| ensolarado | frio   | normal | nao_ventando | sim |\n| chuvoso    | brando | normal | nao_ventando | sim |\n| ensolarado | brando | normal | ventando     | sim |\n| nublado    | brando | alta   | ventando     | sim |\n| nublado    | quente | normal | nao_ventando | sim |\n| chuvoso    | brando | alta   | ventando     | nao |\n\n",
            "text/latex": "A data.frame: 14 × 5\n\\begin{tabular}{lllll}\n previsao & temperatura & umidade & vento & jogar\\\\\n <chr> & <chr> & <chr> & <chr> & <chr>\\\\\n\\hline\n\t ensolarado & quente & alta   & nao\\_ventando & nao\\\\\n\t ensolarado & quente & alta   & ventando     & nao\\\\\n\t nublado    & quente & alta   & nao\\_ventando & sim\\\\\n\t chuvoso    & brando & alta   & nao\\_ventando & sim\\\\\n\t chuvoso    & frio   & normal & nao\\_ventando & sim\\\\\n\t chuvoso    & frio   & normal & ventando     & nao\\\\\n\t nublado    & frio   & normal & ventando     & sim\\\\\n\t ensolarado & brando & alta   & nao\\_ventando & nao\\\\\n\t ensolarado & frio   & normal & nao\\_ventando & sim\\\\\n\t chuvoso    & brando & normal & nao\\_ventando & sim\\\\\n\t ensolarado & brando & normal & ventando     & sim\\\\\n\t nublado    & brando & alta   & ventando     & sim\\\\\n\t nublado    & quente & normal & nao\\_ventando & sim\\\\\n\t chuvoso    & brando & alta   & ventando     & nao\\\\\n\\end{tabular}\n",
            "text/plain": [
              "   previsao   temperatura umidade vento        jogar\n",
              "1  ensolarado quente      alta    nao_ventando nao  \n",
              "2  ensolarado quente      alta    ventando     nao  \n",
              "3  nublado    quente      alta    nao_ventando sim  \n",
              "4  chuvoso    brando      alta    nao_ventando sim  \n",
              "5  chuvoso    frio        normal  nao_ventando sim  \n",
              "6  chuvoso    frio        normal  ventando     nao  \n",
              "7  nublado    frio        normal  ventando     sim  \n",
              "8  ensolarado brando      alta    nao_ventando nao  \n",
              "9  ensolarado frio        normal  nao_ventando sim  \n",
              "10 chuvoso    brando      normal  nao_ventando sim  \n",
              "11 ensolarado brando      normal  ventando     sim  \n",
              "12 nublado    brando      alta    ventando     sim  \n",
              "13 nublado    quente      normal  nao_ventando sim  \n",
              "14 chuvoso    brando      alta    ventando     nao  "
            ]
          },
          "metadata": {}
        }
      ]
    },
    {
      "cell_type": "markdown",
      "source": [
        "Let's use the apriori algorithm (from the arules package) to find association rules in the volei dataset, with a minimum support of 10% and a minimum confidence of 90%. Then, it displays the top rules (based on confidence) in a readable format."
      ],
      "metadata": {
        "id": "jaT2BJFokWnf"
      }
    },
    {
      "cell_type": "code",
      "source": [
        "regras <- apriori(volei, parameter = list(support = 0.10, confidence = 0.90))\n",
        "inspect(head(sort(regras, by = \"confidence\")))"
      ],
      "metadata": {
        "colab": {
          "base_uri": "https://localhost:8080/"
        },
        "id": "2FRxfb6sCTly",
        "outputId": "69b3747e-21c7-44a4-fbdd-0ace1ff3dd3f"
      },
      "execution_count": 3,
      "outputs": [
        {
          "output_type": "stream",
          "name": "stderr",
          "text": [
            "Warning message:\n",
            "“Column(s) 1, 2, 3, 4, 5 not logical or factor. Applying default discretization (see '? discretizeDF').”\n"
          ]
        },
        {
          "output_type": "stream",
          "name": "stdout",
          "text": [
            "Apriori\n",
            "\n",
            "Parameter specification:\n",
            " confidence minval smax arem  aval originalSupport maxtime support minlen\n",
            "        0.9    0.1    1 none FALSE            TRUE       5     0.1      1\n",
            " maxlen target  ext\n",
            "     10  rules TRUE\n",
            "\n",
            "Algorithmic control:\n",
            " filter tree heap memopt load sort verbose\n",
            "    0.1 TRUE TRUE  FALSE TRUE    2    TRUE\n",
            "\n",
            "Absolute minimum support count: 1 \n",
            "\n",
            "set item appearances ...[0 item(s)] done [0.00s].\n",
            "set transactions ...[12 item(s), 14 transaction(s)] done [0.00s].\n",
            "sorting and recoding items ... [12 item(s)] done [0.00s].\n",
            "creating transaction tree ... done [0.00s].\n",
            "checking subsets of size 1 2 3 4 done [0.00s].\n",
            "writing ... [51 rule(s)] done [0.00s].\n",
            "creating S4 object  ... done [0.00s].\n",
            "    lhs                      rhs                    support confidence  coverage     lift count\n",
            "[1] {previsao=nublado}    => {jogar=sim}          0.2857143          1 0.2857143 1.555556     4\n",
            "[2] {temperatura=frio}    => {umidade=normal}     0.2857143          1 0.2857143 2.000000     4\n",
            "[3] {previsao=nublado,                                                                         \n",
            "     temperatura=quente}  => {vento=nao_ventando} 0.1428571          1 0.1428571 1.750000     2\n",
            "[4] {previsao=nublado,                                                                         \n",
            "     vento=nao_ventando}  => {temperatura=quente} 0.1428571          1 0.1428571 3.500000     2\n",
            "[5] {previsao=nublado,                                                                         \n",
            "     temperatura=quente}  => {jogar=sim}          0.1428571          1 0.1428571 1.555556     2\n",
            "[6] {temperatura=quente,                                                                       \n",
            "     jogar=sim}           => {previsao=nublado}   0.1428571          1 0.1428571 3.500000     2\n"
          ]
        }
      ]
    },
    {
      "cell_type": "markdown",
      "source": [
        "## Exercise"
      ],
      "metadata": {
        "id": "kA_navXaCWVy"
      }
    },
    {
      "cell_type": "markdown",
      "source": [
        "This dataset represents transactions or customer purchases, showing which items (refri, batata, burger, donut, cafe) were included in each transaction (rows). A '1' indicates the item was purchased, and a '0' indicates it was not."
      ],
      "metadata": {
        "id": "fLUlfuvHkkdi"
      }
    },
    {
      "cell_type": "code",
      "metadata": {
        "id": "utRCpPdHr8bM",
        "colab": {
          "base_uri": "https://localhost:8080/",
          "height": 142
        },
        "outputId": "a365341e-664a-4fae-d90e-63d20ab79bf3"
      },
      "source": [
        "merc <- read.csv('https://raw.githubusercontent.com/lcbjrrr/data/main/apriori%20-%20ok.csv')\n",
        "merc"
      ],
      "execution_count": null,
      "outputs": [
        {
          "output_type": "display_data",
          "data": {
            "text/plain": [
              "  refri batata burger donut cafe\n",
              "1     1      1      1     0    0\n",
              "2     0      1      1     1    0\n",
              "3     0      0      0     1    0\n",
              "4     1      1      0     1    0\n",
              "5     1      1      1     0    1\n",
              "6     1      1      1     1    1\n"
            ]
          },
          "metadata": {}
        }
      ]
    },
    {
      "cell_type": "markdown",
      "source": [
        "Let's find association rules in the merc dataset, with a minimum support of 50% and a minimum confidence of 70%. It then displays the top rules, ordered by confidence."
      ],
      "metadata": {
        "id": "IcF8vPZykmsb"
      }
    },
    {
      "cell_type": "code",
      "source": [
        "regras <- apriori(merc, parameter = list(support = 0.5, confidence = 0.70))\n",
        "inspect(head(sort(regras, by = \"confidence\")))"
      ],
      "metadata": {
        "colab": {
          "base_uri": "https://localhost:8080/",
          "height": 642
        },
        "id": "YHk1Jrh050fF",
        "outputId": "133bbd0a-f770-4163-e8db-e47c70b4c5c7"
      },
      "execution_count": null,
      "outputs": [
        {
          "output_type": "display_data",
          "data": {
            "text/plain": [
              "Apriori\n",
              "\n",
              "Parameter specification:\n",
              " confidence minval smax arem  aval originalSupport maxtime support minlen\n",
              "        0.7    0.1    1 none FALSE            TRUE       5     0.5      1\n",
              " maxlen target  ext\n",
              "     10  rules TRUE\n",
              "\n",
              "Algorithmic control:\n",
              " filter tree heap memopt load sort verbose\n",
              "    0.1 TRUE TRUE  FALSE TRUE    2    TRUE\n",
              "\n",
              "Absolute minimum support count: 3 \n",
              "\n",
              "set item appearances ...[0 item(s)] done [0.00s].\n",
              "set transactions ...[9 item(s), 6 transaction(s)] done [0.00s].\n",
              "sorting and recoding items ... [5 item(s)] done [0.00s].\n",
              "creating transaction tree ... done [0.00s].\n",
              "checking subsets of size 1 2 3 done [0.00s].\n",
              "writing ... [15 rule(s)] done [0.00s].\n",
              "creating S4 object  ... done [0.00s].\n",
              "    lhs                                    rhs            support   confidence\n",
              "[1] {}                                  => {batata=[0,1]} 1.0000000 1         \n",
              "[2] {refri=[0.667,1]}                   => {batata=[0,1]} 0.6666667 1         \n",
              "[3] {burger=[0.667,1]}                  => {batata=[0,1]} 0.6666667 1         \n",
              "[4] {cafe=[0,0.333)}                    => {batata=[0,1]} 0.6666667 1         \n",
              "[5] {donut=[0.667,1]}                   => {batata=[0,1]} 0.6666667 1         \n",
              "[6] {refri=[0.667,1], burger=[0.667,1]} => {batata=[0,1]} 0.5000000 1         \n",
              "    coverage  lift count\n",
              "[1] 1.0000000 1    6    \n",
              "[2] 0.6666667 1    4    \n",
              "[3] 0.6666667 1    4    \n",
              "[4] 0.6666667 1    4    \n",
              "[5] 0.6666667 1    4    \n",
              "[6] 0.5000000 1    3    \n"
            ]
          },
          "metadata": {}
        }
      ]
    }
  ]
}