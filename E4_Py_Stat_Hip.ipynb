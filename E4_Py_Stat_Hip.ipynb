{
  "nbformat": 4,
  "nbformat_minor": 0,
  "metadata": {
    "colab": {
      "provenance": [],
      "authorship_tag": "ABX9TyNwfAPFEPT7WrR+m44OLRLN",
      "include_colab_link": true
    },
    "kernelspec": {
      "name": "python3",
      "display_name": "Python 3"
    },
    "language_info": {
      "name": "python"
    }
  },
  "cells": [
    {
      "cell_type": "markdown",
      "metadata": {
        "id": "view-in-github",
        "colab_type": "text"
      },
      "source": [
        "<a href=\"https://colab.research.google.com/github/lcbjrrr/quantai/blob/main/E4_Py_Stat_Hip.ipynb\" target=\"_parent\"><img src=\"https://colab.research.google.com/assets/colab-badge.svg\" alt=\"Open In Colab\"/></a>"
      ]
    },
    {
      "cell_type": "markdown",
      "source": [
        "# Normality Test"
      ],
      "metadata": {
        "id": "57_dSvIbZ0lG"
      }
    },
    {
      "cell_type": "markdown",
      "source": [
        "By examining the shape of the distribution, you can get an idea of whether the data is normally distributed or skewed. However, for a more formal assessment of normality, statistical tests like the Shapiro-Wilk test or the Kolmogorov-Smirnov test are recommended."
      ],
      "metadata": {
        "id": "dI0_s84qm3y6"
      }
    },
    {
      "cell_type": "code",
      "source": [
        "import seaborn as sns\n",
        "premiums = [333,\t320,\t301,\t280,\t270,\t251,\t260,\t255,\t355,\t345,\t355,\t345,\t366,\t352,\t331,\t308,\t297,\t276,\t286,\t281,\t391,\t380,\t391,\t380,\t300,\t288,\t271,\t252,\t243,\t226,\t234,\t230,\t320,\t311,\t320,\t311]\n",
        "sns.distplot(premiums)"
      ],
      "metadata": {
        "colab": {
          "base_uri": "https://localhost:8080/",
          "height": 638
        },
        "id": "ePgdsd6yZ0sL",
        "outputId": "1df4eee0-0662-4739-8c83-7af873c5928f"
      },
      "execution_count": 26,
      "outputs": [
        {
          "output_type": "stream",
          "name": "stderr",
          "text": [
            "<ipython-input-26-e21b0f3f3e53>:3: UserWarning: \n",
            "\n",
            "`distplot` is a deprecated function and will be removed in seaborn v0.14.0.\n",
            "\n",
            "Please adapt your code to use either `displot` (a figure-level function with\n",
            "similar flexibility) or `histplot` (an axes-level function for histograms).\n",
            "\n",
            "For a guide to updating your code to use the new functions, please see\n",
            "https://gist.github.com/mwaskom/de44147ed2974457ad6372750bbe5751\n",
            "\n",
            "  sns.distplot(premiums)\n"
          ]
        },
        {
          "output_type": "execute_result",
          "data": {
            "text/plain": [
              "<Axes: ylabel='Density'>"
            ]
          },
          "metadata": {},
          "execution_count": 26
        },
        {
          "output_type": "display_data",
          "data": {
            "text/plain": [
              "<Figure size 640x480 with 1 Axes>"
            ],
            "image/png": "[encoded data removed]"
          },
          "metadata": {}
        }
      ]
    },
    {
      "cell_type": "code",
      "source": [
        "from scipy.stats import normaltest\n",
        "normaltest(premiums)"
      ],
      "metadata": {
        "colab": {
          "base_uri": "https://localhost:8080/"
        },
        "id": "tQvDN56HabTr",
        "outputId": "1934c104-d82f-4f80-b33e-a975e5f4f6a0"
      },
      "execution_count": 27,
      "outputs": [
        {
          "output_type": "execute_result",
          "data": {
            "text/plain": [
              "NormaltestResult(statistic=2.8425253227965745, pvalue=0.24140900654140018)"
            ]
          },
          "metadata": {},
          "execution_count": 27
        }
      ]
    },
    {
      "cell_type": "markdown",
      "source": [
        "# Hypothesis Test"
      ],
      "metadata": {
        "id": "y3scJYKoblSK"
      }
    },
    {
      "cell_type": "markdown",
      "source": [
        "## Two-Tailed Test"
      ],
      "metadata": {
        "id": "4-l2vqWdblXl"
      }
    },
    {
      "cell_type": "markdown",
      "source": [
        "\n",
        "\n",
        "The company Suco Bom produces fruit juices in 500 ml packages. Its production process is almost entirely automated and the juice packaging is filled by a machine that sometimes presents a certain misadjustment, leading to errors in filling the packaging with more or less content. When the average volume drops below 500 ml, the company worries about losing sales and having problems with regulatory bodies. When the volume exceeds 500 ml, the company begins to worry about losses in the production process.\n",
        "\n",
        "The quality control sector of the company Suco Bom periodically extracts samples from 50 packages to monitor the production process. For each sample, a hypothesis test is carried out to assess whether the machinery has become out of adjustment. The QA team assumes a 5% significance level.\n",
        "\n",
        "Suppose now that a sample of 50 packages was selected and that the observed sample mean was 503.24 ml and standard deviation 4.48. Is this sample mean value sufficiently greater than 500 ml to make us reject the hypothesis that the process mean is 500 ml at the 5% significance level?"
      ],
      "metadata": {
        "id": "bf851VNZbpzv"
      }
    },
    {
      "cell_type": "code",
      "source": [
        "from scipy.stats import norm\n",
        "from numpy import sqrt\n",
        "#Hipotese de ser igual, significa um bicaudal com h0 da medias serem iguais\n",
        "#𝐻0:𝜇=500\n",
        "#𝐻1:𝜇≠500\n",
        "u=500\n",
        "n =50\n",
        "sig=0.05\n",
        "z_sig_sob2 = norm.ppf(1-sig+sig/2)\n",
        "print(z_sig_sob2)\n",
        "x=503.24\n",
        "s=4.48\n",
        "z=(x-u)/(s/sqrt(n))\n",
        "z"
      ],
      "metadata": {
        "colab": {
          "base_uri": "https://localhost:8080/"
        },
        "id": "gvA1BRQTblnx",
        "outputId": "a7439ea1-9b95-464f-fb2b-cd846019e29a"
      },
      "execution_count": 48,
      "outputs": [
        {
          "output_type": "stream",
          "name": "stdout",
          "text": [
            "1.959963984540054\n"
          ]
        },
        {
          "output_type": "execute_result",
          "data": {
            "text/plain": [
              "5.113897256795581"
            ]
          },
          "metadata": {},
          "execution_count": 48
        }
      ]
    },
    {
      "cell_type": "code",
      "source": [
        "\n",
        "area=norm.cdf(z)\n",
        "print(area)\n",
        "pvalor=2*(1-area)\n",
        "print(pvalor)\n",
        "if (pvalor <= sig):\n",
        "    print('rejeita h0')\n",
        "else:\n",
        "    print('aceita h0')\n",
        "\n",
        "#Rejeitar  𝐻0  se o valor  𝑝≤𝛼"
      ],
      "metadata": {
        "colab": {
          "base_uri": "https://localhost:8080/"
        },
        "id": "ktFyeD0eb5GC",
        "outputId": "b7a1dd7c-0aa8-45c5-c808-390ab2a762e7"
      },
      "execution_count": 29,
      "outputs": [
        {
          "output_type": "stream",
          "name": "stdout",
          "text": [
            "0.9999998422104751\n",
            "3.155790497810784e-07\n",
            "rejeita h0\n"
          ]
        }
      ]
    },
    {
      "cell_type": "code",
      "source": [
        "from statsmodels.stats.weightstats import ztest\n",
        "amostra = [509, 505, 495, 510, 496, 509, 497, 502, 503, 505,\n",
        "           501, 505, 510, 505, 504, 497, 506, 506, 508, 505,\n",
        "           497, 504, 500, 498, 506, 496, 508, 497, 503, 501,\n",
        "           503, 506, 499, 498, 509, 507, 503, 499, 509, 495,\n",
        "           502, 505, 504, 509, 508, 501, 505, 497, 508, 507]\n",
        "ztest(x1 = amostra, value = u)\n"
      ],
      "metadata": {
        "colab": {
          "base_uri": "https://localhost:8080/"
        },
        "id": "85ME1He4b67t",
        "outputId": "37322bbe-ae16-4d9f-c3aa-74cea10e5475"
      },
      "execution_count": 30,
      "outputs": [
        {
          "output_type": "execute_result",
          "data": {
            "text/plain": [
              "(5.109559775991873, 3.229103172445771e-07)"
            ]
          },
          "metadata": {},
          "execution_count": 30
        }
      ]
    },
    {
      "cell_type": "markdown",
      "source": [
        "Conclusion: As the sample mean 𝑥¯ is significantly greater than 500 ml, we reject 𝐻0 . In this case, measures must be taken to adjust the machinery that fills the packages."
      ],
      "metadata": {
        "id": "B6P-8x8ecA26"
      }
    },
    {
      "cell_type": "markdown",
      "source": [
        "## One-tailed Test"
      ],
      "metadata": {
        "id": "38yev04FcA5R"
      }
    },
    {
      "cell_type": "markdown",
      "source": [
        "\n",
        "\n",
        "\n",
        "A famous soft drink manufacturer claims that a 350 ml can of its flagship product contains a maximum of 37 grams of sugar. This claim leads us to understand that the average amount of sugar in a can of soda should be equal to or less than 37 g. A suspicious consumer with knowledge of statistical inference decides to test the manufacturer's claim and selects, at random, from a set of different establishments, a sample of 25 cans of the soft drink in question. Assuming that this population is distributed approximately as normal and considering a significance level of 5%, is it possible to accept the manufacturer's claim as valid?"
      ],
      "metadata": {
        "id": "opuYOCFPcA7v"
      }
    },
    {
      "cell_type": "code",
      "source": [
        "from scipy.stats import t as t_student\n",
        "from numpy import mean, std\n",
        "#𝐻0:𝜇≤37\n",
        "#𝐻1:𝜇>37\n",
        "amostra = [37.27, 36.42, 34.84, 34.60, 37.49,\n",
        "           36.53, 35.49, 36.90, 34.52, 37.30,\n",
        "           34.99, 36.55, 36.29, 36.06, 37.42,\n",
        "           34.47, 36.70, 35.86, 36.80, 36.92,\n",
        "           37.04, 36.39, 37.32, 36.64, 35.45]\n",
        "n=25\n",
        "u=37\n",
        "x=mean(amostra)\n",
        "s=std(amostra)\n",
        "sig<-0.05\n",
        "conf = 1-sig\n",
        "graus_de_lib = n-1\n",
        "t_sig = t_student.ppf(conf, graus_de_lib)\n",
        "print(t_sig)\n",
        "t = (x - u) / (s / sqrt(n))\n",
        "t"
      ],
      "metadata": {
        "colab": {
          "base_uri": "https://localhost:8080/"
        },
        "id": "K3K942h8cJ3E",
        "outputId": "4ffc8652-0b62-4dbf-efbb-309db537e125"
      },
      "execution_count": 31,
      "outputs": [
        {
          "output_type": "stream",
          "name": "stdout",
          "text": [
            "1.7108820799094275\n"
          ]
        },
        {
          "output_type": "execute_result",
          "data": {
            "text/plain": [
              "-3.9568374713288734"
            ]
          },
          "metadata": {},
          "execution_count": 31
        }
      ]
    },
    {
      "cell_type": "code",
      "source": [
        "pvalor = 1-t_student.cdf(t, df = graus_de_lib)\n",
        "pvalor\n",
        "#Rejeitar  𝐻0  se o valor  𝑝≤𝛼"
      ],
      "metadata": {
        "colab": {
          "base_uri": "https://localhost:8080/"
        },
        "id": "qzVH8sVVcMHc",
        "outputId": "825a4185-5c8d-4af9-b40c-b503f74be517"
      },
      "execution_count": 32,
      "outputs": [
        {
          "output_type": "execute_result",
          "data": {
            "text/plain": [
              "0.9997062063779475"
            ]
          },
          "metadata": {},
          "execution_count": 32
        }
      ]
    },
    {
      "cell_type": "code",
      "source": [
        "from statsmodels.stats.weightstats import DescrStatsW\n",
        "test = DescrStatsW(amostra)\n",
        "test.ttest_mean(value = u, alternative = 'larger')"
      ],
      "metadata": {
        "colab": {
          "base_uri": "https://localhost:8080/"
        },
        "id": "Iyk0_MUzcPZz",
        "outputId": "2b803dc5-f25e-4dc3-d340-b6aec5c06d2c"
      },
      "execution_count": 33,
      "outputs": [
        {
          "output_type": "execute_result",
          "data": {
            "text/plain": [
              "(-3.8768931199520447, 0.9996406170303819, 24.0)"
            ]
          },
          "metadata": {},
          "execution_count": 33
        }
      ]
    },
    {
      "cell_type": "markdown",
      "source": [
        "Conclusion: With a 95% confidence level we cannot reject 𝐻0, that is, the manufacturer's claim is true.\n"
      ],
      "metadata": {
        "id": "VrtuvwBXcP2B"
      }
    },
    {
      "cell_type": "markdown",
      "source": [
        "## Test two samples"
      ],
      "metadata": {
        "id": "SYv4smPKcP4n"
      }
    },
    {
      "cell_type": "markdown",
      "source": [
        "\n",
        "\n",
        "In our dataset we have the income of heads of households obtained from the National Household Sample Survey - PNAD in 2015. A well-known problem in our country concerns income inequality, mainly between men and women.\n",
        "\n",
        "Two random samples, one of 500 men and the other of 500 women, were selected from our dataset. In order to prove this inequality, test the equality of the means between these two samples with a significance level of 1%."
      ],
      "metadata": {
        "id": "5ovok97zcP63"
      }
    },
    {
      "cell_type": "code",
      "source": [
        "homens = [300, 1000, 4000, 5000, 300, 350, 1200, 1200, 1100, 1800, 700, 5000, 250, 1560, 400, 5500, 3000, 0, 1100, 1500, 500, 500, 788, 500, 3000, 788, 2400, 788, 3300, 1350, 2500, 2000, 1300, 2430, 9000, 10120, 1380, 2000, 1400, 1000, 500, 1500, 2200, 2100, 4000, 1000, 1200, 2900, 1800, 2000, 788, 1576, 800, 2400, 788, 788, 788, 0, 12000, 7880, 850, 1000, 1000, 1600, 3800, 788, 1200, 300, 350, 700, 6000, 1500, 5000, 2000, 1200, 800, 250, 800, 1600, 400, 3000, 2304, 800, 1400, 450, 788, 2200, 6000, 1200, 4000, 6000, 1100, 1200, 1300, 3000, 3000, 1500, 1280, 788, 1400, 788, 4000, 0, 1000, 2500, 1300, 3000, 500, 1600, 2000, 1280, 150, 0, 0, 7000, 1061, 700, 788, 2000, 788, 10500, 788, 1600, 1050, 1100, 3000, 800, 1400, 1200, 2500, 1000, 1500, 1500, 900, 2000, 300, 3000, 788, 1400, 2000, 2000, 3000, 2600, 15000, 1500, 950, 1200, 1500, 7500, 1400, 350, 750, 1200, 788, 0, 2500, 1700, 788, 700, 1600, 1200, 320, 6000, 2000, 2000, 3000, 900, 2100, 0, 788, 1800, 1600, 4000, 1300, 1300, 1500, 8900, 1400, 788, 600, 1000, 950, 2000, 4000, 2300, 2000, 800, 2500, 1500, 1400, 800, 6000, 788, 900, 200, 1300, 788, 2600, 1500, 8000, 900, 2000, 2000, 350, 3000, 9580, 0, 400, 800, 1700, 1800, 1200, 18000, 9000, 3000, 1200, 700, 1200, 400, 987, 6000, 2000, 0, 0, 480, 500, 800, 1680, 10000, 1200, 1700, 788, 2200, 10000, 10000, 100, 1200, 1600, 2500, 1300, 1200, 1300, 2200, 200, 60, 1100, 1200, 6000, 4500, 100, 788, 2900, 2500, 900, 788, 2500, 4000, 788, 1400, 1000, 300, 788, 1000, 4000, 2200, 788, 1000, 1000, 600, 1600, 6000, 2500, 2500, 1000, 3000, 2200, 4500, 1500, 4300, 1500, 8500, 3200, 1200, 1200, 1500, 4000, 2000, 1350, 1500, 890, 5000, 2400, 13000, 800, 1500, 1500, 2000, 580, 500, 920, 1200, 2000, 788, 500, 20000, 1350, 1576, 500, 8000, 1800, 600, 1000, 3000, 4000, 1500, 788, 600, 2300, 1500, 500, 500, 800, 900, 8000, 1600, 3000, 788, 1500, 5200, 900, 3565, 650, 1700, 1600, 788, 1200, 788, 788, 100, 900, 1700, 10000, 1600, 200, 788, 1400, 1500, 400, 4200, 1400, 4000, 5516, 3500, 700, 1400, 1200, 0, 7000, 2000, 5000, 2000, 750, 3000, 2000, 1500, 200, 3000, 1700, 1500, 7000, 1500, 788, 2400, 2500, 1500, 2000, 1500, 2000, 1100, 800, 1800, 480, 3500, 700, 3400, 5000, 5000, 1300, 3000, 2000, 900, 2000, 1000, 1800, 0, 1500, 788, 3500, 875, 5000, 2000, 1300, 1600, 0, 750, 1200, 120, 1800, 1200, 788, 1000, 0, 1400, 2300, 7000, 4000, 5000, 788, 20000, 4000, 0, 1200, 1800, 500, 1000, 788, 1300, 5000, 50, 1700, 2000, 1600, 2000, 1350, 1500, 600, 1700, 780, 2446, 2100, 5000, 1700, 1200, 1000, 788, 4500, 1500, 788, 0, 1580, 1000, 4500, 2400, 788, 1100, 2000, 788, 100, 1200, 1200, 1200, 1000, 2000, 788, 2000, 15000, 600, 0, 1500, 3000, 4000, 900, 810, 600, 1500, 4000, 1200, 5000, 5300, 2500, 800, 0, 1400, 1500, 4000, 1200, 400, 1000, 820, 1000, 1000, 788, 1500, 2500, 1500, 220, 600, 788, 1750, 7000]\n",
        "mulheres = [788, 1200, 6000, 1000, 788, 1100, 1900, 1577, 900, 950, 1200, 788, 788, 1100, 30, 620, 900, 1000, 1200, 2000, 0, 500, 1200, 1500, 1200, 1120, 788, 788, 2300, 2400, 3000, 788, 4000, 1000, 500, 500, 1700, 200, 6000, 400, 950, 1100, 50, 930, 850, 1100, 3500, 1500, 1200, 900, 1100, 1500, 788, 1000, 788, 4500, 4000, 8000, 3500, 788, 1050, 1000, 1400, 3500, 600, 3000, 500, 930, 2660, 788, 360, 2364, 788, 160, 1100, 1085, 1050, 1500, 100, 0, 788, 250, 1700, 1300, 800, 0, 2000, 820, 910, 300, 2000, 200, 788, 788, 800, 1500, 1300, 1200, 0, 600, 1036, 400, 1100, 788, 400, 1500, 1200, 1800, 1000, 788, 850, 60, 1800, 3500, 600, 200, 500, 200, 1100, 1540, 1100, 900, 800, 500, 200, 1200, 1250, 788, 500, 200, 788, 200, 0, 1800, 2000, 1000, 900, 3000, 700, 1200, 788, 2800, 3300, 400, 0, 850, 1022, 6000, 750, 1000, 3500, 400, 1500, 1000, 800, 0, 980, 2400, 850, 1100, 788, 1100, 788, 1200, 788, 864, 1000, 500, 400, 3000, 1200, 100, 80, 900, 2000, 1250, 1000, 300, 400, 1500, 60, 8000, 1000, 600, 800, 350, 788, 0, 600, 788, 2500, 1300, 800, 8000, 1100, 800, 900, 2000, 0, 800, 1400, 1000, 1200, 788, 3840, 788, 3940, 788, 560, 800, 2000, 600, 2900, 0, 400, 800, 7000, 788, 788, 788, 788, 1250, 1500, 1386, 100, 300, 788, 788, 600, 600, 900, 2800, 788, 350, 900, 0, 150, 788, 788, 1000, 30, 788, 780, 900, 0, 0, 3000, 1800, 2000, 1100, 788, 0, 7500, 1800, 788, 788, 2000, 3000, 180, 2500, 800, 0, 1250, 200, 1100, 0, 1100, 400, 1300, 300, 0, 1312, 600, 200, 4000, 2400, 12000, 2150, 500, 400, 0, 600, 400, 788, 1200, 500, 2000, 1500, 70, 500, 2000, 1000, 100, 500, 2000, 100, 2115, 800, 5800, 2300, 750, 788, 0, 900, 1000, 600, 3000, 5500, 1600, 788, 4000, 0, 1100, 120, 320, 1100, 2500, 200, 800, 3000, 550, 4200, 7000, 720, 0, 2000, 5000, 2000, 788, 500, 788, 7000, 500, 788, 1760, 1200, 3500, 1500, 150, 800, 788, 3000, 400, 788, 1000, 2000, 2500, 0, 788, 5200, 788, 0, 600, 1300, 120, 850, 1576, 788, 2000, 1300, 788, 800, 1800, 655, 1580, 789, 788, 850, 788, 7000, 788, 430, 800, 788, 900, 10000, 1200, 300, 400, 788, 788, 3000, 900, 1300, 1300, 788, 800, 1000, 1890, 0, 788, 900, 4000, 788, 1010, 150, 450, 1700, 890, 1200, 2800, 1000, 788, 788, 700, 600, 800, 880, 6000, 800, 800, 820, 788, 1030, 560, 2100, 6500, 2500, 788, 400, 300, 788, 2300, 1000, 3500, 984, 1576, 420, 1700, 450, 1800, 400, 1500, 1500, 4256, 1200, 890, 1200, 300, 400, 850, 1500, 3800, 1800, 996, 2000, 1000, 788, 1500, 300, 600, 950, 1200, 788, 1200, 1500, 250, 788, 1200, 6000, 300, 789, 1500, 788, 3800, 780, 1200, 1200, 220, 788, 500, 200, 480, 1576, 1576, 1035, 900, 800, 1000, 805, 200, 1200, 2220, 1500, 880, 220, 2000, 788, 150, 0, 13000, 40, 5500, 788, 788, 1000, 400, 2000, 200, 1600]"
      ],
      "metadata": {
        "id": "Rs_0eubWca2l"
      },
      "execution_count": 56,
      "outputs": []
    },
    {
      "cell_type": "code",
      "source": [
        "from numpy import mean, std\n",
        "xH = mean(homens)\n",
        "sH = std(homens)\n",
        "xM = mean(mulheres)\n",
        "sM = std(mulheres)\n",
        "print(xH)\n",
        "print(sH)\n",
        "print(xM)\n",
        "print(sM)"
      ],
      "metadata": {
        "colab": {
          "base_uri": "https://localhost:8080/"
        },
        "id": "m87pPkYWceBL",
        "outputId": "aea30d7e-a5ed-44c1-b38a-7e8e480efbd1"
      },
      "execution_count": 57,
      "outputs": [
        {
          "output_type": "stream",
          "name": "stdout",
          "text": [
            "2142.608\n",
            "2545.5014763963504\n",
            "1357.528\n",
            "1568.330503821181\n"
          ]
        }
      ]
    },
    {
      "cell_type": "code",
      "source": [
        "\n",
        "#𝜇1⇒  Média das rendas dos chefes de domicílios do sexo masculino\n",
        "#𝜇2⇒  Média das rendas dos chefes de domicílios do sexo feminino\n",
        "#{𝐻0:𝜇1≤𝜇2\n",
        "#𝐻1:𝜇1>𝜇2\n",
        "#ou\n",
        "#{𝐻0:𝜇1−𝜇2≤0\n",
        "#𝐻1:𝜇1−𝜇2>0\n",
        "sig = 0.01\n",
        "conf = 1 - sig\n",
        "z_sig = norm.ppf(conf)\n",
        "print(z_sig)\n",
        "nM = 500\n",
        "nH = 500\n",
        "D0 = 0\n",
        "numerador = (xH - xM) - D0\n",
        "denominador = sqrt((sH ** 2 / nH) + (sM ** 2 / nM))\n",
        "z = numerador / denominador\n",
        "z"
      ],
      "metadata": {
        "colab": {
          "base_uri": "https://localhost:8080/"
        },
        "id": "L8afeOVTchPy",
        "outputId": "e0e6876f-d472-4e8a-c209-93b6440fe7dc"
      },
      "execution_count": 58,
      "outputs": [
        {
          "output_type": "stream",
          "name": "stdout",
          "text": [
            "2.3263478740408408\n"
          ]
        },
        {
          "output_type": "execute_result",
          "data": {
            "text/plain": [
              "5.871494490942365"
            ]
          },
          "metadata": {},
          "execution_count": 58
        }
      ]
    },
    {
      "cell_type": "code",
      "source": [
        "\n",
        "p_valor = 1-norm.cdf(z)\n",
        "p_valor\n",
        "#Rejeitar  𝐻0  se o valor  𝑝≤𝛼"
      ],
      "metadata": {
        "colab": {
          "base_uri": "https://localhost:8080/"
        },
        "id": "FX-i3Jw1cjE6",
        "outputId": "373b1d54-85b7-4b61-8bef-28796eb4e70a"
      },
      "execution_count": 59,
      "outputs": [
        {
          "output_type": "execute_result",
          "data": {
            "text/plain": [
              "2.1594197541219273e-09"
            ]
          },
          "metadata": {},
          "execution_count": 59
        }
      ]
    },
    {
      "cell_type": "code",
      "source": [
        "\n",
        "from statsmodels.stats.weightstats import CompareMeans\n",
        "comparador_medias = CompareMeans(DescrStatsW(homens), DescrStatsW(mulheres))\n",
        "comparador_medias.ztest_ind(alternative='larger', value=0)"
      ],
      "metadata": {
        "colab": {
          "base_uri": "https://localhost:8080/"
        },
        "id": "nBQOp_A3clHz",
        "outputId": "994e9b97-a9ab-4fbf-aa8c-c77f76ac0443"
      },
      "execution_count": 60,
      "outputs": [
        {
          "output_type": "execute_result",
          "data": {
            "text/plain": [
              "(5.865620057764754, 2.2372867859458255e-09)"
            ]
          },
          "metadata": {},
          "execution_count": 60
        }
      ]
    },
    {
      "cell_type": "markdown",
      "source": [
        "Conclusion: With a 99% confidence level, we reject 𝐻0, that is, we conclude that the average income of male heads of households is higher than the average income of female heads of households. Confirming the allegation of income inequality between the sexes.\n"
      ],
      "metadata": {
        "id": "YYRyj2FOcl9x"
      }
    },
    {
      "cell_type": "markdown",
      "source": [
        "## Non-Parametric Tests"
      ],
      "metadata": {
        "id": "fdKO80UtcmAM"
      }
    },
    {
      "cell_type": "markdown",
      "source": [
        "\n",
        "### Chi-Square Test (𝜒2)"
      ],
      "metadata": {
        "id": "7_jEnrivcmCq"
      }
    },
    {
      "cell_type": "code",
      "source": [
        "from scipy.stats import chi\n",
        "#𝐻0:𝐹𝐶𝐴𝑅𝐴=𝐹𝐶𝑂𝑅𝑂𝐴\n",
        "#𝐻1:𝐹𝐶𝐴𝑅𝐴≠𝐹𝐶𝑂𝑅𝑂𝐴\n",
        "Fobs =[17, 33]\n",
        "Fesp =[25, 25]\n",
        "sig  = 0.05\n",
        "conf = 1 - sig\n",
        "k = 2 # Número de eventos possíveis\n",
        "graus_de_lib = k - 1\n",
        "chi_2_sig = chi.ppf(conf, graus_de_lib) ** 2\n",
        "print(chi_2_sig)\n",
        "chi_2 = 0\n",
        "for i in range(0,k,1):\n",
        "    chi_2=chi_2+(Fobs[i]-Fesp[i])**2/Fesp[i]\n",
        "\n",
        "chi_2"
      ],
      "metadata": {
        "colab": {
          "base_uri": "https://localhost:8080/"
        },
        "id": "N5VxIReNc4jP",
        "outputId": "0015fd9c-aed2-4a0d-c6e5-bda7ee9a2b87"
      },
      "execution_count": 39,
      "outputs": [
        {
          "output_type": "stream",
          "name": "stdout",
          "text": [
            "3.8414588206941245\n"
          ]
        },
        {
          "output_type": "execute_result",
          "data": {
            "text/plain": [
              "5.12"
            ]
          },
          "metadata": {},
          "execution_count": 39
        }
      ]
    },
    {
      "cell_type": "code",
      "source": [
        "from numpy import sqrt\n",
        "1-chi.cdf(sqrt(chi_2), df=graus_de_lib)\n",
        "#Rejeitar  𝐻0  se o valor  𝑝≤𝛼"
      ],
      "metadata": {
        "colab": {
          "base_uri": "https://localhost:8080/"
        },
        "id": "2VxWr_JQc7Xr",
        "outputId": "ba806ddc-163f-49f1-8c9a-3a18f49c5fe5"
      },
      "execution_count": 40,
      "outputs": [
        {
          "output_type": "execute_result",
          "data": {
            "text/plain": [
              "0.023651616655355978"
            ]
          },
          "metadata": {},
          "execution_count": 40
        }
      ]
    },
    {
      "cell_type": "code",
      "source": [
        "from scipy.stats import chisquare\n",
        "chisquare(f_obs=Fobs, f_exp=Fesp)"
      ],
      "metadata": {
        "colab": {
          "base_uri": "https://localhost:8080/"
        },
        "id": "PJGYY_Q4c8DV",
        "outputId": "49b3eff4-e856-412b-d7f3-bd0d33672eec"
      },
      "execution_count": 41,
      "outputs": [
        {
          "output_type": "execute_result",
          "data": {
            "text/plain": [
              "Power_divergenceResult(statistic=5.12, pvalue=0.023651616655356)"
            ]
          },
          "metadata": {},
          "execution_count": 41
        }
      ]
    },
    {
      "cell_type": "markdown",
      "source": [
        "Conclusion: With a 95% confidence level, we reject the null hypothesis ( 𝐻0 ) and conclude that the observed and expected frequencies are discrepant, that is, the coin is not honest and needs to be replaced.\n",
        "\n"
      ],
      "metadata": {
        "id": "AkCJYJXgc-Y1"
      }
    },
    {
      "cell_type": "markdown",
      "source": [
        "## Paired Test (Wilcoxon Test)"
      ],
      "metadata": {
        "id": "A5qFFnttc-bY"
      }
    },
    {
      "cell_type": "code",
      "source": [
        "antes= [39, 25, 24, 50, 13, 52, 21, 29, 10, 22, 50, 15, 36, 39, 52, 48, 24, 15, 40, 41, 17, 12, 21, 49, 14, 55, 46, 22, 28, 23, 37, 17, 31, 49, 49]\n",
        "depois= [16, 8, 12, 0, 14, 16, 13, 12, 19, 17, 17, 2, 15, 10, 20, 13, 0, 4, 16, 18, 16, 16, 9, 9, 18, 4, 17, 0, 11, 14, 0, 19, 2, 9, 6]\n"
      ],
      "metadata": {
        "id": "6rubag1wdGya"
      },
      "execution_count": 42,
      "outputs": []
    },
    {
      "cell_type": "code",
      "source": [
        "from scipy.stats import wilcoxon\n",
        "significancia = 0.05\n",
        "confianca = 1 - significancia\n",
        "n = 35\n",
        "wilcoxon(antes, depois)"
      ],
      "metadata": {
        "colab": {
          "base_uri": "https://localhost:8080/"
        },
        "id": "rwHvuppVdKAl",
        "outputId": "0b2cabb0-5742-4b99-f341-ec369f7eacac"
      },
      "execution_count": 43,
      "outputs": [
        {
          "output_type": "execute_result",
          "data": {
            "text/plain": [
              "WilcoxonResult(statistic=22.0, pvalue=3.119930624961853e-08)"
            ]
          },
          "metadata": {},
          "execution_count": 43
        }
      ]
    },
    {
      "cell_type": "markdown",
      "source": [
        "Conclusion: We reject the hypothesis that there is no difference between the groups, that is, there is a difference between the average number of cigarettes smoked by patients before and after treatment. And as it is possible to verify through the average number of cigarettes smoked per day before (31.86) and after (11.2) the treatment, we can conclude that the treatment presented a satisfactory result."
      ],
      "metadata": {
        "id": "VzBfD0ZUc-d2"
      }
    },
    {
      "cell_type": "markdown",
      "source": [
        "# Activities"
      ],
      "metadata": {
        "id": "mLmRFh6V7tgr"
      }
    },
    {
      "cell_type": "markdown",
      "source": [
        "1) An insurance company specializing in insurance for the ceramic industry has a history of claims related to the rupture of ceramic pieces. For a certain type of piece, the historical average strength is 53 MPa, with a standard deviation of 4 MPa (variance of 16 MPa²). After a change in raw material suppliers, the insurer wants to assess whether the average strength of the pieces has changed. To this end, 15 samples of pieces were collected, obtaining a sample mean of 50 MPa. Considering a significance level of 5%, what is the insurer's conclusion about the change in the strength of the pieces?"
      ],
      "metadata": {
        "id": "yhJMDdjH7tn_"
      }
    },
    {
      "cell_type": "code",
      "source": [
        "from scipy.stats import t\n",
        "from numpy import sqrt\n",
        "#Hipotese de ser igual, significa um bicaudal com h0 da medias serem iguais\n",
        "#𝐻0:𝜇=53\n",
        "#𝐻1:𝜇≠53\n",
        "u=53\n",
        "s2=16\n",
        "s=sqrt(s2)\n",
        "n=15\n",
        "sig=0.05\n",
        "#t_ref = t.ppf(sig/2,df=n-1)\n",
        "#print(t_ref)\n",
        "x=50\n",
        "z=(x-u)/(s/sqrt(n))\n",
        "print(z)\n",
        "area=t.cdf(z, df=n-1)\n",
        "pvalor=2*(area)\n",
        "print(pvalor)\n",
        "#rejeita Ho p sig=5%, logo assume-se que sao diferentes"
      ],
      "metadata": {
        "colab": {
          "base_uri": "https://localhost:8080/"
        },
        "id": "hK0xbJfX7xDt",
        "outputId": "4c36a50a-d326-4a79-f83a-42281ca2d3b9"
      },
      "execution_count": 51,
      "outputs": [
        {
          "output_type": "stream",
          "name": "stdout",
          "text": [
            "-2.904737509655563\n",
            "0.011533561073217626\n"
          ]
        }
      ]
    },
    {
      "cell_type": "markdown",
      "source": [
        "2) An insurance company offers insurance for high-speed internet connections. The company guarantees that the average time to transmit a 10 MB file on its network is 7.4 seconds, with a variance of 1.3 seconds². After making some improvements to the network infrastructure, the insurance company wants to verify whether there has been a reduction in the average transmission time. To this end, 10 independent tests were carried out, obtaining the following transmission times (in seconds): 6.8, 7.1, 5.9, 7.5, 6.3, 6.9, 7.2, 7.6, 6.6, 6.3. Considering a significance level of 1%, is there sufficient evidence to state that the average transmission time has been reduced?"
      ],
      "metadata": {
        "id": "tZTSvkHL8A7R"
      }
    },
    {
      "cell_type": "code",
      "source": [
        "from statsmodels.stats.weightstats import DescrStatsW\n",
        "#Hipotese de ser igual, significa um bicaudal com h0 da medias serem iguais\n",
        "#𝐻0:𝜇>=7.4\n",
        "#𝐻1:𝜇 <7.4\n",
        "u=7.4\n",
        "s2=1.3\n",
        "s=sqrt(s)\n",
        "n=10\n",
        "sig=0.01\n",
        "ams = [6.8, 7.1, 5.9 ,7.5, 6.3 ,6.9, 7.2, 7.6 ,6.6 ,6.3]\n",
        "n=len(ams)\n",
        "test = DescrStatsW(ams)\n",
        "test.ttest_mean(value = u, alternative = 'smaller')\n",
        "#rejeita H0 p sig=1%, logo aceita-se que baixou realmente"
      ],
      "metadata": {
        "colab": {
          "base_uri": "https://localhost:8080/"
        },
        "id": "TVGRh16X8aV0",
        "outputId": "2df6ca52-0a8b-4add-c0f5-224617862370"
      },
      "execution_count": 49,
      "outputs": [
        {
          "output_type": "stream",
          "name": "stdout",
          "text": [
            "0.9955760735389294\n",
            "Fail to reject the null hypothesis. There is no evidence that the mean transmission time has decreased.\n"
          ]
        }
      ]
    },
    {
      "cell_type": "markdown",
      "source": [
        "3) An insurance company specializing in construction insurance is evaluating two types of concrete, X and Y, to determine which one offers greater strength and, consequently, less likelihood of claims. Samples of each type of concrete were collected and strength measurements were taken. The results are presented in the table below. Considering a significance level of 10%, is there sufficient evidence to state that concrete type X is stronger than concrete type Y?"
      ],
      "metadata": {
        "id": "GXkASbHl8oEA"
      }
    },
    {
      "cell_type": "code",
      "source": [
        "#𝐻0:𝜇1−𝜇2≤0\n",
        "#𝐻1:𝜇1−𝜇2>0\n",
        "from statsmodels.stats.weightstats import CompareMeans, DescrStatsW\n",
        "X= [54, 55, 58, 50, 61]\n",
        "Y= [51, 54, 55, 52, 53]\n",
        "comparador_medias = CompareMeans(DescrStatsW(X), DescrStatsW(Y))\n",
        "comparador_medias.ttest_ind(alternative='larger', value=0)\n",
        "#Nao se pode rejeita Ho p sig-10%, logo nao se pode dizer que X>Y"
      ],
      "metadata": {
        "colab": {
          "base_uri": "https://localhost:8080/"
        },
        "id": "vfVbBvmf813r",
        "outputId": "b130684d-5844-4ae4-96d1-44fe491e25dd"
      },
      "execution_count": 53,
      "outputs": [
        {
          "output_type": "execute_result",
          "data": {
            "text/plain": [
              "(1.3065491598369765, 0.11383696170651378, 8.0)"
            ]
          },
          "metadata": {},
          "execution_count": 53
        }
      ]
    },
    {
      "cell_type": "markdown",
      "source": [
        "4) An auto insurance company is testing two new types of fuel additives, A and B, to see if they influence the average fuel consumption of a given car model. Ten tests were carried out with each type of additive, in random order, and the results of the average fuel consumption (in km/l) are presented in the table below. Considering a significance level of 5%, is there sufficient evidence to state that additives A and B have different effects on fuel consumption?"
      ],
      "metadata": {
        "id": "q1WSP4ue8_RU"
      }
    },
    {
      "cell_type": "code",
      "source": [
        "from statsmodels.stats.weightstats import CompareMeans, DescrStatsW\n",
        "#𝐻0:𝜇1−𝜇2=0\n",
        "#𝐻1:𝜇1−𝜇2≠0\n",
        "A=[45, 51 ,50 ,62 ,43 ,42 ,53 ,50 ,48 ,55 ]\n",
        "B=[ 45, 35 ,43 ,59 ,48 ,45 ,41 ,43 ,49 ,39]\n",
        "n=len(A)\n",
        "comparador_medias = CompareMeans(DescrStatsW(A), DescrStatsW(B))\n",
        "comparador_medias.ttest_ind(alternative='two-sided', value=0)\n",
        "#nao se pode rejeitar Ho p sig=5%, logo aceita-se que as medias nao sao diferentes com 5% de confianca"
      ],
      "metadata": {
        "colab": {
          "base_uri": "https://localhost:8080/"
        },
        "id": "L8_A92PH8_ig",
        "outputId": "3b4e02ef-0c96-4d5c-b6d6-ee50d5df593d"
      },
      "execution_count": 55,
      "outputs": [
        {
          "output_type": "execute_result",
          "data": {
            "text/plain": [
              "(1.8632262296569337, 0.07883053852610394, 18.0)"
            ]
          },
          "metadata": {},
          "execution_count": 55
        }
      ]
    }
  ]
}