{
  "nbformat": 4,
  "nbformat_minor": 0,
  "metadata": {
    "colab": {
      "provenance": [],
      "authorship_tag": "ABX9TyO6kJptyg2M64DqkNzzW4eu",
      "include_colab_link": true
    },
    "kernelspec": {
      "name": "python3",
      "display_name": "Python 3"
    },
    "language_info": {
      "name": "python"
    }
  },
  "cells": [
    {
      "cell_type": "markdown",
      "metadata": {
        "id": "view-in-github",
        "colab_type": "text"
      },
      "source": [
        "<a href=\"https://colab.research.google.com/github/lcbjrrr/quantai/blob/main/E4_Py_Stat_Hip.ipynb\" target=\"_parent\"><img src=\"https://colab.research.google.com/assets/colab-badge.svg\" alt=\"Open In Colab\"/></a>"
      ]
    },
    {
      "cell_type": "markdown",
      "source": [
        "# Normality Test"
      ],
      "metadata": {
        "id": "57_dSvIbZ0lG"
      }
    },
    {
      "cell_type": "markdown",
      "source": [
        "By examining the shape of the distribution, you can get an idea of whether the data is normally distributed or skewed. However, for a more formal assessment of normality, statistical tests like the Shapiro-Wilk test or the Kolmogorov-Smirnov test are recommended."
      ],
      "metadata": {
        "id": "dI0_s84qm3y6"
      }
    },
    {
      "cell_type": "code",
      "source": [
        "import seaborn as sns\n",
        "premiums = [333,\t320,\t301,\t280,\t270,\t251,\t260,\t255,\t355,\t345,\t355,\t345,\t366,\t352,\t331,\t308,\t297,\t276,\t286,\t281,\t391,\t380,\t391,\t380,\t300,\t288,\t271,\t252,\t243,\t226,\t234,\t230,\t320,\t311,\t320,\t311]\n",
        "sns.distplot(premiums)"
      ],
      "metadata": {
        "colab": {
          "base_uri": "https://localhost:8080/",
          "height": 644
        },
        "id": "ePgdsd6yZ0sL",
        "outputId": "4afcd00f-016b-4d2e-b21d-f7fac96410f0"
      },
      "execution_count": null,
      "outputs": [
        {
          "output_type": "stream",
          "name": "stderr",
          "text": [
            "<ipython-input-20-01111d9ebf8f>:3: UserWarning: \n",
            "\n",
            "`distplot` is a deprecated function and will be removed in seaborn v0.14.0.\n",
            "\n",
            "Please adapt your code to use either `displot` (a figure-level function with\n",
            "similar flexibility) or `histplot` (an axes-level function for histograms).\n",
            "\n",
            "For a guide to updating your code to use the new functions, please see\n",
            "https://gist.github.com/mwaskom/de44147ed2974457ad6372750bbe5751\n",
            "\n",
            "  sns.distplot(premiums)\n"
          ]
        },
        {
          "output_type": "execute_result",
          "data": {
            "text/plain": [
              "<Axes: ylabel='Density'>"
            ]
          },
          "metadata": {},
          "execution_count": 20
        },
        {
          "output_type": "display_data",
          "data": {
            "text/plain": [
              "<Figure size 640x480 with 1 Axes>"
            ],
            "image/png": "[encoded data removed]"
          },
          "metadata": {}
        }
      ]
    },
    {
      "cell_type": "code",
      "source": [
        "from scipy.stats import normaltest\n",
        "normaltest(premiums)"
      ],
      "metadata": {
        "colab": {
          "base_uri": "https://localhost:8080/"
        },
        "id": "tQvDN56HabTr",
        "outputId": "49af5e4e-1acb-4c12-ef4f-a92d1a66994b"
      },
      "execution_count": null,
      "outputs": [
        {
          "output_type": "execute_result",
          "data": {
            "text/plain": [
              "NormaltestResult(statistic=2.8425253227965745, pvalue=0.24140900654140018)"
            ]
          },
          "metadata": {},
          "execution_count": 2
        }
      ]
    },
    {
      "cell_type": "markdown",
      "source": [
        "# Hypothesis Test"
      ],
      "metadata": {
        "id": "y3scJYKoblSK"
      }
    },
    {
      "cell_type": "markdown",
      "source": [
        "## Two-Tailed Test"
      ],
      "metadata": {
        "id": "4-l2vqWdblXl"
      }
    },
    {
      "cell_type": "markdown",
      "source": [
        "\n",
        "\n",
        "The company Suco Bom produces fruit juices in 500 ml packages. Its production process is almost entirely automated and the juice packaging is filled by a machine that sometimes presents a certain misadjustment, leading to errors in filling the packaging with more or less content. When the average volume drops below 500 ml, the company worries about losing sales and having problems with regulatory bodies. When the volume exceeds 500 ml, the company begins to worry about losses in the production process.\n",
        "\n",
        "The quality control sector of the company Suco Bom periodically extracts samples from 50 packages to monitor the production process. For each sample, a hypothesis test is carried out to assess whether the machinery has become out of adjustment. The QA team assumes a 5% significance level.\n",
        "\n",
        "Suppose now that a sample of 50 packages was selected and that the observed sample mean was 503.24 ml and standard deviation 4.48. Is this sample mean value sufficiently greater than 500 ml to make us reject the hypothesis that the process mean is 500 ml at the 5% significance level?"
      ],
      "metadata": {
        "id": "bf851VNZbpzv"
      }
    },
    {
      "cell_type": "code",
      "source": [
        "from scipy.stats import norm\n",
        "from numpy import sqrt\n",
        "#Hipotese de ser igual, significa um bicaudal com h0 da medias serem iguais\n",
        "#𝐻0:𝜇=500\n",
        "#𝐻1:𝜇≠500\n",
        "u=500\n",
        "n =50\n",
        "sig=0.05\n",
        "z_sig_sob2 = norm.ppf(sig/2)\n",
        "print(z_sig_sob2)\n",
        "x=503.24\n",
        "s=4.48\n",
        "z=(x-u)/(s/sqrt(n))\n",
        "z"
      ],
      "metadata": {
        "colab": {
          "base_uri": "https://localhost:8080/"
        },
        "id": "gvA1BRQTblnx",
        "outputId": "0a46a7fe-64ec-4602-8a83-f2e90d5deb76"
      },
      "execution_count": null,
      "outputs": [
        {
          "output_type": "stream",
          "name": "stdout",
          "text": [
            "-1.9599639845400545\n"
          ]
        },
        {
          "output_type": "execute_result",
          "data": {
            "text/plain": [
              "5.113897256795581"
            ]
          },
          "metadata": {},
          "execution_count": 3
        }
      ]
    },
    {
      "cell_type": "code",
      "source": [
        "\n",
        "area=norm.cdf(z)\n",
        "print(area)\n",
        "pvalor=2*(1-area)\n",
        "print(pvalor)\n",
        "if (pvalor <= sig):\n",
        "    print('rejeita h0')\n",
        "else:\n",
        "    print('aceita h0')\n",
        "\n",
        "#Rejeitar  𝐻0  se o valor  𝑝≤𝛼"
      ],
      "metadata": {
        "colab": {
          "base_uri": "https://localhost:8080/"
        },
        "id": "ktFyeD0eb5GC",
        "outputId": "31bdccf8-07c6-48a3-e4c3-adc7c4e08ae4"
      },
      "execution_count": null,
      "outputs": [
        {
          "output_type": "stream",
          "name": "stdout",
          "text": [
            "0.9999998422104751\n",
            "3.155790497810784e-07\n",
            "rejeita h0\n"
          ]
        }
      ]
    },
    {
      "cell_type": "code",
      "source": [
        "from statsmodels.stats.weightstats import ztest\n",
        "amostra = [509, 505, 495, 510, 496, 509, 497, 502, 503, 505,\n",
        "           501, 505, 510, 505, 504, 497, 506, 506, 508, 505,\n",
        "           497, 504, 500, 498, 506, 496, 508, 497, 503, 501,\n",
        "           503, 506, 499, 498, 509, 507, 503, 499, 509, 495,\n",
        "           502, 505, 504, 509, 508, 501, 505, 497, 508, 507]\n",
        "ztest(x1 = amostra, value = u)\n"
      ],
      "metadata": {
        "colab": {
          "base_uri": "https://localhost:8080/"
        },
        "id": "85ME1He4b67t",
        "outputId": "92192136-add0-4d1c-dcac-05b94e87b56f"
      },
      "execution_count": null,
      "outputs": [
        {
          "output_type": "execute_result",
          "data": {
            "text/plain": [
              "(5.109559775991873, 3.229103172445771e-07)"
            ]
          },
          "metadata": {},
          "execution_count": 5
        }
      ]
    },
    {
      "cell_type": "markdown",
      "source": [
        "Conclusion: As the sample mean 𝑥¯ is significantly greater than 500 ml, we reject 𝐻0 . In this case, measures must be taken to adjust the machinery that fills the packages."
      ],
      "metadata": {
        "id": "B6P-8x8ecA26"
      }
    },
    {
      "cell_type": "markdown",
      "source": [
        "## One-tailed Test"
      ],
      "metadata": {
        "id": "38yev04FcA5R"
      }
    },
    {
      "cell_type": "markdown",
      "source": [
        "\n",
        "\n",
        "\n",
        "A famous soft drink manufacturer claims that a 350 ml can of its flagship product contains a maximum of 37 grams of sugar. This claim leads us to understand that the average amount of sugar in a can of soda should be equal to or less than 37 g. A suspicious consumer with knowledge of statistical inference decides to test the manufacturer's claim and selects, at random, from a set of different establishments, a sample of 25 cans of the soft drink in question. Assuming that this population is distributed approximately as normal and considering a significance level of 5%, is it possible to accept the manufacturer's claim as valid?"
      ],
      "metadata": {
        "id": "opuYOCFPcA7v"
      }
    },
    {
      "cell_type": "code",
      "source": [
        "from scipy.stats import t as t_student\n",
        "from numpy import mean, std\n",
        "#𝐻0:𝜇≤37\n",
        "#𝐻1:𝜇>37\n",
        "amostra = [37.27, 36.42, 34.84, 34.60, 37.49,\n",
        "           36.53, 35.49, 36.90, 34.52, 37.30,\n",
        "           34.99, 36.55, 36.29, 36.06, 37.42,\n",
        "           34.47, 36.70, 35.86, 36.80, 36.92,\n",
        "           37.04, 36.39, 37.32, 36.64, 35.45]\n",
        "n=25\n",
        "u=37\n",
        "x=mean(amostra)\n",
        "s=std(amostra)\n",
        "sig<-0.05\n",
        "conf = 1-sig\n",
        "graus_de_lib = n-1\n",
        "t_sig = t_student.ppf(conf, graus_de_lib)\n",
        "print(t_sig)\n",
        "t = (x - u) / (s / sqrt(n))\n",
        "t"
      ],
      "metadata": {
        "colab": {
          "base_uri": "https://localhost:8080/"
        },
        "id": "K3K942h8cJ3E",
        "outputId": "8a8b5b6a-8a17-49a9-c3aa-56b258f35974"
      },
      "execution_count": null,
      "outputs": [
        {
          "output_type": "stream",
          "name": "stdout",
          "text": [
            "1.7108820799094275\n"
          ]
        },
        {
          "output_type": "execute_result",
          "data": {
            "text/plain": [
              "-3.9568374713288734"
            ]
          },
          "metadata": {},
          "execution_count": 6
        }
      ]
    },
    {
      "cell_type": "code",
      "source": [
        "pvalor = 1-t_student.cdf(t, df = graus_de_lib)\n",
        "pvalor\n",
        "#Rejeitar  𝐻0  se o valor  𝑝≤𝛼"
      ],
      "metadata": {
        "colab": {
          "base_uri": "https://localhost:8080/"
        },
        "id": "qzVH8sVVcMHc",
        "outputId": "1de6c75c-81e7-438e-ed88-6567e562c5d1"
      },
      "execution_count": null,
      "outputs": [
        {
          "output_type": "execute_result",
          "data": {
            "text/plain": [
              "0.9997062063779475"
            ]
          },
          "metadata": {},
          "execution_count": 7
        }
      ]
    },
    {
      "cell_type": "code",
      "source": [
        "from statsmodels.stats.weightstats import DescrStatsW\n",
        "test = DescrStatsW(amostra)\n",
        "test.ttest_mean(value = u, alternative = 'larger')"
      ],
      "metadata": {
        "colab": {
          "base_uri": "https://localhost:8080/"
        },
        "id": "Iyk0_MUzcPZz",
        "outputId": "286cf810-7c19-4e9d-bb03-abf4dc16d2c6"
      },
      "execution_count": null,
      "outputs": [
        {
          "output_type": "execute_result",
          "data": {
            "text/plain": [
              "(-3.8768931199520447, 0.9996406170303819, 24.0)"
            ]
          },
          "metadata": {},
          "execution_count": 8
        }
      ]
    },
    {
      "cell_type": "markdown",
      "source": [
        "Conclusion: With a 95% confidence level we cannot reject 𝐻0, that is, the manufacturer's claim is true.\n"
      ],
      "metadata": {
        "id": "VrtuvwBXcP2B"
      }
    },
    {
      "cell_type": "markdown",
      "source": [
        "## Test two samples"
      ],
      "metadata": {
        "id": "SYv4smPKcP4n"
      }
    },
    {
      "cell_type": "markdown",
      "source": [
        "\n",
        "\n",
        "In our dataset we have the income of heads of households obtained from the National Household Sample Survey - PNAD in 2015. A well-known problem in our country concerns income inequality, mainly between men and women.\n",
        "\n",
        "Two random samples, one of 500 men and the other of 500 women, were selected from our dataset. In order to prove this inequality, test the equality of the means between these two samples with a significance level of 1%."
      ],
      "metadata": {
        "id": "5ovok97zcP63"
      }
    },
    {
      "cell_type": "code",
      "source": [
        "homens = [300, 1000, 4000, 5000, 300, 350, 1200, 1200, 1100, 1800, 700, 5000, 250, 1560, 400, 5500, 3000, 0, 1100, 1500, 500, 500, 788, 500, 3000, 788, 2400, 788, 3300, 1350, 2500, 2000, 1300, 2430, 9000, 10120, 1380, 2000, 1400, 1000, 500, 1500, 2200, 2100, 4000, 1000, 1200, 2900, 1800, 2000, 788, 1576, 800, 2400, 788, 788, 788, 0, 12000, 7880, 850, 1000, 1000, 1600, 3800, 788, 1200, 300, 350, 700, 6000, 1500, 5000, 2000, 1200, 800, 250, 800, 1600, 400, 3000, 2304, 800, 1400, 450, 788, 2200, 6000, 1200, 4000, 6000, 1100, 1200, 1300, 3000, 3000, 1500, 1280, 788, 1400, 788, 4000, 0, 1000, 2500, 1300, 3000, 500, 1600, 2000, 1280, 150, 0, 0, 7000, 1061, 700, 788, 2000, 788, 10500, 788, 1600, 1050, 1100, 3000, 800, 1400, 1200, 2500, 1000, 1500, 1500, 900, 2000, 300, 3000, 788, 1400, 2000, 2000, 3000, 2600, 15000, 1500, 950, 1200, 1500, 7500, 1400, 350, 750, 1200, 788, 0, 2500, 1700, 788, 700, 1600, 1200, 320, 6000, 2000, 2000, 3000, 900, 2100, 0, 788, 1800, 1600, 4000, 1300, 1300, 1500, 8900, 1400, 788, 600, 1000, 950, 2000, 4000, 2300, 2000, 800, 2500, 1500, 1400, 800, 6000, 788, 900, 200, 1300, 788, 2600, 1500, 8000, 900, 2000, 2000, 350, 3000, 9580, 0, 400, 800, 1700, 1800, 1200, 18000, 9000, 3000, 1200, 700, 1200, 400, 987, 6000, 2000, 0, 0, 480, 500, 800, 1680, 10000, 1200, 1700, 788, 2200, 10000, 10000, 100, 1200, 1600, 2500, 1300, 1200, 1300, 2200, 200, 60, 1100, 1200, 6000, 4500, 100, 788, 2900, 2500, 900, 788, 2500, 4000, 788, 1400, 1000, 300, 788, 1000, 4000, 2200, 788, 1000, 1000, 600, 1600, 6000, 2500, 2500, 1000, 3000, 2200, 4500, 1500, 4300, 1500, 8500, 3200, 1200, 1200, 1500, 4000, 2000, 1350, 1500, 890, 5000, 2400, 13000, 800, 1500, 1500, 2000, 580, 500, 920, 1200, 2000, 788, 500, 20000, 1350, 1576, 500, 8000, 1800, 600, 1000, 3000, 4000, 1500, 788, 600, 2300, 1500, 500, 500, 800, 900, 8000, 1600, 3000, 788, 1500, 5200, 900, 3565, 650, 1700, 1600, 788, 1200, 788, 788, 100, 900, 1700, 10000, 1600, 200, 788, 1400, 1500, 400, 4200, 1400, 4000, 5516, 3500, 700, 1400, 1200, 0, 7000, 2000, 5000, 2000, 750, 3000, 2000, 1500, 200, 3000, 1700, 1500, 7000, 1500, 788, 2400, 2500, 1500, 2000, 1500, 2000, 1100, 800, 1800, 480, 3500, 700, 3400, 5000, 5000, 1300, 3000, 2000, 900, 2000, 1000, 1800, 0, 1500, 788, 3500, 875, 5000, 2000, 1300, 1600, 0, 750, 1200, 120, 1800, 1200, 788, 1000, 0, 1400, 2300, 7000, 4000, 5000, 788, 20000, 4000, 0, 1200, 1800, 500, 1000, 788, 1300, 5000, 50, 1700, 2000, 1600, 2000, 1350, 1500, 600, 1700, 780, 2446, 2100, 5000, 1700, 1200, 1000, 788, 4500, 1500, 788, 0, 1580, 1000, 4500, 2400, 788, 1100, 2000, 788, 100, 1200, 1200, 1200, 1000, 2000, 788, 2000, 15000, 600, 0, 1500, 3000, 4000, 900, 810, 600, 1500, 4000, 1200, 5000, 5300, 2500, 800, 0, 1400, 1500, 4000, 1200, 400, 1000, 820, 1000, 1000, 788, 1500, 2500, 1500, 220, 600, 788, 1750, 7000]\n",
        "mulheres = [788, 1200, 6000, 1000, 788, 1100, 1900, 1577, 900, 950, 1200, 788, 788, 1100, 30, 620, 900, 1000, 1200, 2000, 0, 500, 1200, 1500, 1200, 1120, 788, 788, 2300, 2400, 3000, 788, 4000, 1000, 500, 500, 1700, 200, 6000, 400, 950, 1100, 50, 930, 850, 1100, 3500, 1500, 1200, 900, 1100, 1500, 788, 1000, 788, 4500, 4000, 8000, 3500, 788, 1050, 1000, 1400, 3500, 600, 3000, 500, 930, 2660, 788, 360, 2364, 788, 160, 1100, 1085, 1050, 1500, 100, 0, 788, 250, 1700, 1300, 800, 0, 2000, 820, 910, 300, 2000, 200, 788, 788, 800, 1500, 1300, 1200, 0, 600, 1036, 400, 1100, 788, 400, 1500, 1200, 1800, 1000, 788, 850, 60, 1800, 3500, 600, 200, 500, 200, 1100, 1540, 1100, 900, 800, 500, 200, 1200, 1250, 788, 500, 200, 788, 200, 0, 1800, 2000, 1000, 900, 3000, 700, 1200, 788, 2800, 3300, 400, 0, 850, 1022, 6000, 750, 1000, 3500, 400, 1500, 1000, 800, 0, 980, 2400, 850, 1100, 788, 1100, 788, 1200, 788, 864, 1000, 500, 400, 3000, 1200, 100, 80, 900, 2000, 1250, 1000, 300, 400, 1500, 60, 8000, 1000, 600, 800, 350, 788, 0, 600, 788, 2500, 1300, 800, 8000, 1100, 800, 900, 2000, 0, 800, 1400, 1000, 1200, 788, 3840, 788, 3940, 788, 560, 800, 2000, 600, 2900, 0, 400, 800, 7000, 788, 788, 788, 788, 1250, 1500, 1386, 100, 300, 788, 788, 600, 600, 900, 2800, 788, 350, 900, 0, 150, 788, 788, 1000, 30, 788, 780, 900, 0, 0, 3000, 1800, 2000, 1100, 788, 0, 7500, 1800, 788, 788, 2000, 3000, 180, 2500, 800, 0, 1250, 200, 1100, 0, 1100, 400, 1300, 300, 0, 1312, 600, 200, 4000, 2400, 12000, 2150, 500, 400, 0, 600, 400, 788, 1200, 500, 2000, 1500, 70, 500, 2000, 1000, 100, 500, 2000, 100, 2115, 800, 5800, 2300, 750, 788, 0, 900, 1000, 600, 3000, 5500, 1600, 788, 4000, 0, 1100, 120, 320, 1100, 2500, 200, 800, 3000, 550, 4200, 7000, 720, 0, 2000, 5000, 2000, 788, 500, 788, 7000, 500, 788, 1760, 1200, 3500, 1500, 150, 800, 788, 3000, 400, 788, 1000, 2000, 2500, 0, 788, 5200, 788, 0, 600, 1300, 120, 850, 1576, 788, 2000, 1300, 788, 800, 1800, 655, 1580, 789, 788, 850, 788, 7000, 788, 430, 800, 788, 900, 10000, 1200, 300, 400, 788, 788, 3000, 900, 1300, 1300, 788, 800, 1000, 1890, 0, 788, 900, 4000, 788, 1010, 150, 450, 1700, 890, 1200, 2800, 1000, 788, 788, 700, 600, 800, 880, 6000, 800, 800, 820, 788, 1030, 560, 2100, 6500, 2500, 788, 400, 300, 788, 2300, 1000, 3500, 984, 1576, 420, 1700, 450, 1800, 400, 1500, 1500, 4256, 1200, 890, 1200, 300, 400, 850, 1500, 3800, 1800, 996, 2000, 1000, 788, 1500, 300, 600, 950, 1200, 788, 1200, 1500, 250, 788, 1200, 6000, 300, 789, 1500, 788, 3800, 780, 1200, 1200, 220, 788, 500, 200, 480, 1576, 1576, 1035, 900, 800, 1000, 805, 200, 1200, 2220, 1500, 880, 220, 2000, 788, 150, 0, 13000, 40, 5500, 788, 788, 1000, 400, 2000, 200, 1600]"
      ],
      "metadata": {
        "id": "Rs_0eubWca2l"
      },
      "execution_count": null,
      "outputs": []
    },
    {
      "cell_type": "code",
      "source": [
        "from numpy import mean, std\n",
        "xH = mean(homens)\n",
        "sH = std(homens)\n",
        "xM = mean(mulheres)\n",
        "sM = std(mulheres)\n",
        "print(xH)\n",
        "print(sH)\n",
        "print(xM)\n",
        "print(sM)"
      ],
      "metadata": {
        "colab": {
          "base_uri": "https://localhost:8080/"
        },
        "id": "m87pPkYWceBL",
        "outputId": "090b0463-916e-4a3e-baa7-bcc5aa53b065"
      },
      "execution_count": null,
      "outputs": [
        {
          "output_type": "stream",
          "name": "stdout",
          "text": [
            "2142.608\n",
            "2545.5014763963504\n",
            "1357.528\n",
            "1568.330503821181\n"
          ]
        }
      ]
    },
    {
      "cell_type": "code",
      "source": [
        "\n",
        "#𝜇1⇒  Média das rendas dos chefes de domicílios do sexo masculino\n",
        "#𝜇2⇒  Média das rendas dos chefes de domicílios do sexo feminino\n",
        "#{𝐻0:𝜇1≤𝜇2\n",
        "#𝐻1:𝜇1>𝜇2\n",
        "#ou\n",
        "#{𝐻0:𝜇1−𝜇2≤0\n",
        "#𝐻1:𝜇1−𝜇2>0\n",
        "sig = 0.01\n",
        "conf = 1 - sig\n",
        "z_sig = norm.ppf(conf)\n",
        "print(z_sig)\n",
        "nM = 500\n",
        "nH = 500\n",
        "D0 = 0\n",
        "numerador = (xH - xM) - D0\n",
        "denominador = sqrt((sH ** 2 / nH) + (sM ** 2 / nM))\n",
        "z = numerador / denominador\n",
        "z"
      ],
      "metadata": {
        "colab": {
          "base_uri": "https://localhost:8080/"
        },
        "id": "L8afeOVTchPy",
        "outputId": "43d1bf2f-68ae-4ed4-f234-0bd044e5720c"
      },
      "execution_count": null,
      "outputs": [
        {
          "output_type": "stream",
          "name": "stdout",
          "text": [
            "2.3263478740408408\n"
          ]
        },
        {
          "output_type": "execute_result",
          "data": {
            "text/plain": [
              "5.871494490942365"
            ]
          },
          "metadata": {},
          "execution_count": 11
        }
      ]
    },
    {
      "cell_type": "code",
      "source": [
        "\n",
        "p_valor = 1-norm.cdf(z)\n",
        "p_valor\n",
        "#Rejeitar  𝐻0  se o valor  𝑝≤𝛼"
      ],
      "metadata": {
        "colab": {
          "base_uri": "https://localhost:8080/"
        },
        "id": "FX-i3Jw1cjE6",
        "outputId": "01310105-40bf-49b1-a557-b929e670d9b8"
      },
      "execution_count": null,
      "outputs": [
        {
          "output_type": "execute_result",
          "data": {
            "text/plain": [
              "2.1594197541219273e-09"
            ]
          },
          "metadata": {},
          "execution_count": 12
        }
      ]
    },
    {
      "cell_type": "code",
      "source": [
        "from statsmodels.stats.weightstats import CompareMeans\n",
        "comparador_medias = CompareMeans(DescrStatsW(homens), DescrStatsW(mulheres))\n",
        "comparador_medias.ztest_ind(alternative='larger', value=0)"
      ],
      "metadata": {
        "colab": {
          "base_uri": "https://localhost:8080/"
        },
        "id": "nBQOp_A3clHz",
        "outputId": "4315f540-cf2f-4f11-9f8a-d6bb3d4d881a"
      },
      "execution_count": null,
      "outputs": [
        {
          "output_type": "execute_result",
          "data": {
            "text/plain": [
              "(5.865620057764754, 2.2372867859458255e-09)"
            ]
          },
          "metadata": {},
          "execution_count": 13
        }
      ]
    },
    {
      "cell_type": "markdown",
      "source": [
        "Conclusion: With a 99% confidence level, we reject 𝐻0, that is, we conclude that the average income of male heads of households is higher than the average income of female heads of households. Confirming the allegation of income inequality between the sexes.\n"
      ],
      "metadata": {
        "id": "YYRyj2FOcl9x"
      }
    },
    {
      "cell_type": "markdown",
      "source": [
        "## Non-Parametric Tests"
      ],
      "metadata": {
        "id": "fdKO80UtcmAM"
      }
    },
    {
      "cell_type": "markdown",
      "source": [
        "\n",
        "### Chi-Square Test (𝜒2)"
      ],
      "metadata": {
        "id": "7_jEnrivcmCq"
      }
    },
    {
      "cell_type": "code",
      "source": [
        "from scipy.stats import chi\n",
        "#𝐻0:𝐹𝐶𝐴𝑅𝐴=𝐹𝐶𝑂𝑅𝑂𝐴\n",
        "#𝐻1:𝐹𝐶𝐴𝑅𝐴≠𝐹𝐶𝑂𝑅𝑂𝐴\n",
        "Fobs =[17, 33]\n",
        "Fesp =[25, 25]\n",
        "sig  = 0.05\n",
        "conf = 1 - sig\n",
        "k = 2 # Número de eventos possíveis\n",
        "graus_de_lib = k - 1\n",
        "chi_2_sig = chi.ppf(conf, graus_de_lib) ** 2\n",
        "print(chi_2_sig)\n",
        "chi_2 = 0\n",
        "for i in range(0,k,1):\n",
        "    chi_2=chi_2+(Fobs[i]-Fesp[i])**2/Fesp[i]\n",
        "\n",
        "chi_2"
      ],
      "metadata": {
        "colab": {
          "base_uri": "https://localhost:8080/"
        },
        "id": "N5VxIReNc4jP",
        "outputId": "29b8d4b9-2bad-4246-d6c8-c10cb56a0782"
      },
      "execution_count": null,
      "outputs": [
        {
          "output_type": "stream",
          "name": "stdout",
          "text": [
            "3.8414588206941245\n"
          ]
        },
        {
          "output_type": "execute_result",
          "data": {
            "text/plain": [
              "5.12"
            ]
          },
          "metadata": {},
          "execution_count": 14
        }
      ]
    },
    {
      "cell_type": "code",
      "source": [
        "from numpy import sqrt\n",
        "1-chi.cdf(sqrt(chi_2), df=graus_de_lib)\n",
        "#Rejeitar  𝐻0  se o valor  𝑝≤𝛼"
      ],
      "metadata": {
        "colab": {
          "base_uri": "https://localhost:8080/"
        },
        "id": "2VxWr_JQc7Xr",
        "outputId": "b1c97a76-221c-4884-9e74-3da00346be09"
      },
      "execution_count": null,
      "outputs": [
        {
          "output_type": "execute_result",
          "data": {
            "text/plain": [
              "0.023651616655355978"
            ]
          },
          "metadata": {},
          "execution_count": 15
        }
      ]
    },
    {
      "cell_type": "code",
      "source": [
        "from scipy.stats import chisquare\n",
        "chisquare(f_obs=Fobs, f_exp=Fesp)"
      ],
      "metadata": {
        "colab": {
          "base_uri": "https://localhost:8080/"
        },
        "id": "PJGYY_Q4c8DV",
        "outputId": "e459d4d7-bad5-4aff-f1b6-686257708f9a"
      },
      "execution_count": null,
      "outputs": [
        {
          "output_type": "execute_result",
          "data": {
            "text/plain": [
              "Power_divergenceResult(statistic=5.12, pvalue=0.023651616655356)"
            ]
          },
          "metadata": {},
          "execution_count": 16
        }
      ]
    },
    {
      "cell_type": "markdown",
      "source": [
        "Conclusion: With a 95% confidence level, we reject the null hypothesis ( 𝐻0 ) and conclude that the observed and expected frequencies are discrepant, that is, the coin is not honest and needs to be replaced.\n",
        "\n"
      ],
      "metadata": {
        "id": "AkCJYJXgc-Y1"
      }
    },
    {
      "cell_type": "markdown",
      "source": [
        "## Paired Test (Wilcoxon Test)"
      ],
      "metadata": {
        "id": "A5qFFnttc-bY"
      }
    },
    {
      "cell_type": "code",
      "source": [
        "import pandas as pd\n",
        "fumo = {\n",
        "    'Antes': [39, 25, 24, 50, 13, 52, 21, 29, 10, 22, 50, 15, 36, 39, 52, 48, 24, 15, 40, 41, 17, 12, 21, 49, 14, 55, 46, 22, 28, 23, 37, 17, 31, 49, 49],\n",
        "    'Depois': [16, 8, 12, 0, 14, 16, 13, 12, 19, 17, 17, 2, 15, 10, 20, 13, 0, 4, 16, 18, 16, 16, 9, 9, 18, 4, 17, 0, 11, 14, 0, 19, 2, 9, 6]\n",
        "}\n",
        "fumo = pd.DataFrame(fumo)\n",
        "fumo.head()"
      ],
      "metadata": {
        "colab": {
          "base_uri": "https://localhost:8080/",
          "height": 206
        },
        "id": "6rubag1wdGya",
        "outputId": "3ef10cb9-74dc-41cb-8dca-1bc439071b1a"
      },
      "execution_count": null,
      "outputs": [
        {
          "output_type": "execute_result",
          "data": {
            "text/plain": [
              "   Antes  Depois\n",
              "0     39      16\n",
              "1     25       8\n",
              "2     24      12\n",
              "3     50       0\n",
              "4     13      14"
            ],
            "text/html": [
              "\n",
              "  <div id=\"df-e0826216-ae52-44fe-82b0-bd699f2d59a2\" class=\"colab-df-container\">\n",
              "    <div>\n",
              "<style scoped>\n",
              "    .dataframe tbody tr th:only-of-type {\n",
              "        vertical-align: middle;\n",
              "    }\n",
              "\n",
              "    .dataframe tbody tr th {\n",
              "        vertical-align: top;\n",
              "    }\n",
              "\n",
              "    .dataframe thead th {\n",
              "        text-align: right;\n",
              "    }\n",
              "</style>\n",
              "<table border=\"1\" class=\"dataframe\">\n",
              "  <thead>\n",
              "    <tr style=\"text-align: right;\">\n",
              "      <th></th>\n",
              "      <th>Antes</th>\n",
              "      <th>Depois</th>\n",
              "    </tr>\n",
              "  </thead>\n",
              "  <tbody>\n",
              "    <tr>\n",
              "      <th>0</th>\n",
              "      <td>39</td>\n",
              "      <td>16</td>\n",
              "    </tr>\n",
              "    <tr>\n",
              "      <th>1</th>\n",
              "      <td>25</td>\n",
              "      <td>8</td>\n",
              "    </tr>\n",
              "    <tr>\n",
              "      <th>2</th>\n",
              "      <td>24</td>\n",
              "      <td>12</td>\n",
              "    </tr>\n",
              "    <tr>\n",
              "      <th>3</th>\n",
              "      <td>50</td>\n",
              "      <td>0</td>\n",
              "    </tr>\n",
              "    <tr>\n",
              "      <th>4</th>\n",
              "      <td>13</td>\n",
              "      <td>14</td>\n",
              "    </tr>\n",
              "  </tbody>\n",
              "</table>\n",
              "</div>\n",
              "    <div class=\"colab-df-buttons\">\n",
              "\n",
              "  <div class=\"colab-df-container\">\n",
              "    <button class=\"colab-df-convert\" onclick=\"convertToInteractive('df-e0826216-ae52-44fe-82b0-bd699f2d59a2')\"\n",
              "            title=\"Convert this dataframe to an interactive table.\"\n",
              "            style=\"display:none;\">\n",
              "\n",
              "  <svg xmlns=\"http://www.w3.org/2000/svg\" height=\"24px\" viewBox=\"0 -960 960 960\">\n",
              "    <path d=\"M120-120v-720h720v720H120Zm60-500h600v-160H180v160Zm220 220h160v-160H400v160Zm0 220h160v-160H400v160ZM180-400h160v-160H180v160Zm440 0h160v-160H620v160ZM180-180h160v-160H180v160Zm440 0h160v-160H620v160Z\"/>\n",
              "  </svg>\n",
              "    </button>\n",
              "\n",
              "  <style>\n",
              "    .colab-df-container {\n",
              "      display:flex;\n",
              "      gap: 12px;\n",
              "    }\n",
              "\n",
              "    .colab-df-convert {\n",
              "      background-color: #E8F0FE;\n",
              "      border: none;\n",
              "      border-radius: 50%;\n",
              "      cursor: pointer;\n",
              "      display: none;\n",
              "      fill: #1967D2;\n",
              "      height: 32px;\n",
              "      padding: 0 0 0 0;\n",
              "      width: 32px;\n",
              "    }\n",
              "\n",
              "    .colab-df-convert:hover {\n",
              "      background-color: #E2EBFA;\n",
              "      box-shadow: 0px 1px 2px rgba(60, 64, 67, 0.3), 0px 1px 3px 1px rgba(60, 64, 67, 0.15);\n",
              "      fill: #174EA6;\n",
              "    }\n",
              "\n",
              "    .colab-df-buttons div {\n",
              "      margin-bottom: 4px;\n",
              "    }\n",
              "\n",
              "    [theme=dark] .colab-df-convert {\n",
              "      background-color: #3B4455;\n",
              "      fill: #D2E3FC;\n",
              "    }\n",
              "\n",
              "    [theme=dark] .colab-df-convert:hover {\n",
              "      background-color: #434B5C;\n",
              "      box-shadow: 0px 1px 3px 1px rgba(0, 0, 0, 0.15);\n",
              "      filter: drop-shadow(0px 1px 2px rgba(0, 0, 0, 0.3));\n",
              "      fill: #FFFFFF;\n",
              "    }\n",
              "  </style>\n",
              "\n",
              "    <script>\n",
              "      const buttonEl =\n",
              "        document.querySelector('#df-e0826216-ae52-44fe-82b0-bd699f2d59a2 button.colab-df-convert');\n",
              "      buttonEl.style.display =\n",
              "        google.colab.kernel.accessAllowed ? 'block' : 'none';\n",
              "\n",
              "      async function convertToInteractive(key) {\n",
              "        const element = document.querySelector('#df-e0826216-ae52-44fe-82b0-bd699f2d59a2');\n",
              "        const dataTable =\n",
              "          await google.colab.kernel.invokeFunction('convertToInteractive',\n",
              "                                                    [key], {});\n",
              "        if (!dataTable) return;\n",
              "\n",
              "        const docLinkHtml = 'Like what you see? Visit the ' +\n",
              "          '<a target=\"_blank\" href=https://colab.research.google.com/notebooks/data_table.ipynb>data table notebook</a>'\n",
              "          + ' to learn more about interactive tables.';\n",
              "        element.innerHTML = '';\n",
              "        dataTable['output_type'] = 'display_data';\n",
              "        await google.colab.output.renderOutput(dataTable, element);\n",
              "        const docLink = document.createElement('div');\n",
              "        docLink.innerHTML = docLinkHtml;\n",
              "        element.appendChild(docLink);\n",
              "      }\n",
              "    </script>\n",
              "  </div>\n",
              "\n",
              "\n",
              "<div id=\"df-326c2e2a-7ff1-453a-86f2-f6882f7aad37\">\n",
              "  <button class=\"colab-df-quickchart\" onclick=\"quickchart('df-326c2e2a-7ff1-453a-86f2-f6882f7aad37')\"\n",
              "            title=\"Suggest charts\"\n",
              "            style=\"display:none;\">\n",
              "\n",
              "<svg xmlns=\"http://www.w3.org/2000/svg\" height=\"24px\"viewBox=\"0 0 24 24\"\n",
              "     width=\"24px\">\n",
              "    <g>\n",
              "        <path d=\"M19 3H5c-1.1 0-2 .9-2 2v14c0 1.1.9 2 2 2h14c1.1 0 2-.9 2-2V5c0-1.1-.9-2-2-2zM9 17H7v-7h2v7zm4 0h-2V7h2v10zm4 0h-2v-4h2v4z\"/>\n",
              "    </g>\n",
              "</svg>\n",
              "  </button>\n",
              "\n",
              "<style>\n",
              "  .colab-df-quickchart {\n",
              "      --bg-color: #E8F0FE;\n",
              "      --fill-color: #1967D2;\n",
              "      --hover-bg-color: #E2EBFA;\n",
              "      --hover-fill-color: #174EA6;\n",
              "      --disabled-fill-color: #AAA;\n",
              "      --disabled-bg-color: #DDD;\n",
              "  }\n",
              "\n",
              "  [theme=dark] .colab-df-quickchart {\n",
              "      --bg-color: #3B4455;\n",
              "      --fill-color: #D2E3FC;\n",
              "      --hover-bg-color: #434B5C;\n",
              "      --hover-fill-color: #FFFFFF;\n",
              "      --disabled-bg-color: #3B4455;\n",
              "      --disabled-fill-color: #666;\n",
              "  }\n",
              "\n",
              "  .colab-df-quickchart {\n",
              "    background-color: var(--bg-color);\n",
              "    border: none;\n",
              "    border-radius: 50%;\n",
              "    cursor: pointer;\n",
              "    display: none;\n",
              "    fill: var(--fill-color);\n",
              "    height: 32px;\n",
              "    padding: 0;\n",
              "    width: 32px;\n",
              "  }\n",
              "\n",
              "  .colab-df-quickchart:hover {\n",
              "    background-color: var(--hover-bg-color);\n",
              "    box-shadow: 0 1px 2px rgba(60, 64, 67, 0.3), 0 1px 3px 1px rgba(60, 64, 67, 0.15);\n",
              "    fill: var(--button-hover-fill-color);\n",
              "  }\n",
              "\n",
              "  .colab-df-quickchart-complete:disabled,\n",
              "  .colab-df-quickchart-complete:disabled:hover {\n",
              "    background-color: var(--disabled-bg-color);\n",
              "    fill: var(--disabled-fill-color);\n",
              "    box-shadow: none;\n",
              "  }\n",
              "\n",
              "  .colab-df-spinner {\n",
              "    border: 2px solid var(--fill-color);\n",
              "    border-color: transparent;\n",
              "    border-bottom-color: var(--fill-color);\n",
              "    animation:\n",
              "      spin 1s steps(1) infinite;\n",
              "  }\n",
              "\n",
              "  @keyframes spin {\n",
              "    0% {\n",
              "      border-color: transparent;\n",
              "      border-bottom-color: var(--fill-color);\n",
              "      border-left-color: var(--fill-color);\n",
              "    }\n",
              "    20% {\n",
              "      border-color: transparent;\n",
              "      border-left-color: var(--fill-color);\n",
              "      border-top-color: var(--fill-color);\n",
              "    }\n",
              "    30% {\n",
              "      border-color: transparent;\n",
              "      border-left-color: var(--fill-color);\n",
              "      border-top-color: var(--fill-color);\n",
              "      border-right-color: var(--fill-color);\n",
              "    }\n",
              "    40% {\n",
              "      border-color: transparent;\n",
              "      border-right-color: var(--fill-color);\n",
              "      border-top-color: var(--fill-color);\n",
              "    }\n",
              "    60% {\n",
              "      border-color: transparent;\n",
              "      border-right-color: var(--fill-color);\n",
              "    }\n",
              "    80% {\n",
              "      border-color: transparent;\n",
              "      border-right-color: var(--fill-color);\n",
              "      border-bottom-color: var(--fill-color);\n",
              "    }\n",
              "    90% {\n",
              "      border-color: transparent;\n",
              "      border-bottom-color: var(--fill-color);\n",
              "    }\n",
              "  }\n",
              "</style>\n",
              "\n",
              "  <script>\n",
              "    async function quickchart(key) {\n",
              "      const quickchartButtonEl =\n",
              "        document.querySelector('#' + key + ' button');\n",
              "      quickchartButtonEl.disabled = true;  // To prevent multiple clicks.\n",
              "      quickchartButtonEl.classList.add('colab-df-spinner');\n",
              "      try {\n",
              "        const charts = await google.colab.kernel.invokeFunction(\n",
              "            'suggestCharts', [key], {});\n",
              "      } catch (error) {\n",
              "        console.error('Error during call to suggestCharts:', error);\n",
              "      }\n",
              "      quickchartButtonEl.classList.remove('colab-df-spinner');\n",
              "      quickchartButtonEl.classList.add('colab-df-quickchart-complete');\n",
              "    }\n",
              "    (() => {\n",
              "      let quickchartButtonEl =\n",
              "        document.querySelector('#df-326c2e2a-7ff1-453a-86f2-f6882f7aad37 button');\n",
              "      quickchartButtonEl.style.display =\n",
              "        google.colab.kernel.accessAllowed ? 'block' : 'none';\n",
              "    })();\n",
              "  </script>\n",
              "</div>\n",
              "\n",
              "    </div>\n",
              "  </div>\n"
            ],
            "application/vnd.google.colaboratory.intrinsic+json": {
              "type": "dataframe",
              "variable_name": "fumo",
              "summary": "{\n  \"name\": \"fumo\",\n  \"rows\": 35,\n  \"fields\": [\n    {\n      \"column\": \"Antes\",\n      \"properties\": {\n        \"dtype\": \"number\",\n        \"std\": 14,\n        \"min\": 10,\n        \"max\": 55,\n        \"num_unique_values\": 25,\n        \"samples\": [\n          10,\n          12,\n          39\n        ],\n        \"semantic_type\": \"\",\n        \"description\": \"\"\n      }\n    },\n    {\n      \"column\": \"Depois\",\n      \"properties\": {\n        \"dtype\": \"number\",\n        \"std\": 6,\n        \"min\": 0,\n        \"max\": 20,\n        \"num_unique_values\": 17,\n        \"samples\": [\n          16,\n          8,\n          13\n        ],\n        \"semantic_type\": \"\",\n        \"description\": \"\"\n      }\n    }\n  ]\n}"
            }
          },
          "metadata": {},
          "execution_count": 17
        }
      ]
    },
    {
      "cell_type": "code",
      "source": [
        "from scipy.stats import wilcoxon\n",
        "significancia = 0.05\n",
        "confianca = 1 - significancia\n",
        "n = 35\n",
        "wilcoxon(fumo['Antes'], fumo['Depois'])"
      ],
      "metadata": {
        "colab": {
          "base_uri": "https://localhost:8080/"
        },
        "id": "rwHvuppVdKAl",
        "outputId": "ea642c96-455b-41c9-d19b-892ac46f4ffd"
      },
      "execution_count": null,
      "outputs": [
        {
          "output_type": "execute_result",
          "data": {
            "text/plain": [
              "WilcoxonResult(statistic=22.0, pvalue=3.119930624961853e-08)"
            ]
          },
          "metadata": {},
          "execution_count": 18
        }
      ]
    },
    {
      "cell_type": "markdown",
      "source": [
        "Conclusion: We reject the hypothesis that there is no difference between the groups, that is, there is a difference between the average number of cigarettes smoked by patients before and after treatment. And as it is possible to verify through the average number of cigarettes smoked per day before (31.86) and after (11.2) the treatment, we can conclude that the treatment presented a satisfactory result."
      ],
      "metadata": {
        "id": "VzBfD0ZUc-d2"
      }
    },
    {
      "cell_type": "markdown",
      "source": [
        "# Activities"
      ],
      "metadata": {
        "id": "mLmRFh6V7tgr"
      }
    },
    {
      "cell_type": "markdown",
      "source": [
        "1) Uma seguradora especializada em seguros para indústrias cerâmicas possui um histórico de sinistros relacionados à ruptura de peças cerâmicas. Para um determinado tipo de peça, a resistência média histórica é de 53 MPa, com um desvio padrão de 4 MPa (variância de 16 MPa²). Após uma mudança nos fornecedores de matérias-primas, a seguradora deseja avaliar se a resistência média das peças foi alterada. Para isso, foram coletadas 15 amostras de peças, obtendo-se uma média amostral de 50 MPa. Considerando um nível de significância de 5%, qual é a conclusão da seguradora sobre a mudança na resistência das peças?"
      ],
      "metadata": {
        "id": "yhJMDdjH7tn_"
      }
    },
    {
      "cell_type": "code",
      "source": [
        "import scipy.stats as stats\n",
        "\n",
        "mu = 53  # Population mean\n",
        "sigma = 4  # Population standard deviation\n",
        "n = 15  # Sample size\n",
        "x_bar = 50  # Sample mean\n",
        "alpha = 0.05  # Significance level\n",
        "\n",
        "# Calculate the test statistic (t-score)\n",
        "t_score = (x_bar - mu) / (sigma / (n**0.5))\n",
        "\n",
        "# Calculate the p-value\n",
        "p_value = stats.t.sf(abs(t_score), df=n-1) * 2  # Two-tailed test\n",
        "\n",
        "# Decision rule:\n",
        "if p_value < alpha:\n",
        "    print(\"Reject the null hypothesis. There is evidence that the mean resistance has changed.\")\n",
        "else:\n",
        "    print(\"Fail to reject the null hypothesis. There is no evidence that the mean resistance has changed.\")"
      ],
      "metadata": {
        "colab": {
          "base_uri": "https://localhost:8080/"
        },
        "id": "hK0xbJfX7xDt",
        "outputId": "ce33ede3-5dbb-4799-d81d-591f2e66d2d8"
      },
      "execution_count": null,
      "outputs": [
        {
          "output_type": "stream",
          "name": "stdout",
          "text": [
            "Reject the null hypothesis. There is evidence that the mean resistance has changed.\n"
          ]
        }
      ]
    },
    {
      "cell_type": "markdown",
      "source": [
        "2) Uma seguradora oferece um seguro para conexões de internet de alta velocidade. A empresa garante que o tempo médio para transmitir um arquivo de 10 MB em sua rede é de 7,4 segundos, com uma variância de 1,3 segundos². Após realizar algumas melhorias na infraestrutura da rede, a seguradora deseja verificar se houve uma redução no tempo médio de transmissão. Para isso, foram realizados 10 testes independentes, obtendo-se os seguintes tempos de transmissão (em segundos): 6,8, 7,1, 5,9, 7,5, 6,3, 6,9, 7,2, 7,6, 6,6, 6,3. Considerando um nível de significância de 1%, existe evidência suficiente para afirmar que o tempo médio de transmissão foi reduzido?"
      ],
      "metadata": {
        "id": "tZTSvkHL8A7R"
      }
    },
    {
      "cell_type": "code",
      "source": [
        "import scipy.stats as stats\n",
        "\n",
        "# Given data\n",
        "mu = 7.4  # Population mean\n",
        "sigma = 1.3**0.5  # Population standard deviation\n",
        "n = 10  # Sample size\n",
        "sample_data = [6.8, 7.1, 5.9, 7.5, 6.3, 6.9, 7.2, 7.6, 6.6, 6.3]\n",
        "\n",
        "# Calculate sample mean and standard deviation\n",
        "sample_mean = sum(sample_data) / n\n",
        "sample_std = stats.tstd(sample_data)\n",
        "\n",
        "# Calculate the t-statistic\n",
        "t_statistic = (sample_mean - mu) / (sample_std / n**0.5)\n",
        "\n",
        "# Set the significance level (alpha)\n",
        "alpha = 0.01\n",
        "\n",
        "# Calculate the p-value (one-tailed test)\n",
        "p_value = stats.t.sf(t_statistic, df=n-1)\n",
        "\n",
        "# Decision rule:\n",
        "if p_value < alpha:\n",
        "    print(\"Reject the null hypothesis. There is evidence that the mean transmission time has decreased.\")\n",
        "else:\n",
        "    print(\"Fail to reject the null hypothesis. There is no evidence that the mean transmission time has decreased.\")"
      ],
      "metadata": {
        "colab": {
          "base_uri": "https://localhost:8080/"
        },
        "id": "TVGRh16X8aV0",
        "outputId": "77f86ae1-4bea-4bd0-85d8-a154ad0c366a"
      },
      "execution_count": null,
      "outputs": [
        {
          "output_type": "stream",
          "name": "stdout",
          "text": [
            "Fail to reject the null hypothesis. There is no evidence that the mean transmission time has decreased.\n"
          ]
        }
      ]
    },
    {
      "cell_type": "markdown",
      "source": [
        "3) Uma seguradora especializada em seguros para construções está avaliando dois tipos de concreto, X e Y, para determinar qual deles oferece maior resistência e, consequentemente, menor probabilidade de sinistros. Foram coletadas amostras de cada tipo de concreto e realizadas medições de resistência. Os resultados estão apresentados na tabela abaixo. Considerando um nível de significância de 10%, existe evidência suficiente para afirmar que o concreto do tipo X é mais resistente do que o concreto do tipo Y?"
      ],
      "metadata": {
        "id": "GXkASbHl8oEA"
      }
    },
    {
      "cell_type": "code",
      "source": [
        "import scipy.stats as stats\n",
        "\n",
        "# Data for Type X\n",
        "x_data = [54, 55, 58, 50, 61]\n",
        "\n",
        "# Data for Type Y\n",
        "y_data = [51, 54, 55, 52, 53]\n",
        "\n",
        "# Calculate sample means and standard deviations\n",
        "x_mean = sum(x_data) / len(x_data)\n",
        "y_mean = sum(y_data) / len(y_data)\n",
        "\n",
        "x_std = stats.tstd(x_data)\n",
        "y_std = stats.tstd(y_data)\n",
        "\n",
        "# Calculate the pooled standard deviation\n",
        "n1 = len(x_data)\n",
        "n2 = len(y_data)\n",
        "sp = ((n1-1)*x_std**2 + (n2-1)*y_std**2) / (n1+n2-2)\n",
        "\n",
        "# Calculate the t-statistic\n",
        "t_statistic = (x_mean - y_mean) / (sp * ((1/n1) + (1/n2))**0.5)\n",
        "\n",
        "# Calculate the degrees of freedom\n",
        "df = n1 + n2 - 2\n",
        "\n",
        "# Set the significance level (alpha)\n",
        "alpha = 0.1\n",
        "\n",
        "# Calculate the p-value (one-tailed test)\n",
        "p_value = stats.t.sf(t_statistic, df=df)\n",
        "\n",
        "# Decision rule:\n",
        "if p_value < alpha:\n",
        "    print(\"Reject the null hypothesis. There is evidence that Type X concrete is stronger than Type Y.\")\n",
        "else:\n",
        "    print(\"Fail to reject the null hypothesis. There is no evidence that Type X concrete is stronger than Type Y.\")"
      ],
      "metadata": {
        "colab": {
          "base_uri": "https://localhost:8080/"
        },
        "id": "vfVbBvmf813r",
        "outputId": "ca82b35a-eab6-41b9-9339-137f8a0e56af"
      },
      "execution_count": null,
      "outputs": [
        {
          "output_type": "stream",
          "name": "stdout",
          "text": [
            "Fail to reject the null hypothesis. There is no evidence that Type X concrete is stronger than Type Y.\n"
          ]
        }
      ]
    },
    {
      "cell_type": "markdown",
      "source": [
        "4) Uma seguradora de automóveis está testando dois novos tipos de aditivos para combustível, A e B, com o objetivo de verificar se eles influenciam no consumo médio de um determinado modelo de carro. Foram realizados 10 testes com cada tipo de aditivo, em ordem aleatória, e os resultados do consumo médio (em km/l) estão apresentados na tabela abaixo. Considerando um nível de significância de 5%, existe evidência suficiente para afirmar que os aditivos A e B possuem efeitos diferentes no consumo de combustível?"
      ],
      "metadata": {
        "id": "q1WSP4ue8_RU"
      }
    },
    {
      "cell_type": "code",
      "source": [
        "import scipy.stats as stats\n",
        "\n",
        "# Data for Catalyst A\n",
        "a_data = [45, 51, 50, 62, 43, 42, 53, 50, 48, 55]\n",
        "\n",
        "# Data for Catalyst B\n",
        "b_data = [45, 35, 43, 59, 48, 45, 41, 43, 49, 39]\n",
        "\n",
        "# Calculate sample means and standard deviations\n",
        "a_mean = sum(a_data) / len(a_data)\n",
        "b_mean = sum(b_data) / len(b_data)\n",
        "\n",
        "a_std = stats.tstd(a_data)\n",
        "b_std = stats.tstd(b_data)\n",
        "\n",
        "# Calculate the pooled standard deviation\n",
        "n1 = len(a_data)\n",
        "n2 = len(b_data)\n",
        "sp = ((n1-1)*a_std**2 + (n2-1)*b_std**2) / (n1+n2-2)\n",
        "\n",
        "# Calculate the t-statistic\n",
        "t_statistic = (a_mean - b_mean) / (sp * ((1/n1) + (1/n2))**0.5)\n",
        "\n",
        "# Calculate the degrees of freedom\n",
        "df = n1 + n2 - 2\n",
        "\n",
        "# Set the significance level (alpha)\n",
        "alpha = 0.05\n",
        "\n",
        "# Calculate the p-value (two-tailed test)\n",
        "p_value = stats.t.sf(abs(t_statistic), df=df) * 2\n",
        "\n",
        "# Decision rule:\n",
        "if p_value < alpha:\n",
        "    print(\"Reject the null hypothesis. There is evidence that the two catalysts have different effects on the reaction yield.\")\n",
        "else:\n",
        "    print(\"Fail to reject the null hypothesis. There is no evidence that the two catalysts have different effects on the reaction yield.\")"
      ],
      "metadata": {
        "colab": {
          "base_uri": "https://localhost:8080/"
        },
        "id": "L8_A92PH8_ig",
        "outputId": "8fec8721-53cd-4f35-da7a-f595f1e84ac5"
      },
      "execution_count": null,
      "outputs": [
        {
          "output_type": "stream",
          "name": "stdout",
          "text": [
            "Fail to reject the null hypothesis. There is no evidence that the two catalysts have different effects on the reaction yield.\n"
          ]
        }
      ]
    }
  ]
}