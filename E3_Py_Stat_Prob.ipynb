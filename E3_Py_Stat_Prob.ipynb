{
  "nbformat": 4,
  "nbformat_minor": 0,
  "metadata": {
    "colab": {
      "provenance": [],
      "authorship_tag": "ABX9TyOr7poitk0SC24SEIEFFgmi",
      "include_colab_link": true
    },
    "kernelspec": {
      "name": "python3",
      "display_name": "Python 3"
    },
    "language_info": {
      "name": "python"
    }
  },
  "cells": [
    {
      "cell_type": "markdown",
      "metadata": {
        "id": "view-in-github",
        "colab_type": "text"
      },
      "source": [
        "<a href=\"https://colab.research.google.com/github/lcbjrrr/quantai/blob/main/E3_Py_Stat_Prob.ipynb\" target=\"_parent\"><img src=\"https://colab.research.google.com/assets/colab-badge.svg\" alt=\"Open In Colab\"/></a>"
      ]
    },
    {
      "cell_type": "markdown",
      "source": [
        "# Probability."
      ],
      "metadata": {
        "id": "e6GjbaF0BBys"
      }
    },
    {
      "cell_type": "markdown",
      "source": [
        "## Examples"
      ],
      "metadata": {
        "id": "kWQSsOUnBZK3"
      }
    },
    {
      "cell_type": "markdown",
      "source": [
        "What is the percentage of people under 1.8 mt high"
      ],
      "metadata": {
        "id": "cb6ZSkGjBguS"
      }
    },
    {
      "cell_type": "code",
      "source": [
        "from scipy.stats import norm\n",
        "x=1.8\n",
        "u=1.7\n",
        "o=0.1\n",
        "Z= (x-u)/o\n",
        "print(Z) #normalizacao\n",
        "um_oitenta = norm.cdf(Z)\n",
        "print(um_oitenta)"
      ],
      "metadata": {
        "colab": {
          "base_uri": "https://localhost:8080/"
        },
        "id": "LumUdoVEBDI7",
        "outputId": "a801dee3-42c6-413b-fa73-88bd5d44431f"
      },
      "execution_count": null,
      "outputs": [
        {
          "output_type": "stream",
          "name": "stdout",
          "text": [
            "1.0000000000000009\n",
            "0.8413447460685431\n"
          ]
        }
      ]
    },
    {
      "cell_type": "markdown",
      "source": [
        "Percentage of people with height between 1.6 and 1.8"
      ],
      "metadata": {
        "id": "vfe7Bu0cCIn2"
      }
    },
    {
      "cell_type": "code",
      "source": [
        "x=1.6\n",
        "Z= (x-u)/o\n",
        "print(Z) #normalizacao\n",
        "print(norm.cdf(Z))\n",
        "um_oitenta - norm.cdf(Z)"
      ],
      "metadata": {
        "colab": {
          "base_uri": "https://localhost:8080/"
        },
        "id": "1QNzkp_NBFP5",
        "outputId": "6b09b35f-f073-4037-e3f9-73544d611bc3"
      },
      "execution_count": null,
      "outputs": [
        {
          "output_type": "stream",
          "name": "stdout",
          "text": [
            "-0.9999999999999987\n",
            "0.1586552539314574\n"
          ]
        },
        {
          "output_type": "execute_result",
          "data": {
            "text/plain": [
              "0.6826894921370857"
            ]
          },
          "metadata": {},
          "execution_count": 3
        }
      ]
    },
    {
      "cell_type": "markdown",
      "source": [
        "Percentage of people higher than 1.9"
      ],
      "metadata": {
        "id": "Fq6Me4DuCUIo"
      }
    },
    {
      "cell_type": "code",
      "source": [
        "x=1.9\n",
        "Z= (x-u)/o\n",
        "print(Z) #normalizacao\n",
        "print(norm.cdf(Z))\n",
        "1-norm.cdf(Z)"
      ],
      "metadata": {
        "colab": {
          "base_uri": "https://localhost:8080/"
        },
        "id": "GD3OrVxTCTdC",
        "outputId": "82b1d19e-97b2-49bf-d896-134a64606567"
      },
      "execution_count": null,
      "outputs": [
        {
          "output_type": "stream",
          "name": "stdout",
          "text": [
            "1.9999999999999996\n",
            "0.9772498680518208\n"
          ]
        },
        {
          "output_type": "execute_result",
          "data": {
            "text/plain": [
              "0.02275013194817921"
            ]
          },
          "metadata": {},
          "execution_count": 4
        }
      ]
    },
    {
      "cell_type": "markdown",
      "source": [
        "## Sampleling"
      ],
      "metadata": {
        "id": "w6pjUQ94Ca7d"
      }
    },
    {
      "cell_type": "markdown",
      "source": [
        "### Central Limit Theory"
      ],
      "metadata": {
        "id": "v970uQ_DFn81"
      }
    },
    {
      "cell_type": "code",
      "source": [
        "premiums = [333,\t320,\t301,\t280,\t270,\t251,\t260,\t255,\t355,\t345,\t355,\t345,\t366,\t352,\t331,\t308,\t297,\t276,\t286,\t281,\t391,\t380,\t391,\t380,\t300,\t288,\t271,\t252,\t243,\t226,\t234,\t230,\t320,\t311,\t320,\t311]\n"
      ],
      "metadata": {
        "id": "KBoKhqdTCcVy"
      },
      "execution_count": null,
      "outputs": []
    },
    {
      "cell_type": "code",
      "source": [
        "import numpy as np\n",
        "np.mean(premiums)"
      ],
      "metadata": {
        "colab": {
          "base_uri": "https://localhost:8080/"
        },
        "id": "ZZRdpwREDtem",
        "outputId": "67425e73-4db0-4e32-85f0-832f8b29fbda"
      },
      "execution_count": null,
      "outputs": [
        {
          "output_type": "execute_result",
          "data": {
            "text/plain": [
              "305.97222222222223"
            ]
          },
          "metadata": {},
          "execution_count": 13
        }
      ]
    },
    {
      "cell_type": "code",
      "source": [
        "import numpy.random as rd\n",
        "sample = rd.choice(premiums, 10)\n",
        "print(sample)\n",
        "np.mean(sample)"
      ],
      "metadata": {
        "colab": {
          "base_uri": "https://localhost:8080/"
        },
        "id": "Nw-pWp7WECE0",
        "outputId": "b841e10b-5f0a-45ea-d28a-47e641e7dc9e"
      },
      "execution_count": null,
      "outputs": [
        {
          "output_type": "stream",
          "name": "stdout",
          "text": [
            "[251 366 271 252 281 331 345 234 391 230]\n"
          ]
        },
        {
          "output_type": "execute_result",
          "data": {
            "text/plain": [
              "295.2"
            ]
          },
          "metadata": {},
          "execution_count": 17
        }
      ]
    },
    {
      "cell_type": "code",
      "source": [
        "u_samples=[]\n",
        "n=30 # sample size\n",
        "for i in range(200):\n",
        "    sample = rd.choice(premiums, n)\n",
        "    u_samples.append(np.mean(sample))\n",
        "print(u_samples)\n",
        "np.mean(u_samples)"
      ],
      "metadata": {
        "colab": {
          "base_uri": "https://localhost:8080/"
        },
        "id": "95DZ_bfzFli9",
        "outputId": "98abd676-7e0c-4287-a0e6-ba217c68cf9d"
      },
      "execution_count": null,
      "outputs": [
        {
          "output_type": "stream",
          "name": "stdout",
          "text": [
            "[297.8666666666667, 308.6666666666667, 293.8666666666667, 319.4, 317.8666666666667, 304.1666666666667, 313.53333333333336, 302.1666666666667, 315.93333333333334, 319.3, 293.6333333333333, 309.93333333333334, 305.6, 310.06666666666666, 308.1333333333333, 305.6, 291.26666666666665, 300.73333333333335, 306.06666666666666, 308.8333333333333, 310.8, 318.7, 291.5, 319.03333333333336, 328.8666666666667, 309.1666666666667, 318.43333333333334, 320.1666666666667, 320.06666666666666, 308.93333333333334, 302.3, 311.4, 314.8333333333333, 306.03333333333336, 315.2, 296.6333333333333, 307.93333333333334, 299.7, 304.1333333333333, 314.1333333333333, 296.23333333333335, 303.53333333333336, 308.03333333333336, 307.3, 293.56666666666666, 305.8, 312.26666666666665, 299.3333333333333, 304.23333333333335, 289.23333333333335, 296.56666666666666, 302.93333333333334, 310.43333333333334, 296.0, 318.4, 300.9, 314.1, 307.56666666666666, 309.0, 299.76666666666665, 309.8666666666667, 302.76666666666665, 306.7, 296.26666666666665, 304.8333333333333, 296.43333333333334, 308.1333333333333, 301.56666666666666, 300.6, 299.6, 309.76666666666665, 305.6666666666667, 307.7, 307.7, 305.2, 303.46666666666664, 302.96666666666664, 313.23333333333335, 294.1666666666667, 297.73333333333335, 301.26666666666665, 306.26666666666665, 310.53333333333336, 304.1, 312.46666666666664, 313.93333333333334, 301.73333333333335, 306.76666666666665, 318.8, 307.8333333333333, 294.23333333333335, 308.8333333333333, 318.73333333333335, 294.0, 309.8666666666667, 305.03333333333336, 292.6666666666667, 318.4, 303.9, 302.8, 320.7, 307.0, 295.3333333333333, 295.1666666666667, 306.06666666666666, 303.76666666666665, 312.8333333333333, 292.1, 295.06666666666666, 301.9, 288.76666666666665, 316.26666666666665, 302.3333333333333, 311.1, 302.73333333333335, 296.0, 304.56666666666666, 305.8, 294.76666666666665, 319.06666666666666, 292.93333333333334, 316.8, 309.56666666666666, 311.03333333333336, 316.46666666666664, 308.8, 300.8, 299.0, 309.6333333333333, 290.6333333333333, 316.1666666666667, 312.26666666666665, 304.06666666666666, 296.8333333333333, 313.06666666666666, 322.1333333333333, 305.3666666666667, 304.56666666666666, 306.76666666666665, 317.1, 309.3666666666667, 308.9, 315.93333333333334, 307.1666666666667, 316.3666666666667, 303.8666666666667, 308.3666666666667, 308.93333333333334, 322.7, 302.3666666666667, 314.53333333333336, 310.53333333333336, 291.26666666666665, 314.1666666666667, 306.06666666666666, 321.23333333333335, 306.53333333333336, 305.2, 311.2, 317.76666666666665, 307.8, 313.0, 309.96666666666664, 299.06666666666666, 305.03333333333336, 307.3333333333333, 307.6666666666667, 309.46666666666664, 311.9, 310.9, 307.0, 291.76666666666665, 326.03333333333336, 316.53333333333336, 305.76666666666665, 317.46666666666664, 301.56666666666666, 299.0, 301.1666666666667, 295.43333333333334, 304.3, 321.53333333333336, 297.53333333333336, 311.73333333333335, 318.6666666666667, 302.6, 300.6, 309.76666666666665, 302.3, 300.56666666666666, 305.6333333333333, 308.03333333333336, 312.73333333333335, 289.8, 299.26666666666665, 312.4, 297.8666666666667, 300.46666666666664, 305.6, 317.96666666666664]\n"
          ]
        },
        {
          "output_type": "execute_result",
          "data": {
            "text/plain": [
              "306.6168333333333"
            ]
          },
          "metadata": {},
          "execution_count": 71
        }
      ]
    },
    {
      "cell_type": "code",
      "source": [
        "import seaborn as sns\n",
        "sns.distplot(u_samples)"
      ],
      "metadata": {
        "colab": {
          "base_uri": "https://localhost:8080/",
          "height": 638
        },
        "collapsed": true,
        "id": "So962XSrGTtp",
        "outputId": "c9ed9a16-9788-4296-d99f-46856e2cf03a"
      },
      "execution_count": null,
      "outputs": [
        {
          "output_type": "stream",
          "name": "stderr",
          "text": [
            "<ipython-input-24-b2c6572cf39a>:2: UserWarning: \n",
            "\n",
            "`distplot` is a deprecated function and will be removed in seaborn v0.14.0.\n",
            "\n",
            "Please adapt your code to use either `displot` (a figure-level function with\n",
            "similar flexibility) or `histplot` (an axes-level function for histograms).\n",
            "\n",
            "For a guide to updating your code to use the new functions, please see\n",
            "https://gist.github.com/mwaskom/de44147ed2974457ad6372750bbe5751\n",
            "\n",
            "  sns.distplot(u_samples)\n"
          ]
        },
        {
          "output_type": "execute_result",
          "data": {
            "text/plain": [
              "<Axes: ylabel='Density'>"
            ]
          },
          "metadata": {},
          "execution_count": 24
        },
        {
          "output_type": "display_data",
          "data": {
            "text/plain": [
              "<Figure size 640x480 with 1 Axes>"
            ],
            "image/png": "[encoded data removed]"
          },
          "metadata": {}
        }
      ]
    },
    {
      "cell_type": "code",
      "source": [
        "from math import sqrt\n",
        "print(np.std(u_samples))\n",
        "np.std(premiums) / sqrt(n)"
      ],
      "metadata": {
        "colab": {
          "base_uri": "https://localhost:8080/"
        },
        "id": "FkRQshamGdG6",
        "outputId": "5e6e1da1-0f23-480a-8eda-ac9a50fbb269"
      },
      "execution_count": null,
      "outputs": [
        {
          "output_type": "stream",
          "name": "stdout",
          "text": [
            "8.1064151533763\n"
          ]
        },
        {
          "output_type": "execute_result",
          "data": {
            "text/plain": [
              "8.527350996679807"
            ]
          },
          "metadata": {},
          "execution_count": 72
        }
      ]
    },
    {
      "cell_type": "markdown",
      "source": [
        "### Example"
      ],
      "metadata": {
        "id": "BRsBybhbJSPU"
      }
    },
    {
      "cell_type": "markdown",
      "source": [
        "In the IBGE database for salaries less than R$5,000. Taking samples of 500 interviewees, what is the average salary, inferential error and confidence interval for a significance level of 5%?"
      ],
      "metadata": {
        "id": "pIawm-2uJUHu"
      }
    },
    {
      "cell_type": "code",
      "source": [
        "ages =[23,\t24,\t31,\t33,\t40,\t44,\t55,\t56,\t18,\t19,\t28,\t29,\t37,\t40,\t48,\t53,\t66,\t67,\t22,\t23,\t32,\t34,\t43,\t46,\t56,\t62,\t77,\t78,\t25,\t27,\t37,\t38,\t50,\t53,\t64,\t70,\t88,\t90,\t29,\t30]\n",
        "u = np.mean(ages)\n",
        "s = np.std(ages)\n",
        "print(u)\n",
        "print(s)"
      ],
      "metadata": {
        "colab": {
          "base_uri": "https://localhost:8080/"
        },
        "id": "FJY63sS8JUN8",
        "outputId": "f320e2db-9c6b-4b10-b9f7-7da4f4c4aed6"
      },
      "execution_count": null,
      "outputs": [
        {
          "output_type": "stream",
          "name": "stdout",
          "text": [
            "44.625\n",
            "19.132024853632196\n"
          ]
        }
      ]
    },
    {
      "cell_type": "code",
      "source": [
        "Z = norm.ppf(.975)\n",
        "n = 30\n",
        "e = Z * (s / sqrt(n))\n",
        "e"
      ],
      "metadata": {
        "colab": {
          "base_uri": "https://localhost:8080/"
        },
        "id": "vYJpVMF8JuWD",
        "outputId": "f267b587-f31b-4b98-ebf7-017f1058cc08"
      },
      "execution_count": null,
      "outputs": [
        {
          "output_type": "execute_result",
          "data": {
            "text/plain": [
              "6.846181365113965"
            ]
          },
          "metadata": {},
          "execution_count": 69
        }
      ]
    },
    {
      "cell_type": "code",
      "source": [
        "inf_lim = u - (Z * s / sqrt(n))\n",
        "sup_lim = u + (Z * s / sqrt(n))\n",
        "print(inf_lim,sup_lim)"
      ],
      "metadata": {
        "colab": {
          "base_uri": "https://localhost:8080/"
        },
        "id": "jYco0SfJJZrn",
        "outputId": "c067eadc-3783-4fc2-894a-8b502aa836c7"
      },
      "execution_count": null,
      "outputs": [
        {
          "output_type": "stream",
          "name": "stdout",
          "text": [
            "37.778818634886036 51.471181365113964\n"
          ]
        }
      ]
    },
    {
      "cell_type": "code",
      "source": [
        "import matplotlib.pyplot as plt\n",
        "import pandas as pd\n",
        "rounds=200\n",
        "avgs = [np.mean(rd.choice(ages,n)) for i in range(1, rounds)]\n",
        "avgsdf = pd.DataFrame(avgs)\n",
        "\n",
        "ax = avgsdf.plot(style = '.')\n",
        "ax.figure.set_size_inches(12, 6)\n",
        "ax.hlines(y = u, xmin = 0, xmax = rounds, colors='black', linestyles='dashed')\n",
        "ax.hlines(y = inf_lim, xmin = 0, xmax = rounds, colors='red', linestyles='dashed')\n",
        "ax.hlines(y = sup_lim, xmin = 0, xmax = rounds, colors='red', linestyles='dashed')\n",
        "ax"
      ],
      "metadata": {
        "colab": {
          "base_uri": "https://localhost:8080/",
          "height": 539
        },
        "id": "qjjYYLmFJZuE",
        "outputId": "9721ee86-f707-4577-a5d9-849488d57bcb"
      },
      "execution_count": null,
      "outputs": [
        {
          "output_type": "execute_result",
          "data": {
            "text/plain": [
              "<Axes: >"
            ]
          },
          "metadata": {},
          "execution_count": 74
        },
        {
          "output_type": "display_data",
          "data": {
            "text/plain": [
              "<Figure size 1200x600 with 1 Axes>"
            ],
            "image/png": "[encoded data removed]"
          },
          "metadata": {}
        }
      ]
    },
    {
      "cell_type": "markdown",
      "source": [
        "## Confidence Level and Significance"
      ],
      "metadata": {
        "id": "FRdW9TVCHnae"
      }
    },
    {
      "cell_type": "markdown",
      "source": [
        "\n",
        "Suppose that the weights of bags of rice in a food industry are distributed approximately as a normal population standard deviation equal to 150 g. Selecting a random sample of 20 bags from a specific batch, an average weight of 5,050 g was obtained. Construct a confidence interval for the population mean assuming a significance level of 5%."
      ],
      "metadata": {
        "id": "yPsjJzOZHn64"
      }
    },
    {
      "cell_type": "code",
      "source": [
        "sig = 0.05\n",
        "conf = 1-sig\n",
        "Z =z = norm.ppf(conf+sig/2)\n",
        "Z"
      ],
      "metadata": {
        "colab": {
          "base_uri": "https://localhost:8080/"
        },
        "id": "7PIDWJ6jHuRU",
        "outputId": "587e1e33-630a-461c-ed8b-a82409fb1228"
      },
      "execution_count": null,
      "outputs": [
        {
          "output_type": "execute_result",
          "data": {
            "text/plain": [
              "1.959963984540054"
            ]
          },
          "metadata": {},
          "execution_count": 75
        }
      ]
    },
    {
      "cell_type": "code",
      "source": [
        "devpad = 150\n",
        "n =20\n",
        "u = 5050\n",
        "e = Z * (devpad / sqrt(n))\n",
        "print(e)\n",
        "print(u-e)\n",
        "print(u+e)"
      ],
      "metadata": {
        "colab": {
          "base_uri": "https://localhost:8080/"
        },
        "id": "DDcP6hZ3IP8Q",
        "outputId": "106b1d7d-b673-4dba-bd76-8977591acad1"
      },
      "execution_count": null,
      "outputs": [
        {
          "output_type": "stream",
          "name": "stdout",
          "text": [
            "65.73919054324361\n",
            "4984.260809456757\n",
            "5115.739190543243\n"
          ]
        }
      ]
    },
    {
      "cell_type": "code",
      "source": [
        "print('media',u)\n",
        "norm.interval(confidence = conf, loc = u, scale = devpad / sqrt(n))"
      ],
      "metadata": {
        "colab": {
          "base_uri": "https://localhost:8080/"
        },
        "id": "Rbx5RpOQIXiY",
        "outputId": "206d261c-b0f8-4f20-ab8e-2d51e4c128b2"
      },
      "execution_count": null,
      "outputs": [
        {
          "output_type": "stream",
          "name": "stdout",
          "text": [
            "media 5050\n"
          ]
        },
        {
          "output_type": "execute_result",
          "data": {
            "text/plain": [
              "(4984.260809456757, 5115.739190543243)"
            ]
          },
          "metadata": {},
          "execution_count": 77
        }
      ]
    },
    {
      "cell_type": "markdown",
      "source": [
        "# Activities"
      ],
      "metadata": {
        "id": "-iRvz5qDN_h-"
      }
    },
    {
      "cell_type": "markdown",
      "source": [
        "1) Uma seguradora de automóveis deseja avaliar a espessura média dos para-brisas produzidos por um determinado fornecedor. Para isso, foram analisadas 25 peças aleatoriamente da produção diária, obtendo-se uma espessura média de 5,2 mm. Sabendo que a espessura dos para-brisas segue uma distribuição normal com um desvio padrão populacional de 1,2 mm, construa intervalos de confiança para a espessura média dos para-brisas aos níveis de 90%, 95% e 99%.\n"
      ],
      "metadata": {
        "id": "8Lu1XI2bYKKX"
      }
    },
    {
      "cell_type": "code",
      "source": [
        "\n",
        "\n",
        "from scipy.stats import norm\n",
        "from math import sqrt\n",
        "\n",
        "x=5.2\n",
        "o=1.2\n",
        "n=25\n",
        "\n",
        "z05 = norm.ppf((1-0.05)+0.05/2)\n",
        "z01 = norm.ppf((1-0.01)+0.01/2)\n",
        "z10 = norm.ppf((1-0.10)+0.10/2)\n",
        "\n",
        "e05 = z05 * (o / sqrt(n))\n",
        "e01 = z01 * (o / sqrt(n))\n",
        "e10 = z10 * (o / sqrt(n))\n",
        "print('5%',x,x-e05,x+e05)\n",
        "print('1%',x,x-e01,x+e01)\n",
        "print('10%',x,x-e10,x+e10)\n",
        "\n",
        "print(norm.interval(alpha = 0.95, loc = x, scale = o / sqrt(n)))\n",
        "print(norm.interval(alpha = 0.99, loc = x, scale = o / sqrt(n)))\n",
        "print(norm.interval(alpha = 0.90, loc = x, scale = o / sqrt(n)))\n",
        "\n",
        "\n",
        "\n",
        "\n",
        "\n",
        "\n",
        "\n"
      ],
      "metadata": {
        "id": "rK0CkudpOA7T"
      },
      "execution_count": null,
      "outputs": []
    },
    {
      "cell_type": "code",
      "source": [
        "\n",
        "from scipy.stats import t\n",
        "from math import sqrt\n",
        "\n",
        "x=5.2\n",
        "o=1.2\n",
        "n=25\n",
        "\n",
        "t05 = t.ppf((1-0.05)+0.05/2, n-1)\n",
        "t01 = t.ppf((1-0.01)+0.01/2, n-1)\n",
        "t10 = t.ppf((1-0.10)+0.10/2, n-1)\n",
        "\n",
        "e10 = t10 * o\n",
        "e05 = t05 * o\n",
        "e01 = t01 * o\n",
        "print('5%',x,x-e05,x+e05)\n",
        "print('1%',x,x-e01,x+e01)\n",
        "print('10%',x,x-e10,x+e10)\n",
        "\n",
        "from scipy.stats import t\n",
        "print(t.interval(0.95,n-1,x,o))\n",
        "print(t.interval(0.99,n-1,x,o))\n",
        "print(t.interval(0.90,n-1,x,o))\n"
      ],
      "metadata": {
        "id": "bRyuWtXeOBNo"
      },
      "execution_count": null,
      "outputs": []
    },
    {
      "cell_type": "markdown",
      "source": [
        "2)\tUma seguradora de automóveis realizou um estudo sobre o tempo médio de atendimento aos clientes em uma determinada agência. Após analisar uma amostra de 6 atendimentos, obteve os seguintes tempos (em minutos): 25,2; 26,0; 26,4; 27,1; 28,2; 28,4. Sabe-se que o tempo de atendimento segue uma distribuição normal com variância igual a 1,96 minutos². Construa intervalos de confiança para o tempo médio de atendimento com nível de significância de 5% e 10%.\n"
      ],
      "metadata": {
        "id": "De69ySq9YAhK"
      }
    },
    {
      "cell_type": "code",
      "source": [
        "\n",
        "from scipy.stats import t\n",
        "from numpy import mean\n",
        "o = sqrt(1.96)\n",
        "ams = [25.2,26,26.4,27.1,28.2,28.4]\n",
        "n = len(ams)\n",
        "x = mean(ams)\n",
        "print(t.interval(0.90,n-1,x,o))\n",
        "print(t.interval(0.95,n-1,x,o))"
      ],
      "metadata": {
        "id": "11T2ZAJGOBPx"
      },
      "execution_count": null,
      "outputs": []
    },
    {
      "cell_type": "markdown",
      "source": [
        "3) Uma seguradora de automóveis deseja estimar a idade média dos seus clientes que possuem seguro para veículos de luxo. Foi realizada uma pesquisa com 100 clientes aleatoriamente escolhidos, obtendo-se uma idade média de 45 anos. Sabendo que o desvio padrão da idade dos clientes com seguro para veículos de luxo é de 5 anos, construir um intervalo de confiança de 95% para a idade média de todos os clientes com esse tipo de seguro."
      ],
      "metadata": {
        "id": "N8bxF3dpX91_"
      }
    },
    {
      "cell_type": "code",
      "source": [
        "\n",
        "from math import sqrt\n",
        "o=15\n",
        "x=175\n",
        "n=100\n",
        "print('media',x)\n",
        "norm.interval(alpha = 1-0.05, loc = x, scale = o / sqrt(n))\n"
      ],
      "metadata": {
        "id": "Y3F1r57sOBSY"
      },
      "execution_count": null,
      "outputs": []
    },
    {
      "cell_type": "markdown",
      "source": [
        "4) Uma seguradora de automóveis realizou uma pesquisa com 10 clientes para avaliar o valor médio gasto anualmente com reparos. A pesquisa revelou um gasto médio anual de R$ 1100,00 com um desvio padrão amostral de R$ 100,00. Construa intervalos de confiança de 90% e 95% para o gasto médio anual de todos os clientes da seguradora."
      ],
      "metadata": {
        "id": "p19sY3V1X6j2"
      }
    },
    {
      "cell_type": "code",
      "source": [
        "\n",
        "from scipy.stats import t\n",
        "n=10\n",
        "x=110\n",
        "s=10\n",
        "print(t.interval(0.95,n-1,x,s))\n",
        "print(t.interval(0.90,n-1,x,s))"
      ],
      "metadata": {
        "id": "Y5G1G9xiOBU0"
      },
      "execution_count": null,
      "outputs": []
    },
    {
      "cell_type": "markdown",
      "source": [
        "5) Uma seguradora de automóveis realizou um estudo com 16 analistas de seguros para estudar o número médio de sinistros por ano. Os dados coletados foram: 7, 7, 8, 9, 9, 9, 10, 11, 11, 11, 12, 13, 13, 14, 15, 15. Construa intervalos de confiança para o número médio de sinistros por ano, considerando níveis de confiança de 97,5% e 75%."
      ],
      "metadata": {
        "id": "fPjcVUFaX28K"
      }
    },
    {
      "cell_type": "code",
      "source": [
        "\n",
        "from scipy.stats import t\n",
        "from numpy import mean,std\n",
        "ams = [7,7,8,9,9,10,11,11,11,11,12,13,13,14,15,15]\n",
        "n = len(ams)\n",
        "x = mean(ams)\n",
        "s=std(ams)\n",
        "print('media',x)\n",
        "print(t.interval(0.975,n-1,x,s))\n",
        "print(t.interval(0.75,n-1,x,s))\n"
      ],
      "metadata": {
        "id": "TOvsR9AsXWzi"
      },
      "execution_count": null,
      "outputs": []
    },
    {
      "cell_type": "markdown",
      "source": [
        "6) Uma seguradora de transportes realiza um seguro para cargas de determinado tipo de equipamento industrial. Para garantir a segurança durante o transporte, as peças devem atender a um peso médio específico de 300 kg. Foi coletada uma amostra de 30 peças, obtendo-se os seguintes pesos (em kg):\n",
        "\n",
        "[250,  265,  267,  269,  271,  275,  277,  281,  283,  284,\n",
        "287,  289,  291,  293,  293,  298,  301,  303,  306,  307,\n",
        "307,  309,  311,  315,  319,  322,  324,  328,  335,  339]\n",
        "\n",
        "Utilizando um intervalo de confiança com nível de significância de 5%, verificar se a amostra coletada indica que o peso médio das peças atende à especificação da seguradora.\n"
      ],
      "metadata": {
        "id": "tKz7HlI_Xmx0"
      }
    },
    {
      "cell_type": "code",
      "source": [
        "\n",
        "\n",
        "from scipy.stats import norm\n",
        "from numpy import mean,std\n",
        "u=300\n",
        "ams=[250,265,267,269,271,275,277,281,283,284,287,289,291,293,293,298,301,303,306,307,307,309,311,315,319,322,324,328,335,339]\n",
        "x=mean(ams)\n",
        "n=len(ams)\n",
        "s=std(ams)\n",
        "norm.interval(alpha = 0.95, loc = x, scale = s / sqrt(n))\n",
        "#sim, satifaz, pois 300 ta no intervalo"
      ],
      "metadata": {
        "id": "1yAeMkSiXW1h"
      },
      "execution_count": null,
      "outputs": []
    },
    {
      "cell_type": "markdown",
      "source": [
        "7) Uma seguradora de equipamentos industriais realiza um seguro para um tipo específico de máquina. Para garantir a vida útil e o bom funcionamento dessas máquinas, as peças devem atender a especificações precisas de diâmetro. Foi coletada uma amostra de 30 peças, obtendo-se os seguintes diâmetros (em mm):\n",
        "\n",
        "10, 11, 11, 11, 12, 12, 12, 12, 13, 13,\n",
        "13, 13, 13, 13, 13, 13, 13, 13,   13, 13,\n",
        "14,   14, 14, 14, 14, 15, 15, 15, 16, 16\n",
        "\n",
        "a) Estimar a média e a variância:\n",
        "\n",
        "b) Construir um intervalo de confiança para a média sendo α = 5%:\n"
      ],
      "metadata": {
        "id": "LNsknsrtXiXm"
      }
    },
    {
      "cell_type": "code",
      "source": [
        "\n",
        "\n",
        "from scipy.stats import norm\n",
        "from numpy import mean,std,var\n",
        "\n",
        "ams=[10,11,11,11,12,12,12,12,13,13,13,13,13,13,13,13,13,13,13,13,14,14,14,14,14,15,15,15,16,16]\n",
        "x=mean(ams)\n",
        "n=len(ams)\n",
        "s=std(ams)\n",
        "print('media',x,'var',var(ams))\n",
        "norm.interval(alpha = 0.95, loc = x, scale = s / sqrt(n))\n",
        "\n",
        "\n"
      ],
      "metadata": {
        "id": "gsPdR8TxXW3s"
      },
      "execution_count": null,
      "outputs": []
    },
    {
      "cell_type": "markdown",
      "source": [
        "8) Uma seguradora está desenvolvendo um novo comercial de 30 segundos para um produto de seguro de vida. Para garantir a qualidade do comercial, foram realizadas 4 gravações de teste. Nessas gravações, o locutor levou, em média, 29,2 segundos para entregar o script, com uma variância de 5,76 segundos².\n",
        "\n",
        "Considerando que o tempo ideal para o comercial é de 30 segundos, a seguradora deseja construir um intervalo de confiança de 90% para o tempo médio de duração do comercial. O objetivo é verificar se o tempo médio real das gravações está de acordo com o tempo ideal.\n",
        "\n"
      ],
      "metadata": {
        "id": "dyypLJyZXa01"
      }
    },
    {
      "cell_type": "code",
      "source": [
        "from scipy.stats import t\n",
        "from math import sqrt\n",
        "n=4\n",
        "x=29.2\n",
        "s2=5.76\n",
        "a=0.1\n",
        "s=sqrt(s2)\n",
        "t.interval(1-a,n-1,x,s)"
      ],
      "metadata": {
        "id": "q6ujI7_pXW6N"
      },
      "execution_count": null,
      "outputs": []
    }
  ]
}