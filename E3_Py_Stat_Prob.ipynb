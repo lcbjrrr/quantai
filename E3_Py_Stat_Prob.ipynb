{
  "nbformat": 4,
  "nbformat_minor": 0,
  "metadata": {
    "colab": {
      "provenance": [],
      "authorship_tag": "ABX9TyOgQwRaOGv0I2pl7mjcTuts",
      "include_colab_link": true
    },
    "kernelspec": {
      "name": "python3",
      "display_name": "Python 3"
    },
    "language_info": {
      "name": "python"
    }
  },
  "cells": [
    {
      "cell_type": "markdown",
      "metadata": {
        "id": "view-in-github",
        "colab_type": "text"
      },
      "source": [
        "<a href=\"https://colab.research.google.com/github/lcbjrrr/quantai/blob/main/E3_Py_Stat_Prob.ipynb\" target=\"_parent\"><img src=\"https://colab.research.google.com/assets/colab-badge.svg\" alt=\"Open In Colab\"/></a>"
      ]
    },
    {
      "cell_type": "markdown",
      "source": [
        "# Probability."
      ],
      "metadata": {
        "id": "e6GjbaF0BBys"
      }
    },
    {
      "cell_type": "markdown",
      "source": [
        "## Examples"
      ],
      "metadata": {
        "id": "kWQSsOUnBZK3"
      }
    },
    {
      "cell_type": "markdown",
      "source": [
        "What is the percentage of people under 1.8 mt high"
      ],
      "metadata": {
        "id": "cb6ZSkGjBguS"
      }
    },
    {
      "cell_type": "code",
      "source": [
        "from scipy.stats import norm\n",
        "x=1.8\n",
        "u=1.7\n",
        "o=0.1\n",
        "Z= (x-u)/o\n",
        "print(Z) #normalizacao\n",
        "um_oitenta = norm.cdf(Z)\n",
        "print(um_oitenta)"
      ],
      "metadata": {
        "colab": {
          "base_uri": "https://localhost:8080/"
        },
        "id": "LumUdoVEBDI7",
        "outputId": "58294353-ba1f-43be-d684-a1387bd57682"
      },
      "execution_count": null,
      "outputs": [
        {
          "output_type": "stream",
          "name": "stdout",
          "text": [
            "1.0000000000000009\n",
            "0.8413447460685431\n"
          ]
        }
      ]
    },
    {
      "cell_type": "markdown",
      "source": [
        "Percentage of people with height between 1.6 and 1.8"
      ],
      "metadata": {
        "id": "vfe7Bu0cCIn2"
      }
    },
    {
      "cell_type": "code",
      "source": [
        "x=1.6\n",
        "Z= (x-u)/o\n",
        "print(Z) #normalizacao\n",
        "print(norm.cdf(Z))\n",
        "um_oitenta - norm.cdf(Z)"
      ],
      "metadata": {
        "colab": {
          "base_uri": "https://localhost:8080/"
        },
        "id": "1QNzkp_NBFP5",
        "outputId": "17c011f4-7abd-4faa-bc0d-bf2fa19f06da"
      },
      "execution_count": null,
      "outputs": [
        {
          "output_type": "stream",
          "name": "stdout",
          "text": [
            "-0.9999999999999987\n",
            "0.1586552539314574\n"
          ]
        },
        {
          "output_type": "execute_result",
          "data": {
            "text/plain": [
              "0.6826894921370857"
            ]
          },
          "metadata": {},
          "execution_count": 10
        }
      ]
    },
    {
      "cell_type": "markdown",
      "source": [
        "Percentage of people higher than 1.9"
      ],
      "metadata": {
        "id": "Fq6Me4DuCUIo"
      }
    },
    {
      "cell_type": "code",
      "source": [
        "x=1.9\n",
        "Z= (x-u)/o\n",
        "print(Z) #normalizacao\n",
        "print(norm.cdf(Z))\n",
        "1-norm.cdf(Z)"
      ],
      "metadata": {
        "colab": {
          "base_uri": "https://localhost:8080/"
        },
        "id": "GD3OrVxTCTdC",
        "outputId": "d9fac253-9bdf-4011-e409-7be68f851043"
      },
      "execution_count": null,
      "outputs": [
        {
          "output_type": "stream",
          "name": "stdout",
          "text": [
            "1.9999999999999996\n",
            "0.9772498680518208\n"
          ]
        },
        {
          "output_type": "execute_result",
          "data": {
            "text/plain": [
              "0.02275013194817921"
            ]
          },
          "metadata": {},
          "execution_count": 11
        }
      ]
    },
    {
      "cell_type": "markdown",
      "source": [
        "## Sampleling"
      ],
      "metadata": {
        "id": "w6pjUQ94Ca7d"
      }
    },
    {
      "cell_type": "code",
      "source": [
        "premiums = [333,\t320,\t301,\t280,\t270,\t251,\t260,\t255,\t355,\t345,\t355,\t345,\t366,\t352,\t331,\t308,\t297,\t276,\t286,\t281,\t391,\t380,\t391,\t380,\t300,\t288,\t271,\t252,\t243,\t226,\t234,\t230,\t320,\t311,\t320,\t311]\n"
      ],
      "metadata": {
        "id": "6mTwGWIPxsST"
      },
      "execution_count": null,
      "outputs": []
    },
    {
      "cell_type": "code",
      "source": [
        "premiums = [333,\t320,\t301,\t280,\t270,\t251,\t260,\t255,\t355,\t345,\t355,\t345,\t366,\t352,\t331,\t308,\t297,\t276,\t286,\t281,\t391,\t380,\t391,\t380,\t300,\t288,\t271,\t252,\t243,\t226,\t234,\t230,\t320,\t311,\t320,\t311]\n",
        "\n",
        "import numpy as np\n",
        "import numpy.random as rd\n",
        "sample = rd.choice(premiums, 10)\n",
        "print(sample)\n",
        "np.mean(sample)"
      ],
      "metadata": {
        "colab": {
          "base_uri": "https://localhost:8080/"
        },
        "id": "y4Qg8XP4xrbM",
        "outputId": "404f4fb6-f6fd-4a2f-d08b-64eeeeb99e72"
      },
      "execution_count": null,
      "outputs": [
        {
          "output_type": "stream",
          "name": "stdout",
          "text": [
            "[281 308 255 301 331 288 352 345 255 366]\n"
          ]
        },
        {
          "output_type": "execute_result",
          "data": {
            "text/plain": [
              "308.2"
            ]
          },
          "metadata": {},
          "execution_count": 13
        }
      ]
    },
    {
      "cell_type": "markdown",
      "source": [
        "### Central Limit Theory"
      ],
      "metadata": {
        "id": "v970uQ_DFn81"
      }
    },
    {
      "cell_type": "code",
      "source": [
        "import numpy as np\n",
        "np.mean(premiums)"
      ],
      "metadata": {
        "colab": {
          "base_uri": "https://localhost:8080/"
        },
        "id": "ZZRdpwREDtem",
        "outputId": "5eaeeb42-ecda-4af0-b8fb-f670267ac0b7"
      },
      "execution_count": null,
      "outputs": [
        {
          "output_type": "execute_result",
          "data": {
            "text/plain": [
              "305.97222222222223"
            ]
          },
          "metadata": {},
          "execution_count": 14
        }
      ]
    },
    {
      "cell_type": "code",
      "source": [
        "u_samples=[]\n",
        "n=30 # sample size\n",
        "for i in range(200):\n",
        "    sample = rd.choice(premiums, n)\n",
        "    u_samples.append(np.mean(sample))\n",
        "print(u_samples)\n",
        "np.mean(u_samples)"
      ],
      "metadata": {
        "colab": {
          "base_uri": "https://localhost:8080/"
        },
        "id": "95DZ_bfzFli9",
        "outputId": "9cf0b9fa-b6b6-4156-8ac2-6a5c3c9342e6"
      },
      "execution_count": null,
      "outputs": [
        {
          "output_type": "stream",
          "name": "stdout",
          "text": [
            "[303.3666666666667, 289.3, 305.6666666666667, 308.56666666666666, 304.96666666666664, 303.9, 302.93333333333334, 298.43333333333334, 294.43333333333334, 308.56666666666666, 291.6, 316.03333333333336, 321.0, 305.2, 308.43333333333334, 295.3666666666667, 308.53333333333336, 324.56666666666666, 301.93333333333334, 309.03333333333336, 309.8333333333333, 316.3, 310.8, 307.3666666666667, 310.26666666666665, 322.26666666666665, 315.1333333333333, 308.6333333333333, 297.53333333333336, 293.2, 310.6, 292.9, 289.73333333333335, 297.3333333333333, 316.1666666666667, 303.5, 292.6333333333333, 310.8, 318.6333333333333, 309.1666666666667, 302.6666666666667, 287.4, 299.56666666666666, 289.1333333333333, 295.76666666666665, 300.96666666666664, 304.73333333333335, 311.43333333333334, 320.3666666666667, 303.1333333333333, 317.76666666666665, 302.43333333333334, 294.1, 307.6333333333333, 303.3666666666667, 300.8666666666667, 310.1666666666667, 302.7, 315.3, 296.76666666666665, 299.93333333333334, 311.3666666666667, 302.5, 300.8333333333333, 305.1, 293.8666666666667, 295.93333333333334, 293.6666666666667, 323.43333333333334, 298.03333333333336, 305.96666666666664, 296.06666666666666, 313.1666666666667, 311.93333333333334, 295.43333333333334, 309.93333333333334, 288.5, 310.4, 294.26666666666665, 306.2, 313.0, 299.53333333333336, 303.26666666666665, 305.9, 297.5, 303.7, 309.26666666666665, 290.3333333333333, 307.26666666666665, 321.1333333333333, 308.6, 296.9, 312.5, 314.0, 302.93333333333334, 313.3333333333333, 297.06666666666666, 323.1333333333333, 317.0, 316.6666666666667, 301.5, 313.46666666666664, 306.5, 310.1666666666667, 317.8333333333333, 300.1666666666667, 305.06666666666666, 293.46666666666664, 300.0, 287.73333333333335, 313.8, 308.26666666666665, 294.8333333333333, 316.8, 289.9, 294.1, 299.7, 314.76666666666665, 310.3666666666667, 308.4, 308.6, 293.1666666666667, 297.5, 313.56666666666666, 331.3, 305.1333333333333, 291.0, 298.1666666666667, 306.8, 314.26666666666665, 306.3666666666667, 329.26666666666665, 302.3, 291.53333333333336, 323.6666666666667, 306.26666666666665, 321.3333333333333, 293.1333333333333, 304.26666666666665, 305.73333333333335, 304.6, 300.5, 314.06666666666666, 299.8333333333333, 307.1, 310.4, 304.6333333333333, 295.9, 312.26666666666665, 319.03333333333336, 314.03333333333336, 324.3, 304.7, 300.06666666666666, 291.6333333333333, 305.73333333333335, 314.4, 300.06666666666666, 297.8, 314.26666666666665, 316.06666666666666, 294.46666666666664, 307.9, 298.5, 306.43333333333334, 309.6666666666667, 288.1333333333333, 310.03333333333336, 298.46666666666664, 314.3, 325.1333333333333, 300.93333333333334, 309.6666666666667, 313.53333333333336, 319.3333333333333, 307.56666666666666, 313.73333333333335, 316.3, 311.6333333333333, 309.06666666666666, 307.2, 307.2, 303.8, 296.3, 312.46666666666664, 309.1, 307.03333333333336, 309.46666666666664, 317.06666666666666, 306.43333333333334, 311.73333333333335, 297.8, 289.43333333333334, 309.9, 303.8, 302.6666666666667, 313.46666666666664, 297.9, 319.06666666666666, 301.56666666666666]\n"
          ]
        },
        {
          "output_type": "execute_result",
          "data": {
            "text/plain": [
              "305.8513333333333"
            ]
          },
          "metadata": {},
          "execution_count": 15
        }
      ]
    },
    {
      "cell_type": "code",
      "source": [
        "import seaborn as sns\n",
        "sns.distplot(u_samples)"
      ],
      "metadata": {
        "colab": {
          "base_uri": "https://localhost:8080/",
          "height": 638
        },
        "collapsed": true,
        "id": "So962XSrGTtp",
        "outputId": "00b6f571-66d9-4e62-f00e-4a592a81a321"
      },
      "execution_count": null,
      "outputs": [
        {
          "output_type": "stream",
          "name": "stderr",
          "text": [
            "<ipython-input-16-b2c6572cf39a>:2: UserWarning: \n",
            "\n",
            "`distplot` is a deprecated function and will be removed in seaborn v0.14.0.\n",
            "\n",
            "Please adapt your code to use either `displot` (a figure-level function with\n",
            "similar flexibility) or `histplot` (an axes-level function for histograms).\n",
            "\n",
            "For a guide to updating your code to use the new functions, please see\n",
            "https://gist.github.com/mwaskom/de44147ed2974457ad6372750bbe5751\n",
            "\n",
            "  sns.distplot(u_samples)\n"
          ]
        },
        {
          "output_type": "execute_result",
          "data": {
            "text/plain": [
              "<Axes: ylabel='Density'>"
            ]
          },
          "metadata": {},
          "execution_count": 16
        },
        {
          "output_type": "display_data",
          "data": {
            "text/plain": [
              "<Figure size 640x480 with 1 Axes>"
            ],
            "image/png": "[encoded data removed]"
          },
          "metadata": {}
        }
      ]
    },
    {
      "cell_type": "code",
      "source": [
        "from math import sqrt\n",
        "print(np.std(u_samples))\n",
        "np.std(premiums) / sqrt(n)"
      ],
      "metadata": {
        "colab": {
          "base_uri": "https://localhost:8080/"
        },
        "id": "FkRQshamGdG6",
        "outputId": "b544668f-f236-4bb9-bf8a-521dc0326fe8"
      },
      "execution_count": null,
      "outputs": [
        {
          "output_type": "stream",
          "name": "stdout",
          "text": [
            "9.073102397257022\n"
          ]
        },
        {
          "output_type": "execute_result",
          "data": {
            "text/plain": [
              "8.527350996679807"
            ]
          },
          "metadata": {},
          "execution_count": 17
        }
      ]
    },
    {
      "cell_type": "markdown",
      "source": [
        "## Confidence Level and Significance"
      ],
      "metadata": {
        "id": "FRdW9TVCHnae"
      }
    },
    {
      "cell_type": "markdown",
      "source": [
        "\n",
        "Suppose that the weights of bags of rice in a food industry are distributed approximately as a normal population standard deviation equal to 150 g. Selecting a random sample of 20 bags from a specific batch, an average weight of 5,050 g was obtained. Construct a confidence interval for the population mean assuming a significance level of 5%."
      ],
      "metadata": {
        "id": "yPsjJzOZHn64"
      }
    },
    {
      "cell_type": "code",
      "source": [
        "sig = 0.05\n",
        "conf = 1-sig\n",
        "Z = norm.ppf(conf+sig/2)\n",
        "print(Z)"
      ],
      "metadata": {
        "colab": {
          "base_uri": "https://localhost:8080/"
        },
        "id": "7PIDWJ6jHuRU",
        "outputId": "b62a7fe8-6e13-453d-faf6-0e785587f7a7"
      },
      "execution_count": null,
      "outputs": [
        {
          "output_type": "stream",
          "name": "stdout",
          "text": [
            "1.959963984540054\n"
          ]
        }
      ]
    },
    {
      "cell_type": "code",
      "source": [
        "devpad = 150\n",
        "n =20\n",
        "u = 5050\n",
        "e = Z * (devpad / sqrt(n))\n",
        "print(e)\n",
        "print(u-e)\n",
        "print(u+e)"
      ],
      "metadata": {
        "colab": {
          "base_uri": "https://localhost:8080/"
        },
        "id": "DDcP6hZ3IP8Q",
        "outputId": "d7c67be9-6879-4064-a485-d5be4750c739"
      },
      "execution_count": null,
      "outputs": [
        {
          "output_type": "stream",
          "name": "stdout",
          "text": [
            "65.73919054324361\n",
            "4984.260809456757\n",
            "5115.739190543243\n"
          ]
        }
      ]
    },
    {
      "cell_type": "code",
      "source": [
        "print('media',u)\n",
        "norm.interval(confidence = conf, loc = u, scale = devpad / sqrt(n))"
      ],
      "metadata": {
        "colab": {
          "base_uri": "https://localhost:8080/"
        },
        "id": "Rbx5RpOQIXiY",
        "outputId": "d7e1623f-c64b-442b-a088-17a915a2ec32"
      },
      "execution_count": null,
      "outputs": [
        {
          "output_type": "stream",
          "name": "stdout",
          "text": [
            "media 5050\n"
          ]
        },
        {
          "output_type": "execute_result",
          "data": {
            "text/plain": [
              "(4984.260809456757, 5115.739190543243)"
            ]
          },
          "metadata": {},
          "execution_count": 20
        }
      ]
    },
    {
      "cell_type": "markdown",
      "source": [
        "# Activities"
      ],
      "metadata": {
        "id": "-iRvz5qDN_h-"
      }
    },
    {
      "cell_type": "markdown",
      "source": [
        "1) An auto insurance company wants to evaluate the average thickness of windshields produced by a certain supplier. To do this, 25 random parts from the daily production were analyzed, obtaining an average thickness of 5.2 mm. Knowing that the thickness of the windshields follows a normal distribution with a population standard deviation of 1.2 mm, construct confidence intervals for the average thickness of the windshields at the 90%, 95% and 99% levels."
      ],
      "metadata": {
        "id": "8Lu1XI2bYKKX"
      }
    },
    {
      "cell_type": "code",
      "source": [
        "\n",
        "\n",
        "from scipy.stats import norm\n",
        "from math import sqrt\n",
        "\n",
        "x=5.2\n",
        "o=1.2\n",
        "n=25\n",
        "\n",
        "z05 = norm.ppf((1-0.05)+0.05/2)\n",
        "z01 = norm.ppf((1-0.01)+0.01/2)\n",
        "z10 = norm.ppf((1-0.10)+0.10/2)\n",
        "\n",
        "e05 = z05 * (o / sqrt(n))\n",
        "e01 = z01 * (o / sqrt(n))\n",
        "e10 = z10 * (o / sqrt(n))\n",
        "print('10%',x,x-e10,x+e10)\n",
        "print('5%',x,x-e05,x+e05)\n",
        "print('1%',x,x-e01,x+e01)\n",
        "\n",
        "print(norm.interval(confidence = 0.90, loc = x, scale = o / sqrt(n)))\n",
        "print(norm.interval(confidence = 0.95, loc = x, scale = o / sqrt(n)))\n",
        "print(norm.interval(confidence = 0.99, loc = x, scale = o / sqrt(n)))\n"
      ],
      "metadata": {
        "id": "rK0CkudpOA7T",
        "colab": {
          "base_uri": "https://localhost:8080/"
        },
        "outputId": "53eded52-4a7b-4f8c-c5e5-7ab82899f076"
      },
      "execution_count": 1,
      "outputs": [
        {
          "output_type": "stream",
          "name": "stdout",
          "text": [
            "10% 5.2 4.805235129531646 5.594764870468354\n",
            "5% 5.2 4.729608643710387 5.670391356289613\n",
            "1% 5.2 4.581800967148264 5.818199032851736\n",
            "(4.805235129531646, 5.594764870468353)\n",
            "(4.729608643710387, 5.670391356289613)\n",
            "(4.581800967148264, 5.818199032851736)\n"
          ]
        }
      ]
    },
    {
      "cell_type": "markdown",
      "source": [
        "With t-student..."
      ],
      "metadata": {
        "id": "jaVYHW0RgoJ9"
      }
    },
    {
      "cell_type": "code",
      "source": [
        "\n",
        "from scipy.stats import t\n",
        "\n",
        "from scipy.stats import norm\n",
        "from math import sqrt\n",
        "\n",
        "x=5.2\n",
        "o=1.2\n",
        "n=25\n",
        "\n",
        "z05 = t.ppf((1-0.05)+0.05/2,n-1)\n",
        "z01 = t.ppf((1-0.01)+0.01/2,n-1)\n",
        "z10 = t.ppf((1-0.10)+0.10/2,n-1)\n",
        "\n",
        "e05 = z05 * (o / sqrt(n))\n",
        "e01 = z01 * (o / sqrt(n))\n",
        "e10 = z10 * (o / sqrt(n))\n",
        "print('10%',x,x-e10,x+e10)\n",
        "print('5%',x,x-e05,x+e05)\n",
        "print('1%',x,x-e01,x+e01)\n",
        "\n",
        "print(t.interval(0.90,n-1,x,o / sqrt(n)))\n",
        "print(t.interval(0.95,n-1,x,o / sqrt(n)))\n",
        "print(t.interval(0.99,n-1,x,o / sqrt(n)))\n"
      ],
      "metadata": {
        "colab": {
          "base_uri": "https://localhost:8080/"
        },
        "id": "G4_bU9YdgnIC",
        "outputId": "eb85005f-143a-49f5-b4c0-c741d20fa1a5"
      },
      "execution_count": 2,
      "outputs": [
        {
          "output_type": "stream",
          "name": "stdout",
          "text": [
            "10% 5.2 4.789388300821737 5.610611699178263\n",
            "5% 5.2 4.704664345209276 5.695335654790725\n",
            "1% 5.2 4.528734518854527 5.871265481145473\n",
            "(4.789388300821737, 5.610611699178262)\n",
            "(4.704664345209276, 5.695335654790725)\n",
            "(4.528734518854527, 5.871265481145473)\n"
          ]
        }
      ]
    },
    {
      "cell_type": "markdown",
      "source": [
        "\n",
        "\n",
        "```\n",
        "Z:\n",
        "10% 5.2 4.805235129531646 5.594764870468354\n",
        "5% 5.2 4.729608643710387 5.670391356289613\n",
        "1% 5.2 4.581800967148264 5.818199032851736\n",
        "(4.805235129531646, 5.594764870468353)\n",
        "(4.729608643710387, 5.670391356289613)\n",
        "(4.581800967148264, 5.818199032851736)[texto do link](https://)\n",
        "```\n",
        "\n"
      ],
      "metadata": {
        "id": "OJAtQbeQguGr"
      }
    },
    {
      "cell_type": "markdown",
      "source": [
        "2) An auto insurance company conducted a study on the average customer service time at a certain agency. After analyzing a sample of 6 customer service calls, the following times (in minutes) were obtained: 25.2; 26.0; 26.4; 27.1; 28.2; 28.4. It is known that the service time follows a normal distribution with variance equal to 1.96 minutes². Construct confidence intervals for the average service time with a significance level of 5% and 10%.\n"
      ],
      "metadata": {
        "id": "De69ySq9YAhK"
      }
    },
    {
      "cell_type": "code",
      "source": [
        "\n",
        "from scipy.stats import t\n",
        "from numpy import mean\n",
        "o = sqrt(1.96)\n",
        "ams = [25.2,26,26.4,27.1,28.2,28.4]\n",
        "n = len(ams)\n",
        "x = mean(ams)\n",
        "print(t.interval(0.90,n-1,x,o/sqrt(n)))\n",
        "print(t.interval(0.95,n-1,x,o/sqrt(n)))\n",
        "\n"
      ],
      "metadata": {
        "id": "11T2ZAJGOBPx",
        "colab": {
          "base_uri": "https://localhost:8080/"
        },
        "outputId": "afbde52d-1631-4eb7-e2fa-f27bafdfcad8"
      },
      "execution_count": 3,
      "outputs": [
        {
          "output_type": "stream",
          "name": "stdout",
          "text": [
            "(25.731637258272055, 28.035029408394603)\n",
            "(25.414123437478953, 28.352543229187706)\n"
          ]
        }
      ]
    },
    {
      "cell_type": "markdown",
      "source": [
        "3) An auto insurance company wants to estimate the average age of its customers who have insurance for luxury vehicles. A survey was conducted with 100 randomly selected customers, obtaining an average age of 45 years. Knowing that the standard deviation of the age of customers with insurance for luxury vehicles is 5 years, construct a 95% confidence interval for the average age of all customers with this type of insurance."
      ],
      "metadata": {
        "id": "N8bxF3dpX91_"
      }
    },
    {
      "cell_type": "code",
      "source": [
        "\n",
        "from math import sqrt\n",
        "o=5\n",
        "x=45\n",
        "n=100\n",
        "print('media',x)\n",
        "norm.interval(confidence = .95, loc = x, scale = o / sqrt(n))\n"
      ],
      "metadata": {
        "id": "Y3F1r57sOBSY",
        "colab": {
          "base_uri": "https://localhost:8080/"
        },
        "outputId": "77fee4c1-b66d-4373-a928-20f05eb312f7"
      },
      "execution_count": 5,
      "outputs": [
        {
          "output_type": "stream",
          "name": "stdout",
          "text": [
            "media 45\n"
          ]
        },
        {
          "output_type": "execute_result",
          "data": {
            "text/plain": [
              "(44.02001800772997, 45.97998199227003)"
            ]
          },
          "metadata": {},
          "execution_count": 5
        }
      ]
    },
    {
      "cell_type": "code",
      "source": [
        "from scipy import stats\n",
        "\n",
        "# Given values\n",
        "sample_mean = 45\n",
        "sample_std_dev = 5\n",
        "sample_size = 100\n",
        "confidence_level = 0.95\n",
        "\n",
        "# Standard error of the mean\n",
        "standard_error = sample_std_dev / (sample_size ** 0.5)\n",
        "\n",
        "# Calculate the confidence interval using norm.interval()\n",
        "lower_bound, upper_bound = stats.norm.interval(confidence_level, loc=sample_mean, scale=standard_error)\n",
        "\n",
        "print(f\"95% Confidence Interval for Average Age: ({lower_bound:.2f}, {upper_bound:.2f})\")"
      ],
      "metadata": {
        "colab": {
          "base_uri": "https://localhost:8080/"
        },
        "id": "nKChHsa7j1DS",
        "outputId": "9a609625-b8b0-4fc5-85bf-e88eeb068143"
      },
      "execution_count": 13,
      "outputs": [
        {
          "output_type": "stream",
          "name": "stdout",
          "text": [
            "95% Confidence Interval for Average Age: (44.02, 45.98)\n"
          ]
        }
      ]
    },
    {
      "cell_type": "markdown",
      "source": [
        "4) An auto insurance company conducted a survey of 10 customers to assess the average amount spent annually on repairs. The survey revealed an average annual expenditure of RS 1100.00 with a sample standard deviation of RS 100.00. Construct 90% and 95% confidence intervals for the average annual expenditure of all the insurer's customers."
      ],
      "metadata": {
        "id": "p19sY3V1X6j2"
      }
    },
    {
      "cell_type": "code",
      "source": [
        "\n",
        "from scipy.stats import t\n",
        "n=100\n",
        "x=1100\n",
        "s=10\n",
        "print(t.interval(0.95,n-1,x,s/sqrt(n-1)))\n",
        "print(t.interval(0.90,n-1,x,s/sqrt(n-1)))"
      ],
      "metadata": {
        "id": "Y5G1G9xiOBU0",
        "colab": {
          "base_uri": "https://localhost:8080/"
        },
        "outputId": "7d072804-811a-4e6a-d652-c374fb1e90b0"
      },
      "execution_count": 16,
      "outputs": [
        {
          "output_type": "stream",
          "name": "stdout",
          "text": [
            "(1098.0057869300554, 1101.9942130699446)\n",
            "(1098.3312441001017, 1101.6687558998983)\n"
          ]
        }
      ]
    },
    {
      "cell_type": "markdown",
      "source": [
        "5) An auto insurance company conducted a study with 16 insurance analysts to study the average number of claims per year. The data collected were: 7, 7, 8, 9, 9, 9, 10, 11, 11, 11, 12, 13, 13, 14, 15, 15. Construct confidence intervals for the average number of claims per year, considering confidence levels of 97.5% and 75%."
      ],
      "metadata": {
        "id": "fPjcVUFaX28K"
      }
    },
    {
      "cell_type": "code",
      "source": [
        "\n",
        "from scipy.stats import t\n",
        "from numpy import mean,std\n",
        "ams = [7,7,8,9,9,10,11,11,11,11,12,13,13,14,15,15]\n",
        "n = len(ams)\n",
        "x = mean(ams)\n",
        "s=std(ams)\n",
        "print('media',x)\n",
        "print(t.interval(0.975,n-1,x,s/sqrt(n)))\n",
        "print(t.interval(0.750,n-1,x,s/sqrt(n)))\n"
      ],
      "metadata": {
        "id": "TOvsR9AsXWzi",
        "colab": {
          "base_uri": "https://localhost:8080/"
        },
        "outputId": "5b8f88bc-aa98-455e-b71c-6c89d595dba9"
      },
      "execution_count": 19,
      "outputs": [
        {
          "output_type": "stream",
          "name": "stdout",
          "text": [
            "media 11.0\n",
            "(9.443825185329528, 12.556174814670474)\n",
            "(10.252069197445804, 11.747930802554196)\n"
          ]
        }
      ]
    },
    {
      "cell_type": "markdown",
      "source": [
        "6) A transport insurance company insures cargo containing a certain type of industrial equipment. To ensure safety during transport, the parts must meet a specific average weight of 300 kg. A sample of 30 pieces was collected, obtaining the following weights (in kg):\n",
        "\n",
        "[250, 265, 267, 269, 271, 275, 277, 281, 283, 284,\n",
        "287, 289, 291, 293, 293, 298, 301, 303, 306, 307,\n",
        "307, 309, 311, 315, 319, 322, 324, 328, 335, 339]\n",
        "\n",
        "Using a confidence interval with a significance level of 5%, check whether the sample collected indicates that the average weight of the pieces meets the insurer's specification."
      ],
      "metadata": {
        "id": "tKz7HlI_Xmx0"
      }
    },
    {
      "cell_type": "code",
      "source": [
        "\n",
        "\n",
        "from scipy.stats import norm\n",
        "from numpy import mean,std\n",
        "u=300\n",
        "ams=[250,265,267,269,271,275,277,281,283,284,287,289,291,293,293,298,301,303,306,307,307,309,311,315,319,322,324,328,335,339]\n",
        "x=mean(ams)\n",
        "n=len(ams)\n",
        "s=std(ams)\n",
        "norm.interval(confidence = 0.95, loc = x, scale = s / sqrt(n))\n",
        "#sim, satifaz, pois 300 ta no intervalo"
      ],
      "metadata": {
        "id": "1yAeMkSiXW1h",
        "colab": {
          "base_uri": "https://localhost:8080/"
        },
        "outputId": "d50d5fca-0d81-4930-aaf4-0f119251774a"
      },
      "execution_count": null,
      "outputs": [
        {
          "output_type": "execute_result",
          "data": {
            "text/plain": [
              "(288.81229203361283, 304.4543746330538)"
            ]
          },
          "metadata": {},
          "execution_count": 36
        }
      ]
    },
    {
      "cell_type": "markdown",
      "source": [
        "7) An industrial equipment insurer insures a specific type of machine. To ensure the useful life and proper functioning of these machines, the parts must meet precise diameter specifications. A sample of 30 parts was collected, obtaining the following diameters (in mm):\n",
        "\n",
        "10, 11, 11, 11, 12, 12, 12, 12, 13, 13,\n",
        "13, 13, 13, 13, 13, 13, 13, 13, 13, 13, 13, 13,\n",
        "14, 14, 14, 14, 14, 15, 15, 15, 16, 16\n",
        "\n",
        "a) Estimate the mean and variance:\n",
        "\n",
        "b) Construct a confidence interval for the mean where α = 5%:"
      ],
      "metadata": {
        "id": "LNsknsrtXiXm"
      }
    },
    {
      "cell_type": "code",
      "source": [
        "\n",
        "\n",
        "from scipy.stats import norm\n",
        "from numpy import mean,std,var\n",
        "\n",
        "ams=[10,11,11,11,12,12,12,12,13,13,13,13,13,13,13,13,13,13,13,13,14,14,14,14,14,15,15,15,16,16]\n",
        "x=mean(ams)\n",
        "n=len(ams)\n",
        "s=std(ams)\n",
        "print('media',x,'var',var(ams))\n",
        "norm.interval(confidence = 0.95, loc = x, scale = s / sqrt(n))\n",
        "\n",
        "\n"
      ],
      "metadata": {
        "id": "gsPdR8TxXW3s",
        "colab": {
          "base_uri": "https://localhost:8080/"
        },
        "outputId": "1c72a9bd-2acb-4682-a626-9a0e210aab44"
      },
      "execution_count": 20,
      "outputs": [
        {
          "output_type": "stream",
          "name": "stdout",
          "text": [
            "media 13.133333333333333 var 1.9822222222222228\n"
          ]
        },
        {
          "output_type": "execute_result",
          "data": {
            "text/plain": [
              "(12.629526986935186, 13.63713967973148)"
            ]
          },
          "metadata": {},
          "execution_count": 20
        }
      ]
    },
    {
      "cell_type": "markdown",
      "source": [
        "8) An insurance company is developing a new 30-second commercial for a life insurance product. To ensure the quality of the commercial, 4 test recordings were made. In these recordings, the announcer took, on average, 29.2 seconds to deliver the script, with a variance of 5.76 seconds².\n",
        "\n",
        "Considering that the ideal length for the commercial is 30 seconds, the insurance company wants to build a 90% confidence interval for the average length of the commercial. The goal is to verify whether the actual average length of the recordings is in accordance with the ideal length."
      ],
      "metadata": {
        "id": "dyypLJyZXa01"
      }
    },
    {
      "cell_type": "code",
      "source": [
        "from scipy.stats import t\n",
        "from math import sqrt\n",
        "n=4\n",
        "x=29.2\n",
        "s2=5.76\n",
        "s=sqrt(s2)\n",
        "sig=0.1\n",
        "t.interval(1-sig,n-1,x,s/sqrt(n))"
      ],
      "metadata": {
        "id": "q6ujI7_pXW6N",
        "colab": {
          "base_uri": "https://localhost:8080/"
        },
        "outputId": "de4cee48-49fc-45a6-9c5a-acf70bb86927"
      },
      "execution_count": 23,
      "outputs": [
        {
          "output_type": "execute_result",
          "data": {
            "text/plain": [
              "(26.375963878237805, 32.024036121762194)"
            ]
          },
          "metadata": {},
          "execution_count": 23
        }
      ]
    }
  ]
}