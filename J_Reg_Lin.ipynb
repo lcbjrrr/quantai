{
  "nbformat": 4,
  "nbformat_minor": 0,
  "metadata": {
    "colab": {
      "provenance": [],
      "authorship_tag": "ABX9TyN/hb2So56+AqAAbKd6in68",
      "include_colab_link": true
    },
    "kernelspec": {
      "name": "julia",
      "display_name": "Julia"
    },
    "language_info": {
      "name": "julia"
    }
  },
  "cells": [
    {
      "cell_type": "markdown",
      "metadata": {
        "id": "view-in-github",
        "colab_type": "text"
      },
      "source": [
        "<a href=\"https://colab.research.google.com/github/lcbjrrr/quantai/blob/main/J_Reg_Lin.ipynb\" target=\"_parent\"><img src=\"https://colab.research.google.com/assets/colab-badge.svg\" alt=\"Open In Colab\"/></a>"
      ]
    },
    {
      "cell_type": "code",
      "execution_count": 1,
      "metadata": {
        "colab": {
          "base_uri": "https://localhost:8080/"
        },
        "id": "022cfEPqwtvq",
        "outputId": "1e91616c-57cd-4d82-e074-2f5f42b01516"
      },
      "outputs": [
        {
          "output_type": "stream",
          "name": "stdout",
          "text": [
            "Julia Version 1.10.8\n",
            "Commit 4c16ff44be8 (2025-01-22 10:06 UTC)\n",
            "Build Info:\n",
            "  Official https://julialang.org/ release\n",
            "Platform Info:\n",
            "  OS: Linux (x86_64-linux-gnu)\n",
            "  CPU: 2 × Intel(R) Xeon(R) CPU @ 2.20GHz\n",
            "  WORD_SIZE: 64\n",
            "  LIBM: libopenlibm\n",
            "  LLVM: libLLVM-15.0.7 (ORCJIT, broadwell)\n",
            "Threads: 2 default, 0 interactive, 1 GC (on 2 virtual cores)\n",
            "Environment:\n",
            "  LD_LIBRARY_PATH = /usr/local/nvidia/lib:/usr/local/nvidia/lib64\n",
            "  JULIA_NUM_THREADS = 2\n"
          ]
        }
      ],
      "source": [
        "versioninfo()"
      ]
    },
    {
      "cell_type": "markdown",
      "source": [
        "# Linear Regression\n"
      ],
      "metadata": {
        "id": "q3-iAjqdw06w"
      }
    },
    {
      "cell_type": "code",
      "source": [
        "\n",
        "import Pkg\n",
        "Pkg.add(\"CSV\")\n",
        "Pkg.add(\"DataFrames\")\n",
        "Pkg.add(\"Statistics\")\n",
        "Pkg.add(\"StatsPlots\")\n",
        "using CSV\n",
        "using DataFrames\n",
        "using Statistics\n",
        "using StatsPlots\n"
      ],
      "metadata": {
        "colab": {
          "base_uri": "https://localhost:8080/"
        },
        "id": "tS2BE_Prw2IA",
        "outputId": "23aed520-9bc5-43a6-d0bd-2b73b3ed4558",
        "collapsed": true
      },
      "execution_count": 2,
      "outputs": [
        {
          "output_type": "stream",
          "name": "stderr",
          "text": [
            "\u001b[32m\u001b[1m   Resolving\u001b[22m\u001b[39m package versions...\n",
            "\u001b[32m\u001b[1m  No Changes\u001b[22m\u001b[39m to `~/.julia/environments/v1.10/Project.toml`\n",
            "\u001b[32m\u001b[1m  No Changes\u001b[22m\u001b[39m to `~/.julia/environments/v1.10/Manifest.toml`\n",
            "\u001b[32m\u001b[1m   Resolving\u001b[22m\u001b[39m package versions...\n",
            "\u001b[32m\u001b[1m  No Changes\u001b[22m\u001b[39m to `~/.julia/environments/v1.10/Project.toml`\n",
            "\u001b[32m\u001b[1m  No Changes\u001b[22m\u001b[39m to `~/.julia/environments/v1.10/Manifest.toml`\n",
            "\u001b[32m\u001b[1m   Resolving\u001b[22m\u001b[39m package versions...\n",
            "\u001b[32m\u001b[1m  No Changes\u001b[22m\u001b[39m to `~/.julia/environments/v1.10/Project.toml`\n",
            "\u001b[32m\u001b[1m  No Changes\u001b[22m\u001b[39m to `~/.julia/environments/v1.10/Manifest.toml`\n",
            "\u001b[32m\u001b[1m   Resolving\u001b[22m\u001b[39m package versions...\n",
            "\u001b[32m\u001b[1m  No Changes\u001b[22m\u001b[39m to `~/.julia/environments/v1.10/Project.toml`\n",
            "\u001b[32m\u001b[1m  No Changes\u001b[22m\u001b[39m to `~/.julia/environments/v1.10/Manifest.toml`\n"
          ]
        }
      ]
    },
    {
      "cell_type": "code",
      "source": [
        "Pkg.add(\"GLM\")\n",
        "using GLM"
      ],
      "metadata": {
        "colab": {
          "base_uri": "https://localhost:8080/"
        },
        "id": "kSj1qCd-x_0q",
        "outputId": "a10f2c21-95c9-4552-a364-70692ee870e7"
      },
      "execution_count": 3,
      "outputs": [
        {
          "output_type": "stream",
          "name": "stderr",
          "text": [
            "\u001b[32m\u001b[1m   Resolving\u001b[22m\u001b[39m package versions...\n",
            "\u001b[32m\u001b[1m  No Changes\u001b[22m\u001b[39m to `~/.julia/environments/v1.10/Project.toml`\n",
            "\u001b[32m\u001b[1m  No Changes\u001b[22m\u001b[39m to `~/.julia/environments/v1.10/Manifest.toml`\n"
          ]
        }
      ]
    },
    {
      "cell_type": "code",
      "source": [
        "#Pkg.add(\"MLBase\")\n",
        "#using GLM"
      ],
      "metadata": {
        "id": "7_qJcjPEPQMU"
      },
      "execution_count": 4,
      "outputs": []
    },
    {
      "cell_type": "code",
      "source": [
        ";wget https://raw.githubusercontent.com/lcbjrrr/quantai/refs/heads/main/datasets/autos.csv"
      ],
      "metadata": {
        "colab": {
          "base_uri": "https://localhost:8080/"
        },
        "id": "QerFkl7vw9_R",
        "outputId": "edb46bed-4801-4fa2-c08c-d3a58ad95e91"
      },
      "execution_count": 5,
      "outputs": [
        {
          "output_type": "stream",
          "name": "stderr",
          "text": [
            "--2025-03-14 22:10:43--  https://raw.githubusercontent.com/lcbjrrr/quantai/refs/heads/main/datasets/autos.csv\n",
            "Resolving raw.githubusercontent.com (raw.githubusercontent.com)... 185.199.108.133, 185.199.110.133, 185.199.109.133, ...\n",
            "Connecting to raw.githubusercontent.com (raw.githubusercontent.com)|185.199.108.133|:443... connected.\n",
            "HTTP request sent, awaiting response... 200 OK\n",
            "Length: 518 [text/plain]\n",
            "Saving to: ‘autos.csv.2’\n",
            "\n",
            "     0K                                                       100% 23.8M=0s\n",
            "\n",
            "2025-03-14 22:10:43 (23.8 MB/s) - ‘autos.csv.2’ saved [518/518]\n",
            "\n"
          ]
        }
      ]
    },
    {
      "cell_type": "code",
      "source": [
        ";wget https://raw.githubusercontent.com/lcbjrrr/quantai/refs/heads/main/datasets/auto_ts.csv"
      ],
      "metadata": {
        "colab": {
          "base_uri": "https://localhost:8080/"
        },
        "id": "Qhc8hnmxxtWa",
        "outputId": "1571e3be-d93e-418a-88e3-14cc563da0a3"
      },
      "execution_count": 6,
      "outputs": [
        {
          "output_type": "stream",
          "name": "stderr",
          "text": [
            "--2025-03-14 22:10:43--  https://raw.githubusercontent.com/lcbjrrr/quantai/refs/heads/main/datasets/auto_ts.csv\n",
            "Resolving raw.githubusercontent.com (raw.githubusercontent.com)... 185.199.108.133, 185.199.109.133, 185.199.110.133, ...\n",
            "Connecting to raw.githubusercontent.com (raw.githubusercontent.com)|185.199.108.133|:443... connected.\n",
            "HTTP request sent, awaiting response... 200 OK\n",
            "Length: 48 [text/plain]\n",
            "Saving to: ‘auto_ts.csv.1’\n",
            "\n",
            "     0K                                                       100%  715K=0s\n",
            "\n",
            "2025-03-14 22:10:44 (715 KB/s) - ‘auto_ts.csv.1’ saved [48/48]\n",
            "\n"
          ]
        }
      ]
    },
    {
      "cell_type": "code",
      "source": [
        "#read csv: train data\n",
        "train=CSV.read(\"autos.csv\", DataFrame)\n",
        "first(train,5)"
      ],
      "metadata": {
        "colab": {
          "base_uri": "https://localhost:8080/",
          "height": 192
        },
        "id": "O6wVg0xWxL75",
        "outputId": "218618d5-24f9-49d4-8907-0603160d9580"
      },
      "execution_count": 7,
      "outputs": [
        {
          "output_type": "execute_result",
          "data": {
            "text/plain": [
              "\u001b[1m5×3 DataFrame\n",
              "\u001b[1m Row │\u001b[1m age   \u001b[1m gender \u001b[1m premium\n",
              "     │\u001b[90m Int64 \u001b[90m Int64  \u001b[90m Int64\n",
              "─────┼────────────────────────\n",
              "   1 │    23       1      333\n",
              "   2 │    24       0      320\n",
              "   3 │    31       1      301\n",
              "   4 │    33       0      280\n",
              "   5 │    40       1      270"
            ],
            "text/html": [
              "<div><div style = \"float: left;\"><span>5×3 DataFrame</span></div><div style = \"clear: both;\"></div></div><div class = \"data-frame\" style = \"overflow-x: scroll;\"><table class = \"data-frame\" style = \"margin-bottom: 6px;\"><thead><tr class = \"header\"><th class = \"rowNumber\" style = \"font-weight: bold; text-align: right;\">Row</th><th style = \"text-align: left;\">age</th><th style = \"text-align: left;\">gender</th><th style = \"text-align: left;\">premium</th></tr><tr class = \"subheader headerLastRow\"><th class = \"rowNumber\" style = \"font-weight: bold; text-align: right;\"></th><th title = \"Int64\" style = \"text-align: left;\">Int64</th><th title = \"Int64\" style = \"text-align: left;\">Int64</th><th title = \"Int64\" style = \"text-align: left;\">Int64</th></tr></thead><tbody><tr><td class = \"rowNumber\" style = \"font-weight: bold; text-align: right;\">1</td><td style = \"text-align: right;\">23</td><td style = \"text-align: right;\">1</td><td style = \"text-align: right;\">333</td></tr><tr><td class = \"rowNumber\" style = \"font-weight: bold; text-align: right;\">2</td><td style = \"text-align: right;\">24</td><td style = \"text-align: right;\">0</td><td style = \"text-align: right;\">320</td></tr><tr><td class = \"rowNumber\" style = \"font-weight: bold; text-align: right;\">3</td><td style = \"text-align: right;\">31</td><td style = \"text-align: right;\">1</td><td style = \"text-align: right;\">301</td></tr><tr><td class = \"rowNumber\" style = \"font-weight: bold; text-align: right;\">4</td><td style = \"text-align: right;\">33</td><td style = \"text-align: right;\">0</td><td style = \"text-align: right;\">280</td></tr><tr><td class = \"rowNumber\" style = \"font-weight: bold; text-align: right;\">5</td><td style = \"text-align: right;\">40</td><td style = \"text-align: right;\">1</td><td style = \"text-align: right;\">270</td></tr></tbody></table></div>"
            ],
            "text/latex": "\\begin{tabular}{r|ccc}\n\t& age & gender & premium\\\\\n\t\\hline\n\t& Int64 & Int64 & Int64\\\\\n\t\\hline\n\t1 & 23 & 1 & 333 \\\\\n\t2 & 24 & 0 & 320 \\\\\n\t3 & 31 & 1 & 301 \\\\\n\t4 & 33 & 0 & 280 \\\\\n\t5 & 40 & 1 & 270 \\\\\n\\end{tabular}\n"
          },
          "metadata": {},
          "execution_count": 7
        }
      ]
    },
    {
      "cell_type": "code",
      "source": [
        "#read csv: test data\n",
        "test=CSV.read(\"auto_ts.csv\", DataFrame)\n",
        "first(test,3)"
      ],
      "metadata": {
        "colab": {
          "base_uri": "https://localhost:8080/",
          "height": 149
        },
        "id": "JZrVBJczxdna",
        "outputId": "9ad663b5-ef93-4727-d16b-80ae15c832a2"
      },
      "execution_count": 8,
      "outputs": [
        {
          "output_type": "execute_result",
          "data": {
            "text/plain": [
              "\u001b[1m3×3 DataFrame\n",
              "\u001b[1m Row │\u001b[1m age   \u001b[1m gender \u001b[1m premium\n",
              "     │\u001b[90m Int64 \u001b[90m Int64  \u001b[90m Int64\n",
              "─────┼────────────────────────\n",
              "   1 │    33       1      305\n",
              "   2 │    33       0      295\n",
              "   3 │    35       1      300"
            ],
            "text/html": [
              "<div><div style = \"float: left;\"><span>3×3 DataFrame</span></div><div style = \"clear: both;\"></div></div><div class = \"data-frame\" style = \"overflow-x: scroll;\"><table class = \"data-frame\" style = \"margin-bottom: 6px;\"><thead><tr class = \"header\"><th class = \"rowNumber\" style = \"font-weight: bold; text-align: right;\">Row</th><th style = \"text-align: left;\">age</th><th style = \"text-align: left;\">gender</th><th style = \"text-align: left;\">premium</th></tr><tr class = \"subheader headerLastRow\"><th class = \"rowNumber\" style = \"font-weight: bold; text-align: right;\"></th><th title = \"Int64\" style = \"text-align: left;\">Int64</th><th title = \"Int64\" style = \"text-align: left;\">Int64</th><th title = \"Int64\" style = \"text-align: left;\">Int64</th></tr></thead><tbody><tr><td class = \"rowNumber\" style = \"font-weight: bold; text-align: right;\">1</td><td style = \"text-align: right;\">33</td><td style = \"text-align: right;\">1</td><td style = \"text-align: right;\">305</td></tr><tr><td class = \"rowNumber\" style = \"font-weight: bold; text-align: right;\">2</td><td style = \"text-align: right;\">33</td><td style = \"text-align: right;\">0</td><td style = \"text-align: right;\">295</td></tr><tr><td class = \"rowNumber\" style = \"font-weight: bold; text-align: right;\">3</td><td style = \"text-align: right;\">35</td><td style = \"text-align: right;\">1</td><td style = \"text-align: right;\">300</td></tr></tbody></table></div>"
            ],
            "text/latex": "\\begin{tabular}{r|ccc}\n\t& age & gender & premium\\\\\n\t\\hline\n\t& Int64 & Int64 & Int64\\\\\n\t\\hline\n\t1 & 33 & 1 & 305 \\\\\n\t2 & 33 & 0 & 295 \\\\\n\t3 & 35 & 1 & 300 \\\\\n\\end{tabular}\n"
          },
          "metadata": {},
          "execution_count": 8
        }
      ]
    },
    {
      "cell_type": "markdown",
      "source": [
        "## Correlation and Scatterplot"
      ],
      "metadata": {
        "id": "NcLO-Lf2yt5n"
      }
    },
    {
      "cell_type": "code",
      "source": [
        "#Correlation\n",
        "cor(train.age,train.premium)"
      ],
      "metadata": {
        "colab": {
          "base_uri": "https://localhost:8080/"
        },
        "id": "3kM7tt9iyq01",
        "outputId": "8f9a52ed-d407-4d53-8b43-ceaec398120d"
      },
      "execution_count": 9,
      "outputs": [
        {
          "output_type": "execute_result",
          "data": {
            "text/plain": [
              "-0.9790754604636568"
            ]
          },
          "metadata": {},
          "execution_count": 9
        }
      ]
    },
    {
      "cell_type": "code",
      "source": [
        "scatter(train.age,train.premium)"
      ],
      "metadata": {
        "colab": {
          "base_uri": "https://localhost:8080/",
          "height": 421
        },
        "id": "c5Q-BxFPy5K-",
        "outputId": "a896a96f-8083-47a7-a782-1a11ac4f5fb6"
      },
      "execution_count": 10,
      "outputs": [
        {
          "output_type": "execute_result",
          "data": {
            "image/png": "[encoded data removed]",
            "text/html": [
              "<?xml version=\"1.0\" encoding=\"utf-8\"?>\n",
              "<svg xmlns=\"http://www.w3.org/2000/svg\" xmlns:xlink=\"http://www.w3.org/1999/xlink\" width=\"600\" height=\"400\" viewBox=\"0 0 2400 1600\">\n",
              "<defs>\n",
              "  <clipPath id=\"clip810\">\n",
              "    <rect x=\"0\" y=\"0\" width=\"2400\" height=\"1600\"/>\n",
              "  </clipPath>\n",
              "</defs>\n",
              "<path clip-path=\"url(#clip810)\" d=\"M0 1600 L2400 1600 L2400 0 L0 0  Z\" fill=\"#ffffff\" fill-rule=\"evenodd\" fill-opacity=\"1\"/>\n",
              "<defs>\n",
              "  <clipPath id=\"clip811\">\n",
              "    <rect x=\"480\" y=\"0\" width=\"1681\" height=\"1600\"/>\n",
              "  </clipPath>\n",
              "</defs>\n",
              "<path clip-path=\"url(#clip810)\" d=\"M170.857 1486.45 L2352.76 1486.45 L2352.76 47.2441 L170.857 47.2441  Z\" fill=\"#ffffff\" fill-rule=\"evenodd\" fill-opacity=\"1\"/>\n",
              "<defs>\n",
              "  <clipPath id=\"clip812\">\n",
              "    <rect x=\"170\" y=\"47\" width=\"2183\" height=\"1440\"/>\n",
              "  </clipPath>\n",
              "</defs>\n",
              "<polyline clip-path=\"url(#clip812)\" style=\"stroke:#000000; stroke-linecap:round; stroke-linejoin:round; stroke-width:2; stroke-opacity:0.1; fill:none\" points=\"322.105,1486.45 322.105,47.2441 \"/>\n",
              "<polyline clip-path=\"url(#clip812)\" style=\"stroke:#000000; stroke-linecap:round; stroke-linejoin:round; stroke-width:2; stroke-opacity:0.1; fill:none\" points=\"769.582,1486.45 769.582,47.2441 \"/>\n",
              "<polyline clip-path=\"url(#clip812)\" style=\"stroke:#000000; stroke-linecap:round; stroke-linejoin:round; stroke-width:2; stroke-opacity:0.1; fill:none\" points=\"1217.06,1486.45 1217.06,47.2441 \"/>\n",
              "<polyline clip-path=\"url(#clip812)\" style=\"stroke:#000000; stroke-linecap:round; stroke-linejoin:round; stroke-width:2; stroke-opacity:0.1; fill:none\" points=\"1664.54,1486.45 1664.54,47.2441 \"/>\n",
              "<polyline clip-path=\"url(#clip812)\" style=\"stroke:#000000; stroke-linecap:round; stroke-linejoin:round; stroke-width:2; stroke-opacity:0.1; fill:none\" points=\"2112.01,1486.45 2112.01,47.2441 \"/>\n",
              "<polyline clip-path=\"url(#clip812)\" style=\"stroke:#000000; stroke-linecap:round; stroke-linejoin:round; stroke-width:2; stroke-opacity:0.1; fill:none\" points=\"170.857,1211.29 2352.76,1211.29 \"/>\n",
              "<polyline clip-path=\"url(#clip812)\" style=\"stroke:#000000; stroke-linecap:round; stroke-linejoin:round; stroke-width:2; stroke-opacity:0.1; fill:none\" points=\"170.857,918.249 2352.76,918.249 \"/>\n",
              "<polyline clip-path=\"url(#clip812)\" style=\"stroke:#000000; stroke-linecap:round; stroke-linejoin:round; stroke-width:2; stroke-opacity:0.1; fill:none\" points=\"170.857,625.211 2352.76,625.211 \"/>\n",
              "<polyline clip-path=\"url(#clip812)\" style=\"stroke:#000000; stroke-linecap:round; stroke-linejoin:round; stroke-width:2; stroke-opacity:0.1; fill:none\" points=\"170.857,332.174 2352.76,332.174 \"/>\n",
              "<polyline clip-path=\"url(#clip810)\" style=\"stroke:#000000; stroke-linecap:round; stroke-linejoin:round; stroke-width:4; stroke-opacity:1; fill:none\" points=\"170.857,1486.45 2352.76,1486.45 \"/>\n",
              "<polyline clip-path=\"url(#clip810)\" style=\"stroke:#000000; stroke-linecap:round; stroke-linejoin:round; stroke-width:4; stroke-opacity:1; fill:none\" points=\"322.105,1486.45 322.105,1467.55 \"/>\n",
              "<polyline clip-path=\"url(#clip810)\" style=\"stroke:#000000; stroke-linecap:round; stroke-linejoin:round; stroke-width:4; stroke-opacity:1; fill:none\" points=\"769.582,1486.45 769.582,1467.55 \"/>\n",
              "<polyline clip-path=\"url(#clip810)\" style=\"stroke:#000000; stroke-linecap:round; stroke-linejoin:round; stroke-width:4; stroke-opacity:1; fill:none\" points=\"1217.06,1486.45 1217.06,1467.55 \"/>\n",
              "<polyline clip-path=\"url(#clip810)\" style=\"stroke:#000000; stroke-linecap:round; stroke-linejoin:round; stroke-width:4; stroke-opacity:1; fill:none\" points=\"1664.54,1486.45 1664.54,1467.55 \"/>\n",
              "<polyline clip-path=\"url(#clip810)\" style=\"stroke:#000000; stroke-linecap:round; stroke-linejoin:round; stroke-width:4; stroke-opacity:1; fill:none\" points=\"2112.01,1486.45 2112.01,1467.55 \"/>\n",
              "<path clip-path=\"url(#clip810)\" d=\"M300.878 1544.91 L317.197 1544.91 L317.197 1548.85 L295.253 1548.85 L295.253 1544.91 Q297.915 1542.16 302.498 1537.53 Q307.105 1532.88 308.285 1531.53 Q310.531 1529.01 311.41 1527.27 Q312.313 1525.51 312.313 1523.82 Q312.313 1521.07 310.369 1519.33 Q308.447 1517.6 305.346 1517.6 Q303.146 1517.6 300.693 1518.36 Q298.262 1519.13 295.484 1520.68 L295.484 1515.95 Q298.309 1514.82 300.762 1514.24 Q303.216 1513.66 305.253 1513.66 Q310.623 1513.66 313.818 1516.35 Q317.012 1519.03 317.012 1523.52 Q317.012 1525.65 316.202 1527.57 Q315.415 1529.47 313.308 1532.07 Q312.73 1532.74 309.628 1535.95 Q306.526 1539.15 300.878 1544.91 Z\" fill=\"#000000\" fill-rule=\"nonzero\" fill-opacity=\"1\" /><path clip-path=\"url(#clip810)\" d=\"M337.012 1517.37 Q333.401 1517.37 331.572 1520.93 Q329.767 1524.47 329.767 1531.6 Q329.767 1538.71 331.572 1542.27 Q333.401 1545.82 337.012 1545.82 Q340.646 1545.82 342.452 1542.27 Q344.28 1538.71 344.28 1531.6 Q344.28 1524.47 342.452 1520.93 Q340.646 1517.37 337.012 1517.37 M337.012 1513.66 Q342.822 1513.66 345.878 1518.27 Q348.956 1522.85 348.956 1531.6 Q348.956 1540.33 345.878 1544.94 Q342.822 1549.52 337.012 1549.52 Q331.202 1549.52 328.123 1544.94 Q325.068 1540.33 325.068 1531.6 Q325.068 1522.85 328.123 1518.27 Q331.202 1513.66 337.012 1513.66 Z\" fill=\"#000000\" fill-rule=\"nonzero\" fill-opacity=\"1\" /><path clip-path=\"url(#clip810)\" d=\"M758.424 1530.21 Q761.781 1530.93 763.656 1533.2 Q765.554 1535.47 765.554 1538.8 Q765.554 1543.92 762.036 1546.72 Q758.517 1549.52 752.036 1549.52 Q749.86 1549.52 747.545 1549.08 Q745.253 1548.66 742.8 1547.81 L742.8 1543.29 Q744.744 1544.43 747.059 1545.01 Q749.374 1545.58 751.897 1545.58 Q756.295 1545.58 758.587 1543.85 Q760.901 1542.11 760.901 1538.8 Q760.901 1535.75 758.749 1534.03 Q756.619 1532.3 752.8 1532.3 L748.772 1532.3 L748.772 1528.45 L752.985 1528.45 Q756.434 1528.45 758.262 1527.09 Q760.091 1525.7 760.091 1523.11 Q760.091 1520.45 758.193 1519.03 Q756.318 1517.6 752.8 1517.6 Q750.878 1517.6 748.679 1518.01 Q746.48 1518.43 743.841 1519.31 L743.841 1515.14 Q746.503 1514.4 748.818 1514.03 Q751.156 1513.66 753.216 1513.66 Q758.54 1513.66 761.642 1516.09 Q764.744 1518.5 764.744 1522.62 Q764.744 1525.49 763.1 1527.48 Q761.457 1529.45 758.424 1530.21 Z\" fill=\"#000000\" fill-rule=\"nonzero\" fill-opacity=\"1\" /><path clip-path=\"url(#clip810)\" d=\"M784.42 1517.37 Q780.809 1517.37 778.98 1520.93 Q777.174 1524.47 777.174 1531.6 Q777.174 1538.71 778.98 1542.27 Q780.809 1545.82 784.42 1545.82 Q788.054 1545.82 789.859 1542.27 Q791.688 1538.71 791.688 1531.6 Q791.688 1524.47 789.859 1520.93 Q788.054 1517.37 784.42 1517.37 M784.42 1513.66 Q790.23 1513.66 793.285 1518.27 Q796.364 1522.85 796.364 1531.6 Q796.364 1540.33 793.285 1544.94 Q790.23 1549.52 784.42 1549.52 Q778.61 1549.52 775.531 1544.94 Q772.475 1540.33 772.475 1531.6 Q772.475 1522.85 775.531 1518.27 Q778.61 1513.66 784.42 1513.66 Z\" fill=\"#000000\" fill-rule=\"nonzero\" fill-opacity=\"1\" /><path clip-path=\"url(#clip810)\" d=\"M1205.23 1518.36 L1193.42 1536.81 L1205.23 1536.81 L1205.23 1518.36 M1204 1514.29 L1209.88 1514.29 L1209.88 1536.81 L1214.81 1536.81 L1214.81 1540.7 L1209.88 1540.7 L1209.88 1548.85 L1205.23 1548.85 L1205.23 1540.7 L1189.63 1540.7 L1189.63 1536.19 L1204 1514.29 Z\" fill=\"#000000\" fill-rule=\"nonzero\" fill-opacity=\"1\" /><path clip-path=\"url(#clip810)\" d=\"M1232.54 1517.37 Q1228.93 1517.37 1227.11 1520.93 Q1225.3 1524.47 1225.3 1531.6 Q1225.3 1538.71 1227.11 1542.27 Q1228.93 1545.82 1232.54 1545.82 Q1236.18 1545.82 1237.98 1542.27 Q1239.81 1538.71 1239.81 1531.6 Q1239.81 1524.47 1237.98 1520.93 Q1236.18 1517.37 1232.54 1517.37 M1232.54 1513.66 Q1238.36 1513.66 1241.41 1518.27 Q1244.49 1522.85 1244.49 1531.6 Q1244.49 1540.33 1241.41 1544.94 Q1238.36 1549.52 1232.54 1549.52 Q1226.73 1549.52 1223.66 1544.94 Q1220.6 1540.33 1220.6 1531.6 Q1220.6 1522.85 1223.66 1518.27 Q1226.73 1513.66 1232.54 1513.66 Z\" fill=\"#000000\" fill-rule=\"nonzero\" fill-opacity=\"1\" /><path clip-path=\"url(#clip810)\" d=\"M1639.24 1514.29 L1657.59 1514.29 L1657.59 1518.22 L1643.52 1518.22 L1643.52 1526.7 Q1644.54 1526.35 1645.55 1526.19 Q1646.57 1526 1647.59 1526 Q1653.38 1526 1656.76 1529.17 Q1660.14 1532.34 1660.14 1537.76 Q1660.14 1543.34 1656.67 1546.44 Q1653.19 1549.52 1646.87 1549.52 Q1644.7 1549.52 1642.43 1549.15 Q1640.18 1548.78 1637.78 1548.04 L1637.78 1543.34 Q1639.86 1544.47 1642.08 1545.03 Q1644.3 1545.58 1646.78 1545.58 Q1650.79 1545.58 1653.12 1543.48 Q1655.46 1541.37 1655.46 1537.76 Q1655.46 1534.15 1653.12 1532.04 Q1650.79 1529.94 1646.78 1529.94 Q1644.91 1529.94 1643.03 1530.35 Q1641.18 1530.77 1639.24 1531.65 L1639.24 1514.29 Z\" fill=\"#000000\" fill-rule=\"nonzero\" fill-opacity=\"1\" /><path clip-path=\"url(#clip810)\" d=\"M1679.35 1517.37 Q1675.74 1517.37 1673.91 1520.93 Q1672.11 1524.47 1672.11 1531.6 Q1672.11 1538.71 1673.91 1542.27 Q1675.74 1545.82 1679.35 1545.82 Q1682.99 1545.82 1684.79 1542.27 Q1686.62 1538.71 1686.62 1531.6 Q1686.62 1524.47 1684.79 1520.93 Q1682.99 1517.37 1679.35 1517.37 M1679.35 1513.66 Q1685.16 1513.66 1688.22 1518.27 Q1691.3 1522.85 1691.3 1531.6 Q1691.3 1540.33 1688.22 1544.94 Q1685.16 1549.52 1679.35 1549.52 Q1673.54 1549.52 1670.46 1544.94 Q1667.41 1540.33 1667.41 1531.6 Q1667.41 1522.85 1670.46 1518.27 Q1673.54 1513.66 1679.35 1513.66 Z\" fill=\"#000000\" fill-rule=\"nonzero\" fill-opacity=\"1\" /><path clip-path=\"url(#clip810)\" d=\"M2097.42 1529.7 Q2094.27 1529.7 2092.42 1531.86 Q2090.59 1534.01 2090.59 1537.76 Q2090.59 1541.49 2092.42 1543.66 Q2094.27 1545.82 2097.42 1545.82 Q2100.57 1545.82 2102.4 1543.66 Q2104.25 1541.49 2104.25 1537.76 Q2104.25 1534.01 2102.4 1531.86 Q2100.57 1529.7 2097.42 1529.7 M2106.7 1515.05 L2106.7 1519.31 Q2104.94 1518.48 2103.14 1518.04 Q2101.35 1517.6 2099.59 1517.6 Q2094.96 1517.6 2092.51 1520.72 Q2090.08 1523.85 2089.73 1530.17 Q2091.1 1528.15 2093.16 1527.09 Q2095.22 1526 2097.7 1526 Q2102.9 1526 2105.91 1529.17 Q2108.95 1532.32 2108.95 1537.76 Q2108.95 1543.08 2105.8 1546.3 Q2102.65 1549.52 2097.42 1549.52 Q2091.42 1549.52 2088.25 1544.94 Q2085.08 1540.33 2085.08 1531.6 Q2085.08 1523.41 2088.97 1518.55 Q2092.86 1513.66 2099.41 1513.66 Q2101.17 1513.66 2102.95 1514.01 Q2104.76 1514.36 2106.7 1515.05 Z\" fill=\"#000000\" fill-rule=\"nonzero\" fill-opacity=\"1\" /><path clip-path=\"url(#clip810)\" d=\"M2127 1517.37 Q2123.39 1517.37 2121.56 1520.93 Q2119.76 1524.47 2119.76 1531.6 Q2119.76 1538.71 2121.56 1542.27 Q2123.39 1545.82 2127 1545.82 Q2130.64 1545.82 2132.44 1542.27 Q2134.27 1538.71 2134.27 1531.6 Q2134.27 1524.47 2132.44 1520.93 Q2130.64 1517.37 2127 1517.37 M2127 1513.66 Q2132.81 1513.66 2135.87 1518.27 Q2138.95 1522.85 2138.95 1531.6 Q2138.95 1540.33 2135.87 1544.94 Q2132.81 1549.52 2127 1549.52 Q2121.19 1549.52 2118.11 1544.94 Q2115.06 1540.33 2115.06 1531.6 Q2115.06 1522.85 2118.11 1518.27 Q2121.19 1513.66 2127 1513.66 Z\" fill=\"#000000\" fill-rule=\"nonzero\" fill-opacity=\"1\" /><polyline clip-path=\"url(#clip810)\" style=\"stroke:#000000; stroke-linecap:round; stroke-linejoin:round; stroke-width:4; stroke-opacity:1; fill:none\" points=\"170.857,1486.45 170.857,47.2441 \"/>\n",
              "<polyline clip-path=\"url(#clip810)\" style=\"stroke:#000000; stroke-linecap:round; stroke-linejoin:round; stroke-width:4; stroke-opacity:1; fill:none\" points=\"170.857,1211.29 189.755,1211.29 \"/>\n",
              "<polyline clip-path=\"url(#clip810)\" style=\"stroke:#000000; stroke-linecap:round; stroke-linejoin:round; stroke-width:4; stroke-opacity:1; fill:none\" points=\"170.857,918.249 189.755,918.249 \"/>\n",
              "<polyline clip-path=\"url(#clip810)\" style=\"stroke:#000000; stroke-linecap:round; stroke-linejoin:round; stroke-width:4; stroke-opacity:1; fill:none\" points=\"170.857,625.211 189.755,625.211 \"/>\n",
              "<polyline clip-path=\"url(#clip810)\" style=\"stroke:#000000; stroke-linecap:round; stroke-linejoin:round; stroke-width:4; stroke-opacity:1; fill:none\" points=\"170.857,332.174 189.755,332.174 \"/>\n",
              "<path clip-path=\"url(#clip810)\" d=\"M56.6171 1224.63 L72.9365 1224.63 L72.9365 1228.57 L50.9921 1228.57 L50.9921 1224.63 Q53.6541 1221.88 58.2375 1217.25 Q62.8439 1212.59 64.0245 1211.25 Q66.2698 1208.73 67.1494 1206.99 Q68.0522 1205.23 68.0522 1203.54 Q68.0522 1200.79 66.1078 1199.05 Q64.1865 1197.32 61.0847 1197.32 Q58.8856 1197.32 56.4319 1198.08 Q54.0014 1198.84 51.2236 1200.39 L51.2236 1195.67 Q54.0477 1194.54 56.5014 1193.96 Q58.955 1193.38 60.9921 1193.38 Q66.3624 1193.38 69.5568 1196.07 Q72.7513 1198.75 72.7513 1203.24 Q72.7513 1205.37 71.9411 1207.29 Q71.1541 1209.19 69.0476 1211.78 Q68.4689 1212.45 65.367 1215.67 Q62.2652 1218.87 56.6171 1224.63 Z\" fill=\"#000000\" fill-rule=\"nonzero\" fill-opacity=\"1\" /><path clip-path=\"url(#clip810)\" d=\"M95.5984 1198.08 L83.7929 1216.53 L95.5984 1216.53 L95.5984 1198.08 M94.3715 1194.01 L100.251 1194.01 L100.251 1216.53 L105.182 1216.53 L105.182 1220.42 L100.251 1220.42 L100.251 1228.57 L95.5984 1228.57 L95.5984 1220.42 L79.9966 1220.42 L79.9966 1215.9 L94.3715 1194.01 Z\" fill=\"#000000\" fill-rule=\"nonzero\" fill-opacity=\"1\" /><path clip-path=\"url(#clip810)\" d=\"M122.913 1197.08 Q119.302 1197.08 117.473 1200.65 Q115.668 1204.19 115.668 1211.32 Q115.668 1218.43 117.473 1221.99 Q119.302 1225.53 122.913 1225.53 Q126.547 1225.53 128.353 1221.99 Q130.182 1218.43 130.182 1211.32 Q130.182 1204.19 128.353 1200.65 Q126.547 1197.08 122.913 1197.08 M122.913 1193.38 Q128.723 1193.38 131.779 1197.99 Q134.857 1202.57 134.857 1211.32 Q134.857 1220.05 131.779 1224.65 Q128.723 1229.24 122.913 1229.24 Q117.103 1229.24 114.024 1224.65 Q110.969 1220.05 110.969 1211.32 Q110.969 1202.57 114.024 1197.99 Q117.103 1193.38 122.913 1193.38 Z\" fill=\"#000000\" fill-rule=\"nonzero\" fill-opacity=\"1\" /><path clip-path=\"url(#clip810)\" d=\"M56.6171 931.593 L72.9365 931.593 L72.9365 935.529 L50.9921 935.529 L50.9921 931.593 Q53.6541 928.839 58.2375 924.209 Q62.8439 919.556 64.0245 918.214 Q66.2698 915.691 67.1494 913.955 Q68.0522 912.195 68.0522 910.506 Q68.0522 907.751 66.1078 906.015 Q64.1865 904.279 61.0847 904.279 Q58.8856 904.279 56.4319 905.043 Q54.0014 905.807 51.2236 907.357 L51.2236 902.635 Q54.0477 901.501 56.5014 900.922 Q58.955 900.344 60.9921 900.344 Q66.3624 900.344 69.5568 903.029 Q72.7513 905.714 72.7513 910.205 Q72.7513 912.334 71.9411 914.256 Q71.1541 916.154 69.0476 918.746 Q68.4689 919.418 65.367 922.635 Q62.2652 925.83 56.6171 931.593 Z\" fill=\"#000000\" fill-rule=\"nonzero\" fill-opacity=\"1\" /><path clip-path=\"url(#clip810)\" d=\"M81.5707 900.969 L103.793 900.969 L103.793 902.959 L91.2465 935.529 L86.3623 935.529 L98.1678 904.904 L81.5707 904.904 L81.5707 900.969 Z\" fill=\"#000000\" fill-rule=\"nonzero\" fill-opacity=\"1\" /><path clip-path=\"url(#clip810)\" d=\"M122.913 904.047 Q119.302 904.047 117.473 907.612 Q115.668 911.154 115.668 918.283 Q115.668 925.39 117.473 928.955 Q119.302 932.496 122.913 932.496 Q126.547 932.496 128.353 928.955 Q130.182 925.39 130.182 918.283 Q130.182 911.154 128.353 907.612 Q126.547 904.047 122.913 904.047 M122.913 900.344 Q128.723 900.344 131.779 904.95 Q134.857 909.533 134.857 918.283 Q134.857 927.01 131.779 931.617 Q128.723 936.2 122.913 936.2 Q117.103 936.2 114.024 931.617 Q110.969 927.01 110.969 918.283 Q110.969 909.533 114.024 904.95 Q117.103 900.344 122.913 900.344 Z\" fill=\"#000000\" fill-rule=\"nonzero\" fill-opacity=\"1\" /><path clip-path=\"url(#clip810)\" d=\"M66.7559 623.857 Q70.1124 624.575 71.9874 626.843 Q73.8855 629.112 73.8855 632.445 Q73.8855 637.561 70.367 640.362 Q66.8485 643.163 60.3671 643.163 Q58.1912 643.163 55.8764 642.723 Q53.5847 642.306 51.131 641.45 L51.131 636.936 Q53.0754 638.07 55.3903 638.649 Q57.7051 639.227 60.2282 639.227 Q64.6263 639.227 66.918 637.491 Q69.2328 635.755 69.2328 632.445 Q69.2328 629.39 67.08 627.677 Q64.9504 625.94 61.131 625.94 L57.1032 625.94 L57.1032 622.098 L61.3161 622.098 Q64.7652 622.098 66.5939 620.732 Q68.4226 619.343 68.4226 616.751 Q68.4226 614.089 66.5245 612.677 Q64.6495 611.241 61.131 611.241 Q59.2097 611.241 57.0106 611.658 Q54.8115 612.075 52.1727 612.954 L52.1727 608.788 Q54.8347 608.047 57.1495 607.677 Q59.4875 607.306 61.5476 607.306 Q66.8717 607.306 69.9735 609.737 Q73.0753 612.144 73.0753 616.265 Q73.0753 619.135 71.4318 621.126 Q69.7883 623.093 66.7559 623.857 Z\" fill=\"#000000\" fill-rule=\"nonzero\" fill-opacity=\"1\" /><path clip-path=\"url(#clip810)\" d=\"M92.7512 611.01 Q89.1401 611.01 87.3114 614.575 Q85.5058 618.116 85.5058 625.246 Q85.5058 632.352 87.3114 635.917 Q89.1401 639.459 92.7512 639.459 Q96.3854 639.459 98.1909 635.917 Q100.02 632.352 100.02 625.246 Q100.02 618.116 98.1909 614.575 Q96.3854 611.01 92.7512 611.01 M92.7512 607.306 Q98.5613 607.306 101.617 611.913 Q104.696 616.496 104.696 625.246 Q104.696 633.973 101.617 638.579 Q98.5613 643.163 92.7512 643.163 Q86.941 643.163 83.8623 638.579 Q80.8068 633.973 80.8068 625.246 Q80.8068 616.496 83.8623 611.913 Q86.941 607.306 92.7512 607.306 Z\" fill=\"#000000\" fill-rule=\"nonzero\" fill-opacity=\"1\" /><path clip-path=\"url(#clip810)\" d=\"M122.913 611.01 Q119.302 611.01 117.473 614.575 Q115.668 618.116 115.668 625.246 Q115.668 632.352 117.473 635.917 Q119.302 639.459 122.913 639.459 Q126.547 639.459 128.353 635.917 Q130.182 632.352 130.182 625.246 Q130.182 618.116 128.353 614.575 Q126.547 611.01 122.913 611.01 M122.913 607.306 Q128.723 607.306 131.779 611.913 Q134.857 616.496 134.857 625.246 Q134.857 633.973 131.779 638.579 Q128.723 643.163 122.913 643.163 Q117.103 643.163 114.024 638.579 Q110.969 633.973 110.969 625.246 Q110.969 616.496 114.024 611.913 Q117.103 607.306 122.913 607.306 Z\" fill=\"#000000\" fill-rule=\"nonzero\" fill-opacity=\"1\" /><path clip-path=\"url(#clip810)\" d=\"M66.7559 330.82 Q70.1124 331.537 71.9874 333.806 Q73.8855 336.074 73.8855 339.408 Q73.8855 344.523 70.367 347.324 Q66.8485 350.125 60.3671 350.125 Q58.1912 350.125 55.8764 349.685 Q53.5847 349.269 51.131 348.412 L51.131 343.898 Q53.0754 345.033 55.3903 345.611 Q57.7051 346.19 60.2282 346.19 Q64.6263 346.19 66.918 344.454 Q69.2328 342.718 69.2328 339.408 Q69.2328 336.352 67.08 334.639 Q64.9504 332.903 61.131 332.903 L57.1032 332.903 L57.1032 329.061 L61.3161 329.061 Q64.7652 329.061 66.5939 327.695 Q68.4226 326.306 68.4226 323.713 Q68.4226 321.051 66.5245 319.639 Q64.6495 318.204 61.131 318.204 Q59.2097 318.204 57.0106 318.621 Q54.8115 319.038 52.1727 319.917 L52.1727 315.75 Q54.8347 315.01 57.1495 314.639 Q59.4875 314.269 61.5476 314.269 Q66.8717 314.269 69.9735 316.7 Q73.0753 319.107 73.0753 323.227 Q73.0753 326.098 71.4318 328.088 Q69.7883 330.056 66.7559 330.82 Z\" fill=\"#000000\" fill-rule=\"nonzero\" fill-opacity=\"1\" /><path clip-path=\"url(#clip810)\" d=\"M96.9178 330.82 Q100.274 331.537 102.149 333.806 Q104.047 336.074 104.047 339.408 Q104.047 344.523 100.529 347.324 Q97.0104 350.125 90.529 350.125 Q88.353 350.125 86.0382 349.685 Q83.7466 349.269 81.2929 348.412 L81.2929 343.898 Q83.2373 345.033 85.5521 345.611 Q87.8669 346.19 90.3901 346.19 Q94.7882 346.19 97.0798 344.454 Q99.3946 342.718 99.3946 339.408 Q99.3946 336.352 97.2419 334.639 Q95.1123 332.903 91.2928 332.903 L87.2651 332.903 L87.2651 329.061 L91.478 329.061 Q94.9271 329.061 96.7558 327.695 Q98.5845 326.306 98.5845 323.713 Q98.5845 321.051 96.6863 319.639 Q94.8113 318.204 91.2928 318.204 Q89.3715 318.204 87.1725 318.621 Q84.9734 319.038 82.3346 319.917 L82.3346 315.75 Q84.9966 315.01 87.3114 314.639 Q89.6493 314.269 91.7095 314.269 Q97.0335 314.269 100.135 316.7 Q103.237 319.107 103.237 323.227 Q103.237 326.098 101.594 328.088 Q99.9502 330.056 96.9178 330.82 Z\" fill=\"#000000\" fill-rule=\"nonzero\" fill-opacity=\"1\" /><path clip-path=\"url(#clip810)\" d=\"M122.913 317.973 Q119.302 317.973 117.473 321.537 Q115.668 325.079 115.668 332.209 Q115.668 339.315 117.473 342.88 Q119.302 346.422 122.913 346.422 Q126.547 346.422 128.353 342.88 Q130.182 339.315 130.182 332.209 Q130.182 325.079 128.353 321.537 Q126.547 317.973 122.913 317.973 M122.913 314.269 Q128.723 314.269 131.779 318.875 Q134.857 323.459 134.857 332.209 Q134.857 340.936 131.779 345.542 Q128.723 350.125 122.913 350.125 Q117.103 350.125 114.024 345.542 Q110.969 340.936 110.969 332.209 Q110.969 323.459 114.024 318.875 Q117.103 314.269 122.913 314.269 Z\" fill=\"#000000\" fill-rule=\"nonzero\" fill-opacity=\"1\" /><circle clip-path=\"url(#clip812)\" cx=\"456.348\" cy=\"302.87\" r=\"14.4\" fill=\"#009af9\" fill-rule=\"evenodd\" fill-opacity=\"1\" stroke=\"#000000\" stroke-opacity=\"1\" stroke-width=\"3.2\"/>\n",
              "<circle clip-path=\"url(#clip812)\" cx=\"501.096\" cy=\"429.853\" r=\"14.4\" fill=\"#009af9\" fill-rule=\"evenodd\" fill-opacity=\"1\" stroke=\"#000000\" stroke-opacity=\"1\" stroke-width=\"3.2\"/>\n",
              "<circle clip-path=\"url(#clip812)\" cx=\"814.33\" cy=\"615.443\" r=\"14.4\" fill=\"#009af9\" fill-rule=\"evenodd\" fill-opacity=\"1\" stroke=\"#000000\" stroke-opacity=\"1\" stroke-width=\"3.2\"/>\n",
              "<circle clip-path=\"url(#clip812)\" cx=\"903.825\" cy=\"820.569\" r=\"14.4\" fill=\"#009af9\" fill-rule=\"evenodd\" fill-opacity=\"1\" stroke=\"#000000\" stroke-opacity=\"1\" stroke-width=\"3.2\"/>\n",
              "<circle clip-path=\"url(#clip812)\" cx=\"1217.06\" cy=\"918.249\" r=\"14.4\" fill=\"#009af9\" fill-rule=\"evenodd\" fill-opacity=\"1\" stroke=\"#000000\" stroke-opacity=\"1\" stroke-width=\"3.2\"/>\n",
              "<circle clip-path=\"url(#clip812)\" cx=\"1396.05\" cy=\"1103.84\" r=\"14.4\" fill=\"#009af9\" fill-rule=\"evenodd\" fill-opacity=\"1\" stroke=\"#000000\" stroke-opacity=\"1\" stroke-width=\"3.2\"/>\n",
              "<circle clip-path=\"url(#clip812)\" cx=\"1888.27\" cy=\"1015.93\" r=\"14.4\" fill=\"#009af9\" fill-rule=\"evenodd\" fill-opacity=\"1\" stroke=\"#000000\" stroke-opacity=\"1\" stroke-width=\"3.2\"/>\n",
              "<circle clip-path=\"url(#clip812)\" cx=\"1933.02\" cy=\"1064.77\" r=\"14.4\" fill=\"#009af9\" fill-rule=\"evenodd\" fill-opacity=\"1\" stroke=\"#000000\" stroke-opacity=\"1\" stroke-width=\"3.2\"/>\n",
              "<circle clip-path=\"url(#clip812)\" cx=\"232.609\" cy=\"87.9763\" r=\"14.4\" fill=\"#009af9\" fill-rule=\"evenodd\" fill-opacity=\"1\" stroke=\"#000000\" stroke-opacity=\"1\" stroke-width=\"3.2\"/>\n",
              "<circle clip-path=\"url(#clip812)\" cx=\"277.357\" cy=\"185.655\" r=\"14.4\" fill=\"#009af9\" fill-rule=\"evenodd\" fill-opacity=\"1\" stroke=\"#000000\" stroke-opacity=\"1\" stroke-width=\"3.2\"/>\n",
              "<circle clip-path=\"url(#clip812)\" cx=\"590.591\" cy=\"400.549\" r=\"14.4\" fill=\"#009af9\" fill-rule=\"evenodd\" fill-opacity=\"1\" stroke=\"#000000\" stroke-opacity=\"1\" stroke-width=\"3.2\"/>\n",
              "<circle clip-path=\"url(#clip812)\" cx=\"635.339\" cy=\"517.764\" r=\"14.4\" fill=\"#009af9\" fill-rule=\"evenodd\" fill-opacity=\"1\" stroke=\"#000000\" stroke-opacity=\"1\" stroke-width=\"3.2\"/>\n",
              "<circle clip-path=\"url(#clip812)\" cx=\"948.573\" cy=\"605.675\" r=\"14.4\" fill=\"#009af9\" fill-rule=\"evenodd\" fill-opacity=\"1\" stroke=\"#000000\" stroke-opacity=\"1\" stroke-width=\"3.2\"/>\n",
              "<circle clip-path=\"url(#clip812)\" cx=\"1038.07\" cy=\"742.426\" r=\"14.4\" fill=\"#009af9\" fill-rule=\"evenodd\" fill-opacity=\"1\" stroke=\"#000000\" stroke-opacity=\"1\" stroke-width=\"3.2\"/>\n",
              "<circle clip-path=\"url(#clip812)\" cx=\"1351.3\" cy=\"830.337\" r=\"14.4\" fill=\"#009af9\" fill-rule=\"evenodd\" fill-opacity=\"1\" stroke=\"#000000\" stroke-opacity=\"1\" stroke-width=\"3.2\"/>\n",
              "<circle clip-path=\"url(#clip812)\" cx=\"1530.29\" cy=\"1015.93\" r=\"14.4\" fill=\"#009af9\" fill-rule=\"evenodd\" fill-opacity=\"1\" stroke=\"#000000\" stroke-opacity=\"1\" stroke-width=\"3.2\"/>\n",
              "<circle clip-path=\"url(#clip812)\" cx=\"2022.52\" cy=\"1201.52\" r=\"14.4\" fill=\"#009af9\" fill-rule=\"evenodd\" fill-opacity=\"1\" stroke=\"#000000\" stroke-opacity=\"1\" stroke-width=\"3.2\"/>\n",
              "<circle clip-path=\"url(#clip812)\" cx=\"2067.27\" cy=\"1318.73\" r=\"14.4\" fill=\"#009af9\" fill-rule=\"evenodd\" fill-opacity=\"1\" stroke=\"#000000\" stroke-opacity=\"1\" stroke-width=\"3.2\"/>\n",
              "<circle clip-path=\"url(#clip812)\" cx=\"366.852\" cy=\"273.567\" r=\"14.4\" fill=\"#009af9\" fill-rule=\"evenodd\" fill-opacity=\"1\" stroke=\"#000000\" stroke-opacity=\"1\" stroke-width=\"3.2\"/>\n",
              "<circle clip-path=\"url(#clip812)\" cx=\"411.6\" cy=\"390.781\" r=\"14.4\" fill=\"#009af9\" fill-rule=\"evenodd\" fill-opacity=\"1\" stroke=\"#000000\" stroke-opacity=\"1\" stroke-width=\"3.2\"/>\n",
              "<circle clip-path=\"url(#clip812)\" cx=\"680.086\" cy=\"449.389\" r=\"14.4\" fill=\"#009af9\" fill-rule=\"evenodd\" fill-opacity=\"1\" stroke=\"#000000\" stroke-opacity=\"1\" stroke-width=\"3.2\"/>\n",
              "<circle clip-path=\"url(#clip812)\" cx=\"724.834\" cy=\"566.604\" r=\"14.4\" fill=\"#009af9\" fill-rule=\"evenodd\" fill-opacity=\"1\" stroke=\"#000000\" stroke-opacity=\"1\" stroke-width=\"3.2\"/>\n",
              "<circle clip-path=\"url(#clip812)\" cx=\"1038.07\" cy=\"654.515\" r=\"14.4\" fill=\"#009af9\" fill-rule=\"evenodd\" fill-opacity=\"1\" stroke=\"#000000\" stroke-opacity=\"1\" stroke-width=\"3.2\"/>\n",
              "<circle clip-path=\"url(#clip812)\" cx=\"1127.56\" cy=\"791.266\" r=\"14.4\" fill=\"#009af9\" fill-rule=\"evenodd\" fill-opacity=\"1\" stroke=\"#000000\" stroke-opacity=\"1\" stroke-width=\"3.2\"/>\n",
              "<circle clip-path=\"url(#clip812)\" cx=\"1440.8\" cy=\"879.177\" r=\"14.4\" fill=\"#009af9\" fill-rule=\"evenodd\" fill-opacity=\"1\" stroke=\"#000000\" stroke-opacity=\"1\" stroke-width=\"3.2\"/>\n",
              "<circle clip-path=\"url(#clip812)\" cx=\"1619.79\" cy=\"1064.77\" r=\"14.4\" fill=\"#009af9\" fill-rule=\"evenodd\" fill-opacity=\"1\" stroke=\"#000000\" stroke-opacity=\"1\" stroke-width=\"3.2\"/>\n",
              "<circle clip-path=\"url(#clip812)\" cx=\"2112.01\" cy=\"1260.13\" r=\"14.4\" fill=\"#009af9\" fill-rule=\"evenodd\" fill-opacity=\"1\" stroke=\"#000000\" stroke-opacity=\"1\" stroke-width=\"3.2\"/>\n",
              "<circle clip-path=\"url(#clip812)\" cx=\"2156.76\" cy=\"1367.57\" r=\"14.4\" fill=\"#009af9\" fill-rule=\"evenodd\" fill-opacity=\"1\" stroke=\"#000000\" stroke-opacity=\"1\" stroke-width=\"3.2\"/>\n",
              "<circle clip-path=\"url(#clip812)\" cx=\"456.348\" cy=\"322.406\" r=\"14.4\" fill=\"#009af9\" fill-rule=\"evenodd\" fill-opacity=\"1\" stroke=\"#000000\" stroke-opacity=\"1\" stroke-width=\"3.2\"/>\n",
              "<circle clip-path=\"url(#clip812)\" cx=\"501.096\" cy=\"439.621\" r=\"14.4\" fill=\"#009af9\" fill-rule=\"evenodd\" fill-opacity=\"1\" stroke=\"#000000\" stroke-opacity=\"1\" stroke-width=\"3.2\"/>\n",
              "<circle clip-path=\"url(#clip812)\" cx=\"769.582\" cy=\"498.228\" r=\"14.4\" fill=\"#009af9\" fill-rule=\"evenodd\" fill-opacity=\"1\" stroke=\"#000000\" stroke-opacity=\"1\" stroke-width=\"3.2\"/>\n",
              "<circle clip-path=\"url(#clip812)\" cx=\"814.33\" cy=\"615.443\" r=\"14.4\" fill=\"#009af9\" fill-rule=\"evenodd\" fill-opacity=\"1\" stroke=\"#000000\" stroke-opacity=\"1\" stroke-width=\"3.2\"/>\n",
              "<circle clip-path=\"url(#clip812)\" cx=\"1127.56\" cy=\"703.355\" r=\"14.4\" fill=\"#009af9\" fill-rule=\"evenodd\" fill-opacity=\"1\" stroke=\"#000000\" stroke-opacity=\"1\" stroke-width=\"3.2\"/>\n",
              "<circle clip-path=\"url(#clip812)\" cx=\"1217.06\" cy=\"840.105\" r=\"14.4\" fill=\"#009af9\" fill-rule=\"evenodd\" fill-opacity=\"1\" stroke=\"#000000\" stroke-opacity=\"1\" stroke-width=\"3.2\"/>\n",
              "<circle clip-path=\"url(#clip812)\" cx=\"1530.29\" cy=\"928.016\" r=\"14.4\" fill=\"#009af9\" fill-rule=\"evenodd\" fill-opacity=\"1\" stroke=\"#000000\" stroke-opacity=\"1\" stroke-width=\"3.2\"/>\n",
              "<circle clip-path=\"url(#clip812)\" cx=\"1709.28\" cy=\"1113.61\" r=\"14.4\" fill=\"#009af9\" fill-rule=\"evenodd\" fill-opacity=\"1\" stroke=\"#000000\" stroke-opacity=\"1\" stroke-width=\"3.2\"/>\n",
              "<circle clip-path=\"url(#clip812)\" cx=\"2201.51\" cy=\"1308.96\" r=\"14.4\" fill=\"#009af9\" fill-rule=\"evenodd\" fill-opacity=\"1\" stroke=\"#000000\" stroke-opacity=\"1\" stroke-width=\"3.2\"/>\n",
              "<circle clip-path=\"url(#clip812)\" cx=\"2246.26\" cy=\"1416.41\" r=\"14.4\" fill=\"#009af9\" fill-rule=\"evenodd\" fill-opacity=\"1\" stroke=\"#000000\" stroke-opacity=\"1\" stroke-width=\"3.2\"/>\n",
              "<circle clip-path=\"url(#clip812)\" cx=\"545.843\" cy=\"381.014\" r=\"14.4\" fill=\"#009af9\" fill-rule=\"evenodd\" fill-opacity=\"1\" stroke=\"#000000\" stroke-opacity=\"1\" stroke-width=\"3.2\"/>\n",
              "<circle clip-path=\"url(#clip812)\" cx=\"590.591\" cy=\"488.461\" r=\"14.4\" fill=\"#009af9\" fill-rule=\"evenodd\" fill-opacity=\"1\" stroke=\"#000000\" stroke-opacity=\"1\" stroke-width=\"3.2\"/>\n",
              "<circle clip-path=\"url(#clip812)\" cx=\"814.33\" cy=\"527.532\" r=\"14.4\" fill=\"#009af9\" fill-rule=\"evenodd\" fill-opacity=\"1\" stroke=\"#000000\" stroke-opacity=\"1\" stroke-width=\"3.2\"/>\n",
              "<circle clip-path=\"url(#clip812)\" cx=\"859.077\" cy=\"644.747\" r=\"14.4\" fill=\"#009af9\" fill-rule=\"evenodd\" fill-opacity=\"1\" stroke=\"#000000\" stroke-opacity=\"1\" stroke-width=\"3.2\"/>\n",
              "<circle clip-path=\"url(#clip812)\" cx=\"1172.31\" cy=\"732.658\" r=\"14.4\" fill=\"#009af9\" fill-rule=\"evenodd\" fill-opacity=\"1\" stroke=\"#000000\" stroke-opacity=\"1\" stroke-width=\"3.2\"/>\n",
              "<circle clip-path=\"url(#clip812)\" cx=\"1261.81\" cy=\"869.409\" r=\"14.4\" fill=\"#009af9\" fill-rule=\"evenodd\" fill-opacity=\"1\" stroke=\"#000000\" stroke-opacity=\"1\" stroke-width=\"3.2\"/>\n",
              "<circle clip-path=\"url(#clip812)\" cx=\"1575.04\" cy=\"957.32\" r=\"14.4\" fill=\"#009af9\" fill-rule=\"evenodd\" fill-opacity=\"1\" stroke=\"#000000\" stroke-opacity=\"1\" stroke-width=\"3.2\"/>\n",
              "<circle clip-path=\"url(#clip812)\" cx=\"1754.03\" cy=\"1142.91\" r=\"14.4\" fill=\"#009af9\" fill-rule=\"evenodd\" fill-opacity=\"1\" stroke=\"#000000\" stroke-opacity=\"1\" stroke-width=\"3.2\"/>\n",
              "<circle clip-path=\"url(#clip812)\" cx=\"2246.26\" cy=\"1328.5\" r=\"14.4\" fill=\"#009af9\" fill-rule=\"evenodd\" fill-opacity=\"1\" stroke=\"#000000\" stroke-opacity=\"1\" stroke-width=\"3.2\"/>\n",
              "<circle clip-path=\"url(#clip812)\" cx=\"2291\" cy=\"1445.72\" r=\"14.4\" fill=\"#009af9\" fill-rule=\"evenodd\" fill-opacity=\"1\" stroke=\"#000000\" stroke-opacity=\"1\" stroke-width=\"3.2\"/>\n",
              "<circle clip-path=\"url(#clip812)\" cx=\"590.591\" cy=\"400.549\" r=\"14.4\" fill=\"#009af9\" fill-rule=\"evenodd\" fill-opacity=\"1\" stroke=\"#000000\" stroke-opacity=\"1\" stroke-width=\"3.2\"/>\n",
              "<circle clip-path=\"url(#clip812)\" cx=\"635.339\" cy=\"517.764\" r=\"14.4\" fill=\"#009af9\" fill-rule=\"evenodd\" fill-opacity=\"1\" stroke=\"#000000\" stroke-opacity=\"1\" stroke-width=\"3.2\"/>\n",
              "<path clip-path=\"url(#clip810)\" d=\"M2009.41 198.898 L2280.03 198.898 L2280.03 95.2176 L2009.41 95.2176  Z\" fill=\"#ffffff\" fill-rule=\"evenodd\" fill-opacity=\"1\"/>\n",
              "<polyline clip-path=\"url(#clip810)\" style=\"stroke:#000000; stroke-linecap:round; stroke-linejoin:round; stroke-width:4; stroke-opacity:1; fill:none\" points=\"2009.41,198.898 2280.03,198.898 2280.03,95.2176 2009.41,95.2176 2009.41,198.898 \"/>\n",
              "<circle clip-path=\"url(#clip810)\" cx=\"2106.38\" cy=\"147.058\" r=\"20.48\" fill=\"#009af9\" fill-rule=\"evenodd\" fill-opacity=\"1\" stroke=\"#000000\" stroke-opacity=\"1\" stroke-width=\"4.55111\"/>\n",
              "<path clip-path=\"url(#clip810)\" d=\"M2217.19 166.745 Q2215.39 171.375 2213.68 172.787 Q2211.96 174.199 2209.09 174.199 L2205.69 174.199 L2205.69 170.634 L2208.19 170.634 Q2209.95 170.634 2210.92 169.8 Q2211.89 168.967 2213.07 165.865 L2213.84 163.921 L2203.35 138.412 L2207.87 138.412 L2215.97 158.689 L2224.07 138.412 L2228.58 138.412 L2217.19 166.745 Z\" fill=\"#000000\" fill-rule=\"nonzero\" fill-opacity=\"1\" /><path clip-path=\"url(#clip810)\" d=\"M2235.88 160.402 L2243.51 160.402 L2243.51 134.037 L2235.2 135.703 L2235.2 131.444 L2243.47 129.778 L2248.14 129.778 L2248.14 160.402 L2255.78 160.402 L2255.78 164.338 L2235.88 164.338 L2235.88 160.402 Z\" fill=\"#000000\" fill-rule=\"nonzero\" fill-opacity=\"1\" /></svg>\n"
            ],
            "image/svg+xml": "<?xml version=\"1.0\" encoding=\"utf-8\"?>\n<svg xmlns=\"http://www.w3.org/2000/svg\" xmlns:xlink=\"http://www.w3.org/1999/xlink\" width=\"600\" height=\"400\" viewBox=\"0 0 2400 1600\">\n<defs>\n  <clipPath id=\"clip760\">\n    <rect x=\"0\" y=\"0\" width=\"2400\" height=\"1600\"/>\n  </clipPath>\n</defs>\n<path clip-path=\"url(#clip760)\" d=\"M0 1600 L2400 1600 L2400 0 L0 0  Z\" fill=\"#ffffff\" fill-rule=\"evenodd\" fill-opacity=\"1\"/>\n<defs>\n  <clipPath id=\"clip761\">\n    <rect x=\"480\" y=\"0\" width=\"1681\" height=\"1600\"/>\n  </clipPath>\n</defs>\n<path clip-path=\"url(#clip760)\" d=\"M170.857 1486.45 L2352.76 1486.45 L2352.76 47.2441 L170.857 47.2441  Z\" fill=\"#ffffff\" fill-rule=\"evenodd\" fill-opacity=\"1\"/>\n<defs>\n  <clipPath id=\"clip762\">\n    <rect x=\"170\" y=\"47\" width=\"2183\" height=\"1440\"/>\n  </clipPath>\n</defs>\n<polyline clip-path=\"url(#clip762)\" style=\"stroke:#000000; stroke-linecap:round; stroke-linejoin:round; stroke-width:2; stroke-opacity:0.1; fill:none\" points=\"322.105,1486.45 322.105,47.2441 \"/>\n<polyline clip-path=\"url(#clip762)\" style=\"stroke:#000000; stroke-linecap:round; stroke-linejoin:round; stroke-width:2; stroke-opacity:0.1; fill:none\" points=\"769.582,1486.45 769.582,47.2441 \"/>\n<polyline clip-path=\"url(#clip762)\" style=\"stroke:#000000; stroke-linecap:round; stroke-linejoin:round; stroke-width:2; stroke-opacity:0.1; fill:none\" points=\"1217.06,1486.45 1217.06,47.2441 \"/>\n<polyline clip-path=\"url(#clip762)\" style=\"stroke:#000000; stroke-linecap:round; stroke-linejoin:round; stroke-width:2; stroke-opacity:0.1; fill:none\" points=\"1664.54,1486.45 1664.54,47.2441 \"/>\n<polyline clip-path=\"url(#clip762)\" style=\"stroke:#000000; stroke-linecap:round; stroke-linejoin:round; stroke-width:2; stroke-opacity:0.1; fill:none\" points=\"2112.01,1486.45 2112.01,47.2441 \"/>\n<polyline clip-path=\"url(#clip762)\" style=\"stroke:#000000; stroke-linecap:round; stroke-linejoin:round; stroke-width:2; stroke-opacity:0.1; fill:none\" points=\"170.857,1211.29 2352.76,1211.29 \"/>\n<polyline clip-path=\"url(#clip762)\" style=\"stroke:#000000; stroke-linecap:round; stroke-linejoin:round; stroke-width:2; stroke-opacity:0.1; fill:none\" points=\"170.857,918.249 2352.76,918.249 \"/>\n<polyline clip-path=\"url(#clip762)\" style=\"stroke:#000000; stroke-linecap:round; stroke-linejoin:round; stroke-width:2; stroke-opacity:0.1; fill:none\" points=\"170.857,625.211 2352.76,625.211 \"/>\n<polyline clip-path=\"url(#clip762)\" style=\"stroke:#000000; stroke-linecap:round; stroke-linejoin:round; stroke-width:2; stroke-opacity:0.1; fill:none\" points=\"170.857,332.174 2352.76,332.174 \"/>\n<polyline clip-path=\"url(#clip760)\" style=\"stroke:#000000; stroke-linecap:round; stroke-linejoin:round; stroke-width:4; stroke-opacity:1; fill:none\" points=\"170.857,1486.45 2352.76,1486.45 \"/>\n<polyline clip-path=\"url(#clip760)\" style=\"stroke:#000000; stroke-linecap:round; stroke-linejoin:round; stroke-width:4; stroke-opacity:1; fill:none\" points=\"322.105,1486.45 322.105,1467.55 \"/>\n<polyline clip-path=\"url(#clip760)\" style=\"stroke:#000000; stroke-linecap:round; stroke-linejoin:round; stroke-width:4; stroke-opacity:1; fill:none\" points=\"769.582,1486.45 769.582,1467.55 \"/>\n<polyline clip-path=\"url(#clip760)\" style=\"stroke:#000000; stroke-linecap:round; stroke-linejoin:round; stroke-width:4; stroke-opacity:1; fill:none\" points=\"1217.06,1486.45 1217.06,1467.55 \"/>\n<polyline clip-path=\"url(#clip760)\" style=\"stroke:#000000; stroke-linecap:round; stroke-linejoin:round; stroke-width:4; stroke-opacity:1; fill:none\" points=\"1664.54,1486.45 1664.54,1467.55 \"/>\n<polyline clip-path=\"url(#clip760)\" style=\"stroke:#000000; stroke-linecap:round; stroke-linejoin:round; stroke-width:4; stroke-opacity:1; fill:none\" points=\"2112.01,1486.45 2112.01,1467.55 \"/>\n<path clip-path=\"url(#clip760)\" d=\"M300.878 1544.91 L317.197 1544.91 L317.197 1548.85 L295.253 1548.85 L295.253 1544.91 Q297.915 1542.16 302.498 1537.53 Q307.105 1532.88 308.285 1531.53 Q310.531 1529.01 311.41 1527.27 Q312.313 1525.51 312.313 1523.82 Q312.313 1521.07 310.369 1519.33 Q308.447 1517.6 305.346 1517.6 Q303.146 1517.6 300.693 1518.36 Q298.262 1519.13 295.484 1520.68 L295.484 1515.95 Q298.309 1514.82 300.762 1514.24 Q303.216 1513.66 305.253 1513.66 Q310.623 1513.66 313.818 1516.35 Q317.012 1519.03 317.012 1523.52 Q317.012 1525.65 316.202 1527.57 Q315.415 1529.47 313.308 1532.07 Q312.73 1532.74 309.628 1535.95 Q306.526 1539.15 300.878 1544.91 Z\" fill=\"#000000\" fill-rule=\"nonzero\" fill-opacity=\"1\" /><path clip-path=\"url(#clip760)\" d=\"M337.012 1517.37 Q333.401 1517.37 331.572 1520.93 Q329.767 1524.47 329.767 1531.6 Q329.767 1538.71 331.572 1542.27 Q333.401 1545.82 337.012 1545.82 Q340.646 1545.82 342.452 1542.27 Q344.28 1538.71 344.28 1531.6 Q344.28 1524.47 342.452 1520.93 Q340.646 1517.37 337.012 1517.37 M337.012 1513.66 Q342.822 1513.66 345.878 1518.27 Q348.956 1522.85 348.956 1531.6 Q348.956 1540.33 345.878 1544.94 Q342.822 1549.52 337.012 1549.52 Q331.202 1549.52 328.123 1544.94 Q325.068 1540.33 325.068 1531.6 Q325.068 1522.85 328.123 1518.27 Q331.202 1513.66 337.012 1513.66 Z\" fill=\"#000000\" fill-rule=\"nonzero\" fill-opacity=\"1\" /><path clip-path=\"url(#clip760)\" d=\"M758.424 1530.21 Q761.781 1530.93 763.656 1533.2 Q765.554 1535.47 765.554 1538.8 Q765.554 1543.92 762.036 1546.72 Q758.517 1549.52 752.036 1549.52 Q749.86 1549.52 747.545 1549.08 Q745.253 1548.66 742.8 1547.81 L742.8 1543.29 Q744.744 1544.43 747.059 1545.01 Q749.374 1545.58 751.897 1545.58 Q756.295 1545.58 758.587 1543.85 Q760.901 1542.11 760.901 1538.8 Q760.901 1535.75 758.749 1534.03 Q756.619 1532.3 752.8 1532.3 L748.772 1532.3 L748.772 1528.45 L752.985 1528.45 Q756.434 1528.45 758.262 1527.09 Q760.091 1525.7 760.091 1523.11 Q760.091 1520.45 758.193 1519.03 Q756.318 1517.6 752.8 1517.6 Q750.878 1517.6 748.679 1518.01 Q746.48 1518.43 743.841 1519.31 L743.841 1515.14 Q746.503 1514.4 748.818 1514.03 Q751.156 1513.66 753.216 1513.66 Q758.54 1513.66 761.642 1516.09 Q764.744 1518.5 764.744 1522.62 Q764.744 1525.49 763.1 1527.48 Q761.457 1529.45 758.424 1530.21 Z\" fill=\"#000000\" fill-rule=\"nonzero\" fill-opacity=\"1\" /><path clip-path=\"url(#clip760)\" d=\"M784.42 1517.37 Q780.809 1517.37 778.98 1520.93 Q777.174 1524.47 777.174 1531.6 Q777.174 1538.71 778.98 1542.27 Q780.809 1545.82 784.42 1545.82 Q788.054 1545.82 789.859 1542.27 Q791.688 1538.71 791.688 1531.6 Q791.688 1524.47 789.859 1520.93 Q788.054 1517.37 784.42 1517.37 M784.42 1513.66 Q790.23 1513.66 793.285 1518.27 Q796.364 1522.85 796.364 1531.6 Q796.364 1540.33 793.285 1544.94 Q790.23 1549.52 784.42 1549.52 Q778.61 1549.52 775.531 1544.94 Q772.475 1540.33 772.475 1531.6 Q772.475 1522.85 775.531 1518.27 Q778.61 1513.66 784.42 1513.66 Z\" fill=\"#000000\" fill-rule=\"nonzero\" fill-opacity=\"1\" /><path clip-path=\"url(#clip760)\" d=\"M1205.23 1518.36 L1193.42 1536.81 L1205.23 1536.81 L1205.23 1518.36 M1204 1514.29 L1209.88 1514.29 L1209.88 1536.81 L1214.81 1536.81 L1214.81 1540.7 L1209.88 1540.7 L1209.88 1548.85 L1205.23 1548.85 L1205.23 1540.7 L1189.63 1540.7 L1189.63 1536.19 L1204 1514.29 Z\" fill=\"#000000\" fill-rule=\"nonzero\" fill-opacity=\"1\" /><path clip-path=\"url(#clip760)\" d=\"M1232.54 1517.37 Q1228.93 1517.37 1227.11 1520.93 Q1225.3 1524.47 1225.3 1531.6 Q1225.3 1538.71 1227.11 1542.27 Q1228.93 1545.82 1232.54 1545.82 Q1236.18 1545.82 1237.98 1542.27 Q1239.81 1538.71 1239.81 1531.6 Q1239.81 1524.47 1237.98 1520.93 Q1236.18 1517.37 1232.54 1517.37 M1232.54 1513.66 Q1238.36 1513.66 1241.41 1518.27 Q1244.49 1522.85 1244.49 1531.6 Q1244.49 1540.33 1241.41 1544.94 Q1238.36 1549.52 1232.54 1549.52 Q1226.73 1549.52 1223.66 1544.94 Q1220.6 1540.33 1220.6 1531.6 Q1220.6 1522.85 1223.66 1518.27 Q1226.73 1513.66 1232.54 1513.66 Z\" fill=\"#000000\" fill-rule=\"nonzero\" fill-opacity=\"1\" /><path clip-path=\"url(#clip760)\" d=\"M1639.24 1514.29 L1657.59 1514.29 L1657.59 1518.22 L1643.52 1518.22 L1643.52 1526.7 Q1644.54 1526.35 1645.55 1526.19 Q1646.57 1526 1647.59 1526 Q1653.38 1526 1656.76 1529.17 Q1660.14 1532.34 1660.14 1537.76 Q1660.14 1543.34 1656.67 1546.44 Q1653.19 1549.52 1646.87 1549.52 Q1644.7 1549.52 1642.43 1549.15 Q1640.18 1548.78 1637.78 1548.04 L1637.78 1543.34 Q1639.86 1544.47 1642.08 1545.03 Q1644.3 1545.58 1646.78 1545.58 Q1650.79 1545.58 1653.12 1543.48 Q1655.46 1541.37 1655.46 1537.76 Q1655.46 1534.15 1653.12 1532.04 Q1650.79 1529.94 1646.78 1529.94 Q1644.91 1529.94 1643.03 1530.35 Q1641.18 1530.77 1639.24 1531.65 L1639.24 1514.29 Z\" fill=\"#000000\" fill-rule=\"nonzero\" fill-opacity=\"1\" /><path clip-path=\"url(#clip760)\" d=\"M1679.35 1517.37 Q1675.74 1517.37 1673.91 1520.93 Q1672.11 1524.47 1672.11 1531.6 Q1672.11 1538.71 1673.91 1542.27 Q1675.74 1545.82 1679.35 1545.82 Q1682.99 1545.82 1684.79 1542.27 Q1686.62 1538.71 1686.62 1531.6 Q1686.62 1524.47 1684.79 1520.93 Q1682.99 1517.37 1679.35 1517.37 M1679.35 1513.66 Q1685.16 1513.66 1688.22 1518.27 Q1691.3 1522.85 1691.3 1531.6 Q1691.3 1540.33 1688.22 1544.94 Q1685.16 1549.52 1679.35 1549.52 Q1673.54 1549.52 1670.46 1544.94 Q1667.41 1540.33 1667.41 1531.6 Q1667.41 1522.85 1670.46 1518.27 Q1673.54 1513.66 1679.35 1513.66 Z\" fill=\"#000000\" fill-rule=\"nonzero\" fill-opacity=\"1\" /><path clip-path=\"url(#clip760)\" d=\"M2097.42 1529.7 Q2094.27 1529.7 2092.42 1531.86 Q2090.59 1534.01 2090.59 1537.76 Q2090.59 1541.49 2092.42 1543.66 Q2094.27 1545.82 2097.42 1545.82 Q2100.57 1545.82 2102.4 1543.66 Q2104.25 1541.49 2104.25 1537.76 Q2104.25 1534.01 2102.4 1531.86 Q2100.57 1529.7 2097.42 1529.7 M2106.7 1515.05 L2106.7 1519.31 Q2104.94 1518.48 2103.14 1518.04 Q2101.35 1517.6 2099.59 1517.6 Q2094.96 1517.6 2092.51 1520.72 Q2090.08 1523.85 2089.73 1530.17 Q2091.1 1528.15 2093.16 1527.09 Q2095.22 1526 2097.7 1526 Q2102.9 1526 2105.91 1529.17 Q2108.95 1532.32 2108.95 1537.76 Q2108.95 1543.08 2105.8 1546.3 Q2102.65 1549.52 2097.42 1549.52 Q2091.42 1549.52 2088.25 1544.94 Q2085.08 1540.33 2085.08 1531.6 Q2085.08 1523.41 2088.97 1518.55 Q2092.86 1513.66 2099.41 1513.66 Q2101.17 1513.66 2102.95 1514.01 Q2104.76 1514.36 2106.7 1515.05 Z\" fill=\"#000000\" fill-rule=\"nonzero\" fill-opacity=\"1\" /><path clip-path=\"url(#clip760)\" d=\"M2127 1517.37 Q2123.39 1517.37 2121.56 1520.93 Q2119.76 1524.47 2119.76 1531.6 Q2119.76 1538.71 2121.56 1542.27 Q2123.39 1545.82 2127 1545.82 Q2130.64 1545.82 2132.44 1542.27 Q2134.27 1538.71 2134.27 1531.6 Q2134.27 1524.47 2132.44 1520.93 Q2130.64 1517.37 2127 1517.37 M2127 1513.66 Q2132.81 1513.66 2135.87 1518.27 Q2138.95 1522.85 2138.95 1531.6 Q2138.95 1540.33 2135.87 1544.94 Q2132.81 1549.52 2127 1549.52 Q2121.19 1549.52 2118.11 1544.94 Q2115.06 1540.33 2115.06 1531.6 Q2115.06 1522.85 2118.11 1518.27 Q2121.19 1513.66 2127 1513.66 Z\" fill=\"#000000\" fill-rule=\"nonzero\" fill-opacity=\"1\" /><polyline clip-path=\"url(#clip760)\" style=\"stroke:#000000; stroke-linecap:round; stroke-linejoin:round; stroke-width:4; stroke-opacity:1; fill:none\" points=\"170.857,1486.45 170.857,47.2441 \"/>\n<polyline clip-path=\"url(#clip760)\" style=\"stroke:#000000; stroke-linecap:round; stroke-linejoin:round; stroke-width:4; stroke-opacity:1; fill:none\" points=\"170.857,1211.29 189.755,1211.29 \"/>\n<polyline clip-path=\"url(#clip760)\" style=\"stroke:#000000; stroke-linecap:round; stroke-linejoin:round; stroke-width:4; stroke-opacity:1; fill:none\" points=\"170.857,918.249 189.755,918.249 \"/>\n<polyline clip-path=\"url(#clip760)\" style=\"stroke:#000000; stroke-linecap:round; stroke-linejoin:round; stroke-width:4; stroke-opacity:1; fill:none\" points=\"170.857,625.211 189.755,625.211 \"/>\n<polyline clip-path=\"url(#clip760)\" style=\"stroke:#000000; stroke-linecap:round; stroke-linejoin:round; stroke-width:4; stroke-opacity:1; fill:none\" points=\"170.857,332.174 189.755,332.174 \"/>\n<path clip-path=\"url(#clip760)\" d=\"M56.6171 1224.63 L72.9365 1224.63 L72.9365 1228.57 L50.9921 1228.57 L50.9921 1224.63 Q53.6541 1221.88 58.2375 1217.25 Q62.8439 1212.59 64.0245 1211.25 Q66.2698 1208.73 67.1494 1206.99 Q68.0522 1205.23 68.0522 1203.54 Q68.0522 1200.79 66.1078 1199.05 Q64.1865 1197.32 61.0847 1197.32 Q58.8856 1197.32 56.4319 1198.08 Q54.0014 1198.84 51.2236 1200.39 L51.2236 1195.67 Q54.0477 1194.54 56.5014 1193.96 Q58.955 1193.38 60.9921 1193.38 Q66.3624 1193.38 69.5568 1196.07 Q72.7513 1198.75 72.7513 1203.24 Q72.7513 1205.37 71.9411 1207.29 Q71.1541 1209.19 69.0476 1211.78 Q68.4689 1212.45 65.367 1215.67 Q62.2652 1218.87 56.6171 1224.63 Z\" fill=\"#000000\" fill-rule=\"nonzero\" fill-opacity=\"1\" /><path clip-path=\"url(#clip760)\" d=\"M95.5984 1198.08 L83.7929 1216.53 L95.5984 1216.53 L95.5984 1198.08 M94.3715 1194.01 L100.251 1194.01 L100.251 1216.53 L105.182 1216.53 L105.182 1220.42 L100.251 1220.42 L100.251 1228.57 L95.5984 1228.57 L95.5984 1220.42 L79.9966 1220.42 L79.9966 1215.9 L94.3715 1194.01 Z\" fill=\"#000000\" fill-rule=\"nonzero\" fill-opacity=\"1\" /><path clip-path=\"url(#clip760)\" d=\"M122.913 1197.08 Q119.302 1197.08 117.473 1200.65 Q115.668 1204.19 115.668 1211.32 Q115.668 1218.43 117.473 1221.99 Q119.302 1225.53 122.913 1225.53 Q126.547 1225.53 128.353 1221.99 Q130.182 1218.43 130.182 1211.32 Q130.182 1204.19 128.353 1200.65 Q126.547 1197.08 122.913 1197.08 M122.913 1193.38 Q128.723 1193.38 131.779 1197.99 Q134.857 1202.57 134.857 1211.32 Q134.857 1220.05 131.779 1224.65 Q128.723 1229.24 122.913 1229.24 Q117.103 1229.24 114.024 1224.65 Q110.969 1220.05 110.969 1211.32 Q110.969 1202.57 114.024 1197.99 Q117.103 1193.38 122.913 1193.38 Z\" fill=\"#000000\" fill-rule=\"nonzero\" fill-opacity=\"1\" /><path clip-path=\"url(#clip760)\" d=\"M56.6171 931.593 L72.9365 931.593 L72.9365 935.529 L50.9921 935.529 L50.9921 931.593 Q53.6541 928.839 58.2375 924.209 Q62.8439 919.556 64.0245 918.214 Q66.2698 915.691 67.1494 913.955 Q68.0522 912.195 68.0522 910.506 Q68.0522 907.751 66.1078 906.015 Q64.1865 904.279 61.0847 904.279 Q58.8856 904.279 56.4319 905.043 Q54.0014 905.807 51.2236 907.357 L51.2236 902.635 Q54.0477 901.501 56.5014 900.922 Q58.955 900.344 60.9921 900.344 Q66.3624 900.344 69.5568 903.029 Q72.7513 905.714 72.7513 910.205 Q72.7513 912.334 71.9411 914.256 Q71.1541 916.154 69.0476 918.746 Q68.4689 919.418 65.367 922.635 Q62.2652 925.83 56.6171 931.593 Z\" fill=\"#000000\" fill-rule=\"nonzero\" fill-opacity=\"1\" /><path clip-path=\"url(#clip760)\" d=\"M81.5707 900.969 L103.793 900.969 L103.793 902.959 L91.2465 935.529 L86.3623 935.529 L98.1678 904.904 L81.5707 904.904 L81.5707 900.969 Z\" fill=\"#000000\" fill-rule=\"nonzero\" fill-opacity=\"1\" /><path clip-path=\"url(#clip760)\" d=\"M122.913 904.047 Q119.302 904.047 117.473 907.612 Q115.668 911.154 115.668 918.283 Q115.668 925.39 117.473 928.955 Q119.302 932.496 122.913 932.496 Q126.547 932.496 128.353 928.955 Q130.182 925.39 130.182 918.283 Q130.182 911.154 128.353 907.612 Q126.547 904.047 122.913 904.047 M122.913 900.344 Q128.723 900.344 131.779 904.95 Q134.857 909.533 134.857 918.283 Q134.857 927.01 131.779 931.617 Q128.723 936.2 122.913 936.2 Q117.103 936.2 114.024 931.617 Q110.969 927.01 110.969 918.283 Q110.969 909.533 114.024 904.95 Q117.103 900.344 122.913 900.344 Z\" fill=\"#000000\" fill-rule=\"nonzero\" fill-opacity=\"1\" /><path clip-path=\"url(#clip760)\" d=\"M66.7559 623.857 Q70.1124 624.575 71.9874 626.843 Q73.8855 629.112 73.8855 632.445 Q73.8855 637.561 70.367 640.362 Q66.8485 643.163 60.3671 643.163 Q58.1912 643.163 55.8764 642.723 Q53.5847 642.306 51.131 641.45 L51.131 636.936 Q53.0754 638.07 55.3903 638.649 Q57.7051 639.227 60.2282 639.227 Q64.6263 639.227 66.918 637.491 Q69.2328 635.755 69.2328 632.445 Q69.2328 629.39 67.08 627.677 Q64.9504 625.94 61.131 625.94 L57.1032 625.94 L57.1032 622.098 L61.3161 622.098 Q64.7652 622.098 66.5939 620.732 Q68.4226 619.343 68.4226 616.751 Q68.4226 614.089 66.5245 612.677 Q64.6495 611.241 61.131 611.241 Q59.2097 611.241 57.0106 611.658 Q54.8115 612.075 52.1727 612.954 L52.1727 608.788 Q54.8347 608.047 57.1495 607.677 Q59.4875 607.306 61.5476 607.306 Q66.8717 607.306 69.9735 609.737 Q73.0753 612.144 73.0753 616.265 Q73.0753 619.135 71.4318 621.126 Q69.7883 623.093 66.7559 623.857 Z\" fill=\"#000000\" fill-rule=\"nonzero\" fill-opacity=\"1\" /><path clip-path=\"url(#clip760)\" d=\"M92.7512 611.01 Q89.1401 611.01 87.3114 614.575 Q85.5058 618.116 85.5058 625.246 Q85.5058 632.352 87.3114 635.917 Q89.1401 639.459 92.7512 639.459 Q96.3854 639.459 98.1909 635.917 Q100.02 632.352 100.02 625.246 Q100.02 618.116 98.1909 614.575 Q96.3854 611.01 92.7512 611.01 M92.7512 607.306 Q98.5613 607.306 101.617 611.913 Q104.696 616.496 104.696 625.246 Q104.696 633.973 101.617 638.579 Q98.5613 643.163 92.7512 643.163 Q86.941 643.163 83.8623 638.579 Q80.8068 633.973 80.8068 625.246 Q80.8068 616.496 83.8623 611.913 Q86.941 607.306 92.7512 607.306 Z\" fill=\"#000000\" fill-rule=\"nonzero\" fill-opacity=\"1\" /><path clip-path=\"url(#clip760)\" d=\"M122.913 611.01 Q119.302 611.01 117.473 614.575 Q115.668 618.116 115.668 625.246 Q115.668 632.352 117.473 635.917 Q119.302 639.459 122.913 639.459 Q126.547 639.459 128.353 635.917 Q130.182 632.352 130.182 625.246 Q130.182 618.116 128.353 614.575 Q126.547 611.01 122.913 611.01 M122.913 607.306 Q128.723 607.306 131.779 611.913 Q134.857 616.496 134.857 625.246 Q134.857 633.973 131.779 638.579 Q128.723 643.163 122.913 643.163 Q117.103 643.163 114.024 638.579 Q110.969 633.973 110.969 625.246 Q110.969 616.496 114.024 611.913 Q117.103 607.306 122.913 607.306 Z\" fill=\"#000000\" fill-rule=\"nonzero\" fill-opacity=\"1\" /><path clip-path=\"url(#clip760)\" d=\"M66.7559 330.82 Q70.1124 331.537 71.9874 333.806 Q73.8855 336.074 73.8855 339.408 Q73.8855 344.523 70.367 347.324 Q66.8485 350.125 60.3671 350.125 Q58.1912 350.125 55.8764 349.685 Q53.5847 349.269 51.131 348.412 L51.131 343.898 Q53.0754 345.033 55.3903 345.611 Q57.7051 346.19 60.2282 346.19 Q64.6263 346.19 66.918 344.454 Q69.2328 342.718 69.2328 339.408 Q69.2328 336.352 67.08 334.639 Q64.9504 332.903 61.131 332.903 L57.1032 332.903 L57.1032 329.061 L61.3161 329.061 Q64.7652 329.061 66.5939 327.695 Q68.4226 326.306 68.4226 323.713 Q68.4226 321.051 66.5245 319.639 Q64.6495 318.204 61.131 318.204 Q59.2097 318.204 57.0106 318.621 Q54.8115 319.038 52.1727 319.917 L52.1727 315.75 Q54.8347 315.01 57.1495 314.639 Q59.4875 314.269 61.5476 314.269 Q66.8717 314.269 69.9735 316.7 Q73.0753 319.107 73.0753 323.227 Q73.0753 326.098 71.4318 328.088 Q69.7883 330.056 66.7559 330.82 Z\" fill=\"#000000\" fill-rule=\"nonzero\" fill-opacity=\"1\" /><path clip-path=\"url(#clip760)\" d=\"M96.9178 330.82 Q100.274 331.537 102.149 333.806 Q104.047 336.074 104.047 339.408 Q104.047 344.523 100.529 347.324 Q97.0104 350.125 90.529 350.125 Q88.353 350.125 86.0382 349.685 Q83.7466 349.269 81.2929 348.412 L81.2929 343.898 Q83.2373 345.033 85.5521 345.611 Q87.8669 346.19 90.3901 346.19 Q94.7882 346.19 97.0798 344.454 Q99.3946 342.718 99.3946 339.408 Q99.3946 336.352 97.2419 334.639 Q95.1123 332.903 91.2928 332.903 L87.2651 332.903 L87.2651 329.061 L91.478 329.061 Q94.9271 329.061 96.7558 327.695 Q98.5845 326.306 98.5845 323.713 Q98.5845 321.051 96.6863 319.639 Q94.8113 318.204 91.2928 318.204 Q89.3715 318.204 87.1725 318.621 Q84.9734 319.038 82.3346 319.917 L82.3346 315.75 Q84.9966 315.01 87.3114 314.639 Q89.6493 314.269 91.7095 314.269 Q97.0335 314.269 100.135 316.7 Q103.237 319.107 103.237 323.227 Q103.237 326.098 101.594 328.088 Q99.9502 330.056 96.9178 330.82 Z\" fill=\"#000000\" fill-rule=\"nonzero\" fill-opacity=\"1\" /><path clip-path=\"url(#clip760)\" d=\"M122.913 317.973 Q119.302 317.973 117.473 321.537 Q115.668 325.079 115.668 332.209 Q115.668 339.315 117.473 342.88 Q119.302 346.422 122.913 346.422 Q126.547 346.422 128.353 342.88 Q130.182 339.315 130.182 332.209 Q130.182 325.079 128.353 321.537 Q126.547 317.973 122.913 317.973 M122.913 314.269 Q128.723 314.269 131.779 318.875 Q134.857 323.459 134.857 332.209 Q134.857 340.936 131.779 345.542 Q128.723 350.125 122.913 350.125 Q117.103 350.125 114.024 345.542 Q110.969 340.936 110.969 332.209 Q110.969 323.459 114.024 318.875 Q117.103 314.269 122.913 314.269 Z\" fill=\"#000000\" fill-rule=\"nonzero\" fill-opacity=\"1\" /><circle clip-path=\"url(#clip762)\" cx=\"456.348\" cy=\"302.87\" r=\"14.4\" fill=\"#009af9\" fill-rule=\"evenodd\" fill-opacity=\"1\" stroke=\"#000000\" stroke-opacity=\"1\" stroke-width=\"3.2\"/>\n<circle clip-path=\"url(#clip762)\" cx=\"501.096\" cy=\"429.853\" r=\"14.4\" fill=\"#009af9\" fill-rule=\"evenodd\" fill-opacity=\"1\" stroke=\"#000000\" stroke-opacity=\"1\" stroke-width=\"3.2\"/>\n<circle clip-path=\"url(#clip762)\" cx=\"814.33\" cy=\"615.443\" r=\"14.4\" fill=\"#009af9\" fill-rule=\"evenodd\" fill-opacity=\"1\" stroke=\"#000000\" stroke-opacity=\"1\" stroke-width=\"3.2\"/>\n<circle clip-path=\"url(#clip762)\" cx=\"903.825\" cy=\"820.569\" r=\"14.4\" fill=\"#009af9\" fill-rule=\"evenodd\" fill-opacity=\"1\" stroke=\"#000000\" stroke-opacity=\"1\" stroke-width=\"3.2\"/>\n<circle clip-path=\"url(#clip762)\" cx=\"1217.06\" cy=\"918.249\" r=\"14.4\" fill=\"#009af9\" fill-rule=\"evenodd\" fill-opacity=\"1\" stroke=\"#000000\" stroke-opacity=\"1\" stroke-width=\"3.2\"/>\n<circle clip-path=\"url(#clip762)\" cx=\"1396.05\" cy=\"1103.84\" r=\"14.4\" fill=\"#009af9\" fill-rule=\"evenodd\" fill-opacity=\"1\" stroke=\"#000000\" stroke-opacity=\"1\" stroke-width=\"3.2\"/>\n<circle clip-path=\"url(#clip762)\" cx=\"1888.27\" cy=\"1015.93\" r=\"14.4\" fill=\"#009af9\" fill-rule=\"evenodd\" fill-opacity=\"1\" stroke=\"#000000\" stroke-opacity=\"1\" stroke-width=\"3.2\"/>\n<circle clip-path=\"url(#clip762)\" cx=\"1933.02\" cy=\"1064.77\" r=\"14.4\" fill=\"#009af9\" fill-rule=\"evenodd\" fill-opacity=\"1\" stroke=\"#000000\" stroke-opacity=\"1\" stroke-width=\"3.2\"/>\n<circle clip-path=\"url(#clip762)\" cx=\"232.609\" cy=\"87.9763\" r=\"14.4\" fill=\"#009af9\" fill-rule=\"evenodd\" fill-opacity=\"1\" stroke=\"#000000\" stroke-opacity=\"1\" stroke-width=\"3.2\"/>\n<circle clip-path=\"url(#clip762)\" cx=\"277.357\" cy=\"185.655\" r=\"14.4\" fill=\"#009af9\" fill-rule=\"evenodd\" fill-opacity=\"1\" stroke=\"#000000\" stroke-opacity=\"1\" stroke-width=\"3.2\"/>\n<circle clip-path=\"url(#clip762)\" cx=\"590.591\" cy=\"400.549\" r=\"14.4\" fill=\"#009af9\" fill-rule=\"evenodd\" fill-opacity=\"1\" stroke=\"#000000\" stroke-opacity=\"1\" stroke-width=\"3.2\"/>\n<circle clip-path=\"url(#clip762)\" cx=\"635.339\" cy=\"517.764\" r=\"14.4\" fill=\"#009af9\" fill-rule=\"evenodd\" fill-opacity=\"1\" stroke=\"#000000\" stroke-opacity=\"1\" stroke-width=\"3.2\"/>\n<circle clip-path=\"url(#clip762)\" cx=\"948.573\" cy=\"605.675\" r=\"14.4\" fill=\"#009af9\" fill-rule=\"evenodd\" fill-opacity=\"1\" stroke=\"#000000\" stroke-opacity=\"1\" stroke-width=\"3.2\"/>\n<circle clip-path=\"url(#clip762)\" cx=\"1038.07\" cy=\"742.426\" r=\"14.4\" fill=\"#009af9\" fill-rule=\"evenodd\" fill-opacity=\"1\" stroke=\"#000000\" stroke-opacity=\"1\" stroke-width=\"3.2\"/>\n<circle clip-path=\"url(#clip762)\" cx=\"1351.3\" cy=\"830.337\" r=\"14.4\" fill=\"#009af9\" fill-rule=\"evenodd\" fill-opacity=\"1\" stroke=\"#000000\" stroke-opacity=\"1\" stroke-width=\"3.2\"/>\n<circle clip-path=\"url(#clip762)\" cx=\"1530.29\" cy=\"1015.93\" r=\"14.4\" fill=\"#009af9\" fill-rule=\"evenodd\" fill-opacity=\"1\" stroke=\"#000000\" stroke-opacity=\"1\" stroke-width=\"3.2\"/>\n<circle clip-path=\"url(#clip762)\" cx=\"2022.52\" cy=\"1201.52\" r=\"14.4\" fill=\"#009af9\" fill-rule=\"evenodd\" fill-opacity=\"1\" stroke=\"#000000\" stroke-opacity=\"1\" stroke-width=\"3.2\"/>\n<circle clip-path=\"url(#clip762)\" cx=\"2067.27\" cy=\"1318.73\" r=\"14.4\" fill=\"#009af9\" fill-rule=\"evenodd\" fill-opacity=\"1\" stroke=\"#000000\" stroke-opacity=\"1\" stroke-width=\"3.2\"/>\n<circle clip-path=\"url(#clip762)\" cx=\"366.852\" cy=\"273.567\" r=\"14.4\" fill=\"#009af9\" fill-rule=\"evenodd\" fill-opacity=\"1\" stroke=\"#000000\" stroke-opacity=\"1\" stroke-width=\"3.2\"/>\n<circle clip-path=\"url(#clip762)\" cx=\"411.6\" cy=\"390.781\" r=\"14.4\" fill=\"#009af9\" fill-rule=\"evenodd\" fill-opacity=\"1\" stroke=\"#000000\" stroke-opacity=\"1\" stroke-width=\"3.2\"/>\n<circle clip-path=\"url(#clip762)\" cx=\"680.086\" cy=\"449.389\" r=\"14.4\" fill=\"#009af9\" fill-rule=\"evenodd\" fill-opacity=\"1\" stroke=\"#000000\" stroke-opacity=\"1\" stroke-width=\"3.2\"/>\n<circle clip-path=\"url(#clip762)\" cx=\"724.834\" cy=\"566.604\" r=\"14.4\" fill=\"#009af9\" fill-rule=\"evenodd\" fill-opacity=\"1\" stroke=\"#000000\" stroke-opacity=\"1\" stroke-width=\"3.2\"/>\n<circle clip-path=\"url(#clip762)\" cx=\"1038.07\" cy=\"654.515\" r=\"14.4\" fill=\"#009af9\" fill-rule=\"evenodd\" fill-opacity=\"1\" stroke=\"#000000\" stroke-opacity=\"1\" stroke-width=\"3.2\"/>\n<circle clip-path=\"url(#clip762)\" cx=\"1127.56\" cy=\"791.266\" r=\"14.4\" fill=\"#009af9\" fill-rule=\"evenodd\" fill-opacity=\"1\" stroke=\"#000000\" stroke-opacity=\"1\" stroke-width=\"3.2\"/>\n<circle clip-path=\"url(#clip762)\" cx=\"1440.8\" cy=\"879.177\" r=\"14.4\" fill=\"#009af9\" fill-rule=\"evenodd\" fill-opacity=\"1\" stroke=\"#000000\" stroke-opacity=\"1\" stroke-width=\"3.2\"/>\n<circle clip-path=\"url(#clip762)\" cx=\"1619.79\" cy=\"1064.77\" r=\"14.4\" fill=\"#009af9\" fill-rule=\"evenodd\" fill-opacity=\"1\" stroke=\"#000000\" stroke-opacity=\"1\" stroke-width=\"3.2\"/>\n<circle clip-path=\"url(#clip762)\" cx=\"2112.01\" cy=\"1260.13\" r=\"14.4\" fill=\"#009af9\" fill-rule=\"evenodd\" fill-opacity=\"1\" stroke=\"#000000\" stroke-opacity=\"1\" stroke-width=\"3.2\"/>\n<circle clip-path=\"url(#clip762)\" cx=\"2156.76\" cy=\"1367.57\" r=\"14.4\" fill=\"#009af9\" fill-rule=\"evenodd\" fill-opacity=\"1\" stroke=\"#000000\" stroke-opacity=\"1\" stroke-width=\"3.2\"/>\n<circle clip-path=\"url(#clip762)\" cx=\"456.348\" cy=\"322.406\" r=\"14.4\" fill=\"#009af9\" fill-rule=\"evenodd\" fill-opacity=\"1\" stroke=\"#000000\" stroke-opacity=\"1\" stroke-width=\"3.2\"/>\n<circle clip-path=\"url(#clip762)\" cx=\"501.096\" cy=\"439.621\" r=\"14.4\" fill=\"#009af9\" fill-rule=\"evenodd\" fill-opacity=\"1\" stroke=\"#000000\" stroke-opacity=\"1\" stroke-width=\"3.2\"/>\n<circle clip-path=\"url(#clip762)\" cx=\"769.582\" cy=\"498.228\" r=\"14.4\" fill=\"#009af9\" fill-rule=\"evenodd\" fill-opacity=\"1\" stroke=\"#000000\" stroke-opacity=\"1\" stroke-width=\"3.2\"/>\n<circle clip-path=\"url(#clip762)\" cx=\"814.33\" cy=\"615.443\" r=\"14.4\" fill=\"#009af9\" fill-rule=\"evenodd\" fill-opacity=\"1\" stroke=\"#000000\" stroke-opacity=\"1\" stroke-width=\"3.2\"/>\n<circle clip-path=\"url(#clip762)\" cx=\"1127.56\" cy=\"703.355\" r=\"14.4\" fill=\"#009af9\" fill-rule=\"evenodd\" fill-opacity=\"1\" stroke=\"#000000\" stroke-opacity=\"1\" stroke-width=\"3.2\"/>\n<circle clip-path=\"url(#clip762)\" cx=\"1217.06\" cy=\"840.105\" r=\"14.4\" fill=\"#009af9\" fill-rule=\"evenodd\" fill-opacity=\"1\" stroke=\"#000000\" stroke-opacity=\"1\" stroke-width=\"3.2\"/>\n<circle clip-path=\"url(#clip762)\" cx=\"1530.29\" cy=\"928.016\" r=\"14.4\" fill=\"#009af9\" fill-rule=\"evenodd\" fill-opacity=\"1\" stroke=\"#000000\" stroke-opacity=\"1\" stroke-width=\"3.2\"/>\n<circle clip-path=\"url(#clip762)\" cx=\"1709.28\" cy=\"1113.61\" r=\"14.4\" fill=\"#009af9\" fill-rule=\"evenodd\" fill-opacity=\"1\" stroke=\"#000000\" stroke-opacity=\"1\" stroke-width=\"3.2\"/>\n<circle clip-path=\"url(#clip762)\" cx=\"2201.51\" cy=\"1308.96\" r=\"14.4\" fill=\"#009af9\" fill-rule=\"evenodd\" fill-opacity=\"1\" stroke=\"#000000\" stroke-opacity=\"1\" stroke-width=\"3.2\"/>\n<circle clip-path=\"url(#clip762)\" cx=\"2246.26\" cy=\"1416.41\" r=\"14.4\" fill=\"#009af9\" fill-rule=\"evenodd\" fill-opacity=\"1\" stroke=\"#000000\" stroke-opacity=\"1\" stroke-width=\"3.2\"/>\n<circle clip-path=\"url(#clip762)\" cx=\"545.843\" cy=\"381.014\" r=\"14.4\" fill=\"#009af9\" fill-rule=\"evenodd\" fill-opacity=\"1\" stroke=\"#000000\" stroke-opacity=\"1\" stroke-width=\"3.2\"/>\n<circle clip-path=\"url(#clip762)\" cx=\"590.591\" cy=\"488.461\" r=\"14.4\" fill=\"#009af9\" fill-rule=\"evenodd\" fill-opacity=\"1\" stroke=\"#000000\" stroke-opacity=\"1\" stroke-width=\"3.2\"/>\n<circle clip-path=\"url(#clip762)\" cx=\"814.33\" cy=\"527.532\" r=\"14.4\" fill=\"#009af9\" fill-rule=\"evenodd\" fill-opacity=\"1\" stroke=\"#000000\" stroke-opacity=\"1\" stroke-width=\"3.2\"/>\n<circle clip-path=\"url(#clip762)\" cx=\"859.077\" cy=\"644.747\" r=\"14.4\" fill=\"#009af9\" fill-rule=\"evenodd\" fill-opacity=\"1\" stroke=\"#000000\" stroke-opacity=\"1\" stroke-width=\"3.2\"/>\n<circle clip-path=\"url(#clip762)\" cx=\"1172.31\" cy=\"732.658\" r=\"14.4\" fill=\"#009af9\" fill-rule=\"evenodd\" fill-opacity=\"1\" stroke=\"#000000\" stroke-opacity=\"1\" stroke-width=\"3.2\"/>\n<circle clip-path=\"url(#clip762)\" cx=\"1261.81\" cy=\"869.409\" r=\"14.4\" fill=\"#009af9\" fill-rule=\"evenodd\" fill-opacity=\"1\" stroke=\"#000000\" stroke-opacity=\"1\" stroke-width=\"3.2\"/>\n<circle clip-path=\"url(#clip762)\" cx=\"1575.04\" cy=\"957.32\" r=\"14.4\" fill=\"#009af9\" fill-rule=\"evenodd\" fill-opacity=\"1\" stroke=\"#000000\" stroke-opacity=\"1\" stroke-width=\"3.2\"/>\n<circle clip-path=\"url(#clip762)\" cx=\"1754.03\" cy=\"1142.91\" r=\"14.4\" fill=\"#009af9\" fill-rule=\"evenodd\" fill-opacity=\"1\" stroke=\"#000000\" stroke-opacity=\"1\" stroke-width=\"3.2\"/>\n<circle clip-path=\"url(#clip762)\" cx=\"2246.26\" cy=\"1328.5\" r=\"14.4\" fill=\"#009af9\" fill-rule=\"evenodd\" fill-opacity=\"1\" stroke=\"#000000\" stroke-opacity=\"1\" stroke-width=\"3.2\"/>\n<circle clip-path=\"url(#clip762)\" cx=\"2291\" cy=\"1445.72\" r=\"14.4\" fill=\"#009af9\" fill-rule=\"evenodd\" fill-opacity=\"1\" stroke=\"#000000\" stroke-opacity=\"1\" stroke-width=\"3.2\"/>\n<circle clip-path=\"url(#clip762)\" cx=\"590.591\" cy=\"400.549\" r=\"14.4\" fill=\"#009af9\" fill-rule=\"evenodd\" fill-opacity=\"1\" stroke=\"#000000\" stroke-opacity=\"1\" stroke-width=\"3.2\"/>\n<circle clip-path=\"url(#clip762)\" cx=\"635.339\" cy=\"517.764\" r=\"14.4\" fill=\"#009af9\" fill-rule=\"evenodd\" fill-opacity=\"1\" stroke=\"#000000\" stroke-opacity=\"1\" stroke-width=\"3.2\"/>\n<path clip-path=\"url(#clip760)\" d=\"M2009.41 198.898 L2280.03 198.898 L2280.03 95.2176 L2009.41 95.2176  Z\" fill=\"#ffffff\" fill-rule=\"evenodd\" fill-opacity=\"1\"/>\n<polyline clip-path=\"url(#clip760)\" style=\"stroke:#000000; stroke-linecap:round; stroke-linejoin:round; stroke-width:4; stroke-opacity:1; fill:none\" points=\"2009.41,198.898 2280.03,198.898 2280.03,95.2176 2009.41,95.2176 2009.41,198.898 \"/>\n<circle clip-path=\"url(#clip760)\" cx=\"2106.38\" cy=\"147.058\" r=\"20.48\" fill=\"#009af9\" fill-rule=\"evenodd\" fill-opacity=\"1\" stroke=\"#000000\" stroke-opacity=\"1\" stroke-width=\"4.55111\"/>\n<path clip-path=\"url(#clip760)\" d=\"M2217.19 166.745 Q2215.39 171.375 2213.68 172.787 Q2211.96 174.199 2209.09 174.199 L2205.69 174.199 L2205.69 170.634 L2208.19 170.634 Q2209.95 170.634 2210.92 169.8 Q2211.89 168.967 2213.07 165.865 L2213.84 163.921 L2203.35 138.412 L2207.87 138.412 L2215.97 158.689 L2224.07 138.412 L2228.58 138.412 L2217.19 166.745 Z\" fill=\"#000000\" fill-rule=\"nonzero\" fill-opacity=\"1\" /><path clip-path=\"url(#clip760)\" d=\"M2235.88 160.402 L2243.51 160.402 L2243.51 134.037 L2235.2 135.703 L2235.2 131.444 L2243.47 129.778 L2248.14 129.778 L2248.14 160.402 L2255.78 160.402 L2255.78 164.338 L2235.88 164.338 L2235.88 160.402 Z\" fill=\"#000000\" fill-rule=\"nonzero\" fill-opacity=\"1\" /></svg>\n"
          },
          "metadata": {},
          "execution_count": 10
        }
      ]
    },
    {
      "cell_type": "markdown",
      "source": [
        "## Linear Regression"
      ],
      "metadata": {
        "id": "MdSFwcNAy-Sg"
      }
    },
    {
      "cell_type": "code",
      "source": [
        "#train, test = TrainTestSplit(df,.80)\n",
        "#train_split, test_split = splitobs(train, at = 0.8) # Splits into 80% train, 20% test\n",
        "linreg = lm(@formula(premium ~ age + gender), train)"
      ],
      "metadata": {
        "colab": {
          "base_uri": "https://localhost:8080/"
        },
        "id": "Jv7RHY1xy-Zh",
        "outputId": "17de10cf-5ee6-4c49-885f-b631b7f1f7ea"
      },
      "execution_count": 11,
      "outputs": [
        {
          "output_type": "execute_result",
          "data": {
            "text/plain": [
              "StatsModels.TableRegressionModel{LinearModel{GLM.LmResp{Vector{Float64}}, GLM.DensePredChol{Float64, LinearAlgebra.CholeskyPivoted{Float64, Matrix{Float64}, Vector{Int64}}}}, Matrix{Float64}}\n",
              "\n",
              "premium ~ 1 + age + gender\n",
              "\n",
              "Coefficients:\n",
              "──────────────────────────────────────────────────────────────────────────\n",
              "                 Coef.  Std. Error       t  Pr(>|t|)  Lower 95%  Upper 95%\n",
              "──────────────────────────────────────────────────────────────────────────\n",
              "(Intercept)  380.633     2.74921    138.45    <1e-62  375.102    386.164\n",
              "age           -2.56967   0.0622045  -41.31    <1e-37   -2.69481   -2.44453\n",
              "gender         9.01459   1.6942       5.32    <1e-05    5.6063    12.4229\n",
              "──────────────────────────────────────────────────────────────────────────"
            ]
          },
          "metadata": {},
          "execution_count": 11
        }
      ]
    },
    {
      "cell_type": "code",
      "source": [
        "function predict_ap3(ap1, ap2)\n",
        "  ap3 = -0.387663*ap1 + 1.35408*ap2 + -0.49022\n",
        "  return ap3\n",
        "end\n",
        "predict_ap3(8,8)\n",
        "\n"
      ],
      "metadata": {
        "colab": {
          "base_uri": "https://localhost:8080/"
        },
        "id": "S3sEBNybznJa",
        "outputId": "ba2caf1f-3b3d-46fe-8899-d1ffebb1c28e"
      },
      "execution_count": 12,
      "outputs": [
        {
          "output_type": "execute_result",
          "data": {
            "text/plain": [
              "7.241116"
            ]
          },
          "metadata": {},
          "execution_count": 12
        }
      ]
    },
    {
      "cell_type": "code",
      "source": [
        "pred_train = predict(linreg,train)"
      ],
      "metadata": {
        "colab": {
          "base_uri": "https://localhost:8080/"
        },
        "id": "MtpXJC49zoJA",
        "outputId": "db9ec2fc-574c-4bde-c75d-d23a4b291d77"
      },
      "execution_count": 13,
      "outputs": [
        {
          "output_type": "execute_result",
          "data": {
            "text/plain": [
              "50-element Vector{Union{Missing, Float64}}:\n",
              " 330.54506065857873\n",
              " 318.9607972270362\n",
              " 309.98769497400343\n",
              " 295.833760831889\n",
              " 286.86065857885615\n",
              " 267.5673830155979\n",
              " 248.31559792027736\n",
              " 236.73133448873486\n",
              " 343.39341421143837\n",
              " 331.80915077989584\n",
              " 322.836048526863\n",
              " 311.2517850953205\n",
              " 302.27868284228765\n",
              "   ⋮\n",
              " 325.40571923743494\n",
              " 313.8214558058924\n",
              " 309.98769497400343\n",
              " 298.4034315424609\n",
              " 289.4303292894281\n",
              " 275.2763951473136\n",
              " 266.3032928942808\n",
              " 247.0100173310225\n",
              " 227.75823223570202\n",
              " 216.1739688041595\n",
              " 322.836048526863\n",
              " 311.2517850953205"
            ]
          },
          "metadata": {},
          "execution_count": 13
        }
      ]
    },
    {
      "cell_type": "code",
      "source": [
        "r2(linreg)\n"
      ],
      "metadata": {
        "colab": {
          "base_uri": "https://localhost:8080/"
        },
        "id": "yYaFkQ9Tzqsd",
        "outputId": "f7db213b-9b76-4d3d-f9ce-50b96197f51a"
      },
      "execution_count": 14,
      "outputs": [
        {
          "output_type": "execute_result",
          "data": {
            "text/plain": [
              "0.9741562690934751"
            ]
          },
          "metadata": {},
          "execution_count": 14
        }
      ]
    },
    {
      "cell_type": "code",
      "source": [
        "pred_test=predict(linreg,test)\n"
      ],
      "metadata": {
        "colab": {
          "base_uri": "https://localhost:8080/"
        },
        "id": "EU4VMi8Gzrb0",
        "outputId": "63953ca3-bff3-4226-b18c-84f0dd72fce2"
      },
      "execution_count": 15,
      "outputs": [
        {
          "output_type": "execute_result",
          "data": {
            "text/plain": [
              "3-element Vector{Union{Missing, Float64}}:\n",
              " 304.8483535528596\n",
              " 295.833760831889\n",
              " 299.7090121317157"
            ]
          },
          "metadata": {},
          "execution_count": 15
        }
      ]
    },
    {
      "cell_type": "code",
      "source": [
        "function R2(y,pred)\n",
        "  y_mean = mean(test.premium)\n",
        "  tss = sum((test.premium .- y_mean).^2)\n",
        "  rss = sum((test.premium .- pred_test).^2)\n",
        "end\n",
        "R2(test.premium,pred_test)"
      ],
      "metadata": {
        "colab": {
          "base_uri": "https://localhost:8080/"
        },
        "id": "AFGSWRUMz35e",
        "outputId": "67514609-fe60-45a9-c5ee-541de808fa5a"
      },
      "execution_count": 16,
      "outputs": [
        {
          "output_type": "execute_result",
          "data": {
            "text/plain": [
              "0.802827709211145"
            ]
          },
          "metadata": {},
          "execution_count": 16
        }
      ]
    },
    {
      "cell_type": "code",
      "source": [
        "function MSE(y, pred)\n",
        "  return mean((y .- pred).^2)\n",
        "end\n",
        "print(MSE(test.premium,pred_test))\n",
        "sqrt(MSE(test.premium,pred_test))"
      ],
      "metadata": {
        "colab": {
          "base_uri": "https://localhost:8080/"
        },
        "id": "Aec9q_cz04MH",
        "outputId": "92b720c0-00b9-4eb5-dba0-4ed363a4462c"
      },
      "execution_count": 18,
      "outputs": [
        {
          "output_type": "stream",
          "name": "stdout",
          "text": [
            "0.267609236403715"
          ]
        },
        {
          "output_type": "execute_result",
          "data": {
            "text/plain": [
              "0.5173096136780323"
            ]
          },
          "metadata": {},
          "execution_count": 18
        }
      ]
    }
  ]
}