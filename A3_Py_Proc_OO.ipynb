{
  "nbformat": 4,
  "nbformat_minor": 0,
  "metadata": {
    "colab": {
      "provenance": [],
      "authorship_tag": "ABX9TyMJP3jf9G5/lcJJeijG6q7M",
      "include_colab_link": true
    },
    "kernelspec": {
      "name": "python3",
      "display_name": "Python 3"
    },
    "language_info": {
      "name": "python"
    }
  },
  "cells": [
    {
      "cell_type": "markdown",
      "metadata": {
        "id": "view-in-github",
        "colab_type": "text"
      },
      "source": [
        "<a href=\"https://colab.research.google.com/github/lcbjrrr/quantai/blob/main/A3_Py_Proc_OO.ipynb\" target=\"_parent\"><img src=\"https://colab.research.google.com/assets/colab-badge.svg\" alt=\"Open In Colab\"/></a>"
      ]
    },
    {
      "cell_type": "markdown",
      "source": [
        "# Introduction"
      ],
      "metadata": {
        "id": "CPtb8dOHqcn2"
      }
    },
    {
      "cell_type": "markdown",
      "source": [
        "We first defined a function print_full_name to print a person's first and last name.\n",
        "\n",
        "Then we changed that to OO approach, creating a Person class with an __init__ method to initialize a person's first and last name and a print_full_name method to print these values. Two Person objects, luiz and joao, are instantiated with different names, and their print_full_name method is called to print their names. The code demonstrates both a function and a class method for printing name data."
      ],
      "metadata": {
        "id": "ObmIkYBUndY8"
      }
    },
    {
      "cell_type": "code",
      "source": [
        "def print_full_name(n, s):\n",
        "  print(n, '', s)\n",
        "\n",
        "first_name = 'luiz'\n",
        "last_name = 'barboza'\n",
        "\n",
        "print_full_name(first_name, last_name)\n",
        "\n",
        "class Person():\n",
        "  def __init__(self, n, s):\n",
        "    self.first_name = n\n",
        "    self.last_name = s\n",
        "\n",
        "  def print_full_name(self):\n",
        "    print(self.first_name, ' ', self.last_name)\n",
        "\n",
        "luiz = Person('luiz', 'barboza')\n",
        "joao = Person('joao', 'silva')\n",
        "\n",
        "luiz.print_full_name()\n",
        "joao.print_full_name()\n"
      ],
      "metadata": {
        "colab": {
          "base_uri": "https://localhost:8080/"
        },
        "id": "XIFtmp5RnrHc",
        "outputId": "2bb0180c-ab35-4cea-b4e0-93eada257800"
      },
      "execution_count": null,
      "outputs": [
        {
          "output_type": "stream",
          "name": "stdout",
          "text": [
            "luiz  barboza\n",
            "luiz   barboza\n",
            "joao   silva\n"
          ]
        }
      ]
    },
    {
      "cell_type": "markdown",
      "source": [
        "## Ex: Calculator\n",
        "\n",
        "Create a calculator with the capability of basic arithmetic operations: addition, subtraction, multiplication and division."
      ],
      "metadata": {
        "id": "x-ddgnwqqj4D"
      }
    },
    {
      "cell_type": "code",
      "source": [
        "class Calculator():\n",
        "  def sum(self,x,y):\n",
        "    return x+y\n",
        "  def sub(self,x,y):\n",
        "    return x-y\n",
        "  def div(self,x,y):\n",
        "    return x/y\n",
        "  def multi(self,x,y):\n",
        "    return x*y\n",
        "\n",
        "calc = Calculator()\n",
        "print(calc.sum(1,2))\n",
        "print(calc.sub(1,2))\n",
        "print(calc.div(1,2))\n",
        "print(calc.multi(1,2))"
      ],
      "metadata": {
        "id": "H4iucGTaqn0e",
        "colab": {
          "base_uri": "https://localhost:8080/"
        },
        "outputId": "803f4e70-c481-46ad-d36d-50cd694a50bc"
      },
      "execution_count": null,
      "outputs": [
        {
          "output_type": "stream",
          "name": "stdout",
          "text": [
            "3\n",
            "-1\n",
            "0.5\n",
            "2\n"
          ]
        }
      ]
    },
    {
      "cell_type": "markdown",
      "source": [
        "# Encapsulation"
      ],
      "metadata": {
        "id": "2-xdZE5dq63m"
      }
    },
    {
      "cell_type": "markdown",
      "source": [
        "\n",
        "## Ex: Cara)\n",
        "\n",
        "Create an entity with the capacity to lend and borrow money. As an example of execution, create two instances of this, in which one lends a value x to the other\n",
        "\n",
        "![foto](https://pbs.twimg.com/media/EmpAE7eXUAMoOIi?format=png&name=360x360)"
      ],
      "metadata": {
        "id": "icWUK7gjq7Qc"
      }
    },
    {
      "cell_type": "code",
      "source": [
        "class Guy():\n",
        "  def __init__(self,name,cash):\n",
        "    self.__name = name\n",
        "    self.__cash = cash\n",
        "\n",
        "  @property\n",
        "  def cash(self):\n",
        "    return self.__cash\n",
        "\n",
        "  @property\n",
        "  def name(self):\n",
        "    return self.__name\n",
        "\n",
        "  @name.setter\n",
        "  def name(self, n):\n",
        "    self.__name = n\n",
        "\n",
        "  def GiveCash(self, v):\n",
        "    if (v < self.__cash):\n",
        "      self.__cash = self.__cash - v\n",
        "      return True\n",
        "    else:\n",
        "      return False\n",
        "\n",
        "  def TakeCash(self, v):\n",
        "    self.__cash = self.__cash + v\n",
        "\n",
        "\n"
      ],
      "metadata": {
        "id": "4Gohr-VhrA-l"
      },
      "execution_count": null,
      "outputs": []
    },
    {
      "cell_type": "code",
      "source": [
        "joao = Guy('joao silva',100)\n",
        "ze = Guy('jose neves',900)\n",
        "\n",
        "loan = 50\n",
        "ok = ze.GiveCash(loan)\n",
        "if(ok):\n",
        "  joao.TakeCash(loan)\n",
        "\n",
        "\n",
        "print(ze.cash)\n",
        "print(joao.cash )\n"
      ],
      "metadata": {
        "id": "5k0of64nrEja",
        "colab": {
          "base_uri": "https://localhost:8080/"
        },
        "outputId": "d49fd33e-c803-44bd-cd6a-b52176208dcd"
      },
      "execution_count": null,
      "outputs": [
        {
          "output_type": "stream",
          "name": "stdout",
          "text": [
            "850\n",
            "150\n"
          ]
        }
      ]
    },
    {
      "cell_type": "markdown",
      "source": [
        "##  Ex: Party Calculator\n",
        "\n",
        "\n",
        "Build a calculator to estimate the cost of a party, where food costs €25 per person. Drinks can be either juice at €5 per person (with a 5% discount) or alcoholic at €20 per person. Decoration options include a regular package costing €30 for the table and €7.50 per person for party favors, or an upgraded package with a fixed fee of €50 plus €10 per person. This structure helps calculate party expenses based on food, drinks, and decoration choices.\n",
        "\n",
        "\n",
        "\n"
      ],
      "metadata": {
        "id": "uy_G0D2RrW2g"
      }
    },
    {
      "cell_type": "markdown",
      "source": [
        "### colapse\n",
        "\n"
      ],
      "metadata": {
        "id": "drAd_Dc3ucfL"
      }
    },
    {
      "cell_type": "markdown",
      "source": [
        "![](https://pbs.twimg.com/media/Gc7K-WnWgAAfbuA?format=jpg&name=large)"
      ],
      "metadata": {
        "id": "egcL1D2luopu"
      }
    },
    {
      "cell_type": "code",
      "source": [],
      "metadata": {
        "id": "17voze96ueJI"
      },
      "execution_count": null,
      "outputs": []
    },
    {
      "cell_type": "markdown",
      "source": [
        "### result"
      ],
      "metadata": {
        "id": "sgIDmIfhutt6"
      }
    },
    {
      "cell_type": "code",
      "source": [
        "# TODO"
      ],
      "metadata": {
        "id": "Oih0OkzfrZLq"
      },
      "execution_count": null,
      "outputs": []
    },
    {
      "cell_type": "markdown",
      "source": [
        "# Inheritance"
      ],
      "metadata": {
        "id": "-puDfF1Vro4c"
      }
    },
    {
      "cell_type": "markdown",
      "source": [
        "\n",
        "Inheritance in object-oriented programming (OOP) allows a class (child class) to inherit attributes and methods from another class (parent class). This promotes code reuse and hierarchical relationships between classes. The child class can extend or modify the inherited behaviors, adding its own unique features. For example, a Square class inherits from a general Shape class, gaining properties like color and methods like area(), but it can also define specific attributes, such as side, to further customize its behavior. This creates a more organized and efficient structure for managing complex systems."
      ],
      "metadata": {
        "id": "5nR56h4hv4h3"
      }
    },
    {
      "cell_type": "code",
      "source": [
        "class Shape:\n",
        "  def __init__(self, color):\n",
        "    self.__color = color\n",
        "\n",
        "  @property\n",
        "  def color(self):\n",
        "    return self.__color\n",
        "\n",
        "  @color.setter\n",
        "  def color(self, c):\n",
        "    self.__color = c\n",
        "\n",
        "  def area(self):\n",
        "    pass\n",
        "\n",
        "class Square(Shape):\n",
        "  def __init__(self, side, color):\n",
        "    super().__init__(color)\n",
        "    self.__side = side\n",
        "\n",
        "class Triangle(Shape):\n",
        "  def __init__(self, base, height, color):\n",
        "    super().__init__(color)\n",
        "    self.__base = base\n",
        "    self.__height = height\n",
        "\n",
        "  def area(self):\n",
        "    return (self.__base * self.__height) / 2\n",
        "\n",
        "class Circle(Shape):\n",
        "  def __init__(self, radius, color):\n",
        "    super().__init__(color)\n",
        "    self.__radius = radius\n",
        "\n",
        "  def area(self):\n",
        "    return 3.14 * self.__radius * self.__radius\n"
      ],
      "metadata": {
        "id": "CKIGBQOZrp4Y"
      },
      "execution_count": null,
      "outputs": []
    },
    {
      "cell_type": "code",
      "source": [
        "shapes = []\n",
        "s = Square(2, 'blue')\n",
        "t = Triangle(2, 2, 'red')\n",
        "c = Circle(2, 'yellow')\n",
        "\n",
        "shapes.append(s)\n",
        "shapes.append(t)\n",
        "shapes.append(c)\n",
        "\n",
        "for shape in shapes:\n",
        "  print(shape.area(), shape.color)"
      ],
      "metadata": {
        "id": "psNuPD5RrstH",
        "colab": {
          "base_uri": "https://localhost:8080/"
        },
        "outputId": "3f30a1e0-47cd-4691-e7e7-15b00c85d51d"
      },
      "execution_count": null,
      "outputs": [
        {
          "output_type": "stream",
          "name": "stdout",
          "text": [
            "None blue\n",
            "2.0 red\n",
            "12.56 yellow\n"
          ]
        }
      ]
    },
    {
      "cell_type": "markdown",
      "source": [
        "## Ex: Party Calculator II\n",
        "\n",
        "The buffet is expanding its services and has opened a new branch specializing in birthday parties. In addition to the main services (food, drink, and decoration), the new branch offers birthday cakes. The cakes come in two sizes: 8 cm (€40) for up to 4 people, and 16 cm (€75) for larger parties. Customers can personalize the cakes with a message, costing €0.25 per character, with a maximum of 16 characters for the 8 cm cake and 40 characters for the 16 cm cake.\n"
      ],
      "metadata": {
        "id": "EziMC_GUruid"
      }
    },
    {
      "cell_type": "markdown",
      "source": [
        "### colapse"
      ],
      "metadata": {
        "id": "en9vV3UowQxx"
      }
    },
    {
      "cell_type": "markdown",
      "source": [
        "![](https://pbs.twimg.com/media/Gc7Nea-XoAEfda5?format=jpg&name=4096x4096)"
      ],
      "metadata": {
        "id": "2JNGpVQkwUOG"
      }
    },
    {
      "cell_type": "markdown",
      "source": [
        "### results"
      ],
      "metadata": {
        "id": "9PLr5TzxwVPr"
      }
    },
    {
      "cell_type": "code",
      "source": [
        "#TODO"
      ],
      "metadata": {
        "id": "-YOmn5sJr0yy"
      },
      "execution_count": null,
      "outputs": []
    },
    {
      "cell_type": "markdown",
      "source": [
        "# PtBR"
      ],
      "metadata": {
        "id": "SPkgTI1wntrd"
      }
    },
    {
      "cell_type": "code",
      "source": [
        "\n",
        "def imprime_ns(n,s):\n",
        "  print(n,'',s)\n",
        "\n",
        "nome='luiz'\n",
        "sobrenome='barboza'\n",
        "\n",
        "imprime_ns(nome,sobrenome)\n",
        "\n",
        "class Pessoa():\n",
        "  def __init__(self,n,s):\n",
        "    self.nome = n\n",
        "    self.sobrenome = s\n",
        "\n",
        "  def imprime_sobrenome(self):\n",
        "    print(self.nome,' ',self.sobrenome)\n",
        "\n",
        "luiz = Pessoa('luiz','barboza')\n",
        "joao = Pessoa('joao','silva')\n",
        "\n",
        "luiz.imprime_sobrenome()\n",
        "joao.imprime_sobrenome()\n"
      ],
      "metadata": {
        "id": "TXKCJEDgnu5U"
      },
      "execution_count": null,
      "outputs": []
    },
    {
      "cell_type": "code",
      "source": [
        "\n",
        "# Trocando p vetor (opcional)\n",
        "class Pessoa():\n",
        "  def __init__(self,n,s):\n",
        "    self.nome_sobrenome = ['','']\n",
        "    self.nome_sobrenome[0]=n\n",
        "    self.nome_sobrenome[1]=s\n",
        "\n",
        "  def imprime_sobrenome(self):\n",
        "    print(self.nome_sobrenome[0],' ',self.nome_sobrenome[1])\n",
        "\n",
        "luiz = Pessoa('luiz','barboza')\n",
        "joao = Pessoa('joao','silva')\n",
        "\n",
        "luiz.imprime_sobrenome()\n",
        "joao.imprime_sobrenome()\n"
      ],
      "metadata": {
        "id": "nL-TqMNloAvE"
      },
      "execution_count": null,
      "outputs": []
    },
    {
      "cell_type": "code",
      "source": [
        "class Calculadora():\n",
        "  def soma(self,x,y):\n",
        "    return x+y\n",
        "  def subtracao(self,x,y):\n",
        "    return x-y\n",
        "  def divisao(self,x,y):\n",
        "    return x/y\n",
        "  def multiplicacao(self,x,y):\n",
        "    return x*y\n",
        "\n",
        "calc = Calculadora()\n",
        "print(calc.soma(1,2))\n",
        "print(calc.subtracao(1,2))\n",
        "print(calc.divisao(1,2))\n",
        "print(calc.multiplicacao(1,2))"
      ],
      "metadata": {
        "id": "nf1-wWaEoUTL"
      },
      "execution_count": null,
      "outputs": []
    },
    {
      "cell_type": "code",
      "source": [
        "class Cara():\n",
        "  def __init__(self,nome,grana):\n",
        "    self.__nome = nome\n",
        "    self.__grana = grana\n",
        "\n",
        "  @property\n",
        "  def grana(self):\n",
        "    return self.__grana\n",
        "\n",
        "  @property\n",
        "  def nome(self):\n",
        "    return self.__nome\n",
        "\n",
        "  @nome.setter\n",
        "  def nome(self, n):\n",
        "    self.__nome = n\n",
        "\n",
        "  def emprestar(self, valor):\n",
        "    if (valor < self.__grana):\n",
        "      self.__grana = self.__grana - valor\n",
        "      return True\n",
        "    else:\n",
        "      return False\n",
        "\n",
        "  def tomar_emprestado(self, valor):\n",
        "    self.__grana = self.__grana + valor\n",
        "\n",
        "\n"
      ],
      "metadata": {
        "id": "IEDVbjmoogF3"
      },
      "execution_count": null,
      "outputs": []
    },
    {
      "cell_type": "code",
      "source": [
        "## Ex: Cadastro de Alunos\n",
        "\n",
        "#Realizar controle de alunos em uma faculdade, sendo capaz de: Calcular media da turma Imprimir a lista de aluno com sua nota em ordem alfabética Importante: A solução deve respeitar o conceito de encapsulamento, não permitindo acesso direto a coleção de alunos da faculdade.\n",
        "class Aluno():\n",
        "  def __init__(self,nome,nota):\n",
        "    self.__nome =nome\n",
        "    self.__nota = nota\n",
        "\n",
        "  @property\n",
        "  def nome(self):\n",
        "    return self.__nome\n",
        "\n",
        "  @property\n",
        "  def nota(self):\n",
        "    return self.__nota\n",
        "\n",
        "class CadastroAlunos():\n",
        "  def __init__(self):\n",
        "    self.__alunos = []\n",
        "\n",
        "  def add(self, aluno):\n",
        "    self.__alunos.append(aluno)\n",
        "\n",
        "  def get(self,i):\n",
        "    return self.__alunos[i]\n",
        "\n",
        "  def qtd_alunos(self):\n",
        "    return len(self.__alunos)\n",
        "\n",
        "  def media(self):\n",
        "    qtd = self.qtd_alunos()\n",
        "    soma = 0\n",
        "    for i in range(0,qtd,1):\n",
        "      soma = soma + self.get(i).nota\n",
        "    return soma/qtd\n",
        "\n",
        "\n",
        "\n",
        "luiz = Aluno('luiz',8)\n",
        "joao = Aluno('joao',9)\n",
        "maria = Aluno('maria',10)\n",
        "ze = Aluno('jose',5)\n",
        "pedro = Aluno('pedro',6)\n",
        "\n",
        "turma = CadastroAlunos()\n",
        "turma.add(luiz)\n",
        "turma.add(joao)\n",
        "turma.add(maria)\n",
        "turma.add(ze)\n",
        "turma.add(pedro)\n",
        "\n",
        "qtd = turma.qtd_alunos()\n",
        "\n",
        "for i in range(0,qtd,1):\n",
        "  aluno = turma.get(i)\n",
        "  print(aluno.nome)\n",
        "\n",
        "print(turma.media())"
      ],
      "metadata": {
        "id": "ZOgUCwn2pxom"
      },
      "execution_count": null,
      "outputs": []
    },
    {
      "cell_type": "markdown",
      "source": [
        " Construir uma calculadora que seja capaz de calcular o custo de uma festa, na qual:\n",
        " Comida custa €25 por pessoa (pp)\n",
        " Bebida por ser suco, sendo €5 pp com 5% de desconto na conta, ou Alcoólica,\n",
        "se €20 pp\n",
        "E decoração pode ser normal, sendo\n",
        "€30 para mesa e €7.5 de lembranças\n",
        "por pessoa. Ou Diferenciada, sendo €50 fixo mais €10 por pessoa.\n",
        "\n",
        "\n",
        "\n",
        "\n",
        "\n",
        "\n",
        "![](https://pbs.twimg.com/media/EmpAe91WMAAL_tU?format=png&name=900x900)"
      ],
      "metadata": {
        "id": "ndqFnmBbqFTG"
      }
    },
    {
      "cell_type": "code",
      "source": [
        "class CalculadoraFesta():\n",
        "\n",
        "  def __init__(self,qtd,saudavel,dec_diferenciada):\n",
        "    self.__qtd_pessoas = qtd\n",
        "    self.__desconto = 0\n",
        "    self.__dec_diferenciada = dec_diferenciada\n",
        "    self.__saudavel= saudavel\n",
        "\n",
        "  def preco_comida(self):\n",
        "    return self.__qtd_pessoas * 25\n",
        "\n",
        "  def preco_bebida(self):\n",
        "    if(self.__saudavel):\n",
        "      self.__desconto=0.05\n",
        "      return self.__qtd_pessoas * 5\n",
        "    else:\n",
        "      return self.__qtd_pessoas * 20\n",
        "\n",
        "  def preco_decoracao(self):\n",
        "    if(self.__dec_diferenciada):\n",
        "      return 50 + self.__qtd_pessoas * 10\n",
        "    else:\n",
        "      return 30 + self.__qtd_pessoas * 7.5\n",
        "\n",
        "  def calcular_preco(self):\n",
        "    valor = self.preco_comida()\n",
        "    valor = valor + self.preco_bebida()\n",
        "    valor = valor + self.preco_decoracao()\n",
        "    return valor"
      ],
      "metadata": {
        "id": "dKho3IOCu0yv"
      },
      "execution_count": null,
      "outputs": []
    },
    {
      "cell_type": "code",
      "source": [
        "fs = CalculadoraFesta(10,True, True)\n",
        "print(fs.calcular_preco())\n",
        "\n",
        "fb = CalculadoraFesta(10,False, False)\n",
        "print(fb.calcular_preco())"
      ],
      "metadata": {
        "id": "ZiUNUfsuu6hS"
      },
      "execution_count": null,
      "outputs": []
    },
    {
      "cell_type": "code",
      "source": [
        "class Figura:\n",
        "  def __init__(self, cor):\n",
        "    self.__cor = cor\n",
        "\n",
        "  @property\n",
        "  def cor(self):\n",
        "    return self.__cor\n",
        "\n",
        "  @cor.setter\n",
        "  def cor(self, c):\n",
        "    self.__cor = c\n",
        "\n",
        "  def area(self):\n",
        "    pass\n",
        "\n",
        "class Quadrado(Figura):\n",
        "  def __init__(self,lado,cor):\n",
        "    super().__init__(cor)\n",
        "    self.__lado = lado\n",
        "\n",
        "  #def area(self):\n",
        "   # return self.__lado*self.__lado\n",
        "\n",
        "class Triangulo(Figura):\n",
        "  def __init__(self,base,altura,cor):\n",
        "    super().__init__(cor)\n",
        "    self.__base = base\n",
        "    self.__altura = altura\n",
        "\n",
        "  def area(self):\n",
        "    return (self.__base * self.__altura ) /2\n",
        "\n",
        "class Circulo(Figura):\n",
        "  def __init__(self, raio, cor):\n",
        "    super().__init__(cor)\n",
        "    self.__raio = raio\n",
        "\n",
        "  def area(self):\n",
        "    return 3.14 * self.__raio*self.__raio\n"
      ],
      "metadata": {
        "id": "MxJ_HG0QvXqz"
      },
      "execution_count": null,
      "outputs": []
    },
    {
      "cell_type": "code",
      "source": [
        "figs = []\n",
        "q = Quadrado(2,'azul')\n",
        "t = Triangulo(2,2,'vermelho')\n",
        "c = Circulo(2,'amarelo')\n",
        "\n",
        "figs.append(q)\n",
        "figs.append(t)\n",
        "figs.append(c)\n",
        "\n",
        "for f in figs:\n",
        "  print(f.area() , f.cor)\n"
      ],
      "metadata": {
        "id": "WAA3GTuLviB8"
      },
      "execution_count": null,
      "outputs": []
    },
    {
      "cell_type": "markdown",
      "source": [
        "O Buffet agora está expandindo suas atividades e abriu uma nova filial que realiza o serviço de buffet especializado em festas de aniversários. Além dos serviços oferecidos pela matriz, comida, bebida e decoração, a filial oferece bolo de aniversário. O bolo é oferecido em dois tamanhos 8 cm (€40) para festas até 4 pessoas ou 16 cm (€75), para festas maiores. Esse ainda pode ser personalizado, ao custo de €0.25 por caractere, com um mensagem de escolha do cliente (o bolo de 8 cm comporta um texto de até 16 caracteres enquanto o de 16 cm, ate 40).\n",
        "\n",
        "\n",
        "\n",
        "![](https://pbs.twimg.com/media/EmpB2jiXUAE31jM?format=jpg&name=medium)\n"
      ],
      "metadata": {
        "id": "SKxDyMPDwJnF"
      }
    }
  ]
}