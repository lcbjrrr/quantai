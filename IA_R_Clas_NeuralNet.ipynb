{
  "nbformat": 4,
  "nbformat_minor": 0,
  "metadata": {
    "colab": {
      "provenance": [],
      "include_colab_link": true
    },
    "kernelspec": {
      "name": "ir",
      "display_name": "R"
    },
    "language_info": {
      "name": "R"
    }
  },
  "cells": [
    {
      "cell_type": "markdown",
      "metadata": {
        "id": "view-in-github",
        "colab_type": "text"
      },
      "source": [
        "<a href=\"https://colab.research.google.com/github/lcbjrrr/quantai/blob/main/IA_R_Clas_NeuralNet.ipynb\" target=\"_parent\"><img src=\"https://colab.research.google.com/assets/colab-badge.svg\" alt=\"Open In Colab\"/></a>"
      ]
    },
    {
      "cell_type": "markdown",
      "source": [
        "**Topic:** R Lang\n",
        "\n",
        "**Title:** Neural Networks\n",
        "\n",
        "**Author:** Luiz Barboza\n",
        "\n",
        "**Date:** 20/dec/24\n",
        "\n",
        "**Lang:** R\n",
        "\n",
        "**Site:** https://quant-research.group/\n",
        "\n",
        "**Email:** contato@quant-research.group"
      ],
      "metadata": {
        "id": "oCVwEJVImpbp"
      }
    },
    {
      "cell_type": "code",
      "source": [
        "install.packages(\"neuralnet\")\n",
        "library(neuralnet)"
      ],
      "metadata": {
        "id": "DRr-GKcOMTWo",
        "colab": {
          "base_uri": "https://localhost:8080/"
        },
        "outputId": "6546037e-4167-44fd-f402-755ce76ecd00"
      },
      "execution_count": 1,
      "outputs": [
        {
          "output_type": "stream",
          "name": "stderr",
          "text": [
            "Installing package into ‘/usr/local/lib/R/site-library’\n",
            "(as ‘lib’ is unspecified)\n",
            "\n",
            "also installing the dependency ‘Deriv’\n",
            "\n",
            "\n"
          ]
        }
      ]
    },
    {
      "cell_type": "markdown",
      "source": [
        "This dataset records sex, height, and weight for individuals."
      ],
      "metadata": {
        "id": "4J3cmKlxmw3n"
      }
    },
    {
      "cell_type": "code",
      "source": [
        "train <- read.csv('https://raw.githubusercontent.com/lcbjrrr/data/main/homem_mulher%20-%20ok.csv')\n",
        "train"
      ],
      "metadata": {
        "colab": {
          "base_uri": "https://localhost:8080/",
          "height": 349
        },
        "id": "piR3Ltx-MXlQ",
        "outputId": "ce0d99ef-1a64-4c1a-eeef-66d42c774765"
      },
      "execution_count": 3,
      "outputs": [
        {
          "output_type": "display_data",
          "data": {
            "text/html": [
              "<table class=\"dataframe\">\n",
              "<caption>A data.frame: 8 × 3</caption>\n",
              "<thead>\n",
              "\t<tr><th scope=col>SEXO</th><th scope=col>ALTURA</th><th scope=col>PESO</th></tr>\n",
              "\t<tr><th scope=col>&lt;int&gt;</th><th scope=col>&lt;int&gt;</th><th scope=col>&lt;int&gt;</th></tr>\n",
              "</thead>\n",
              "<tbody>\n",
              "\t<tr><td>1</td><td>178</td><td>72</td></tr>\n",
              "\t<tr><td>1</td><td>179</td><td>81</td></tr>\n",
              "\t<tr><td>2</td><td>163</td><td>55</td></tr>\n",
              "\t<tr><td>2</td><td>168</td><td>58</td></tr>\n",
              "\t<tr><td>1</td><td>181</td><td>98</td></tr>\n",
              "\t<tr><td>2</td><td>170</td><td>60</td></tr>\n",
              "\t<tr><td>1</td><td>184</td><td>78</td></tr>\n",
              "\t<tr><td>2</td><td>171</td><td>59</td></tr>\n",
              "</tbody>\n",
              "</table>\n"
            ],
            "text/markdown": "\nA data.frame: 8 × 3\n\n| SEXO &lt;int&gt; | ALTURA &lt;int&gt; | PESO &lt;int&gt; |\n|---|---|---|\n| 1 | 178 | 72 |\n| 1 | 179 | 81 |\n| 2 | 163 | 55 |\n| 2 | 168 | 58 |\n| 1 | 181 | 98 |\n| 2 | 170 | 60 |\n| 1 | 184 | 78 |\n| 2 | 171 | 59 |\n\n",
            "text/latex": "A data.frame: 8 × 3\n\\begin{tabular}{lll}\n SEXO & ALTURA & PESO\\\\\n <int> & <int> & <int>\\\\\n\\hline\n\t 1 & 178 & 72\\\\\n\t 1 & 179 & 81\\\\\n\t 2 & 163 & 55\\\\\n\t 2 & 168 & 58\\\\\n\t 1 & 181 & 98\\\\\n\t 2 & 170 & 60\\\\\n\t 1 & 184 & 78\\\\\n\t 2 & 171 & 59\\\\\n\\end{tabular}\n",
            "text/plain": [
              "  SEXO ALTURA PESO\n",
              "1 1    178    72  \n",
              "2 1    179    81  \n",
              "3 2    163    55  \n",
              "4 2    168    58  \n",
              "5 1    181    98  \n",
              "6 2    170    60  \n",
              "7 1    184    78  \n",
              "8 2    171    59  "
            ]
          },
          "metadata": {}
        }
      ]
    },
    {
      "cell_type": "markdown",
      "source": [
        "Let's train and plot a neural network model to predict the variable SEXO using the train dataset. The network has three hidden layers with 3, 2, and 3 neurons respectively"
      ],
      "metadata": {
        "id": "-sUKZRrlm4VE"
      }
    },
    {
      "cell_type": "code",
      "source": [
        "nn <- neuralnet( SEXO ~ ., data=train, hidden=c(3,2,3),threshold =1,stepmax=100 )\n",
        "plot(nn)"
      ],
      "metadata": {
        "id": "o1j_FAh5fFQ2"
      },
      "execution_count": 4,
      "outputs": []
    },
    {
      "cell_type": "markdown",
      "source": [
        "![https://pbs.twimg.com/media/FlI8zuwXoAEYwft?format=jpg&name=medium](https://pbs.twimg.com/media/FlI8zuwXoAEYwft?format=jpg&name=medium)"
      ],
      "metadata": {
        "id": "tLDF-YUogNeY"
      }
    },
    {
      "cell_type": "markdown",
      "source": [
        "Let's use our trained neural network to predict values based on columns 2 and 3 of the prever data."
      ],
      "metadata": {
        "id": "MYb-4RlTnNCk"
      }
    },
    {
      "cell_type": "code",
      "source": [
        "prever <- read.csv('https://raw.githubusercontent.com/lcbjrrr/data/main/homem_mulher%20-%20prev.csv')\n",
        "print(prever[,2:3])\n",
        "compute(nn,prever[,2:3])$net.result"
      ],
      "metadata": {
        "colab": {
          "base_uri": "https://localhost:8080/",
          "height": 53
        },
        "id": "j_XdkRc-GChd",
        "outputId": "f311d0bb-ef1a-4a4c-faa6-9bb22998df33"
      },
      "execution_count": null,
      "outputs": [
        {
          "output_type": "display_data",
          "data": {
            "text/plain": [
              "  ALTURA PESO\n",
              "1    175   75\n"
            ]
          },
          "metadata": {}
        }
      ]
    }
  ]
}