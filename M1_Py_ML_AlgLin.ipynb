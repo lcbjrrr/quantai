{
  "nbformat": 4,
  "nbformat_minor": 0,
  "metadata": {
    "colab": {
      "provenance": [],
      "authorship_tag": "ABX9TyOJeeyHFZSVFenWygkBPofG",
      "include_colab_link": true
    },
    "kernelspec": {
      "name": "python3",
      "display_name": "Python 3"
    },
    "language_info": {
      "name": "python"
    }
  },
  "cells": [
    {
      "cell_type": "markdown",
      "metadata": {
        "id": "view-in-github",
        "colab_type": "text"
      },
      "source": [
        "<a href=\"https://colab.research.google.com/github/lcbjrrr/quantai/blob/main/M1_Py_ML_AlgLin.ipynb\" target=\"_parent\"><img src=\"https://colab.research.google.com/assets/colab-badge.svg\" alt=\"Open In Colab\"/></a>"
      ]
    },
    {
      "cell_type": "markdown",
      "source": [
        "# Vectors, Arrays, and Matrices\n",
        "\n",
        "\n",
        "\n"
      ],
      "metadata": {
        "id": "uqn46-ahYbVI"
      }
    },
    {
      "cell_type": "markdown",
      "source": [
        "Vectors, arrays, and matrices are fundamental data structures in Python, primarily handled using the NumPy library. A vector is a one-dimensional array of numbers, while a matrix is a two-dimensional array with rows and columns. Arrays, on the other hand, are multidimensional collections of elements, encompassing both vectors and matrices. NumPy offers efficient operations on these structures, including vectorized calculations, matrix multiplication, and linear algebra functions. This makes it a powerful tool for various applications, from data analysis to machine learning."
      ],
      "metadata": {
        "id": "fMV2d7q2ldE-"
      }
    },
    {
      "cell_type": "markdown",
      "source": [
        "## numpy"
      ],
      "metadata": {
        "id": "EfsY2_TYlMmU"
      }
    },
    {
      "cell_type": "markdown",
      "source": [
        "NumPy arrays are more efficient and optimized for numerical computations compared to Python lists. They are homogeneous, meaning all elements must be of the same data type, while Python lists can hold elements of different types. NumPy arrays also offer vectorized operations, allowing for faster calculations on large datasets."
      ],
      "metadata": {
        "id": "RYeErTyFleRA"
      }
    },
    {
      "cell_type": "code",
      "source": [
        "import numpy as np\n",
        "a1 = [1, 2, 3]\n",
        "print(a1)\n",
        "a2 = np.array([1, 2, 3])\n",
        "print(a2)"
      ],
      "metadata": {
        "id": "AiBeyQc7Ybao",
        "colab": {
          "base_uri": "https://localhost:8080/"
        },
        "outputId": "63f96934-f3a1-40eb-9dbb-038304146f82"
      },
      "execution_count": null,
      "outputs": [
        {
          "output_type": "stream",
          "name": "stdout",
          "text": [
            "[1, 2, 3]\n",
            "[1 2 3]\n"
          ]
        }
      ]
    },
    {
      "cell_type": "markdown",
      "source": [
        "2D matrices are a specific type of array with two dimensions: rows and columns. They are commonly used to represent tabular data or mathematical matrices. In Python, you can create and manipulate 2D matrices using both lists and NumPy arrays."
      ],
      "metadata": {
        "id": "M7RVDMWxmVGv"
      }
    },
    {
      "cell_type": "code",
      "source": [
        "b = np.array( [ [1,2,3],\n",
        "                [4,5,6] ] )\n",
        "print(b)\n",
        "print(b.shape)"
      ],
      "metadata": {
        "colab": {
          "base_uri": "https://localhost:8080/"
        },
        "id": "tJ8aOKlVmbZU",
        "outputId": "6b3de0fc-d767-4329-de6c-cce7de5feaa5"
      },
      "execution_count": null,
      "outputs": [
        {
          "output_type": "stream",
          "name": "stdout",
          "text": [
            "[[1 2 3]\n",
            " [4 5 6]]\n",
            "(2, 3)\n"
          ]
        }
      ]
    },
    {
      "cell_type": "markdown",
      "source": [
        "To access an element in a 2D array, you use two indices: one for the row and one for the column."
      ],
      "metadata": {
        "id": "2lMnCqlHmyJV"
      }
    },
    {
      "cell_type": "code",
      "source": [
        "print(b[1,1])\n",
        "print(b[1][1])"
      ],
      "metadata": {
        "colab": {
          "base_uri": "https://localhost:8080/"
        },
        "id": "hPSCoxTxmyQl",
        "outputId": "743984d1-5d46-4f0a-8c05-70b17f0722f7"
      },
      "execution_count": null,
      "outputs": [
        {
          "output_type": "stream",
          "name": "stdout",
          "text": [
            "5\n",
            "5\n"
          ]
        }
      ]
    },
    {
      "cell_type": "markdown",
      "source": [
        "Let's creates a 2x2 matrix filled with zeros using NumPy's np.zeros() function and prints it to the console."
      ],
      "metadata": {
        "id": "e5yg0SPHoWGQ"
      }
    },
    {
      "cell_type": "code",
      "source": [
        "zeros = np.zeros( (2,2) )\n",
        "print(zeros)"
      ],
      "metadata": {
        "colab": {
          "base_uri": "https://localhost:8080/"
        },
        "id": "P-b6rMo6oWMn",
        "outputId": "c5f135b3-1916-43ca-e9bd-985c74d8940d"
      },
      "execution_count": null,
      "outputs": [
        {
          "output_type": "stream",
          "name": "stdout",
          "text": [
            "[[0. 0.]\n",
            " [0. 0.]]\n"
          ]
        }
      ]
    },
    {
      "cell_type": "markdown",
      "source": [
        "Now, let's create a 3x3 matrix filled with ones using NumPy's np.ones() function and prints it to the console."
      ],
      "metadata": {
        "id": "KB0mqnWyokg5"
      }
    },
    {
      "cell_type": "code",
      "source": [
        "ones = np.ones( (3,3) )\n",
        "print(ones)"
      ],
      "metadata": {
        "colab": {
          "base_uri": "https://localhost:8080/"
        },
        "id": "mj-x_3g9okmh",
        "outputId": "1b2f9363-ca27-4801-9ae6-6d4480269ea0"
      },
      "execution_count": null,
      "outputs": [
        {
          "output_type": "stream",
          "name": "stdout",
          "text": [
            "[[1. 1. 1.]\n",
            " [1. 1. 1.]\n",
            " [1. 1. 1.]]\n"
          ]
        }
      ]
    },
    {
      "cell_type": "markdown",
      "source": [
        "Slicing is a technique to extract a portion of a sequence using a range of indices. Let's create a 3x4 NumPy array a and slices the 3rd row using a[2:3, :]."
      ],
      "metadata": {
        "id": "QiWTTq6poxDe"
      }
    },
    {
      "cell_type": "code",
      "source": [
        "a = np.array([ [1,2,3,4],\n",
        "               [5,6,7,8],\n",
        "               [9,10,11,12] ])\n",
        "print(a)\n",
        "slice = a[2:3,0:4]\n",
        "print('Slicing...')\n",
        "print(slice)"
      ],
      "metadata": {
        "colab": {
          "base_uri": "https://localhost:8080/"
        },
        "id": "uYP8FUbvo_UI",
        "outputId": "808ef4cc-38fb-4d45-c8cf-aaa33d705e66"
      },
      "execution_count": null,
      "outputs": [
        {
          "output_type": "stream",
          "name": "stdout",
          "text": [
            "[[ 1  2  3  4]\n",
            " [ 5  6  7  8]\n",
            " [ 9 10 11 12]]\n",
            "Slicing...\n",
            "[[ 9 10 11 12]]\n"
          ]
        }
      ]
    },
    {
      "cell_type": "markdown",
      "source": [
        "Filtering is the process of selecting specific elements from a dataset based on certain criteria or conditions. 1  It's like sifting through a list to keep only the items you wan"
      ],
      "metadata": {
        "id": "DoUfnKXZpyP9"
      }
    },
    {
      "cell_type": "code",
      "source": [
        "a = np.array([ [1,2,3,4],\n",
        "               [5,6,7,8],\n",
        "               [9,10,11,12] ])\n",
        "print(a[a>6])"
      ],
      "metadata": {
        "colab": {
          "base_uri": "https://localhost:8080/"
        },
        "id": "TutqRBQBpz1R",
        "outputId": "e3aa53c1-00cd-431a-ab32-c3c8c5730faf"
      },
      "execution_count": null,
      "outputs": [
        {
          "output_type": "stream",
          "name": "stdout",
          "text": [
            "[ 7  8  9 10 11 12]\n"
          ]
        }
      ]
    },
    {
      "cell_type": "markdown",
      "source": [
        "## Linear Algebra"
      ],
      "metadata": {
        "id": "Kwx8ZjdBqFak"
      }
    },
    {
      "cell_type": "markdown",
      "source": [
        "NumPy arrays x and y, adds them element-wise, and prints the resulting array z.\n"
      ],
      "metadata": {
        "id": "61tPhkwNqXle"
      }
    },
    {
      "cell_type": "code",
      "source": [
        "x = np.array([1,2])\n",
        "y = np.array([5,6])\n",
        "z = x + y\n",
        "print(z)"
      ],
      "metadata": {
        "colab": {
          "base_uri": "https://localhost:8080/"
        },
        "id": "MdbmJCAnqXr_",
        "outputId": "6997b9c4-bff6-4996-a559-212599f97134"
      },
      "execution_count": null,
      "outputs": [
        {
          "output_type": "stream",
          "name": "stdout",
          "text": [
            "[6 8]\n"
          ]
        }
      ]
    },
    {
      "cell_type": "code",
      "source": [
        "x = [1,2]\n",
        "y = [5,6]\n",
        "z = x + y\n",
        "print(z)"
      ],
      "metadata": {
        "colab": {
          "base_uri": "https://localhost:8080/"
        },
        "id": "5QcnMW-eqqYm",
        "outputId": "3a94e43f-a472-48dc-cf40-cda047719b48"
      },
      "execution_count": null,
      "outputs": [
        {
          "output_type": "stream",
          "name": "stdout",
          "text": [
            "[1, 2, 5, 6]\n"
          ]
        }
      ]
    },
    {
      "cell_type": "markdown",
      "source": [
        "Let's subtract y from x element-wise, and prints the resulting array z."
      ],
      "metadata": {
        "id": "NIcflEC6q9RD"
      }
    },
    {
      "cell_type": "code",
      "source": [
        "x = np.array([1,2])\n",
        "y = np.array([5,6])\n",
        "z = x - y\n",
        "print(z)"
      ],
      "metadata": {
        "colab": {
          "base_uri": "https://localhost:8080/"
        },
        "id": "PLpHdbbfq9Wp",
        "outputId": "591ffb5b-ab58-4bfb-92a0-c50790393816"
      },
      "execution_count": null,
      "outputs": [
        {
          "output_type": "stream",
          "name": "stdout",
          "text": [
            "[-4 -4]\n"
          ]
        }
      ]
    },
    {
      "cell_type": "markdown",
      "source": [
        "Let's perform element-wise division, and prints the resulting array z."
      ],
      "metadata": {
        "id": "9KLYTHgJrIbB"
      }
    },
    {
      "cell_type": "code",
      "source": [
        "x = np.array([1,2])\n",
        "y = np.array([5,6])\n",
        "z = x / y\n",
        "print(z)"
      ],
      "metadata": {
        "colab": {
          "base_uri": "https://localhost:8080/"
        },
        "id": "mBiMHOAFrLqC",
        "outputId": "7ae75160-9758-4003-fcdf-e86706981c9a"
      },
      "execution_count": null,
      "outputs": [
        {
          "output_type": "stream",
          "name": "stdout",
          "text": [
            "[0.2        0.33333333]\n"
          ]
        }
      ]
    },
    {
      "cell_type": "markdown",
      "source": [
        "Lastly, let's do a element-wise multiplication, and prints the resulting array z."
      ],
      "metadata": {
        "id": "mZ9hz6Q5rdkA"
      }
    },
    {
      "cell_type": "code",
      "source": [
        "x = np.array([[1,2],\n",
        "              [3,4] ])\n",
        "y = np.array([[5,6],\n",
        "              [7,8]])\n",
        "z = x * y\n",
        "print(z)"
      ],
      "metadata": {
        "colab": {
          "base_uri": "https://localhost:8080/"
        },
        "id": "f76QEgVCrdpm",
        "outputId": "6efdcb9f-d9e7-4adb-e59e-d98e527a383b"
      },
      "execution_count": null,
      "outputs": [
        {
          "output_type": "stream",
          "name": "stdout",
          "text": [
            "[[ 5 12]\n",
            " [21 32]]\n"
          ]
        }
      ]
    },
    {
      "cell_type": "markdown",
      "source": [
        "Matrix (dot) multiplication is a more complex operation where the elements of one matrix are multiplied by the corresponding elements of another matrix, and then the products are summed. This operation has specific rules regarding the dimensions of the matrices involved.\n",
        "\n",
        "\n",
        "`z[0,0] = (1*5) + (2*7) = 19`\n",
        "\n",
        "`z[0,1] = (1*6) + (2*8) = 22`\n",
        "\n",
        "`z[1,0] = (3*5) + (4*7) = 43`\n",
        "\n",
        "`z[1,1] = (3*6) + (4*8) = 50`\n",
        "\n",
        "\n",
        "\n"
      ],
      "metadata": {
        "id": "GL-AJv05r_gj"
      }
    },
    {
      "cell_type": "code",
      "source": [
        "x = np.array([[1,2],\n",
        "              [3,4] ])\n",
        "y = np.array([[5,6],\n",
        "              [7,8]])\n",
        "z = x @ y\n",
        "print(z)"
      ],
      "metadata": {
        "colab": {
          "base_uri": "https://localhost:8080/"
        },
        "id": "KyhGLEmgsBiA",
        "outputId": "91a72aa5-a7b2-4ad9-bd0f-d5bec9364b36"
      },
      "execution_count": null,
      "outputs": [
        {
          "output_type": "stream",
          "name": "stdout",
          "text": [
            "[[19 22]\n",
            " [43 50]]\n"
          ]
        }
      ]
    },
    {
      "cell_type": "markdown",
      "source": [
        "To multiply two matrices, the number of columns in the first matrix must equal the number of rows in the second matrix."
      ],
      "metadata": {
        "id": "Ly7zMqYAtpDa"
      }
    },
    {
      "cell_type": "code",
      "source": [
        "grades = np.array([ [7,8,9],\n",
        "                    [5,6,7],\n",
        "                    [9,9,5],\n",
        "                    [9,9,9] ])\n",
        "weights = np.array([ [0.4],\n",
        "                     [0.4],\n",
        "                     [0.2] ])\n",
        "finals = grades @ weights\n",
        "print(grades)\n",
        "print(grades.shape)\n",
        "print(weights)\n",
        "print(weights.shape)\n",
        "print(finals)"
      ],
      "metadata": {
        "colab": {
          "base_uri": "https://localhost:8080/"
        },
        "id": "A7dxkpcVtqpL",
        "outputId": "144ceb08-93db-4a0b-8bac-7dfc9f4e3565"
      },
      "execution_count": null,
      "outputs": [
        {
          "output_type": "stream",
          "name": "stdout",
          "text": [
            "[[7 8 9]\n",
            " [5 6 7]\n",
            " [9 9 5]\n",
            " [9 9 9]]\n",
            "(4, 3)\n",
            "[[0.4]\n",
            " [0.4]\n",
            " [0.2]]\n",
            "(3, 1)\n",
            "[[7.8]\n",
            " [5.8]\n",
            " [8.2]\n",
            " [9. ]]\n"
          ]
        }
      ]
    },
    {
      "cell_type": "markdown",
      "source": [
        "So..."
      ],
      "metadata": {
        "id": "ZF9AwydUvEVA"
      }
    },
    {
      "cell_type": "code",
      "source": [
        "finals =  weights @ grades"
      ],
      "metadata": {
        "colab": {
          "base_uri": "https://localhost:8080/",
          "height": 159
        },
        "id": "BUYqZOe8vE5w",
        "outputId": "7886e58b-f9bb-44e2-c1c3-da583939be7b"
      },
      "execution_count": null,
      "outputs": [
        {
          "output_type": "error",
          "ename": "ValueError",
          "evalue": "matmul: Input operand 1 has a mismatch in its core dimension 0, with gufunc signature (n?,k),(k,m?)->(n?,m?) (size 4 is different from 1)",
          "traceback": [
            "\u001b[0;31m---------------------------------------------------------------------------\u001b[0m",
            "\u001b[0;31mValueError\u001b[0m                                Traceback (most recent call last)",
            "\u001b[0;32m<ipython-input-26-510e9ba0d1e4>\u001b[0m in \u001b[0;36m<cell line: 1>\u001b[0;34m()\u001b[0m\n\u001b[0;32m----> 1\u001b[0;31m \u001b[0mfinals\u001b[0m \u001b[0;34m=\u001b[0m  \u001b[0mweights\u001b[0m \u001b[0;34m@\u001b[0m \u001b[0mgrades\u001b[0m\u001b[0;34m\u001b[0m\u001b[0;34m\u001b[0m\u001b[0m\n\u001b[0m",
            "\u001b[0;31mValueError\u001b[0m: matmul: Input operand 1 has a mismatch in its core dimension 0, with gufunc signature (n?,k),(k,m?)->(n?,m?) (size 4 is different from 1)"
          ]
        }
      ]
    },
    {
      "cell_type": "markdown",
      "source": [
        "Transposition is the process of flipping a matrix over its diagonal, interchanging rows and columns."
      ],
      "metadata": {
        "id": "r3TlHheVvIUk"
      }
    },
    {
      "cell_type": "code",
      "source": [
        "weights_t = weights.T\n",
        "print(weights_t)\n",
        "print(weights_t.shape)\n",
        "\n",
        "grades_t = grades.T\n",
        "print(grades_t)\n",
        "print(grades_t.shape)\n",
        "\n",
        "print(weights_t @ grades_t)"
      ],
      "metadata": {
        "colab": {
          "base_uri": "https://localhost:8080/"
        },
        "id": "SEfqsqWSyyOY",
        "outputId": "9eea2bba-b310-4447-ad70-ff64d6202935"
      },
      "execution_count": null,
      "outputs": [
        {
          "output_type": "stream",
          "name": "stdout",
          "text": [
            "[[0.4 0.4 0.2]]\n",
            "(1, 3)\n",
            "[[7 5 9 9]\n",
            " [8 6 9 9]\n",
            " [9 7 5 9]]\n",
            "(3, 4)\n",
            "[[7.8 5.8 8.2 9. ]]\n"
          ]
        }
      ]
    },
    {
      "cell_type": "markdown",
      "source": [
        "The inverted matrix of a square matrix A is the matrix A⁻¹ that, when multiplied by A, yields the identity matrix."
      ],
      "metadata": {
        "id": "OC0pMdRNz7A1"
      }
    },
    {
      "cell_type": "code",
      "source": [
        "from numpy.linalg import inv\n",
        "grades = np.array([[7, 8, 9],\n",
        "                   [5, 6, 7],\n",
        "                   [9, 9, 5]])\n",
        "inv_grades = inv(grades)\n",
        "print(inv_grades)"
      ],
      "metadata": {
        "colab": {
          "base_uri": "https://localhost:8080/"
        },
        "id": "5_CG0t5Hz2G2",
        "outputId": "e4ae6815-866c-4885-adfa-f0b41e2264ce"
      },
      "execution_count": null,
      "outputs": [
        {
          "output_type": "stream",
          "name": "stdout",
          "text": [
            "[[7 8 9]\n",
            " [5 6 7]\n",
            " [9 9 5]]\n",
            "[[ 4.125 -5.125 -0.25 ]\n",
            " [-4.75   5.75   0.5  ]\n",
            " [ 1.125 -1.125 -0.25 ]]\n"
          ]
        }
      ]
    },
    {
      "cell_type": "code",
      "source": [
        "\n"
      ],
      "metadata": {
        "id": "RtlxpOz26vxz"
      },
      "execution_count": null,
      "outputs": []
    },
    {
      "cell_type": "code",
      "source": [
        "print(grades @ inv_grades)"
      ],
      "metadata": {
        "colab": {
          "base_uri": "https://localhost:8080/"
        },
        "id": "WssrG3t90rgv",
        "outputId": "b198de6f-99e3-4092-a431-e4196a850398"
      },
      "execution_count": null,
      "outputs": [
        {
          "output_type": "stream",
          "name": "stdout",
          "text": [
            "[[ 1.00000000e+00 -3.33066907e-15 -2.22044605e-16]\n",
            " [-2.22044605e-15  1.00000000e+00 -2.22044605e-16]\n",
            " [-3.99680289e-15  9.99200722e-15  1.00000000e+00]]\n"
          ]
        }
      ]
    },
    {
      "cell_type": "markdown",
      "source": [
        "## Basis to AI (Linear Regression)\n",
        "\n",
        "\n"
      ],
      "metadata": {
        "id": "ceuW6zzz1MrW"
      }
    },
    {
      "cell_type": "code",
      "source": [
        "import numpy as np\n",
        "X=np.array([ [1,23,1],\n",
        "             [1,24,0],\n",
        "             [1,31,1],\n",
        "             [1,33,0],\n",
        "             [1,40,1],\n",
        "             [1,44,0],\n",
        "             [1,55,1],\n",
        "             [1,56,0],\n",
        "             [1,18,1],\n",
        "             [1,19,0] ])\n",
        "print(X)\n",
        "# X: constant, age, gender (1:male,0:female)"
      ],
      "metadata": {
        "colab": {
          "base_uri": "https://localhost:8080/"
        },
        "id": "06nM0szn1TPm",
        "outputId": "96298e46-2930-4f6f-cc20-d0ba72dff182"
      },
      "execution_count": null,
      "outputs": [
        {
          "output_type": "stream",
          "name": "stdout",
          "text": [
            "[[ 1 23  1]\n",
            " [ 1 24  0]\n",
            " [ 1 31  1]\n",
            " [ 1 33  0]\n",
            " [ 1 40  1]\n",
            " [ 1 44  0]\n",
            " [ 1 55  1]\n",
            " [ 1 56  0]\n",
            " [ 1 18  1]\n",
            " [ 1 19  0]]\n"
          ]
        }
      ]
    },
    {
      "cell_type": "code",
      "source": [
        "Y=np.array([333,320,299,280,270,250,260,255,355,345] )\n",
        "print(Y)\n",
        "# Insurance Premium"
      ],
      "metadata": {
        "colab": {
          "base_uri": "https://localhost:8080/"
        },
        "id": "GGL1I9of4AM2",
        "outputId": "9396fa80-4479-404c-9eae-1dfa1bdfdbce"
      },
      "execution_count": null,
      "outputs": [
        {
          "output_type": "stream",
          "name": "stdout",
          "text": [
            "[333 320 299 280 270 250 260 255 355 345]\n"
          ]
        }
      ]
    },
    {
      "cell_type": "markdown",
      "source": [
        "We can create a predictor of the Premium (y), based on Age (x1) and Gender (x2):\n",
        "\n",
        "$y=\\beta_0+\\beta_1 x_{1}+\\beta_2 x_{2}$"
      ],
      "metadata": {
        "id": "yPPs6iCG3OqX"
      }
    },
    {
      "cell_type": "markdown",
      "source": [
        "So how do we can calculate the Beta Matrix?\n",
        "\n",
        "$\\hat{\\beta}=\\left(X^{\\prime} X\\right)^{-1} X^{\\prime} Y$"
      ],
      "metadata": {
        "id": "8PbdgcFM1qqB"
      }
    },
    {
      "cell_type": "code",
      "source": [
        "from numpy.linalg import inv\n",
        "inv(X.T @ X) @ (X.T @ Y)"
      ],
      "metadata": {
        "colab": {
          "base_uri": "https://localhost:8080/"
        },
        "id": "Vnl_3lPm4qrX",
        "outputId": "b9b9d149-7868-488a-f75b-7d4b00016998"
      },
      "execution_count": null,
      "outputs": [
        {
          "output_type": "execute_result",
          "data": {
            "text/plain": [
              "array([380.49034014,  -2.5707483 ,   8.77265306])"
            ]
          },
          "metadata": {},
          "execution_count": 42
        }
      ]
    },
    {
      "cell_type": "markdown",
      "source": [
        "Let's create a function predict_premium that calculates an estimated insurance premium based on a person's age and gender. This function leverages a linear regression model, a statistical technique used to model the relationship between a dependent variable (the premium) and independent variables (age and gender)."
      ],
      "metadata": {
        "id": "9fy2a_XM-9gA"
      }
    },
    {
      "cell_type": "code",
      "source": [
        "def predict_premium(age, gender):\n",
        "  y = 380.49034014 +  -2.5707483*age  +   8.77265306*gender\n",
        "  return y\n",
        "\n",
        "print(predict_premium(33,1))\n",
        "print(predict_premium(33,0))\n",
        "print(predict_premium(35,1))"
      ],
      "metadata": {
        "colab": {
          "base_uri": "https://localhost:8080/"
        },
        "id": "GwwQMjBa5KHN",
        "outputId": "9559044b-338c-4aa0-cd3a-7cd1ffeec7c3"
      },
      "execution_count": null,
      "outputs": [
        {
          "output_type": "stream",
          "name": "stdout",
          "text": [
            "304.4282993\n",
            "295.65564624\n",
            "299.2868027\n"
          ]
        }
      ]
    }
  ]
}