{
  "nbformat": 4,
  "nbformat_minor": 0,
  "metadata": {
    "colab": {
      "provenance": [],
      "authorship_tag": "ABX9TyNheRv0NAKvNyp+8VPV55F/",
      "include_colab_link": true
    },
    "kernelspec": {
      "name": "julia",
      "display_name": "Julia"
    },
    "language_info": {
      "name": "julia"
    }
  },
  "cells": [
    {
      "cell_type": "markdown",
      "metadata": {
        "id": "view-in-github",
        "colab_type": "text"
      },
      "source": [
        "<a href=\"https://colab.research.google.com/github/lcbjrrr/quantai/blob/main/Intro_Julia.ipynb\" target=\"_parent\"><img src=\"https://colab.research.google.com/assets/colab-badge.svg\" alt=\"Open In Colab\"/></a>"
      ]
    },
    {
      "cell_type": "code",
      "execution_count": 1,
      "metadata": {
        "colab": {
          "base_uri": "https://localhost:8080/"
        },
        "id": "PO-CV61kWzbJ",
        "outputId": "b649a049-545a-4398-a091-aaddb2fa5dea"
      },
      "outputs": [
        {
          "output_type": "stream",
          "name": "stdout",
          "text": [
            "Julia Version 1.10.8\n",
            "Commit 4c16ff44be8 (2025-01-22 10:06 UTC)\n",
            "Build Info:\n",
            "  Official https://julialang.org/ release\n",
            "Platform Info:\n",
            "  OS: Linux (x86_64-linux-gnu)\n",
            "  CPU: 2 × Intel(R) Xeon(R) CPU @ 2.20GHz\n",
            "  WORD_SIZE: 64\n",
            "  LIBM: libopenlibm\n",
            "  LLVM: libLLVM-15.0.7 (ORCJIT, broadwell)\n",
            "Threads: 2 default, 0 interactive, 1 GC (on 2 virtual cores)\n",
            "Environment:\n",
            "  LD_LIBRARY_PATH = /usr/local/nvidia/lib:/usr/local/nvidia/lib64\n",
            "  JULIA_NUM_THREADS = 2\n"
          ]
        }
      ],
      "source": [
        "versioninfo()"
      ]
    },
    {
      "cell_type": "markdown",
      "source": [
        "Pretty similar, right? But notice the small differences:\n",
        "\n",
        "|Julia|Python\n",
        "|-----|------\n",
        "|`function` | `def`\n",
        "|`for i in X`<br />&nbsp;&nbsp;&nbsp;&nbsp;`...`<br />`end` | `for i in X:`<br />&nbsp;&nbsp;&nbsp;&nbsp;`...`\n",
        "|`1:n` | `range(1, n+1)`\n",
        "|`cond ? a : b` | `a if cond else b`\n",
        "|`2i + 1` | `2 * i + 1`\n",
        "|`4s` | `return 4 * s`\n",
        "|`println(a, b)` | `print(a, b, sep=\"\")`\n",
        "|`print(a, b)` | `print(a, b, sep=\"\", end=\"\")`\n",
        "|`\"$p\"` | `f\"{p}\"`\n",
        "|`\"$(p - π)\"` | `f\"{p - math.pi}\"`\n",
        "\n",
        "This example shows that:\n",
        "* Julia can be just as concise and readable as Python.\n",
        "* Indentation in Julia is _not_ meaningful like it is in Python. Instead, blocks end with `end`.\n",
        "* Many math features are built in Julia and need no imports.\n",
        "* There's some mathy syntactic sugar, such as `2i` (but you can write `2 * i` if you prefer).\n",
        "* In Julia, the `return` keyword is optional at the end of a function. The result of the last expression is returned (`4s` in this example).\n",
        "* Julia loves Unicode and does not hesitate to use Unicode characters like `π`. However, there are generally plain-ASCII equivalents (e.g., `π == pi`)"
      ],
      "metadata": {
        "id": "gRWUuzDhX1rO"
      }
    },
    {
      "cell_type": "markdown",
      "source": [
        "# Ola"
      ],
      "metadata": {
        "id": "c1-Ht5wHXGtM"
      }
    },
    {
      "cell_type": "code",
      "source": [
        "print(\"Hello World!\")"
      ],
      "metadata": {
        "colab": {
          "base_uri": "https://localhost:8080/"
        },
        "id": "n8GRJBXsXGHU",
        "outputId": "ae047fbf-bde2-48bd-8731-7f3585f95393"
      },
      "execution_count": 2,
      "outputs": [
        {
          "output_type": "stream",
          "name": "stdout",
          "text": [
            "Hello World!"
          ]
        }
      ]
    },
    {
      "cell_type": "markdown",
      "source": [
        "# Arithmetic Operations"
      ],
      "metadata": {
        "id": "QIyT6lwyXNU2"
      }
    },
    {
      "cell_type": "code",
      "source": [
        "x = 1\n",
        "y = 2\n",
        "s = x+y\n",
        "s"
      ],
      "metadata": {
        "colab": {
          "base_uri": "https://localhost:8080/"
        },
        "id": "LZy6UDEHXNgb",
        "outputId": "d34334f4-848e-48e8-8bdc-134b6fe00c0c"
      },
      "execution_count": 4,
      "outputs": [
        {
          "output_type": "execute_result",
          "data": {
            "text/plain": [
              "3"
            ]
          },
          "metadata": {},
          "execution_count": 4
        }
      ]
    },
    {
      "cell_type": "markdown",
      "source": [
        "# Functions"
      ],
      "metadata": {
        "id": "_TeWpVVUXYHa"
      }
    },
    {
      "cell_type": "code",
      "source": [
        "function add(x,y)\n",
        "  s = x+y\n",
        "  return s\n",
        "end\n",
        "\n",
        "r= add(1,2)\n",
        "r"
      ],
      "metadata": {
        "colab": {
          "base_uri": "https://localhost:8080/"
        },
        "id": "Ok_SPf4RXYrQ",
        "outputId": "4f88a16e-fba8-4854-d84c-e131fe7b22b6"
      },
      "execution_count": 5,
      "outputs": [
        {
          "output_type": "execute_result",
          "data": {
            "text/plain": [
              "3"
            ]
          },
          "metadata": {},
          "execution_count": 5
        }
      ]
    },
    {
      "cell_type": "markdown",
      "source": [
        "\n",
        "\n",
        "|Julia|Python\n",
        "|-----|------\n",
        "|`if cond1`<br />&nbsp;&nbsp;&nbsp;&nbsp;`...`<br/>`elseif cond2`<br />&nbsp;&nbsp;&nbsp;&nbsp;`...`<br/>`else`<br />&nbsp;&nbsp;&nbsp;&nbsp;`...`<br/>`end` |`if cond1:`<br />&nbsp;&nbsp;&nbsp;&nbsp;`...`<br/>`elif cond2:`<br />&nbsp;&nbsp;&nbsp;&nbsp;`...`<br/>`else:`<br />&nbsp;&nbsp;&nbsp;&nbsp;`...`\n",
        "|`&&` | `and`\n",
        "|`\\|\\|` | `or`\n",
        "|`!` | `not`\n",
        "|`⊻` (type `\\xor<tab>`) | `^`\n",
        "|`true` | `True`\n",
        "|`false` | `False`\n",
        "|`cond && f()` | `if cond: f()`\n",
        "|`cond \\|\\| f()` | `if not cond: f()`\n",
        "|`for i in 1:5 ... end` | `for i in range(1, 6): ...`\n",
        "|`for i in 1:5, j in 1:6 ... end` | `from itertools import product`<br />`for i, j in product(range(1, 6), range(1, 7)):`<br />&nbsp;&nbsp;&nbsp;&nbsp;`...`\n",
        "|`while cond ... end` | `while cond: ...`\n",
        "|`continue` | `continue`\n",
        "|`break` | `break`\n",
        "  "
      ],
      "metadata": {
        "id": "TmZWWznaXjEH"
      }
    },
    {
      "cell_type": "markdown",
      "source": [
        "# Conditionals"
      ],
      "metadata": {
        "id": "_fBlUaFnXnSH"
      }
    },
    {
      "cell_type": "code",
      "source": [
        "function approved(nota, freq)\n",
        "  if nota>7 && freq>=0.75\n",
        "    aprov = \"Pass\"\n",
        "  else\n",
        "    aprov = \"Fail\"\n",
        "  end\n",
        "  return aprov\n",
        "end\n",
        "\n",
        "luiz = approved(9,0.8)\n",
        "luiz"
      ],
      "metadata": {
        "colab": {
          "base_uri": "https://localhost:8080/"
        },
        "id": "eVzakNXYXnYW",
        "outputId": "426766d9-d111-4a67-ab46-5ef22b89b434"
      },
      "execution_count": 6,
      "outputs": [
        {
          "output_type": "execute_result",
          "data": {
            "text/plain": [
              "\"Pass\""
            ]
          },
          "metadata": {},
          "execution_count": 6
        }
      ]
    },
    {
      "cell_type": "markdown",
      "source": [
        "# Loops"
      ],
      "metadata": {
        "id": "eoxEV-bRYIkm"
      }
    },
    {
      "cell_type": "code",
      "source": [
        "function media_turma()\n",
        "  notas = [5,5,6,6,7,7,8,8,9,9]\n",
        "  soma=0\n",
        "  for i in 1:length(notas)\n",
        "    soma = soma+ notas[i]\n",
        "  end\n",
        "  return soma/length(notas)\n",
        "end\n",
        "\n",
        "mt = media_turma()\n",
        "mt\n",
        "\n",
        "notas = [5,5,6,6,7,7,8,8,9,9]\n",
        "notas[1]\n"
      ],
      "metadata": {
        "colab": {
          "base_uri": "https://localhost:8080/"
        },
        "id": "r2kroJwWYJXq",
        "outputId": "c4ea9697-4d8e-4dc5-d3e1-7dd300eb6f26"
      },
      "execution_count": 7,
      "outputs": [
        {
          "output_type": "execute_result",
          "data": {
            "text/plain": [
              "5"
            ]
          },
          "metadata": {},
          "execution_count": 7
        }
      ]
    },
    {
      "cell_type": "markdown",
      "source": [
        "# Higer Order Functions"
      ],
      "metadata": {
        "id": "wLQsAv7vYJ7q"
      }
    },
    {
      "cell_type": "code",
      "source": [
        "function somar(x,y)\n",
        "  s = x+y\n",
        "  return s\n",
        "end\n",
        "\n",
        "function calculadora(f,x,y)\n",
        "  return f(x,y)\n",
        "end\n",
        "\n",
        "r = calculadora(somar,1,2)\n",
        "r\n"
      ],
      "metadata": {
        "colab": {
          "base_uri": "https://localhost:8080/"
        },
        "id": "l7CwOXL4YMvp",
        "outputId": "12b8ed89-bb2c-4318-bf5c-6efa7cc7b83c"
      },
      "execution_count": 8,
      "outputs": [
        {
          "output_type": "execute_result",
          "data": {
            "text/plain": [
              "3"
            ]
          },
          "metadata": {},
          "execution_count": 8
        }
      ]
    },
    {
      "cell_type": "markdown",
      "source": [
        "# Data Analysis"
      ],
      "metadata": {
        "id": "ifGPDl2AYOw2"
      }
    },
    {
      "cell_type": "code",
      "source": [
        "import Pkg\n",
        "\n",
        "Pkg.add(\"CSV\")\n",
        "Pkg.add(\"DataFrames\")\n",
        "Pkg.add(\"HTTP\")\n",
        "using CSV\n",
        "using DataFrames\n",
        "using HTTP"
      ],
      "metadata": {
        "colab": {
          "base_uri": "https://localhost:8080/"
        },
        "id": "ajPBCuD2YXBD",
        "outputId": "413689c2-a0a2-414e-8f03-4b4d22b3a226"
      },
      "execution_count": 10,
      "outputs": [
        {
          "output_type": "stream",
          "name": "stderr",
          "text": [
            "\u001b[32m\u001b[1m    Updating\u001b[22m\u001b[39m registry at `~/.julia/registries/General.toml`\n",
            "\u001b[32m\u001b[1m   Resolving\u001b[22m\u001b[39m package versions...\n",
            "\u001b[32m\u001b[1m  No Changes\u001b[22m\u001b[39m to `~/.julia/environments/v1.10/Project.toml`\n",
            "\u001b[32m\u001b[1m  No Changes\u001b[22m\u001b[39m to `~/.julia/environments/v1.10/Manifest.toml`\n",
            "\u001b[32m\u001b[1m   Resolving\u001b[22m\u001b[39m package versions...\n",
            "\u001b[32m\u001b[1m  No Changes\u001b[22m\u001b[39m to `~/.julia/environments/v1.10/Project.toml`\n",
            "\u001b[32m\u001b[1m  No Changes\u001b[22m\u001b[39m to `~/.julia/environments/v1.10/Manifest.toml`\n",
            "\u001b[32m\u001b[1m   Resolving\u001b[22m\u001b[39m package versions...\n",
            "\u001b[32m\u001b[1m    Updating\u001b[22m\u001b[39m `~/.julia/environments/v1.10/Project.toml`\n",
            "  \u001b[90m[cd3eb016] \u001b[39m\u001b[92m+ HTTP v1.10.15\u001b[39m\n",
            "\u001b[32m\u001b[1m  No Changes\u001b[22m\u001b[39m to `~/.julia/environments/v1.10/Manifest.toml`\n"
          ]
        }
      ]
    },
    {
      "cell_type": "code",
      "source": [
        ";wget http://quant-research.group/notas.csv"
      ],
      "metadata": {
        "colab": {
          "base_uri": "https://localhost:8080/"
        },
        "id": "xkL5hmjIYndD",
        "outputId": "bfabd6cd-4afa-4c10-f779-88a099182b22"
      },
      "execution_count": 16,
      "outputs": [
        {
          "output_type": "stream",
          "name": "stderr",
          "text": [
            "--2025-03-14 16:02:30--  http://quant-research.group/notas.csv\n",
            "Resolving quant-research.group (quant-research.group)... 162.241.203.36\n",
            "Connecting to quant-research.group (quant-research.group)|162.241.203.36|:80... connected.\n",
            "HTTP request sent, awaiting response... 200 OK\n",
            "Length: 326 [text/csv]\n",
            "Saving to: ‘notas.csv’\n",
            "\n",
            "     0K                                                       100% 28.6M=0s\n",
            "\n",
            "2025-03-14 16:02:30 (28.6 MB/s) - ‘notas.csv’ saved [326/326]\n",
            "\n"
          ]
        }
      ]
    },
    {
      "cell_type": "code",
      "source": [
        "notas=CSV.read(\"notas.csv\", DataFrame)\n",
        "@show typeof(notas)\n",
        "print(notas)"
      ],
      "metadata": {
        "colab": {
          "base_uri": "https://localhost:8080/"
        },
        "id": "lxu0XhCbY4zn",
        "outputId": "928be7e4-3015-4ad7-b468-c4fc4cc40d22"
      },
      "execution_count": 19,
      "outputs": [
        {
          "output_type": "stream",
          "name": "stdout",
          "text": [
            "typeof(notas) = DataFrame\n",
            "\u001b[1m12×7 DataFrame\n",
            "\u001b[1m Row │\u001b[1m Curso   \u001b[1m Alunos  \u001b[1m AP1     \u001b[1m AP2     \u001b[1m AP3     \u001b[1m Nota    \u001b[1m Conceito\n",
            "     │\u001b[90m String3 \u001b[90m String7 \u001b[90m Float64 \u001b[90m Float64 \u001b[90m Float64 \u001b[90m Float64 \u001b[90m String1\n",
            "─────┼────────────────────────────────────────────────────────────────\n",
            "   1 │ ADM      João         9.0      8.0      9.0      8.6  B\n",
            "   2 │ ADM      Maria        6.0      4.0     10.0      6.0  D\n",
            "   3 │ DIR      José         4.0      3.0      4.0      3.6  F\n",
            "   4 │ ADM      Pedro        8.0     10.0      7.0      8.6  B\n",
            "   5 │ ECO      Paulo        7.5      8.0      9.5      8.1  B\n",
            "   6 │ DIR      Esther       6.0      4.5      6.0      5.4  D\n",
            "   7 │ ADM      Gabriel      8.0      6.0      8.0      7.2  B\n",
            "   8 │ DIR      Rafael       7.5     10.0      9.5      8.9  B\n",
            "   9 │ ECO      Davi         6.0     10.0      7.0      7.8  B\n",
            "  10 │ DIR      Silvio      10.0      9.5      9.5      9.7  A\n",
            "  11 │ ADM      Sofia        8.0      7.0      6.0      7.2  B\n",
            "  12 │ ADM      Raquel       4.5      4.0      4.0      4.2  F"
          ]
        }
      ]
    },
    {
      "cell_type": "code",
      "source": [
        "grades = DataFrame(CSV.File(HTTP.get(\"http://quant-research.group/notas.csv\").body))\n",
        "print(grades)"
      ],
      "metadata": {
        "colab": {
          "base_uri": "https://localhost:8080/"
        },
        "id": "4WXjVXaCY42G",
        "outputId": "e814dd13-0336-42a8-8f64-f44ea2a5d536"
      },
      "execution_count": 22,
      "outputs": [
        {
          "output_type": "stream",
          "name": "stdout",
          "text": [
            "\u001b[1m12×7 DataFrame\n",
            "\u001b[1m Row │\u001b[1m Curso   \u001b[1m Alunos  \u001b[1m AP1     \u001b[1m AP2     \u001b[1m AP3     \u001b[1m Nota    \u001b[1m Conceito\n",
            "     │\u001b[90m String3 \u001b[90m String7 \u001b[90m Float64 \u001b[90m Float64 \u001b[90m Float64 \u001b[90m Float64 \u001b[90m String1\n",
            "─────┼────────────────────────────────────────────────────────────────\n",
            "   1 │ ADM      João         9.0      8.0      9.0      8.6  B\n",
            "   2 │ ADM      Maria        6.0      4.0     10.0      6.0  D\n",
            "   3 │ DIR      José         4.0      3.0      4.0      3.6  F\n",
            "   4 │ ADM      Pedro        8.0     10.0      7.0      8.6  B\n",
            "   5 │ ECO      Paulo        7.5      8.0      9.5      8.1  B\n",
            "   6 │ DIR      Esther       6.0      4.5      6.0      5.4  D\n",
            "   7 │ ADM      Gabriel      8.0      6.0      8.0      7.2  B\n",
            "   8 │ DIR      Rafael       7.5     10.0      9.5      8.9  B\n",
            "   9 │ ECO      Davi         6.0     10.0      7.0      7.8  B\n",
            "  10 │ DIR      Silvio      10.0      9.5      9.5      9.7  A\n",
            "  11 │ ADM      Sofia        8.0      7.0      6.0      7.2  B\n",
            "  12 │ ADM      Raquel       4.5      4.0      4.0      4.2  F"
          ]
        }
      ]
    },
    {
      "cell_type": "code",
      "source": [
        "first(grades,2)"
      ],
      "metadata": {
        "colab": {
          "base_uri": "https://localhost:8080/",
          "height": 128
        },
        "id": "v4n2mx4BY44R",
        "outputId": "47e609c0-3351-4d82-8e8a-61c35e74b31d"
      },
      "execution_count": 23,
      "outputs": [
        {
          "output_type": "execute_result",
          "data": {
            "text/plain": [
              "\u001b[1m2×7 DataFrame\n",
              "\u001b[1m Row │\u001b[1m Curso   \u001b[1m Alunos  \u001b[1m AP1     \u001b[1m AP2     \u001b[1m AP3     \u001b[1m Nota    \u001b[1m Conceito\n",
              "     │\u001b[90m String3 \u001b[90m String7 \u001b[90m Float64 \u001b[90m Float64 \u001b[90m Float64 \u001b[90m Float64 \u001b[90m String1\n",
              "─────┼────────────────────────────────────────────────────────────────\n",
              "   1 │ ADM      João         9.0      8.0      9.0      8.6  B\n",
              "   2 │ ADM      Maria        6.0      4.0     10.0      6.0  D"
            ],
            "text/html": [
              "<div><div style = \"float: left;\"><span>2×7 DataFrame</span></div><div style = \"clear: both;\"></div></div><div class = \"data-frame\" style = \"overflow-x: scroll;\"><table class = \"data-frame\" style = \"margin-bottom: 6px;\"><thead><tr class = \"header\"><th class = \"rowNumber\" style = \"font-weight: bold; text-align: right;\">Row</th><th style = \"text-align: left;\">Curso</th><th style = \"text-align: left;\">Alunos</th><th style = \"text-align: left;\">AP1</th><th style = \"text-align: left;\">AP2</th><th style = \"text-align: left;\">AP3</th><th style = \"text-align: left;\">Nota</th><th style = \"text-align: left;\">Conceito</th></tr><tr class = \"subheader headerLastRow\"><th class = \"rowNumber\" style = \"font-weight: bold; text-align: right;\"></th><th title = \"String3\" style = \"text-align: left;\">String3</th><th title = \"String7\" style = \"text-align: left;\">String7</th><th title = \"Float64\" style = \"text-align: left;\">Float64</th><th title = \"Float64\" style = \"text-align: left;\">Float64</th><th title = \"Float64\" style = \"text-align: left;\">Float64</th><th title = \"Float64\" style = \"text-align: left;\">Float64</th><th title = \"String1\" style = \"text-align: left;\">String1</th></tr></thead><tbody><tr><td class = \"rowNumber\" style = \"font-weight: bold; text-align: right;\">1</td><td style = \"text-align: left;\">ADM</td><td style = \"text-align: left;\">João</td><td style = \"text-align: right;\">9.0</td><td style = \"text-align: right;\">8.0</td><td style = \"text-align: right;\">9.0</td><td style = \"text-align: right;\">8.6</td><td style = \"text-align: left;\">B</td></tr><tr><td class = \"rowNumber\" style = \"font-weight: bold; text-align: right;\">2</td><td style = \"text-align: left;\">ADM</td><td style = \"text-align: left;\">Maria</td><td style = \"text-align: right;\">6.0</td><td style = \"text-align: right;\">4.0</td><td style = \"text-align: right;\">10.0</td><td style = \"text-align: right;\">6.0</td><td style = \"text-align: left;\">D</td></tr></tbody></table></div>"
            ],
            "text/latex": "\\begin{tabular}{r|ccccccc}\n\t& Curso & Alunos & AP1 & AP2 & AP3 & Nota & Conceito\\\\\n\t\\hline\n\t& String3 & String7 & Float64 & Float64 & Float64 & Float64 & String1\\\\\n\t\\hline\n\t1 & ADM & João & 9.0 & 8.0 & 9.0 & 8.6 & B \\\\\n\t2 & ADM & Maria & 6.0 & 4.0 & 10.0 & 6.0 & D \\\\\n\\end{tabular}\n"
          },
          "metadata": {},
          "execution_count": 23
        }
      ]
    },
    {
      "cell_type": "code",
      "source": [
        "print(notas.AP1)"
      ],
      "metadata": {
        "colab": {
          "base_uri": "https://localhost:8080/"
        },
        "id": "MDWFlTQBZWk5",
        "outputId": "169fe5bc-c9ee-477f-9b37-eac166e70381"
      },
      "execution_count": 24,
      "outputs": [
        {
          "output_type": "stream",
          "name": "stdout",
          "text": [
            "[9.0, 6.0, 4.0, 8.0, 7.5, 6.0, 8.0, 7.5, 6.0, 10.0, 8.0, 4.5]"
          ]
        }
      ]
    },
    {
      "cell_type": "code",
      "source": [
        "notas.AP1"
      ],
      "metadata": {
        "colab": {
          "base_uri": "https://localhost:8080/"
        },
        "id": "Sjbl1Y3YZWqu",
        "outputId": "9629e696-8693-404d-b25b-bda4c9d6cffc"
      },
      "execution_count": 25,
      "outputs": [
        {
          "output_type": "execute_result",
          "data": {
            "text/plain": [
              "12-element Vector{Float64}:\n",
              "  9.0\n",
              "  6.0\n",
              "  4.0\n",
              "  8.0\n",
              "  7.5\n",
              "  6.0\n",
              "  8.0\n",
              "  7.5\n",
              "  6.0\n",
              " 10.0\n",
              "  8.0\n",
              "  4.5"
            ]
          },
          "metadata": {},
          "execution_count": 25
        }
      ]
    },
    {
      "cell_type": "code",
      "source": [
        "notas.MF=notas.AP1*0.4+notas.AP2*0.4+notas.AP3*0.2\n",
        "print(notas)"
      ],
      "metadata": {
        "colab": {
          "base_uri": "https://localhost:8080/"
        },
        "id": "X6Kmq-B3Y46o",
        "outputId": "b5de14d0-a1d9-4b44-b2b1-41a1a7d8a3d2"
      },
      "execution_count": 26,
      "outputs": [
        {
          "output_type": "stream",
          "name": "stdout",
          "text": [
            "\u001b[1m12×8 DataFrame\n",
            "\u001b[1m Row │\u001b[1m Curso   \u001b[1m Alunos  \u001b[1m AP1     \u001b[1m AP2     \u001b[1m AP3     \u001b[1m Nota    \u001b[1m Conceito \u001b[1m MF\n",
            "     │\u001b[90m String3 \u001b[90m String7 \u001b[90m Float64 \u001b[90m Float64 \u001b[90m Float64 \u001b[90m Float64 \u001b[90m String1  \u001b[90m Float64\n",
            "─────┼─────────────────────────────────────────────────────────────────────────\n",
            "   1 │ ADM      João         9.0      8.0      9.0      8.6  B             8.6\n",
            "   2 │ ADM      Maria        6.0      4.0     10.0      6.0  D             6.0\n",
            "   3 │ DIR      José         4.0      3.0      4.0      3.6  F             3.6\n",
            "   4 │ ADM      Pedro        8.0     10.0      7.0      8.6  B             8.6\n",
            "   5 │ ECO      Paulo        7.5      8.0      9.5      8.1  B             8.1\n",
            "   6 │ DIR      Esther       6.0      4.5      6.0      5.4  D             5.4\n",
            "   7 │ ADM      Gabriel      8.0      6.0      8.0      7.2  B             7.2\n",
            "   8 │ DIR      Rafael       7.5     10.0      9.5      8.9  B             8.9\n",
            "   9 │ ECO      Davi         6.0     10.0      7.0      7.8  B             7.8\n",
            "  10 │ DIR      Silvio      10.0      9.5      9.5      9.7  A             9.7\n",
            "  11 │ ADM      Sofia        8.0      7.0      6.0      7.2  B             7.2\n",
            "  12 │ ADM      Raquel       4.5      4.0      4.0      4.2  F             4.2"
          ]
        }
      ]
    },
    {
      "cell_type": "markdown",
      "source": [
        "# Matrix"
      ],
      "metadata": {
        "id": "fGuV3UkNnRjJ"
      }
    },
    {
      "cell_type": "markdown",
      "source": [
        "|Julia|Python\n",
        "|-----|------\n",
        "|`a = [1, 2, 3]` | `a = [1, 2, 3]`<br />or<br />`import numpy as np`<br />`np.array([1, 2, 3])`\n",
        "|`a[1]` | `a[0]`\n",
        "|`a[end]` | `a[-1]`\n",
        "|`a[2:end-1]` | `a[1:-1]`\n",
        "|`push!(a, 5)` | `a.append(5)`\n",
        "|`pop!(a)` | `a.pop()`\n",
        "|`M = [1 2 3]` | `np.array([[1, 2, 3]])`\n",
        "|`M = [1 2 3]'` | `np.array([[1, 2, 3]]).T`\n",
        "|`M = hvcat(1,  1, 2, 3)` | `np.array([[1], [2], [3]])`\n",
        "|`M = [1 2 3`<br />&nbsp; &nbsp; &nbsp; &nbsp; &nbsp; &nbsp;`4 5 6]`<br />or<br />`M = [1 2 3; 4 5 6]` | `M = np.array([[1,2,3], [4,5,6]])`\n",
        "|`M[1:2, 2:3]` | `M[0:2, 1:3]`\n",
        "|`[M1; M2]` | `np.r_[M1, M2]`\n",
        "|`[M1  M2]` | `np.c_[M1, M2]`\n",
        "|`[M1 M2; M3]` | `np.r_[np.c_[M1, M2], M3]`\n"
      ],
      "metadata": {
        "id": "d5bwHvxtnIsG"
      }
    },
    {
      "cell_type": "code",
      "source": [
        "notas = [5 5 5\n",
        "         9 9 9\n",
        "         6 7 8]\n",
        "pesos = [0.4 0.4 0.2]\n",
        "mf = notas * pesos'\n",
        "print(mf)"
      ],
      "metadata": {
        "colab": {
          "base_uri": "https://localhost:8080/"
        },
        "id": "042_f3OqnWvI",
        "outputId": "22ad9cdf-de8a-4334-b2d1-415e048740c5"
      },
      "execution_count": 27,
      "outputs": [
        {
          "output_type": "stream",
          "name": "stdout",
          "text": [
            "[5.0; 9.0; 6.800000000000001;;]"
          ]
        }
      ]
    },
    {
      "cell_type": "markdown",
      "source": [
        "# Other References"
      ],
      "metadata": {
        "id": "NpmqfnQmnUJZ"
      }
    },
    {
      "cell_type": "markdown",
      "source": [
        "|Julia|Python\n",
        "|-----|------\n",
        "|`Dict(\"tree\"=>\"arbre\", \"love\"=>\"amour\")` | `{\"tree\": \"arbre\", \"love\": \"amour\"}`\n",
        "|`d[\"arbre\"]` | `d[\"arbre\"]`\n",
        "|`get(d, \"unknown\", \"default\")` | `d.get(\"unknown\", \"default\")`\n",
        "|`keys(d)` | `d.keys()`\n",
        "|`values(d)` | `d.values()`\n",
        "|`haskey(d, k)` | `k in d`\n",
        "|`Dict(i=>i^2 for i in 1:4)` | `{i: i**2 for i in 1:4}`\n",
        "|`for (k, v) in d` | `for k, v in d.items():`\n",
        "|`merge(d1, d2)` | `{**d1, **d2}`\n",
        "|`merge!(d1, d2)` | `d1.update(d2)`"
      ],
      "metadata": {
        "id": "SeUe9drXnUcu"
      }
    },
    {
      "cell_type": "markdown",
      "source": [
        "|Julia|Python\n",
        "|-----|------\n",
        "|`Set([1, 3, 5, 7])` | `{1, 3, 5, 7}`\n",
        "|`5 in odd` | `5 in odd`\n",
        "|`Set([i^2 for i in 1:4])` | `{i**2 for i in range(1, 5)}`\n",
        "|`odd ∪ primes` | `odd | primes`\n",
        "|`union(odd, primes)` | `odd.union(primes)`\n",
        "|`odd ∩ primes` | `odd & primes`\n",
        "|`insersect(odd, primes)` | `odd.intersection(primes)`\n",
        "|`setdiff(odd, primes)` | `odd - primes` or `odd.difference(primes)`\n",
        "|`symdiff(odd, primes)` | `odd ^ primes` or `odd.symmetric_difference(primes)`"
      ],
      "metadata": {
        "id": "DIJmiDkknceo"
      }
    },
    {
      "cell_type": "markdown",
      "source": [
        "|Julia|Python\n",
        "|-----|------\n",
        "|`@enum Fruit apple=1 banana=2 orange=3` | `from enum import Enum`<br />`class Fruit(Enum):`<br />&nbsp;&nbsp;&nbsp;&nbsp;`APPLE = 1`<br />&nbsp;&nbsp;&nbsp;&nbsp;`BANANA = 2`<br />&nbsp;&nbsp;&nbsp;&nbsp;`ORANGE = 3`\n",
        "| `Fruit(2) === banana` | `Fruit(2) is Fruit.BANANA`\n",
        "| `instances(Fruit)` | `dir(Fruit)`\n"
      ],
      "metadata": {
        "id": "K3BHZO6rne6G"
      }
    },
    {
      "cell_type": "markdown",
      "source": [
        "|Julia|Python\n",
        "|-----|------\n",
        "|`a === b` | `a is b`\n",
        "|`a !== b` | `a is not b`\n",
        "|`objectid(obj)` | `id(obj)`"
      ],
      "metadata": {
        "id": "lIz8j6XZniTo"
      }
    },
    {
      "cell_type": "markdown",
      "source": [
        "The `options` vararg acts like a dictionary (we will discuss dictionaries later). The keys are **symbols**, e.g., `:verbose`. Symbols are like strings, less flexible but faster. They are typically used as keys or identifiers.\n",
        "\n",
        "|Julia|Python (3.8+ if `/` is used)\n",
        "|-----|------\n",
        "| `function foo(a, b=2, c=3)`<br />&nbsp;&nbsp;&nbsp;&nbsp;`...`<br />`end`<br /><br />`foo(1, 2) # positional only` | `def foo(a, b=2, c=3, /):`<br />&nbsp;&nbsp;&nbsp;&nbsp;`...`<br /><br />`foo(1, 2) # pos only because of /`\n",
        "| `function foo(;a=1, b, c=3)`<br />&nbsp;&nbsp;&nbsp;&nbsp;`...`<br />`end`<br /><br />`foo(c=30, b=2) # keyword only` | `def foo(*, a=1, b, c=3):`<br />&nbsp;&nbsp;&nbsp;&nbsp;`...`<br /><br />`foo(c=30, b=2) # kw only because of *`\n",
        "| `function foo(a, b=2; c=3, d)`<br />&nbsp;&nbsp;&nbsp;&nbsp;`...`<br />`end`<br /><br />`foo(1; d=4) # pos only; then keyword only` | `def foo(a, b=2, /, *, c=3, d):`<br />&nbsp;&nbsp;&nbsp;&nbsp;`...`<br /><br />`foo(1, d=4) # pos only then kw only`\n",
        "| `function foo(a, b=2, c...)`<br />&nbsp;&nbsp;&nbsp;&nbsp;`...`<br />`end`<br /><br />`foo(1, 2, 3, 4) # positional only` | `def foo(a, b=2, /, *c):`<br />&nbsp;&nbsp;&nbsp;&nbsp;`...`<br /><br />`foo(1, 2, 3, 4) # positional only`\n",
        "| `function foo(a, b=1, c...; d=1, e, f...)`<br />&nbsp;&nbsp;&nbsp;&nbsp;`...`<br />`end`<br /><br />`foo(1, 2, 3, 4, e=5, x=10, y=20)`<br /> | `def foo(a, b=1, /, *c, d=1, e, **f):`<br />&nbsp;&nbsp;&nbsp;&nbsp;`...`<br /><br />`foo(1, 2, 3, 4, e=5, x=10, y=20)`\n"
      ],
      "metadata": {
        "id": "SHBAXIqonlkU"
      }
    },
    {
      "cell_type": "markdown",
      "source": [
        "\n",
        "|Julia|Python\n",
        "|-----|------\n",
        "|`x -> x^2` | `lambda x: x**2`\n",
        "|`(x,y) -> x + y` | `lambda x,y: x + y `\n",
        "|`() -> println(\"yes\")` | `lambda: print(\"yes\")`\n"
      ],
      "metadata": {
        "id": "t4j3XdYennWQ"
      }
    },
    {
      "cell_type": "markdown",
      "source": [
        "A few things to note here:\n",
        "\n",
        "* Julia only allows a single `catch` block which handles all possible exceptions.\n",
        "* `obj isa SomeClass` is a shorthand for `isa(obj, SomeClass)` which is equivalent to Python's `isinstance(obj, SomeClass)`.\n",
        "\n",
        "|Julia|Python\n",
        "|-----|------\n",
        "|`try`<br />&nbsp;&nbsp;&nbsp;&nbsp;`...`<br />`catch ex`<br />&nbsp;&nbsp;&nbsp;&nbsp;`if ex isa SomeError`<br />&nbsp;&nbsp;&nbsp;&nbsp;&nbsp;&nbsp;&nbsp;&nbsp;`...`<br />&nbsp;&nbsp;&nbsp;&nbsp;`else`<br />&nbsp;&nbsp;&nbsp;&nbsp;&nbsp;&nbsp;&nbsp;&nbsp;`...`<br />&nbsp;&nbsp;&nbsp;&nbsp;`end`<br />`finally`<br />&nbsp;&nbsp;&nbsp;&nbsp;`...`<br />`end` | `try:`<br />&nbsp;&nbsp;&nbsp;&nbsp;`...`<br />`except SomeException as ex:`<br />&nbsp;&nbsp;&nbsp;&nbsp;`...`<br />`except Exception as ex:`<br />&nbsp;&nbsp;&nbsp;&nbsp;`...`<br />`finally:`<br />&nbsp;&nbsp;&nbsp;&nbsp;`...`\n",
        "|`throw any_value` | `raise SomeException(...)`\n",
        "| `obj isa SomeType`<br />or<br /> `isa(obj, SomeType`) | `isinstance(obj, SomeType)`"
      ],
      "metadata": {
        "id": "upbhO2aMnrY9"
      }
    },
    {
      "cell_type": "markdown",
      "source": [
        "## In Short"
      ],
      "metadata": {
        "id": "y907OTugn1GT"
      }
    },
    {
      "cell_type": "markdown",
      "source": [
        "In short:\n",
        "\n",
        "|Julia | Python\n",
        "|------|-------\n",
        "|`import Foo` | `import foo`\n",
        "|`import Foo.Bar` | `from foo import bar`\n",
        "|`import Foo.Bar: a, b` | `from foo.bar import a, b`\n",
        "|`import Foo.Bar.a, Foo.Bar.b` | `from foo.bar import a, b`\n",
        "|`import .Foo` | `import .foo`\n",
        "|`import ..Foo.Bar` | `from ..foo import bar`\n",
        "|`import ...Foo.Bar` | `from ...foo import bar`\n",
        "|`import .Foo: a, b` | `from .foo import a, b`\n",
        "||\n",
        "|`using Foo` | `from foo import *; import foo`\n",
        "|`using Foo.Bar` | `from foo.bar import *; from foo import bar `\n",
        "|`using Foo.Bar: a, b` | `from foo.bar import a, b`\n",
        "\n",
        "|Extending function `Foo.f()` | Result\n",
        "|-----------------------------|--------\n",
        "|`import Foo.f  # or Foo: f` <br />`f(x::Int64) = ...`  | OK\n",
        "|`import Foo`<br />`Foo.f(x::Int64) = ...` | OK\n",
        "|`using Foo`<br />`Foo.f(x::Int64) = ...` | OK\n",
        "|`import Foo.f # or Foo: f`<br />`Foo.f(x::Int64) = ...` | `ERROR: Foo not defined`\n",
        "|`using Foo`<br />`f(x::Int64) = ...` | `ERROR: Foo.f must be explicitly imported`\n",
        "|`using Foo: f`<br />`f(x::Int64) = ...` | `ERROR: Foo.f must be explicitly imported`"
      ],
      "metadata": {
        "id": "S0Uvv-BBn2hx"
      }
    },
    {
      "cell_type": "markdown",
      "source": [
        "|Julia (in interactive mode) | Python (in a terminal)\n",
        "|-----|------\n",
        "|`]status` | `pip freeze`<br />or<br />`conda list`\n",
        "|`]add Foo` | `pip install foo`<br />or<br />`conda install foo`\n",
        "|`]add Foo@1.2` | `pip install foo==1.2`<br />or<br />`conda install foo=1.2`\n",
        "|`]update Foo` | `pip install --upgrade foo`<br />or<br />`conda update foo`\n",
        "|`]pin Foo` | `foo==<version>` in `requirements.txt`<br /> or<br />`foo=<version>` in `environment.yml`\n",
        "|`]free Foo` | `foo` in `requirements.txt`<br />or<br />`foo` in `environment.yml`\n",
        "|`]test Foo` | `python -m unittest foo`\n",
        "|`]rm Foo` | `pip uninstall foo`<br />or<br />`conda remove foo`\n",
        "|`]help` | `pip --help`\n"
      ],
      "metadata": {
        "id": "IV27mPtln29w"
      }
    },
    {
      "cell_type": "code",
      "source": [],
      "metadata": {
        "id": "qdHGVJfVn-ht"
      },
      "execution_count": null,
      "outputs": []
    }
  ]
}