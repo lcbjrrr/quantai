{
  "nbformat": 4,
  "nbformat_minor": 0,
  "metadata": {
    "colab": {
      "provenance": [],
      "include_colab_link": true
    },
    "kernelspec": {
      "name": "ir",
      "display_name": "R"
    },
    "language_info": {
      "name": "R"
    }
  },
  "cells": [
    {
      "cell_type": "markdown",
      "metadata": {
        "id": "view-in-github",
        "colab_type": "text"
      },
      "source": [
        "<a href=\"https://colab.research.google.com/github/lcbjrrr/quantai/blob/main/IA_R_Clas_KNN.ipynb\" target=\"_parent\"><img src=\"https://colab.research.google.com/assets/colab-badge.svg\" alt=\"Open In Colab\"/></a>"
      ]
    },
    {
      "cell_type": "markdown",
      "metadata": {
        "id": "iayoaIT7kfMn"
      },
      "source": [
        "# kNN"
      ]
    },
    {
      "cell_type": "markdown",
      "source": [
        "**Topic:** R Lang\n",
        "\n",
        "**Title:** KNN\n",
        "\n",
        "**Author:** Luiz Barboza\n",
        "\n",
        "**Date:** 20/dec/24\n",
        "\n",
        "**Lang:** R\n",
        "\n",
        "**Site:** https://quant-research.group/\n",
        "\n",
        "**Email:** contato@quant-research.group"
      ],
      "metadata": {
        "id": "suJCW4SQTYwA"
      }
    },
    {
      "cell_type": "markdown",
      "source": [
        "The class package in R provides functions for classification, specifically k-nearest neighbor (k-NN) classification"
      ],
      "metadata": {
        "id": "vkbMo9Q0baj4"
      }
    },
    {
      "cell_type": "code",
      "metadata": {
        "id": "-XI1b9ul6CVh",
        "colab": {
          "base_uri": "https://localhost:8080/"
        },
        "outputId": "4cb55066-ef7d-4ac9-948c-cc6e2a0385da"
      },
      "source": [
        "install.packages(\"class\")\n",
        "library(class)"
      ],
      "execution_count": 1,
      "outputs": [
        {
          "output_type": "stream",
          "name": "stderr",
          "text": [
            "Installing package into ‘/usr/local/lib/R/site-library’\n",
            "(as ‘lib’ is unspecified)\n",
            "\n"
          ]
        }
      ]
    },
    {
      "cell_type": "markdown",
      "source": [
        "This dataset contains information about individuals, with columns representing their sex (SEXO), height (ALTURA), and weight (PESO). Sex is likely coded numerically (e.g., 1 for male, 2 for female)."
      ],
      "metadata": {
        "id": "IW5BE_0sbhiI"
      }
    },
    {
      "cell_type": "code",
      "metadata": {
        "id": "0VhV8hCx5801",
        "outputId": "9963cff3-607f-425c-c5bf-55cd68e8c621",
        "colab": {
          "base_uri": "https://localhost:8080/",
          "height": 349
        }
      },
      "source": [
        "\n",
        "train <- read.csv('https://raw.githubusercontent.com/lcbjrrr/data/main/homem_mulher%20-%20ok.csv')\n",
        "train"
      ],
      "execution_count": 1,
      "outputs": [
        {
          "output_type": "display_data",
          "data": {
            "text/html": [
              "<table class=\"dataframe\">\n",
              "<caption>A data.frame: 8 × 3</caption>\n",
              "<thead>\n",
              "\t<tr><th scope=col>SEXO</th><th scope=col>ALTURA</th><th scope=col>PESO</th></tr>\n",
              "\t<tr><th scope=col>&lt;int&gt;</th><th scope=col>&lt;int&gt;</th><th scope=col>&lt;int&gt;</th></tr>\n",
              "</thead>\n",
              "<tbody>\n",
              "\t<tr><td>1</td><td>178</td><td>72</td></tr>\n",
              "\t<tr><td>1</td><td>179</td><td>81</td></tr>\n",
              "\t<tr><td>2</td><td>163</td><td>55</td></tr>\n",
              "\t<tr><td>2</td><td>168</td><td>58</td></tr>\n",
              "\t<tr><td>1</td><td>181</td><td>98</td></tr>\n",
              "\t<tr><td>2</td><td>170</td><td>60</td></tr>\n",
              "\t<tr><td>1</td><td>184</td><td>78</td></tr>\n",
              "\t<tr><td>2</td><td>171</td><td>59</td></tr>\n",
              "</tbody>\n",
              "</table>\n"
            ],
            "text/markdown": "\nA data.frame: 8 × 3\n\n| SEXO &lt;int&gt; | ALTURA &lt;int&gt; | PESO &lt;int&gt; |\n|---|---|---|\n| 1 | 178 | 72 |\n| 1 | 179 | 81 |\n| 2 | 163 | 55 |\n| 2 | 168 | 58 |\n| 1 | 181 | 98 |\n| 2 | 170 | 60 |\n| 1 | 184 | 78 |\n| 2 | 171 | 59 |\n\n",
            "text/latex": "A data.frame: 8 × 3\n\\begin{tabular}{lll}\n SEXO & ALTURA & PESO\\\\\n <int> & <int> & <int>\\\\\n\\hline\n\t 1 & 178 & 72\\\\\n\t 1 & 179 & 81\\\\\n\t 2 & 163 & 55\\\\\n\t 2 & 168 & 58\\\\\n\t 1 & 181 & 98\\\\\n\t 2 & 170 & 60\\\\\n\t 1 & 184 & 78\\\\\n\t 2 & 171 & 59\\\\\n\\end{tabular}\n",
            "text/plain": [
              "  SEXO ALTURA PESO\n",
              "1 1    178    72  \n",
              "2 1    179    81  \n",
              "3 2    163    55  \n",
              "4 2    168    58  \n",
              "5 1    181    98  \n",
              "6 2    170    60  \n",
              "7 1    184    78  \n",
              "8 2    171    59  "
            ]
          },
          "metadata": {}
        }
      ]
    },
    {
      "cell_type": "markdown",
      "source": [
        "Let's create a scatter plot where the y-axis represents the \"ALTURA\" (height) values and the x-axis represents the \"PESO\" (weight) values from the train data frame."
      ],
      "metadata": {
        "id": "QrZY5bBsblBK"
      }
    },
    {
      "cell_type": "code",
      "source": [
        "plot(train$ALTURA~ train$PESO)"
      ],
      "metadata": {
        "id": "xi8VmFyQblGy"
      },
      "execution_count": null,
      "outputs": []
    },
    {
      "cell_type": "markdown",
      "source": [
        "Let's use the k-nearest neighbors (k-NN) algorithm from the class package to predict the \"SEXO\" (sex) of data points in the prever data frame, using the \"ALTURA\" (height) and \"PESO\" (weight) columns from the train data frame as predictors, with k=2 (meaning it considers the 2 nearest neighbors). It classifies based on the \"SEXO\" column of the train data."
      ],
      "metadata": {
        "id": "IWFx5ApXbx7J"
      }
    },
    {
      "cell_type": "code",
      "source": [
        "prever <- read.csv('https://raw.githubusercontent.com/lcbjrrr/data/main/homem_mulher%20-%20prev.csv')\n",
        "kviz <- knn(train,prever,cl=train$SEXO,k=2)\n",
        "print(prever)\n",
        "print(\"PREVISAO: \")\n",
        "print(kviz)"
      ],
      "metadata": {
        "colab": {
          "base_uri": "https://localhost:8080/"
        },
        "id": "Zhc0B2-7_cYb",
        "outputId": "91255fd0-ac72-4793-a44b-e61c2d6622c2"
      },
      "execution_count": 4,
      "outputs": [
        {
          "output_type": "stream",
          "name": "stderr",
          "text": [
            "Warning message in read.table(file = file, header = header, sep = sep, quote = quote, :\n",
            "“incomplete final line found by readTableHeader on 'https://raw.githubusercontent.com/lcbjrrr/data/main/homem_mulher%20-%20prev.csv'”\n"
          ]
        },
        {
          "output_type": "stream",
          "name": "stdout",
          "text": [
            "  SEXO ALTURA PESO\n",
            "1    1    175   75\n",
            "[1] \"PREVISAO: \"\n",
            "[1] 1\n",
            "Levels: 1 2\n"
          ]
        }
      ]
    },
    {
      "cell_type": "markdown",
      "source": [
        "## Exercise"
      ],
      "metadata": {
        "id": "vd6GcW1N_gbQ"
      }
    },
    {
      "cell_type": "markdown",
      "source": [
        "This dataset describes a series of observations, each representing a specific set of weather conditions and a corresponding binary outcome indicating whether or not it was deemed suitable to \"jogar\" (play). The columns detail the weather parameters: \"previsao\" (forecast), \"temperatura\" (temperature), \"umidade\" (humidity), and \"vento\" (wind). These are likely categorical variables, potentially represented by numerical codes (e.g., 1, 2, 3) to denote different states or ranges. The \"jogar\" (play) column, coded as 0 or 1, serves as the target variable, indicating whether the conditions were favorable for playing. This dataset could be used to train a classification model to predict whether or not it's suitable to play based on the given weather conditions."
      ],
      "metadata": {
        "id": "_E17K1FVcDdU"
      }
    },
    {
      "cell_type": "code",
      "metadata": {
        "id": "P4QIFqXAmj9I",
        "colab": {
          "base_uri": "https://localhost:8080/"
        },
        "outputId": "61d3f15c-2e27-481a-9bf4-56af42992611"
      },
      "source": [
        "train <- read.csv('https://raw.githubusercontent.com/lcbjrrr/data/main/volei%20-%20ok.csv')\n",
        "print(train)"
      ],
      "execution_count": 5,
      "outputs": [
        {
          "output_type": "stream",
          "name": "stdout",
          "text": [
            "   previsao temperatura umidade vento jogar\n",
            "1         1           1       1     2     0\n",
            "2         1           1       1     1     0\n",
            "3         2           1       1     2     1\n",
            "4         3           2       1     2     1\n",
            "5         3           3       2     2     1\n",
            "6         3           3       2     1     0\n",
            "7         2           3       2     1     1\n",
            "8         1           2       1     2     0\n",
            "9         1           3       2     2     1\n",
            "10        3           2       2     2     1\n",
            "11        1           2       2     1     1\n",
            "12        2           2       1     1     1\n",
            "13        2           1       2     2     1\n",
            "14        3           2       1     1     0\n"
          ]
        }
      ]
    },
    {
      "cell_type": "markdown",
      "source": [
        "Let's use the k-nearest neighbors (k-NN) algorithm to predict the \"jogar\" (play) outcome for data in prever, based on the features in train, using the \"jogar\" column from train as the classification labels, with k=2 (using the 2 nearest neighbors)."
      ],
      "metadata": {
        "id": "jX34iOq2cOyD"
      }
    },
    {
      "cell_type": "code",
      "source": [
        "prever <- read.csv('https://raw.githubusercontent.com/lcbjrrr/data/main/volei%20-%20ok.csv')\n",
        "kviz <- knn(train,prever,cl=train$jogar,k=2)\n",
        "print(prever)\n",
        "print(\"PREVISAO: \")\n",
        "print(kviz)"
      ],
      "metadata": {
        "colab": {
          "base_uri": "https://localhost:8080/"
        },
        "id": "5i4Fljbl_y_z",
        "outputId": "37afddb7-5ad5-4681-a76c-2fd86246bcf6"
      },
      "execution_count": 6,
      "outputs": [
        {
          "output_type": "stream",
          "name": "stdout",
          "text": [
            "   previsao temperatura umidade vento jogar\n",
            "1         1           1       1     2     0\n",
            "2         1           1       1     1     0\n",
            "3         2           1       1     2     1\n",
            "4         3           2       1     2     1\n",
            "5         3           3       2     2     1\n",
            "6         3           3       2     1     0\n",
            "7         2           3       2     1     1\n",
            "8         1           2       1     2     0\n",
            "9         1           3       2     2     1\n",
            "10        3           2       2     2     1\n",
            "11        1           2       2     1     1\n",
            "12        2           2       1     1     1\n",
            "13        2           1       2     2     1\n",
            "14        3           2       1     1     0\n",
            "[1] \"PREVISAO: \"\n",
            " [1] 0 0 1 1 1 0 1 0 1 1 1 1 1 1\n",
            "Levels: 0 1\n"
          ]
        }
      ]
    }
  ]
}