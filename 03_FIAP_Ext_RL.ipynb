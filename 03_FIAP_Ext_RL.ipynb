{
  "nbformat": 4,
  "nbformat_minor": 0,
  "metadata": {
    "colab": {
      "provenance": [],
      "authorship_tag": "ABX9TyPh1ReUbMrffe2ApGKTnJg5",
      "include_colab_link": true
    },
    "kernelspec": {
      "name": "python3",
      "display_name": "Python 3"
    },
    "language_info": {
      "name": "python"
    }
  },
  "cells": [
    {
      "cell_type": "markdown",
      "metadata": {
        "id": "view-in-github",
        "colab_type": "text"
      },
      "source": [
        "<a href=\"https://colab.research.google.com/github/lcbjrrr/quantai/blob/main/03_FIAP_Ext_RL.ipynb\" target=\"_parent\"><img src=\"https://colab.research.google.com/assets/colab-badge.svg\" alt=\"Open In Colab\"/></a>"
      ]
    },
    {
      "cell_type": "code",
      "execution_count": null,
      "metadata": {
        "id": "Pnvg1dBacnE9"
      },
      "outputs": [],
      "source": []
    },
    {
      "cell_type": "markdown",
      "source": [
        "# Reinforcement Learning (Optimization)"
      ],
      "metadata": {
        "id": "z6EcMF3ejijF"
      }
    },
    {
      "cell_type": "markdown",
      "source": [
        "\n",
        "## The Lemonade Stand\n",
        "\n",
        "**Scenario:**\n",
        "\n",
        "You're setting up a small lemonade stand for an hour. You have a limited supply of two key ingredients: **lemons** and **sugar**. You want to make as much money as possible in that hour.\n",
        "\n",
        "You can make two types of drinks:\n",
        "\n",
        "1.  **Classic Lemonade:** Sells for a good price, but uses more lemons and sugar.\n",
        "2.  **Light Lemonade:** Sells for a bit less, but uses fewer ingredients.\n",
        "\n",
        "**Resources:**\n",
        "\n",
        "* You have **10 lemons** total.\n",
        "* You have **12 scoops of sugar** total.\n",
        "\n",
        "**Ingredient Requirements and Profit per Cup:**\n",
        "\n",
        "| Drink Type     | Lemons per Cup | Sugar Scoops per Cup | Profit per Cup ($) |\n",
        "| :------------- | :------------- | :------------------- | :----------------- |\n",
        "| Classic        | 2              | 3                    | 1.50               |\n",
        "| Light          | 1              | 1                    | 1.00               |\n",
        "\n",
        "**The Problem:**\n",
        "\n",
        "How many cups of **Classic Lemonade** and **Light Lemonade** should you make to earn the **most profit** without running out of lemons or sugar?\n"
      ],
      "metadata": {
        "id": "g5Z8sXxucoLd"
      }
    },
    {
      "cell_type": "code",
      "source": [
        "import random\n",
        "\n",
        "class Environment:\n",
        "    def __init__(self):\n",
        "        self.C = 0\n",
        "        self.L = 0\n",
        "        self.max_steps = 33\n",
        "        self.steps = 0\n",
        "\n",
        "    def get_state(self):\n",
        "        return (self.C, self.L)\n",
        "\n",
        "    def is_valid(self, C, L):\n",
        "        return (2 * C + L <= 10) and (3 * C + L <= 12) and (C >= 0 and L >= 0)\n",
        "\n",
        "    def step(self, action):\n",
        "        if action == \"C+\":\n",
        "            self.C += 1\n",
        "        elif action == \"C-\" and self.C > 0:\n",
        "            self.C -= 1\n",
        "        elif action == \"L+\":\n",
        "            self.L += 1\n",
        "        elif action == \"L-\" and self.L > 0:\n",
        "            self.L -= 1\n",
        "\n",
        "        self.steps += 1\n",
        "        reward = self.calc_reward(action)\n",
        "        if (self.steps >= self.max_steps):\n",
        "          return (self.C, self.L), reward, True\n",
        "        else:\n",
        "          return (self.C, self.L), reward, False\n",
        "\n",
        "\n",
        "    def calc_reward(self,action):\n",
        "        if self.is_valid(self.C, self.L):\n",
        "            return 1.5 * self.C + 1.0 * self.L\n",
        "        else:\n",
        "            return -10  # heavy penalty for violating constraints\n",
        "\n",
        "class Agent:\n",
        "    def __init__(self):\n",
        "        self.actions = [\"C+\", \"C-\", \"L+\", \"L-\"]\n",
        "\n",
        "    def choose_action(self):\n",
        "        return random.choice(self.actions)\n",
        "\n"
      ],
      "metadata": {
        "id": "mEzddQWocoRa"
      },
      "execution_count": 15,
      "outputs": []
    },
    {
      "cell_type": "code",
      "source": [
        "\n",
        "env = Environment()\n",
        "agent = Agent()\n",
        "\n",
        "done = False\n",
        "steps = 0\n",
        "best_reward = float(\"-inf\")\n",
        "best_state = (0, 0)\n",
        "\n",
        "\n",
        "while not done:\n",
        "    state = env.get_state()\n",
        "    action = agent.choose_action()\n",
        "    ((sC,sL), reward, done) = env.step(action)\n",
        "\n",
        "    print(f\"Step {steps}: State={state}, Action={action}, Next State={(sC,sL)}, Reward={reward}\")\n",
        "\n",
        "    if reward > best_reward and env.is_valid(sC,sL):\n",
        "        best_reward = reward\n",
        "        best_state = (sC,sL)\n",
        "\n",
        "    steps += 1\n",
        "\n",
        "print(\"\\n🧠 Best valid solution found:\")\n",
        "print(f\"  C = {best_state[0]}, L = {best_state[1]}, P = {best_reward}\")\n"
      ],
      "metadata": {
        "colab": {
          "base_uri": "https://localhost:8080/"
        },
        "collapsed": true,
        "id": "qmQJMv7XiDtY",
        "outputId": "853837b2-0588-4edb-e9a6-bd632b5c9ff4"
      },
      "execution_count": 16,
      "outputs": [
        {
          "output_type": "stream",
          "name": "stdout",
          "text": [
            "Step 0: State=(0, 0), Action=L+, Next State=(0, 1), Reward=1.0\n",
            "Step 1: State=(0, 1), Action=C+, Next State=(1, 1), Reward=2.5\n",
            "Step 2: State=(1, 1), Action=C-, Next State=(0, 1), Reward=1.0\n",
            "Step 3: State=(0, 1), Action=C+, Next State=(1, 1), Reward=2.5\n",
            "Step 4: State=(1, 1), Action=L+, Next State=(1, 2), Reward=3.5\n",
            "Step 5: State=(1, 2), Action=C+, Next State=(2, 2), Reward=5.0\n",
            "Step 6: State=(2, 2), Action=L+, Next State=(2, 3), Reward=6.0\n",
            "Step 7: State=(2, 3), Action=L-, Next State=(2, 2), Reward=5.0\n",
            "Step 8: State=(2, 2), Action=L-, Next State=(2, 1), Reward=4.0\n",
            "Step 9: State=(2, 1), Action=C+, Next State=(3, 1), Reward=5.5\n",
            "Step 10: State=(3, 1), Action=L+, Next State=(3, 2), Reward=6.5\n",
            "Step 11: State=(3, 2), Action=L-, Next State=(3, 1), Reward=5.5\n",
            "Step 12: State=(3, 1), Action=L+, Next State=(3, 2), Reward=6.5\n",
            "Step 13: State=(3, 2), Action=C+, Next State=(4, 2), Reward=-10\n",
            "Step 14: State=(4, 2), Action=L-, Next State=(4, 1), Reward=-10\n",
            "Step 15: State=(4, 1), Action=C-, Next State=(3, 1), Reward=5.5\n",
            "Step 16: State=(3, 1), Action=L+, Next State=(3, 2), Reward=6.5\n",
            "Step 17: State=(3, 2), Action=C-, Next State=(2, 2), Reward=5.0\n",
            "Step 18: State=(2, 2), Action=L-, Next State=(2, 1), Reward=4.0\n",
            "Step 19: State=(2, 1), Action=L-, Next State=(2, 0), Reward=3.0\n",
            "Step 20: State=(2, 0), Action=C-, Next State=(1, 0), Reward=1.5\n",
            "Step 21: State=(1, 0), Action=C+, Next State=(2, 0), Reward=3.0\n",
            "Step 22: State=(2, 0), Action=L+, Next State=(2, 1), Reward=4.0\n",
            "Step 23: State=(2, 1), Action=L+, Next State=(2, 2), Reward=5.0\n",
            "Step 24: State=(2, 2), Action=C+, Next State=(3, 2), Reward=6.5\n",
            "Step 25: State=(3, 2), Action=C-, Next State=(2, 2), Reward=5.0\n",
            "Step 26: State=(2, 2), Action=C+, Next State=(3, 2), Reward=6.5\n",
            "Step 27: State=(3, 2), Action=L+, Next State=(3, 3), Reward=7.5\n",
            "Step 28: State=(3, 3), Action=C+, Next State=(4, 3), Reward=-10\n",
            "Step 29: State=(4, 3), Action=C+, Next State=(5, 3), Reward=-10\n",
            "Step 30: State=(5, 3), Action=C+, Next State=(6, 3), Reward=-10\n",
            "Step 31: State=(6, 3), Action=C+, Next State=(7, 3), Reward=-10\n",
            "Step 32: State=(7, 3), Action=C-, Next State=(6, 3), Reward=-10\n",
            "\n",
            "🧠 Best valid solution found:\n",
            "  C = 3, L = 3, P = 7.5\n"
          ]
        }
      ]
    },
    {
      "cell_type": "markdown",
      "source": [
        "# Ativity: RL Optimization"
      ],
      "metadata": {
        "id": "nqETodx4jfSV"
      }
    },
    {
      "cell_type": "markdown",
      "source": [
        "Develop a reinforcement learning agent that autonomously learns, through trial and error. The agent will interact with the production environment, observing current levels and receiving a reward signal corresponding to the reward generated by its choices, while being implicitly penalized for attempting to exceed available resources."
      ],
      "metadata": {
        "id": "ZSZTXnPEjpp4"
      }
    },
    {
      "cell_type": "markdown",
      "source": [
        "**Problem 1: The Artisan Chocolate Maker**\n",
        "\n",
        "A small artisan chocolate company makes two types of chocolate bars:\n",
        "* **Dark Chocolate Bar:** Uses 3 units of cocoa and 2 units of sugar. Sells for \\$4.\n",
        "* **Milk Chocolate Bar:** Uses 2 units of cocoa and 2 units of sugar. Sells for \\$3.\n",
        "\n",
        "They have 30 units of cocoa and 24 units of sugar available. How many of each type of chocolate bar should they produce to maximize their revenue?\n",
        "\n",
        "---"
      ],
      "metadata": {
        "id": "LABrpq_vjyw-"
      }
    },
    {
      "cell_type": "markdown",
      "source": [
        "\n",
        "**Problem 2: The Toy Manufacturer**\n",
        "\n",
        "A toy company produces two popular toys: \"Robo-Buddy\" and \"Doll-Friend.\"\n",
        "* **Robo-Buddy:** Requires 2 hours for assembly and 1 hour for painting. Sells for \\$25.\n",
        "* **Doll-Friend:** Requires 1 hour for assembly and 1 hour for painting. Sells for \\$18.\n",
        "\n",
        "They have 40 hours of assembly time and 25 hours of painting time available per week. How many of each toy should they produce to maximize their weekly revenue?\n",
        "\n",
        "---"
      ],
      "metadata": {
        "id": "xigENgJmjyzY"
      }
    },
    {
      "cell_type": "markdown",
      "source": [
        "**Problem 3: The Urban Farmer**\n",
        "\n",
        "An urban farmer has a small plot of land and wants to plant two types of herbs: \"Basil\" and \"Mint.\"\n",
        "* **Basil:** Requires 0.5 sq ft of land and 1 unit of water. Sells for \\$6 per pot.\n",
        "* **Mint:** Requires 0.25 sq ft of land and 1.5 units of water. Sells for \\$4 per pot.\n",
        "\n",
        "The farmer has 10 sq ft of land and 20 units of water available. How many pots of each herb should they grow to maximize their total sales value?\n",
        "\n",
        "---"
      ],
      "metadata": {
        "id": "LqsSvFQJjy1m"
      }
    },
    {
      "cell_type": "markdown",
      "source": [
        "**Problem 4: The T-Shirt Printer**\n",
        "\n",
        "A custom T-shirt printing business offers two designs: \"Abstract Art\" and \"Nature Scene.\"\n",
        "* **Abstract Art T-shirt:** Uses 2 units of ink and takes 10 minutes to print. Sells for \\$12.\n",
        "* **Nature Scene T-shirt:** Uses 1 unit of ink and takes 15 minutes to print. Sells for \\$15.\n",
        "\n",
        "They have 20 units of ink and 180 minutes of printing time available today. How many of each T-shirt design should they print to maximize their revenue?\n",
        "\n",
        "---"
      ],
      "metadata": {
        "id": "39H4GvKojy32"
      }
    },
    {
      "cell_type": "markdown",
      "source": [
        "**Problem 5: The Backpack Manufacturer**\n",
        "\n",
        "A company manufactures two types of backpacks: \"Daypack\" and \"Trekking Pack.\"\n",
        "* **Daypack:** Requires 1.5 meters of fabric and 0.5 hours of labor. Sells for \\$50.\n",
        "* **Trekking Pack:** Requires 3 meters of fabric and 1 hour of labor. Sells for \\$90.\n",
        "\n",
        "They have 60 meters of fabric and 25 hours of labor available each day. How many of each backpack should they produce to maximize their daily revenue?\n",
        "\n",
        "---"
      ],
      "metadata": {
        "id": "x_7Ij3I_jy6M"
      }
    },
    {
      "cell_type": "markdown",
      "source": [
        "**Problem 6: The Coffee Shop Brewer**\n",
        "\n",
        "A local coffee shop brews two specialty blends: \"Morning Buzz\" and \"Evening Chill.\"\n",
        "* **Morning Buzz:** Requires 150g of coffee beans and 5 minutes to brew per batch. Sells for \\$20 per batch.\n",
        "* **Evening Chill:** Requires 100g of coffee beans and 8 minutes to brew per batch. Sells for \\$25 per batch.\n",
        "\n",
        "They have 3000g of coffee beans and 120 minutes of brewing time available. How many batches of each blend should they brew to maximize their revenue?\n",
        "\n",
        "---"
      ],
      "metadata": {
        "id": "AF7jYV_ejy8p"
      }
    },
    {
      "cell_type": "markdown",
      "source": [
        "**Problem 7: The Electronics Assembler**\n",
        "\n",
        "An electronics company assembles two devices: \"Smart Watch\" and \"Fitness Tracker.\"\n",
        "* **Smart Watch:** Requires 3 units of Circuit A and 2 units of Circuit B. Sells for \\$150.\n",
        "* **Fitness Tracker:** Requires 1 unit of Circuit A and 2 units of Circuit B. Sells for \\$100.\n",
        "\n",
        "They have 30 units of Circuit A and 28 units of Circuit B in stock. How many of each device should they assemble to maximize their total sales value?\n",
        "\n",
        "---"
      ],
      "metadata": {
        "id": "MlttK1Ctjy_H"
      }
    },
    {
      "cell_type": "markdown",
      "source": [
        "\n",
        "**Problem 8: The Furniture Maker**\n",
        "\n",
        "A small custom furniture maker builds two types of chairs: \"Dining Chair\" and \"Lounge Chair.\"\n",
        "* **Dining Chair:** Requires 4 feet of wood and 1 hour of finishing time. Sells for \\$80.\n",
        "* **Lounge Chair:** Requires 6 feet of wood and 2 hours of finishing time. Sells for \\$150.\n",
        "\n",
        "They have 60 feet of wood and 20 hours of finishing time available per week. How many of each type of chair should they produce to maximize their weekly revenue?\n",
        "\n",
        "---"
      ],
      "metadata": {
        "id": "PMPOxb05jzA1"
      }
    },
    {
      "cell_type": "code",
      "source": [],
      "metadata": {
        "id": "_aom-YY3lHbR"
      },
      "execution_count": null,
      "outputs": []
    }
  ]
}