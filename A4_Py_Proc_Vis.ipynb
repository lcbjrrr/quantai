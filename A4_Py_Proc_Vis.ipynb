{
  "nbformat": 4,
  "nbformat_minor": 0,
  "metadata": {
    "colab": {
      "provenance": [],
      "authorship_tag": "ABX9TyP16IEQ60b1i1sM2AyK1fft",
      "include_colab_link": true
    },
    "kernelspec": {
      "name": "python3",
      "display_name": "Python 3"
    },
    "language_info": {
      "name": "python"
    }
  },
  "cells": [
    {
      "cell_type": "markdown",
      "metadata": {
        "id": "view-in-github",
        "colab_type": "text"
      },
      "source": [
        "<a href=\"https://colab.research.google.com/github/lcbjrrr/quantai/blob/main/A4_Py_Proc_Vis.ipynb\" target=\"_parent\"><img src=\"https://colab.research.google.com/assets/colab-badge.svg\" alt=\"Open In Colab\"/></a>"
      ]
    },
    {
      "cell_type": "markdown",
      "source": [
        "# Streamlit\n"
      ],
      "metadata": {
        "id": "sebS2g-Br7B7"
      }
    },
    {
      "cell_type": "markdown",
      "source": [
        "\n",
        "Streamlit is an open-source Python framework designed to help developers create interactive web applications for data science and machine learning projects. It allows users to build apps quickly with minimal code by converting Python scripts into web apps. Streamlit automatically handles UI elements like sliders, buttons, and charts, making it easy to visualize data and deploy machine learning models without requiring extensive web development knowledge. It is popular among data scientists for rapid prototyping and visualization."
      ],
      "metadata": {
        "id": "LBdmVeTd2gYK"
      }
    },
    {
      "cell_type": "code",
      "execution_count": null,
      "metadata": {
        "id": "3pOy9YfNteLh"
      },
      "outputs": [],
      "source": [
        "!pip install streamlit"
      ]
    },
    {
      "cell_type": "code",
      "source": [
        "!npm install localtunnel"
      ],
      "metadata": {
        "id": "9nc4fRx0tvZA"
      },
      "execution_count": null,
      "outputs": []
    },
    {
      "cell_type": "markdown",
      "source": [
        "The dataset appears to contain information about auto insurance across various states in the U.S. It includes details such as state abbreviations, capitals, insurance price levels, population, geographical coordinates (latitude and longitude), and regional divisions. The columns also contain yearly insurance premiums (for 2021, 2022, and 2023) for each state, and it is organized by regions like Northeast, Midwest, and South. This data can be useful for analysis of insurance pricing trends across different states and regions."
      ],
      "metadata": {
        "id": "aLRbfGKe2ou6"
      }
    },
    {
      "cell_type": "markdown",
      "source": [
        "# Bar plot"
      ],
      "metadata": {
        "id": "SxketrlptmdT"
      }
    },
    {
      "cell_type": "markdown",
      "source": [
        "A bar chart is an effective way to compare numerical data across categories. In the example with the df dataset, using st.bar_chart(data=df, x='state', y='Y2023'), you can compare the 2023 insurance premiums (Y2023) for each state. The x-axis represents the states, while the y-axis shows the corresponding premium values. This visualization makes it easy to identify patterns, such as which states have the highest or lowest insurance premiums, helping in data-driven decision-making."
      ],
      "metadata": {
        "id": "Jb92qqbU21qo"
      }
    },
    {
      "cell_type": "code",
      "source": [
        "%%writefile bar.py\n",
        "import streamlit as st\n",
        "import pandas as pd\n",
        "df=pd.read_csv('https://raw.githubusercontent.com/lcbjrrr/quantai/refs/heads/main/datasets/autoinsurance.csv')\n",
        "st.write(df)\n",
        "st.bar_chart(data=df,x='state',y='Y2023')"
      ],
      "metadata": {
        "id": "w7RgJyQktmlf",
        "colab": {
          "base_uri": "https://localhost:8080/"
        },
        "outputId": "b6cb5300-610f-421b-ea00-00c677bfa63b"
      },
      "execution_count": 1,
      "outputs": [
        {
          "output_type": "stream",
          "name": "stdout",
          "text": [
            "Writing bar.py\n"
          ]
        }
      ]
    },
    {
      "cell_type": "code",
      "source": [
        "!streamlit run /content/bar.py t &>/content/logs.txt &"
      ],
      "metadata": {
        "id": "-HscWqJMtnB0"
      },
      "execution_count": 2,
      "outputs": []
    },
    {
      "cell_type": "code",
      "source": [
        "!curl https://loca.lt/mytunnelpassword"
      ],
      "metadata": {
        "id": "8FmCq_uOtnEi",
        "colab": {
          "base_uri": "https://localhost:8080/"
        },
        "outputId": "936250c4-c6d9-44ed-cc39-d3467ab5625f"
      },
      "execution_count": 3,
      "outputs": [
        {
          "output_type": "stream",
          "name": "stdout",
          "text": [
            "34.16.192.201"
          ]
        }
      ]
    },
    {
      "cell_type": "code",
      "source": [
        "!npx localtunnel --port 8501 &"
      ],
      "metadata": {
        "id": "05lUkl6ttnHg",
        "colab": {
          "base_uri": "https://localhost:8080/"
        },
        "outputId": "128133ec-35a1-40f4-8479-8efa3d8012b2"
      },
      "execution_count": 6,
      "outputs": [
        {
          "output_type": "stream",
          "name": "stdout",
          "text": [
            "\u001b[1G\u001b[0K⠙\u001b[1G\u001b[0K⠹\u001b[1G\u001b[0K⠸\u001b[1G\u001b[0K⠼\u001b[1G\u001b[0K⠴\u001b[1G\u001b[0K⠦\u001b[1G\u001b[0K\u001b[1mnpm\u001b[22m \u001b[33mwarn\u001b[39m \u001b[94mexec\u001b[39m The following package was not found and will be installed: localtunnel@2.0.2\n",
            "\u001b[1G\u001b[0K⠦\u001b[1G\u001b[0K⠧\u001b[1G\u001b[0K⠇\u001b[1G\u001b[0K⠏\u001b[1G\u001b[0K⠋\u001b[1G\u001b[0K⠙\u001b[1G\u001b[0K⠹\u001b[1G\u001b[0K⠸\u001b[1G\u001b[0K⠼\u001b[1G\u001b[0K⠴\u001b[1G\u001b[0K⠦\u001b[1G\u001b[0K⠧\u001b[1G\u001b[0K⠇\u001b[1G\u001b[0K⠏\u001b[1G\u001b[0K⠋\u001b[1G\u001b[0K⠙\u001b[1G\u001b[0K⠹\u001b[1G\u001b[0K⠸\u001b[1G\u001b[0K⠼\u001b[1G\u001b[0K⠴\u001b[1G\u001b[0K⠦\u001b[1G\u001b[0K⠧\u001b[1G\u001b[0K⠇\u001b[1G\u001b[0Kyour url is: https://all-bears-bet.loca.lt\n"
          ]
        }
      ]
    },
    {
      "cell_type": "markdown",
      "source": [
        "# Aggregation"
      ],
      "metadata": {
        "id": "_bKjvUMdtnpZ"
      }
    },
    {
      "cell_type": "markdown",
      "source": [
        "We can group our data by the 'Region' column to calculate the average insurance premium for 2023 (Y2023) in each region. The resulting average values are displayed in a table, and a bar chart visualizes the comparison of insurance premiums across different regions. This approach helps to summarize regional insurance trends efficiently, highlighting differences in premiums between regions."
      ],
      "metadata": {
        "id": "7R0kNoGO3GtH"
      }
    },
    {
      "cell_type": "code",
      "source": [
        "%%writefile agg.py\n",
        "import streamlit as st\n",
        "import pandas as pd\n",
        "df=pd.read_csv('https://raw.githubusercontent.com/lcbjrrr/quantai/refs/heads/main/datasets/autoinsurance.csv')\n",
        "agg = df.groupby('Region')['Y2023'].mean()\n",
        "agg = agg.reset_index()\n",
        "st.write(agg)\n",
        "st.bar_chart(data=df,x='Region',y='Y2023')\n"
      ],
      "metadata": {
        "id": "O4iB3O60tnx2",
        "colab": {
          "base_uri": "https://localhost:8080/"
        },
        "outputId": "f4ba0b0b-fcfb-468a-ed62-47bed2dfaae7"
      },
      "execution_count": 1,
      "outputs": [
        {
          "output_type": "stream",
          "name": "stdout",
          "text": [
            "Writing agg.py\n"
          ]
        }
      ]
    },
    {
      "cell_type": "code",
      "source": [
        "!streamlit run /content/bar.py t &>/content/logs.txt &"
      ],
      "metadata": {
        "id": "GfXR_NCetn0E"
      },
      "execution_count": 2,
      "outputs": []
    },
    {
      "cell_type": "code",
      "source": [
        "!curl https://loca.lt/mytunnelpassword"
      ],
      "metadata": {
        "id": "yjUpbbfHtn2f",
        "colab": {
          "base_uri": "https://localhost:8080/"
        },
        "outputId": "a85025c3-b6f8-470a-aedb-11ba6235828f"
      },
      "execution_count": 4,
      "outputs": [
        {
          "output_type": "stream",
          "name": "stdout",
          "text": [
            "34.16.192.201"
          ]
        }
      ]
    },
    {
      "cell_type": "code",
      "source": [
        "!npx localtunnel --port 8501 &"
      ],
      "metadata": {
        "id": "17xdZli2tn5O",
        "colab": {
          "base_uri": "https://localhost:8080/"
        },
        "outputId": "5fb7eb54-aef7-4787-9f61-767f0c0168ee"
      },
      "execution_count": 5,
      "outputs": [
        {
          "output_type": "stream",
          "name": "stdout",
          "text": [
            "\u001b[1G\u001b[0K⠙\u001b[1G\u001b[0K⠹\u001b[1G\u001b[0K⠸\u001b[1G\u001b[0K⠼\u001b[1G\u001b[0K⠴\u001b[1G\u001b[0K⠦\u001b[1G\u001b[0K\u001b[1mnpm\u001b[22m \u001b[33mwarn\u001b[39m \u001b[94mexec\u001b[39m The following package was not found and will be installed: localtunnel@2.0.2\n",
            "\u001b[1G\u001b[0K⠦\u001b[1G\u001b[0K⠧\u001b[1G\u001b[0K⠇\u001b[1G\u001b[0K⠏\u001b[1G\u001b[0K⠋\u001b[1G\u001b[0K⠙\u001b[1G\u001b[0K⠹\u001b[1G\u001b[0K⠸\u001b[1G\u001b[0K⠼\u001b[1G\u001b[0K⠴\u001b[1G\u001b[0K⠦\u001b[1G\u001b[0K⠧\u001b[1G\u001b[0K⠇\u001b[1G\u001b[0K⠏\u001b[1G\u001b[0K⠋\u001b[1G\u001b[0K⠙\u001b[1G\u001b[0K⠹\u001b[1G\u001b[0K⠸\u001b[1G\u001b[0K⠼\u001b[1G\u001b[0K⠴\u001b[1G\u001b[0K⠦\u001b[1G\u001b[0K⠧\u001b[1G\u001b[0K⠇\u001b[1G\u001b[0K⠏\u001b[1G\u001b[0K⠋\u001b[1G\u001b[0K⠙\u001b[1G\u001b[0K⠹\u001b[1G\u001b[0K⠸\u001b[1G\u001b[0K⠼\u001b[1G\u001b[0K⠴\u001b[1G\u001b[0Kyour url is: https://lazy-yaks-like.loca.lt\n"
          ]
        }
      ]
    },
    {
      "cell_type": "markdown",
      "source": [
        "# Pie chart"
      ],
      "metadata": {
        "id": "7a5aT4zCtoLm"
      }
    },
    {
      "cell_type": "markdown",
      "source": [
        "\n",
        "A pie chart is ideal for showing proportions within a dataset. In this case, using agg = df.groupby('Region')['state'].count(), you can count the number of states in each region and visualize these counts as a pie chart. Each slice of the pie chart represents the proportion of states in each region, providing an easy-to-understand comparison of regional distribution. This helps to see how states are distributed across different regions in the dataset."
      ],
      "metadata": {
        "id": "OZlcPzG23Q-d"
      }
    },
    {
      "cell_type": "code",
      "source": [
        "%%writefile pie.py\n",
        "import streamlit as st\n",
        "import pandas as pd\n",
        "df=pd.read_csv('https://raw.githubusercontent.com/lcbjrrr/quantai/refs/heads/main/datasets/autoinsurance.csv')\n",
        "agg = df.groupby('Region')['state'].count()\n",
        "#agg = agg.reset_index()\n",
        "st.write(agg)\n",
        "st.pyplot(agg.plot(kind='pie').figure)"
      ],
      "metadata": {
        "id": "GI1nosPEtoTN",
        "colab": {
          "base_uri": "https://localhost:8080/"
        },
        "outputId": "0069bda1-e855-4a24-f593-621d442c8e4f"
      },
      "execution_count": 1,
      "outputs": [
        {
          "output_type": "stream",
          "name": "stdout",
          "text": [
            "Writing pie.py\n"
          ]
        }
      ]
    },
    {
      "cell_type": "code",
      "source": [
        "!streamlit run /content/bar.py t &>/content/logs.txt &"
      ],
      "metadata": {
        "id": "l2Q8P4DGtoVx"
      },
      "execution_count": 2,
      "outputs": []
    },
    {
      "cell_type": "code",
      "source": [
        "!curl https://loca.lt/mytunnelpassword"
      ],
      "metadata": {
        "id": "_9kyLQCqtoYY",
        "colab": {
          "base_uri": "https://localhost:8080/"
        },
        "outputId": "cd5a2c9e-be87-4621-fb33-b60dfa835348"
      },
      "execution_count": 3,
      "outputs": [
        {
          "output_type": "stream",
          "name": "stdout",
          "text": [
            "34.145.148.40"
          ]
        }
      ]
    },
    {
      "cell_type": "code",
      "source": [
        "!npx localtunnel --port 8501 &"
      ],
      "metadata": {
        "id": "CbSysESNtobn",
        "colab": {
          "base_uri": "https://localhost:8080/"
        },
        "outputId": "4cfa77af-1c1f-471e-e9c8-5a86e726f6ab"
      },
      "execution_count": 4,
      "outputs": [
        {
          "output_type": "stream",
          "name": "stdout",
          "text": [
            "\u001b[1G\u001b[0K⠙\u001b[1G\u001b[0K⠹\u001b[1G\u001b[0K⠸\u001b[1G\u001b[0K⠼\u001b[1G\u001b[0K⠴\u001b[1G\u001b[0K⠦\u001b[1G\u001b[0K⠧\u001b[1G\u001b[0K⠇\u001b[1G\u001b[0K⠏\u001b[1G\u001b[0K⠋\u001b[1G\u001b[0K⠙\u001b[1G\u001b[0K\u001b[1mnpm\u001b[22m \u001b[33mwarn\u001b[39m \u001b[94mexec\u001b[39m The following package was not found and will be installed: localtunnel@2.0.2\n",
            "\u001b[1G\u001b[0K⠙\u001b[1G\u001b[0K⠹\u001b[1G\u001b[0K⠸\u001b[1G\u001b[0K⠼\u001b[1G\u001b[0K⠴\u001b[1G\u001b[0K⠦\u001b[1G\u001b[0K⠧\u001b[1G\u001b[0K⠇\u001b[1G\u001b[0K⠏\u001b[1G\u001b[0K⠋\u001b[1G\u001b[0K⠙\u001b[1G\u001b[0K⠹\u001b[1G\u001b[0K⠸\u001b[1G\u001b[0K⠼\u001b[1G\u001b[0K⠴\u001b[1G\u001b[0K⠦\u001b[1G\u001b[0K⠧\u001b[1G\u001b[0K⠇\u001b[1G\u001b[0K⠏\u001b[1G\u001b[0K⠋\u001b[1G\u001b[0K⠙\u001b[1G\u001b[0K⠹\u001b[1G\u001b[0K⠸\u001b[1G\u001b[0K⠼\u001b[1G\u001b[0K⠴\u001b[1G\u001b[0Kyour url is: https://few-nails-write.loca.lt\n"
          ]
        }
      ]
    },
    {
      "cell_type": "markdown",
      "source": [
        "# Line Chart"
      ],
      "metadata": {
        "id": "sDTYPE7gtonH"
      }
    },
    {
      "cell_type": "markdown",
      "source": [
        "A line chart is useful for displaying trends over time. In this example, using st.line_chart(data=life, x='year', y=['own', 'dont_own']), you can plot the trend of two variables — 'own' and 'dont_own' — over the years. This allows for a clear visualization of how each variable changes over time, helping to identify patterns, fluctuations, or trends, such as whether more people started owning insurance over the years compared to those who don't own it."
      ],
      "metadata": {
        "id": "G8IUXhV93aD5"
      }
    },
    {
      "cell_type": "code",
      "source": [
        "%%writefile line.py\n",
        "import streamlit as st\n",
        "import pandas as pd\n",
        "life = pd.read_csv(\"https://raw.githubusercontent.com/lcbjrrr/quantai/refs/heads/main/datasets/life_insurance.csv\")\n",
        "st.write(life)\n",
        "st.line_chart(data=life,x='year',y=['own',\t'dont_own'] )"
      ],
      "metadata": {
        "id": "PyG3J-KLtovt",
        "colab": {
          "base_uri": "https://localhost:8080/"
        },
        "outputId": "a7e4c1d3-968b-479a-94c8-ca6500365649"
      },
      "execution_count": 1,
      "outputs": [
        {
          "output_type": "stream",
          "name": "stdout",
          "text": [
            "Writing line.py\n"
          ]
        }
      ]
    },
    {
      "cell_type": "code",
      "source": [
        "!streamlit run /content/bar.py t &>/content/logs.txt &"
      ],
      "metadata": {
        "id": "XNs9zmXPtoyQ"
      },
      "execution_count": 2,
      "outputs": []
    },
    {
      "cell_type": "code",
      "source": [
        "!curl https://loca.lt/mytunnelpassword"
      ],
      "metadata": {
        "id": "dWGm_jsUto05",
        "colab": {
          "base_uri": "https://localhost:8080/"
        },
        "outputId": "9460573c-20f9-48f6-c440-235264b8b01e"
      },
      "execution_count": 3,
      "outputs": [
        {
          "output_type": "stream",
          "name": "stdout",
          "text": [
            "35.245.34.90"
          ]
        }
      ]
    },
    {
      "cell_type": "code",
      "source": [
        "!npx localtunnel --port 8501 &"
      ],
      "metadata": {
        "id": "6W5Fgwqxto4i",
        "colab": {
          "base_uri": "https://localhost:8080/"
        },
        "outputId": "2db68853-a6f3-4c55-cf49-670e78f3901e"
      },
      "execution_count": 4,
      "outputs": [
        {
          "output_type": "stream",
          "name": "stdout",
          "text": [
            "\u001b[1G\u001b[0K⠙\u001b[1G\u001b[0K⠹\u001b[1G\u001b[0K⠸\u001b[1G\u001b[0K⠼\u001b[1G\u001b[0K⠴\u001b[1G\u001b[0K⠦\u001b[1G\u001b[0K⠧\u001b[1G\u001b[0K⠇\u001b[1G\u001b[0K⠏\u001b[1G\u001b[0K⠋\u001b[1G\u001b[0K⠙\u001b[1G\u001b[0K⠹\u001b[1G\u001b[0K\u001b[1mnpm\u001b[22m \u001b[33mwarn\u001b[39m \u001b[94mexec\u001b[39m The following package was not found and will be installed: localtunnel@2.0.2\n",
            "\u001b[1G\u001b[0K⠹\u001b[1G\u001b[0K⠸\u001b[1G\u001b[0K⠼\u001b[1G\u001b[0K⠴\u001b[1G\u001b[0K⠦\u001b[1G\u001b[0K⠧\u001b[1G\u001b[0K⠇\u001b[1G\u001b[0K⠏\u001b[1G\u001b[0K⠋\u001b[1G\u001b[0K⠙\u001b[1G\u001b[0K⠹\u001b[1G\u001b[0K⠸\u001b[1G\u001b[0K⠼\u001b[1G\u001b[0K⠴\u001b[1G\u001b[0K⠦\u001b[1G\u001b[0K⠧\u001b[1G\u001b[0K⠇\u001b[1G\u001b[0K⠏\u001b[1G\u001b[0K⠋\u001b[1G\u001b[0K⠙\u001b[1G\u001b[0K⠹\u001b[1G\u001b[0K⠸\u001b[1G\u001b[0K⠼\u001b[1G\u001b[0K⠴\u001b[1G\u001b[0K⠦\u001b[1G\u001b[0K⠧\u001b[1G\u001b[0K⠇\u001b[1G\u001b[0K⠏\u001b[1G\u001b[0K⠋\u001b[1G\u001b[0K⠙\u001b[1G\u001b[0K⠹\u001b[1G\u001b[0K⠸\u001b[1G\u001b[0K⠼\u001b[1G\u001b[0K⠴\u001b[1G\u001b[0K⠦\u001b[1G\u001b[0K⠧\u001b[1G\u001b[0K⠇\u001b[1G\u001b[0K⠏\u001b[1G\u001b[0K⠋\u001b[1G\u001b[0K⠙\u001b[1G\u001b[0K⠹\u001b[1G\u001b[0K⠸\u001b[1G\u001b[0K⠼\u001b[1G\u001b[0K⠴\u001b[1G\u001b[0K⠦\u001b[1G\u001b[0K⠧\u001b[1G\u001b[0K⠇\u001b[1G\u001b[0K⠏\u001b[1G\u001b[0Kyour url is: https://stale-apes-sink.loca.lt\n"
          ]
        }
      ]
    },
    {
      "cell_type": "markdown",
      "source": [
        "# Scatterplot"
      ],
      "metadata": {
        "id": "mc4q24Jltp8A"
      }
    },
    {
      "cell_type": "markdown",
      "source": [
        "A scatterplot is effective for visualizing the correlation or association between two variables. In this example, using st.scatter_chart(data=auto, x='age', y='premium'), you can explore how the age of individuals correlates with their premium values. Each point on the scatterplot represents a data pair, allowing you to visually assess if there's a relationship, such as whether older individuals tend to have higher premiums, or if there is no noticeable trend."
      ],
      "metadata": {
        "id": "wAj6mwO13hcg"
      }
    },
    {
      "cell_type": "code",
      "source": [
        "%%writefile scatter.py\n",
        "import streamlit as st\n",
        "import pandas as pd\n",
        "auto = pd.read_csv('https://raw.githubusercontent.com/lcbjrrr/quantai/refs/heads/main/datasets/autos.csv')\n",
        "st.write(auto)\n",
        "st.scatter_chart(data=auto,x='age',y='premium' )"
      ],
      "metadata": {
        "id": "VVQVP8LytqGh",
        "colab": {
          "base_uri": "https://localhost:8080/"
        },
        "outputId": "6e343553-9d56-4cb6-a7ba-e98274c39886"
      },
      "execution_count": 1,
      "outputs": [
        {
          "output_type": "stream",
          "name": "stdout",
          "text": [
            "Writing scatter.py\n"
          ]
        }
      ]
    },
    {
      "cell_type": "code",
      "source": [
        "!streamlit run /content/bar.py t &>/content/logs.txt &"
      ],
      "metadata": {
        "id": "yENaozr0tqIw"
      },
      "execution_count": 2,
      "outputs": []
    },
    {
      "cell_type": "code",
      "source": [
        "!curl https://loca.lt/mytunnelpassword"
      ],
      "metadata": {
        "id": "sqkyO66FtqLe",
        "colab": {
          "base_uri": "https://localhost:8080/"
        },
        "outputId": "f5570823-cce5-41fa-d350-3b3f8a7b0762"
      },
      "execution_count": 3,
      "outputs": [
        {
          "output_type": "stream",
          "name": "stdout",
          "text": [
            "34.16.182.210"
          ]
        }
      ]
    },
    {
      "cell_type": "code",
      "source": [
        "!npx localtunnel --port 8501 &"
      ],
      "metadata": {
        "id": "DuLXmOnytqT2",
        "colab": {
          "base_uri": "https://localhost:8080/"
        },
        "outputId": "d0bce4d9-9d28-417f-9c80-815f3f4035df"
      },
      "execution_count": 4,
      "outputs": [
        {
          "output_type": "stream",
          "name": "stdout",
          "text": [
            "\u001b[1G\u001b[0K⠙\u001b[1G\u001b[0K⠹\u001b[1G\u001b[0K⠸\u001b[1G\u001b[0K⠼\u001b[1G\u001b[0K⠴\u001b[1G\u001b[0K⠦\u001b[1G\u001b[0K⠧\u001b[1G\u001b[0K\u001b[1mnpm\u001b[22m \u001b[33mwarn\u001b[39m \u001b[94mexec\u001b[39m The following package was not found and will be installed: localtunnel@2.0.2\n",
            "\u001b[1G\u001b[0K⠧\u001b[1G\u001b[0K⠇\u001b[1G\u001b[0K⠏\u001b[1G\u001b[0K⠋\u001b[1G\u001b[0K⠙\u001b[1G\u001b[0K⠹\u001b[1G\u001b[0K⠸\u001b[1G\u001b[0K⠼\u001b[1G\u001b[0K⠴\u001b[1G\u001b[0K⠦\u001b[1G\u001b[0K⠧\u001b[1G\u001b[0K⠇\u001b[1G\u001b[0K⠏\u001b[1G\u001b[0K⠋\u001b[1G\u001b[0K⠙\u001b[1G\u001b[0K⠹\u001b[1G\u001b[0K⠸\u001b[1G\u001b[0K⠼\u001b[1G\u001b[0K⠴\u001b[1G\u001b[0K⠦\u001b[1G\u001b[0K⠧\u001b[1G\u001b[0K⠇\u001b[1G\u001b[0K⠏\u001b[1G\u001b[0K⠋\u001b[1G\u001b[0K⠙\u001b[1G\u001b[0K⠹\u001b[1G\u001b[0K⠸\u001b[1G\u001b[0K⠼\u001b[1G\u001b[0K⠴\u001b[1G\u001b[0K⠦\u001b[1G\u001b[0K⠧\u001b[1G\u001b[0K⠇\u001b[1G\u001b[0K⠏\u001b[1G\u001b[0K⠋\u001b[1G\u001b[0Kyour url is: https://open-cameras-bet.loca.lt\n"
          ]
        }
      ]
    },
    {
      "cell_type": "markdown",
      "source": [
        "# Histogram"
      ],
      "metadata": {
        "id": "7Cqzzt7ntqkl"
      }
    },
    {
      "cell_type": "markdown",
      "source": [
        "\n",
        "A histogram is a type of bar chart used to represent the distribution of numerical data by grouping data points into bins. In the example auto['Y2023'].plot(kind='hist', bins=[0,500,800,1000,5000]), it shows how the insurance premiums (Y2023) are distributed across different ranges (or bins) such as 0-500, 500-800, etc. This visualization helps to understand the frequency of premiums in each range, allowing for quick insights into data distribution."
      ],
      "metadata": {
        "id": "T9gMJHYt3nfE"
      }
    },
    {
      "cell_type": "code",
      "source": [
        "%%writefile hist.py\n",
        "import streamlit as st\n",
        "import pandas as pd\n",
        "auto = pd.read_csv(\"https://raw.githubusercontent.com/lcbjrrr/quantai/refs/heads/main/datasets/autoinsurance.csv\")\n",
        "st.write(auto)\n",
        "st.pyplot(auto['Y2023'].plot(kind='hist',bins=[0,500,800,1000,5000]).figure)"
      ],
      "metadata": {
        "id": "ocL9szRptqsS",
        "colab": {
          "base_uri": "https://localhost:8080/"
        },
        "outputId": "631ba071-3592-4f4a-d787-26b772857c76"
      },
      "execution_count": 5,
      "outputs": [
        {
          "output_type": "stream",
          "name": "stdout",
          "text": [
            "Writing hist.py\n"
          ]
        }
      ]
    },
    {
      "cell_type": "code",
      "source": [
        "!streamlit run /content/bar.py t &>/content/logs.txt &"
      ],
      "metadata": {
        "id": "Pi1FUOwftqvB"
      },
      "execution_count": 6,
      "outputs": []
    },
    {
      "cell_type": "code",
      "source": [
        "!curl https://loca.lt/mytunnelpassword"
      ],
      "metadata": {
        "id": "N3zGTayOtqxn",
        "colab": {
          "base_uri": "https://localhost:8080/"
        },
        "outputId": "6915f2b5-0c55-4c54-c0f6-8df2319d1883"
      },
      "execution_count": 7,
      "outputs": [
        {
          "output_type": "stream",
          "name": "stdout",
          "text": [
            "34.16.182.210"
          ]
        }
      ]
    },
    {
      "cell_type": "code",
      "source": [
        "!npx localtunnel --port 8501 &"
      ],
      "metadata": {
        "id": "fynruPbCtq0y",
        "colab": {
          "base_uri": "https://localhost:8080/"
        },
        "outputId": "41f798b4-52a1-4ec8-e93a-c120f084a13a"
      },
      "execution_count": 8,
      "outputs": [
        {
          "output_type": "stream",
          "name": "stdout",
          "text": [
            "\u001b[1G\u001b[0K⠙\u001b[1G\u001b[0K⠹\u001b[1G\u001b[0K⠸\u001b[1G\u001b[0K⠼\u001b[1G\u001b[0K⠴\u001b[1G\u001b[0K⠦\u001b[1G\u001b[0K⠧\u001b[1G\u001b[0Kyour url is: https://afraid-ads-fix.loca.lt\n"
          ]
        }
      ]
    },
    {
      "cell_type": "markdown",
      "source": [
        "# Boxplot"
      ],
      "metadata": {
        "id": "-ZmnTM9ltrE6"
      }
    },
    {
      "cell_type": "markdown",
      "source": [
        "A boxplot is a graphical representation of the distribution of numerical data through quartiles. It shows the minimum, first quartile (Q1), median, third quartile (Q3), and maximum, highlighting the spread and skewness of the data. Outliers are typically marked as individual points outside the \"whiskers.\" In the example auto['Y2023'].plot(kind='box'), the boxplot visualizes the distribution of the Y2023 insurance premiums, helping to quickly assess the data's range, central tendency, and any potential outliers."
      ],
      "metadata": {
        "id": "UV3XXTl83vVR"
      }
    },
    {
      "cell_type": "code",
      "source": [
        "%%writefile box.py\n",
        "import streamlit as st\n",
        "import pandas as pd\n",
        "auto = pd.read_csv(\"https://raw.githubusercontent.com/lcbjrrr/quantai/refs/heads/main/datasets/autoinsurance.csv\")\n",
        "st.write(auto['Y2023'].describe())\n",
        "st.pyplot(auto['Y2023'].plot(kind='box').figure)"
      ],
      "metadata": {
        "id": "5xvB17Rnlhu6",
        "colab": {
          "base_uri": "https://localhost:8080/"
        },
        "outputId": "faed51c2-379d-4fb1-df74-ffb7118103d5"
      },
      "execution_count": 1,
      "outputs": [
        {
          "output_type": "stream",
          "name": "stdout",
          "text": [
            "Writing box.py\n"
          ]
        }
      ]
    },
    {
      "cell_type": "code",
      "source": [
        "!streamlit run /content/hist.py t &>/content/logs.txt &"
      ],
      "metadata": {
        "id": "ZIMs4rrFlhz-"
      },
      "execution_count": 2,
      "outputs": []
    },
    {
      "cell_type": "code",
      "source": [
        "!curl https://loca.lt/mytunnelpassword"
      ],
      "metadata": {
        "id": "WXd1zyr5lh2n",
        "colab": {
          "base_uri": "https://localhost:8080/"
        },
        "outputId": "7ba420dc-c81d-4503-d5da-e117c7bebd14"
      },
      "execution_count": 3,
      "outputs": [
        {
          "output_type": "stream",
          "name": "stdout",
          "text": [
            "35.245.38.91"
          ]
        }
      ]
    },
    {
      "cell_type": "code",
      "source": [
        "!npx localtunnel --port 8501 &"
      ],
      "metadata": {
        "id": "Pc9DJG4Ulh48",
        "colab": {
          "base_uri": "https://localhost:8080/"
        },
        "outputId": "37245c4b-4f29-4c71-c119-ed66fa8a8bab"
      },
      "execution_count": null,
      "outputs": [
        {
          "output_type": "stream",
          "name": "stdout",
          "text": [
            "\u001b[1G\u001b[0K⠙\u001b[1G\u001b[0K⠹\u001b[1G\u001b[0K⠸\u001b[1G\u001b[0K⠼\u001b[1G\u001b[0K⠴\u001b[1G\u001b[0K⠦\u001b[1G\u001b[0K⠧\u001b[1G\u001b[0K⠇\u001b[1G\u001b[0K⠏\u001b[1G\u001b[0K⠋\u001b[1G\u001b[0K⠙\u001b[1G\u001b[0K⠹\u001b[1G\u001b[0K⠸\u001b[1G\u001b[0K⠼\u001b[1G\u001b[0K\u001b[1mnpm\u001b[22m \u001b[33mwarn\u001b[39m \u001b[94mexec\u001b[39m The following package was not found and will be installed: localtunnel@2.0.2\n",
            "\u001b[1G\u001b[0K⠼\u001b[1G\u001b[0K⠴\u001b[1G\u001b[0K⠦\u001b[1G\u001b[0K⠧\u001b[1G\u001b[0K⠇\u001b[1G\u001b[0K⠏\u001b[1G\u001b[0K⠋\u001b[1G\u001b[0K⠙\u001b[1G\u001b[0K⠹\u001b[1G\u001b[0K⠸\u001b[1G\u001b[0K⠼\u001b[1G\u001b[0K⠴\u001b[1G\u001b[0K⠦\u001b[1G\u001b[0K⠧\u001b[1G\u001b[0K⠇\u001b[1G\u001b[0K⠏\u001b[1G\u001b[0K⠋\u001b[1G\u001b[0K⠙\u001b[1G\u001b[0K⠹\u001b[1G\u001b[0K⠸\u001b[1G\u001b[0K⠼\u001b[1G\u001b[0K⠴\u001b[1G\u001b[0K⠦\u001b[1G\u001b[0K⠧\u001b[1G\u001b[0K⠇\u001b[1G\u001b[0K⠏\u001b[1G\u001b[0K⠋\u001b[1G\u001b[0K⠙\u001b[1G\u001b[0K⠹\u001b[1G\u001b[0K⠸\u001b[1G\u001b[0K⠼\u001b[1G\u001b[0Kyour url is: https://mean-jeans-worry.loca.lt\n"
          ]
        }
      ]
    },
    {
      "cell_type": "markdown",
      "source": [
        "# Map"
      ],
      "metadata": {
        "id": "aLnKjKC2lsUj"
      }
    },
    {
      "cell_type": "markdown",
      "source": [
        "To work with map data in Streamlit, the st.map() function can be used to plot geographic data points on a map. The df dataframe contains latitude (lat) and longitude (lon) columns for geographic coordinates. The size parameter adjusts the size of the markers on the map. By calling st.map(df, latitude=\"lat\", longitude=\"lon\", size=\"2300\"), the geographic data will be visualized on an interactive map, making it easier to explore location-based trends.\n",
        "\n",
        "\n",
        "\n",
        "\n",
        "\n",
        "\n"
      ],
      "metadata": {
        "id": "ga9c7Bal311U"
      }
    },
    {
      "cell_type": "code",
      "source": [
        "%%writefile map.py\n",
        "import streamlit as st\n",
        "import pandas as pd\n",
        "auto = pd.read_csv(\"https://raw.githubusercontent.com/lcbjrrr/quantai/refs/heads/main/datasets/autoinsurance.csv\")\n",
        "#st.write(df)\n",
        "st.map(df, latitude=\"lat\", longitude=\"lon\", size=\"2300\")"
      ],
      "metadata": {
        "id": "2jcXQaBals4m",
        "colab": {
          "base_uri": "https://localhost:8080/"
        },
        "outputId": "eae00356-737b-4151-a746-332a5b509864"
      },
      "execution_count": 1,
      "outputs": [
        {
          "output_type": "stream",
          "name": "stdout",
          "text": [
            "Writing map.py\n"
          ]
        }
      ]
    },
    {
      "cell_type": "code",
      "source": [
        "!streamlit run /content/map.py t &>/content/logs.txt &"
      ],
      "metadata": {
        "id": "dKc1sPfuls7G"
      },
      "execution_count": 2,
      "outputs": []
    },
    {
      "cell_type": "code",
      "source": [
        "!curl https://loca.lt/mytunnelpassword"
      ],
      "metadata": {
        "id": "Zn226wVtls9x",
        "colab": {
          "base_uri": "https://localhost:8080/"
        },
        "outputId": "7f44405a-96d5-4bd0-bf61-ae3dfe2d83c8"
      },
      "execution_count": 3,
      "outputs": [
        {
          "output_type": "stream",
          "name": "stdout",
          "text": [
            "34.106.191.213"
          ]
        }
      ]
    },
    {
      "cell_type": "code",
      "source": [
        "!npx localtunnel --port 8501 &"
      ],
      "metadata": {
        "id": "4rOZpag8ltJX",
        "colab": {
          "base_uri": "https://localhost:8080/"
        },
        "outputId": "25b7f8b2-8695-4a9c-dc00-a444dac629eb"
      },
      "execution_count": 4,
      "outputs": [
        {
          "output_type": "stream",
          "name": "stdout",
          "text": [
            "\u001b[1G\u001b[0K⠙\u001b[1G\u001b[0K⠹\u001b[1G\u001b[0K⠸\u001b[1G\u001b[0K⠼\u001b[1G\u001b[0K⠴\u001b[1G\u001b[0K⠦\u001b[1G\u001b[0K⠧\u001b[1G\u001b[0K⠇\u001b[1G\u001b[0K⠏\u001b[1G\u001b[0K⠋\u001b[1G\u001b[0K⠙\u001b[1G\u001b[0K⠹\u001b[1G\u001b[0K\u001b[1mnpm\u001b[22m \u001b[33mwarn\u001b[39m \u001b[94mexec\u001b[39m The following package was not found and will be installed: localtunnel@2.0.2\n",
            "\u001b[1G\u001b[0K⠹\u001b[1G\u001b[0K⠸\u001b[1G\u001b[0K⠼\u001b[1G\u001b[0K⠴\u001b[1G\u001b[0K⠦\u001b[1G\u001b[0K⠧\u001b[1G\u001b[0K⠇\u001b[1G\u001b[0K⠏\u001b[1G\u001b[0K⠋\u001b[1G\u001b[0K⠙\u001b[1G\u001b[0K⠹\u001b[1G\u001b[0K⠸\u001b[1G\u001b[0K⠼\u001b[1G\u001b[0K⠴\u001b[1G\u001b[0K⠦\u001b[1G\u001b[0K⠧\u001b[1G\u001b[0K⠇\u001b[1G\u001b[0K⠏\u001b[1G\u001b[0K⠋\u001b[1G\u001b[0K⠙\u001b[1G\u001b[0K⠹\u001b[1G\u001b[0K⠸\u001b[1G\u001b[0K⠼\u001b[1G\u001b[0K⠴\u001b[1G\u001b[0K⠦\u001b[1G\u001b[0K⠧\u001b[1G\u001b[0K⠇\u001b[1G\u001b[0K⠏\u001b[1G\u001b[0K⠋\u001b[1G\u001b[0K⠙\u001b[1G\u001b[0K⠹\u001b[1G\u001b[0K⠸\u001b[1G\u001b[0K⠼\u001b[1G\u001b[0K⠴\u001b[1G\u001b[0K⠦\u001b[1G\u001b[0K⠧\u001b[1G\u001b[0K⠇\u001b[1G\u001b[0K⠏\u001b[1G\u001b[0K⠋\u001b[1G\u001b[0K⠙\u001b[1G\u001b[0K⠹\u001b[1G\u001b[0Kyour url is: https://plain-vans-spend.loca.lt\n"
          ]
        }
      ]
    },
    {
      "cell_type": "markdown",
      "source": [
        "# Activity: Streamlit"
      ],
      "metadata": {
        "id": "cKuuhd4W19TZ"
      }
    },
    {
      "cell_type": "markdown",
      "source": [
        "***dataset***: This dataset contains information about travel insurance policies or travel-related services sold by different agencies. Here's a breakdown of the columns and what they likely represent:\n",
        "\n",
        "**data**: `https://raw.githubusercontent.com/lcbjrrr/quantai/refs/heads/main/activities/travel%20-%20insurance.csv`\n",
        "\n",
        "*   **Agency:** The code or name of the agency selling the product (e.g., CBH, JZI, KML, C2B).\n",
        "*   **Agency Type:** The type of agency, categorized as either \"Travel Agency\" or \"Airlines.\" This indicates whether the seller is a dedicated travel agency or an airline selling insurance as an ancillary product.\n",
        "*   **Distribution Channel:** How the product was sold: \"Offline\" (e.g., in person, over the phone) or \"Online\" (e.g., through a website or app).\n",
        "*   **Product Name:** The name of the insurance plan or travel product (e.g., Comprehensive Plan, Value Plan, Basic Plan, Premier Plan, Bronze Plan, Silver Plan). This suggests different tiers or types of coverage.\n",
        "*   **Claim:** Indicates whether a claim was filed for the policy: \"Yes\" or \"No.\" This is a crucial indicator of whether the insurance was used.\n",
        "*   **Duration:** The duration of the policy or trip, likely in days.\n",
        "*   **Destination:** The destination of the trip.\n",
        "*   **Net Sales:** The net sales amount, which can be positive or negative. Negative values might indicate refunds or cancellations.\n",
        "*   **Commision (in value):** The commission earned by the agency for selling the product.\n",
        "*   **Gender:** The gender of the customer (M or F).\n",
        "*   **Age:** The age of the customer.\n"
      ],
      "metadata": {
        "id": "YIRnh2XU2BRI"
      }
    }
  ]
}