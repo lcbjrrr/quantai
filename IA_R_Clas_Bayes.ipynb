{
  "nbformat": 4,
  "nbformat_minor": 0,
  "metadata": {
    "colab": {
      "provenance": [],
      "include_colab_link": true
    },
    "kernelspec": {
      "name": "ir",
      "display_name": "R"
    },
    "language_info": {
      "name": "R"
    }
  },
  "cells": [
    {
      "cell_type": "markdown",
      "metadata": {
        "id": "view-in-github",
        "colab_type": "text"
      },
      "source": [
        "<a href=\"https://colab.research.google.com/github/lcbjrrr/quantai/blob/main/IA_R_Clas_Bayes.ipynb\" target=\"_parent\"><img src=\"https://colab.research.google.com/assets/colab-badge.svg\" alt=\"Open In Colab\"/></a>"
      ]
    },
    {
      "cell_type": "markdown",
      "metadata": {
        "id": "9faay20nkZPL"
      },
      "source": [
        "# Bayes"
      ]
    },
    {
      "cell_type": "markdown",
      "source": [
        "**Topic:** R Lang\n",
        "\n",
        "**Title:** Naive Bayes\n",
        "\n",
        "**Author:** Luiz Barboza\n",
        "\n",
        "**Date:** 20/dec/24\n",
        "\n",
        "**Lang:** R\n",
        "\n",
        "**Site:** https://quant-research.group/\n",
        "\n",
        "**Email:** contato@quant-research.group"
      ],
      "metadata": {
        "id": "jEFGs6xigiia"
      }
    },
    {
      "cell_type": "markdown",
      "source": [
        "The e1071 package provides functions for SVMs and Naive Bayes machine learning algorithms."
      ],
      "metadata": {
        "id": "n_a79QY2gw2o"
      }
    },
    {
      "cell_type": "code",
      "metadata": {
        "id": "-XI1b9ul6CVh"
      },
      "source": [
        "install.packages(\"e1071\")\n",
        "library(e1071)"
      ],
      "execution_count": null,
      "outputs": []
    },
    {
      "cell_type": "markdown",
      "source": [
        "This dataset describes weather conditions (forecast, temperature, humidity, wind) and whether it's suitable to play (\"jogar\")."
      ],
      "metadata": {
        "id": "ycyTBJNNg-SS"
      }
    },
    {
      "cell_type": "code",
      "metadata": {
        "id": "0VhV8hCx5801",
        "outputId": "9e390c5a-f16a-47fe-aea9-13882ce874dc",
        "colab": {
          "base_uri": "https://localhost:8080/",
          "height": 856
        }
      },
      "source": [
        "volei <- read.csv('https://raw.githubusercontent.com/lcbjrrr/data/main/JogarVolei%20-%20OK.csv')\n",
        "print(volei)"
      ],
      "execution_count": null,
      "outputs": [
        {
          "output_type": "display_data",
          "data": {
            "text/plain": [
              "     previsao temperatura umidade        vento jogar\n",
              "1  ensolarado      quente    alta nao_ventando   nao\n",
              "2  ensolarado      quente    alta     ventando   nao\n",
              "3     nublado      quente    alta nao_ventando   sim\n",
              "4     chuvoso      brando    alta nao_ventando   sim\n",
              "5     chuvoso        frio  normal nao_ventando   sim\n",
              "6     chuvoso        frio  normal     ventando   nao\n",
              "7     nublado        frio  normal     ventando   sim\n",
              "8  ensolarado      brando    alta nao_ventando   nao\n",
              "9  ensolarado        frio  normal nao_ventando   sim\n",
              "10    chuvoso      brando  normal nao_ventando   sim\n",
              "11 ensolarado      brando  normal     ventando   sim\n",
              "12    nublado      brando    alta     ventando   sim\n",
              "13    nublado      quente  normal nao_ventando   sim\n",
              "14    chuvoso      brando    alta     ventando   nao\n",
              "\n",
              "Naive Bayes Classifier for Discrete Predictors\n",
              "\n",
              "Call:\n",
              "naiveBayes.default(x = X, y = Y, laplace = laplace)\n",
              "\n",
              "A-priori probabilities:\n",
              "Y\n",
              "      nao       sim \n",
              "0.3571429 0.6428571 \n",
              "\n",
              "Conditional probabilities:\n",
              "     previsao\n",
              "Y       chuvoso ensolarado   nublado\n",
              "  nao 0.4000000  0.6000000 0.0000000\n",
              "  sim 0.3333333  0.2222222 0.4444444\n",
              "\n",
              "     temperatura\n",
              "Y        brando      frio    quente\n",
              "  nao 0.4000000 0.2000000 0.4000000\n",
              "  sim 0.4444444 0.3333333 0.2222222\n",
              "\n",
              "     umidade\n",
              "Y          alta    normal\n",
              "  nao 0.8000000 0.2000000\n",
              "  sim 0.3333333 0.6666667\n",
              "\n",
              "     vento\n",
              "Y     nao_ventando  ventando\n",
              "  nao    0.4000000 0.6000000\n",
              "  sim    0.6666667 0.3333333\n",
              "\n"
            ]
          },
          "metadata": {}
        }
      ]
    },
    {
      "cell_type": "markdown",
      "source": [
        "Let's build a Naive Bayes classification model (nb). It predicts the \"jogar\" (play) variable based on all other variables in the volei data frame."
      ],
      "metadata": {
        "id": "bUZgS3rAgzua"
      }
    },
    {
      "cell_type": "code",
      "source": [
        "nb <- naiveBayes(jogar ~ . , data=volei)\n",
        "nb"
      ],
      "metadata": {
        "id": "2j79P4Vugzzs"
      },
      "execution_count": null,
      "outputs": []
    },
    {
      "cell_type": "markdown",
      "source": [
        "Let's use the trained Naive Bayes model nb to predict the \"jogar\" (play) outcome for the data in the prever data frame. The predicted outcomes are stored in the previsao variable."
      ],
      "metadata": {
        "id": "bROgSBcXhHG9"
      }
    },
    {
      "cell_type": "code",
      "source": [
        "prever <- read.csv('https://raw.githubusercontent.com/lcbjrrr/data/main/JogarVolei%20-%20predict.csv')\n",
        "previsao<-predict(nb,prever)\n",
        "print(prever )\n",
        "print(\"PREVISAO: \")\n",
        "print(previsao)"
      ],
      "metadata": {
        "colab": {
          "base_uri": "https://localhost:8080/",
          "height": 106
        },
        "id": "6SF7E0Pq34GI",
        "outputId": "5355ed42-11b1-48ed-eed9-3973ecd51225"
      },
      "execution_count": null,
      "outputs": [
        {
          "output_type": "display_data",
          "data": {
            "text/plain": [
              "  previsao temperatura umidade        vento\n",
              "1  nublado      quente    alta nao_ventando\n",
              "[1] \"PREVISAO: \"\n",
              "[1] sim\n",
              "Levels: nao sim\n"
            ]
          },
          "metadata": {}
        }
      ]
    }
  ]
}